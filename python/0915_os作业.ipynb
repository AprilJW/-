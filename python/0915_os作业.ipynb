{
 "cells": [
  {
   "cell_type": "markdown",
   "metadata": {},
   "source": [
    "### 1.指定一个源文件，实现copy到目标目录\n",
    "### 例如：把/tmp.txt拷贝到/tmp/test1.txt"
   ]
  },
  {
   "cell_type": "code",
   "execution_count": 340,
   "metadata": {},
   "outputs": [],
   "source": [
    "import os\n",
    "from os import path\n",
    "from pathlib import Path"
   ]
  },
  {
   "cell_type": "code",
   "execution_count": 5,
   "metadata": {},
   "outputs": [
    {
     "name": "stdout",
     "output_type": "stream",
     "text": [
      "/Users/jw/Projects/python23/magedu/python\n"
     ]
    }
   ],
   "source": [
    "print(os.getcwd())"
   ]
  },
  {
   "cell_type": "code",
   "execution_count": null,
   "metadata": {},
   "outputs": [],
   "source": [
    "Path.exists"
   ]
  },
  {
   "cell_type": "code",
   "execution_count": 347,
   "metadata": {
    "scrolled": true
   },
   "outputs": [],
   "source": [
    "basedir = '/Users/jw/Projects/python23/magedu/python'\n",
    "src = os.path.join(basedir, 'test.txt')\n",
    "dst = os.path.join(basedir, 'test1.txt')\n",
    "def copyobject(file1, file2, maxnum=2):    \n",
    "    if not Path(dst).exists():\n",
    "        Path(file2).parent.mkdir(parents=True, exist_ok=True)\n",
    "        \n",
    "    with open(file1, 'r') as f1:\n",
    "        with open(file2, 'a') as f2:\n",
    "            while 1:                \n",
    "                src = f1.read(maxnum)\n",
    "                if not src:\n",
    "                    break\n",
    "                f2.write(src)\n",
    "copyobject(src, dst, 2)         "
   ]
  },
  {
   "cell_type": "code",
   "execution_count": 348,
   "metadata": {},
   "outputs": [
    {
     "name": "stdout",
     "output_type": "stream",
     "text": [
      "11\r\n",
      "22\r\n",
      "33\r\n",
      "11\r\n",
      "22\r\n",
      "33\r\n",
      "11\r\n",
      "22\r\n",
      "33\r\n"
     ]
    }
   ],
   "source": [
    "!cat test1.txt"
   ]
  },
  {
   "cell_type": "code",
   "execution_count": null,
   "metadata": {},
   "outputs": [],
   "source": []
  },
  {
   "cell_type": "code",
   "execution_count": 342,
   "metadata": {},
   "outputs": [],
   "source": [
    "with open('test.txt', 'w', encoding='utf8') as f:\n",
    "    f.write(''.join('11\\n22\\n33\\n'))"
   ]
  },
  {
   "cell_type": "code",
   "execution_count": 343,
   "metadata": {},
   "outputs": [
    {
     "name": "stdout",
     "output_type": "stream",
     "text": [
      "11\r\n",
      "22\r\n",
      "33\r\n"
     ]
    }
   ],
   "source": [
    "!cat test.txt"
   ]
  },
  {
   "cell_type": "code",
   "execution_count": 87,
   "metadata": {},
   "outputs": [],
   "source": [
    "# 方法2参考官网\n",
    "basedir = '/Users/jw/Projects/python23/magedu/python'\n",
    "src = os.path.join(basedir, 'tmp/test.txt')\n",
    "dst = os.path.join(basedir, 'tmp/test1.txt')\n",
    "def copyobject(file1, file2, maxnum=2):    \n",
    "    if not path.exists(file2):\n",
    "        Path(file2).parent.mkdir(parents=True, exist_ok=True)\n",
    "        \n",
    "    with open(file1, 'r') as f1:\n",
    "        with open(file2, 'a') as f2:\n",
    "            while 1:                \n",
    "                src = f1.read(maxnum)\n",
    "                if not src:\n",
    "                    break\n",
    "                f2.write(src)\n",
    "copyobject(src, dst, 2)               "
   ]
  },
  {
   "cell_type": "code",
   "execution_count": 77,
   "metadata": {},
   "outputs": [],
   "source": [
    "!rm -rf tmp/test1.txt"
   ]
  },
  {
   "cell_type": "code",
   "execution_count": 13,
   "metadata": {},
   "outputs": [],
   "source": [
    "import shutil"
   ]
  },
  {
   "cell_type": "code",
   "execution_count": 32,
   "metadata": {},
   "outputs": [
    {
     "data": {
      "text/plain": [
       "'tmp/test1.txt'"
      ]
     },
     "execution_count": 32,
     "metadata": {},
     "output_type": "execute_result"
    }
   ],
   "source": [
    "shutil.copy('tmp/test.txt', 'tmp/test1.txt')"
   ]
  },
  {
   "cell_type": "code",
   "execution_count": 45,
   "metadata": {
    "scrolled": true
   },
   "outputs": [
    {
     "name": "stdout",
     "output_type": "stream",
     "text": [
      "total 0\r\n",
      "-rw-r--r--  1 jw  staff  0 Sep 15 16:40 test.txt\r\n",
      "-rw-r--r--  1 jw  staff  0 Sep 15 16:53 test1.txt\r\n"
     ]
    }
   ],
   "source": [
    "!ls -l tmp/"
   ]
  },
  {
   "cell_type": "code",
   "execution_count": 24,
   "metadata": {},
   "outputs": [
    {
     "name": "stdout",
     "output_type": "stream",
     "text": [
      "16777220 4010967 -rw-r--r-- 1 jw staff 0 3 \"Sep 15 16:22:13 2019\" \"Sep 15 16:22:12 2019\" \"Sep 15 16:22:12 2019\" \"Sep 15 16:13:48 2019\" 4194304 8 0 tmp/test1.txt\r\n"
     ]
    }
   ],
   "source": [
    "!stat tmp/test1.txt"
   ]
  },
  {
   "cell_type": "code",
   "execution_count": 25,
   "metadata": {},
   "outputs": [
    {
     "data": {
      "text/plain": [
       "'tmp/test1.txt'"
      ]
     },
     "execution_count": 25,
     "metadata": {},
     "output_type": "execute_result"
    }
   ],
   "source": [
    "shutil.copy2('tmp/test.txt', 'tmp/test1.txt')"
   ]
  },
  {
   "cell_type": "code",
   "execution_count": 26,
   "metadata": {},
   "outputs": [
    {
     "name": "stdout",
     "output_type": "stream",
     "text": [
      "total 16\r\n",
      "-rw-r--r--  1 jw  staff  3 Sep 15 16:13 test.txt\r\n",
      "-rw-r--r--  1 jw  staff  3 Sep 15 16:13 test1.txt\r\n"
     ]
    }
   ],
   "source": [
    "!ls -l tmp/"
   ]
  },
  {
   "cell_type": "code",
   "execution_count": null,
   "metadata": {},
   "outputs": [],
   "source": [
    "# 使用copy2两个文件的时间为什么不完全一样"
   ]
  },
  {
   "cell_type": "code",
   "execution_count": 27,
   "metadata": {
    "scrolled": true
   },
   "outputs": [
    {
     "name": "stdout",
     "output_type": "stream",
     "text": [
      "16777220 4010967 -rw-r--r-- 1 jw staff 0 3 \"Sep 15 16:27:47 2019\" \"Sep 15 16:13:48 2019\" \"Sep 15 16:27:45 2019\" \"Sep 15 16:13:48 2019\" 4194304 8 0 tmp/test1.txt\r\n"
     ]
    }
   ],
   "source": [
    "!stat tmp/test1.txt "
   ]
  },
  {
   "cell_type": "code",
   "execution_count": 28,
   "metadata": {},
   "outputs": [
    {
     "name": "stdout",
     "output_type": "stream",
     "text": [
      "16777220 4010857 -rw-r--r-- 1 jw staff 0 3 \"Sep 15 16:27:45 2019\" \"Sep 15 16:13:48 2019\" \"Sep 15 16:13:48 2019\" \"Sep 15 16:08:01 2019\" 4194304 8 0 tmp/test.txt\r\n"
     ]
    }
   ],
   "source": [
    "!stat tmp/test.txt"
   ]
  },
  {
   "cell_type": "code",
   "execution_count": 1,
   "metadata": {},
   "outputs": [],
   "source": [
    "!mkdir tmp"
   ]
  },
  {
   "cell_type": "code",
   "execution_count": 3,
   "metadata": {},
   "outputs": [],
   "source": [
    "!touch tmp/test.txt"
   ]
  },
  {
   "cell_type": "code",
   "execution_count": 4,
   "metadata": {},
   "outputs": [
    {
     "name": "stdout",
     "output_type": "stream",
     "text": [
      "tmp/test.txt\r\n"
     ]
    }
   ],
   "source": [
    "!ls tmp/test.txt"
   ]
  },
  {
   "cell_type": "code",
   "execution_count": 80,
   "metadata": {},
   "outputs": [],
   "source": [
    "with open('tmp/test.txt', 'w') as f:\n",
    "    f.write('\\n'.join(('123', '456', '789', '101112', 'abc', 'def')))"
   ]
  },
  {
   "cell_type": "code",
   "execution_count": 81,
   "metadata": {
    "scrolled": true
   },
   "outputs": [
    {
     "name": "stdout",
     "output_type": "stream",
     "text": [
      "123\r\n",
      "456\r\n",
      "789\r\n",
      "101112\r\n",
      "abc\r\n",
      "def"
     ]
    }
   ],
   "source": [
    "!cat tmp/test.txt"
   ]
  },
  {
   "cell_type": "code",
   "execution_count": 88,
   "metadata": {
    "scrolled": true
   },
   "outputs": [
    {
     "name": "stdout",
     "output_type": "stream",
     "text": [
      "123\r\n",
      "456\r\n",
      "789\r\n",
      "101112\r\n",
      "abc123\r\n",
      "456\r\n",
      "789\r\n",
      "101112\r\n",
      "abc\r\n",
      "def123\r\n",
      "456\r\n",
      "789\r\n",
      "101112\r\n",
      "abc\r\n",
      "def"
     ]
    }
   ],
   "source": [
    "!cat tmp/test1.txt"
   ]
  },
  {
   "cell_type": "markdown",
   "metadata": {},
   "source": [
    "### 2. 复制目录\n",
    "选择一个已存在的目录作为当前目录，\n",
    "在其下创建a/b/c/d这样的子目录，并在每一个层级生成50个(各个层级一共生成50)\n",
    "普通文件，要求文件名由随机4个小写字母组成\n",
    "\n",
    "将a目录下所有内容复制到当前工作目录dst目录下，并且只复制\n",
    "以x,y,z开头的文件"
   ]
  },
  {
   "cell_type": "code",
   "execution_count": 304,
   "metadata": {
    "scrolled": false
   },
   "outputs": [
    {
     "data": {
      "text/plain": [
       "PosixPath('/Users/jw/Projects/python23/magedu/python/tmp1')"
      ]
     },
     "execution_count": 304,
     "metadata": {},
     "output_type": "execute_result"
    }
   ],
   "source": [
    "# 老师给的方法\n",
    "from pathlib import Path\n",
    "import random\n",
    "import shutil\n",
    "from string import ascii_lowercase\n",
    "\n",
    "dirpath = Path(os.getcwd())\n",
    "subpath = Path('c/d/e')\n",
    "path = dirpath / subpath\n",
    "path.mkdir(parents=True, exist_ok=True)\n",
    "filenames = (''.join(random.choices(ascii_lowercase, k=4)) for i in range(50))\n",
    "paths = [subpath] + list(subpath.parents)[:-1]\n",
    "# print(paths)\n",
    "for filename in filenames:\n",
    "    (dirpath / random.choice(paths) / filename).touch()\n"
   ]
  },
  {
   "cell_type": "code",
   "execution_count": 337,
   "metadata": {
    "scrolled": true
   },
   "outputs": [
    {
     "data": {
      "text/plain": [
       "PosixPath('/Users/jw/Projects/python23/magedu/python/tmp1')"
      ]
     },
     "execution_count": 337,
     "metadata": {},
     "output_type": "execute_result"
    }
   ],
   "source": [
    "shutil.copytree(dirpath / 'c', dirpath / 'tmp1', ignore=ignore)"
   ]
  },
  {
   "cell_type": "code",
   "execution_count": 336,
   "metadata": {
    "scrolled": true
   },
   "outputs": [
    {
     "data": {
      "text/plain": [
       "{'aoip',\n",
       " 'bnoa',\n",
       " 'czfl',\n",
       " 'divh',\n",
       " 'gylv',\n",
       " 'hhme',\n",
       " 'iaei',\n",
       " 'kdkn',\n",
       " 'kows',\n",
       " 'ktqu',\n",
       " 'mhfn',\n",
       " 'omcr',\n",
       " 'qsay',\n",
       " 'uspp',\n",
       " 'vbac',\n",
       " 'whjn'}"
      ]
     },
     "execution_count": 336,
     "metadata": {},
     "output_type": "execute_result"
    }
   ],
   "source": [
    "# 使用for循环\n",
    "def ignore(src, names):\n",
    "    return set(name for name in names if name[0] not in set('xyz') and (Path(src) / name).is_file())\n",
    "ignore(dirpath / 'c', os.listdir(dirpath / 'c'))\n",
    "    "
   ]
  },
  {
   "cell_type": "code",
   "execution_count": 338,
   "metadata": {},
   "outputs": [
    {
     "data": {
      "text/plain": [
       "{'aoip',\n",
       " 'bnoa',\n",
       " 'czfl',\n",
       " 'divh',\n",
       " 'gylv',\n",
       " 'hhme',\n",
       " 'iaei',\n",
       " 'kdkn',\n",
       " 'kows',\n",
       " 'ktqu',\n",
       " 'mhfn',\n",
       " 'omcr',\n",
       " 'qsay',\n",
       " 'uspp',\n",
       " 'vbac',\n",
       " 'whjn'}"
      ]
     },
     "execution_count": 338,
     "metadata": {},
     "output_type": "execute_result"
    }
   ],
   "source": [
    "# 使用filter函数\n",
    "def ignore_files(src, names):\n",
    "     return set(filter(lambda x: x[0] not in ['x', 'y', 'z'] and (src / x).is_file(), names))\n",
    "ignore(dirpath / 'c', os.listdir(dirpath / 'c'))"
   ]
  },
  {
   "cell_type": "code",
   "execution_count": null,
   "metadata": {},
   "outputs": [],
   "source": []
  },
  {
   "cell_type": "code",
   "execution_count": 309,
   "metadata": {},
   "outputs": [],
   "source": [
    "# 查看某个目录下的所有文件及文件夹，返回绝对路径\n",
    "# print(*(dirpath / 'tmp1').rglob('*'), sep='\\n')"
   ]
  },
  {
   "cell_type": "code",
   "execution_count": null,
   "metadata": {},
   "outputs": [],
   "source": []
  },
  {
   "cell_type": "code",
   "execution_count": null,
   "metadata": {},
   "outputs": [],
   "source": []
  },
  {
   "cell_type": "code",
   "execution_count": 220,
   "metadata": {},
   "outputs": [],
   "source": [
    "#  自己写的方法\n",
    "import random\n",
    "def genedirsandfiles(dirs: 'a/b/c/d'):\n",
    "    path1 = Path(dirs)\n",
    "    path1.mkdir(parents=True, exist_ok=True)\n",
    "    newparents = [path1] + [parent for parent in path1.parents if str(parent) != '.']\n",
    "    #print(newparents)\n",
    "    for path2 in newparents:\n",
    "        alph = ''.join(chr(i) for i in range(97,123))\n",
    "        for i in range(50):\n",
    "            name = ''.join(random.choices(alph, k=4))\n",
    "            with open('{}/{}.txt'.format(path2, name), 'w', encoding='utf8') as f:\n",
    "                pass\n",
    "genedirsandfiles('a/b/c/d')   "
   ]
  },
  {
   "cell_type": "code",
   "execution_count": 194,
   "metadata": {},
   "outputs": [],
   "source": [
    "import os\n",
    "import re"
   ]
  },
  {
   "cell_type": "code",
   "execution_count": 253,
   "metadata": {
    "scrolled": true
   },
   "outputs": [],
   "source": [
    "def copyobject(file1, file2, maxnum):    \n",
    "    if not path.exists(file2):\n",
    "        Path(file2).parent.mkdir(parents=True, exist_ok=True)\n",
    "        \n",
    "    with open(file1, 'rb') as f1:        \n",
    "        with open(file2, 'ab') as f2:\n",
    "            src = f1.read(maxnum)\n",
    "            while src:\n",
    "                src = f1.read(maxnum)\n",
    "                f2.write(src)\n",
    "\n",
    "            \n",
    "def simplycopy(src, dst):\n",
    "    copyobject(src, dst, maxnum=4*1024)\n",
    "\n",
    "def ignore(src_dir):\n",
    "    names = os.listdir(src_dir)\n",
    "    ignore_file_set = set()\n",
    "    for name in names:\n",
    "        regex = re.compile('[xyz]')       \n",
    "        if not regex.match(name):\n",
    "            src_file = Path() / src_dir / name\n",
    "            ignore_file_set.add(src_file) \n",
    "    return ignore_file_set\n",
    "    \n",
    "def copytree(src, dst, ignore=None, copy=simplycopy):\n",
    "    \n",
    "    if isinstance(dst, str):\n",
    "        dst = Path() / dst        \n",
    "    dst.mkdir(parents=True, exist_ok=True)\n",
    "    \n",
    "    ignore_set = ignore(src)\n",
    "        \n",
    "    for i in os.listdir(src):\n",
    "        src_path = Path() / src / i\n",
    "        dst_path = Path() / dst / i\n",
    "        if src_path.is_file():\n",
    "            if not src_path in ignore_set:\n",
    "                copy(src_path, dst_path)\n",
    "        elif src_path.is_dir():\n",
    "            copytree(src_path, dst_path, ignore=ignore)\n",
    "    #return ignore_set       \n",
    "copytree('a', 'dst', ignore=ignore)"
   ]
  },
  {
   "cell_type": "markdown",
   "metadata": {},
   "source": [
    "### 3.统计一个文件词频，不区分大小写，显示top10"
   ]
  },
  {
   "cell_type": "code",
   "execution_count": 140,
   "metadata": {},
   "outputs": [],
   "source": [
    "import re\n",
    "import timeit"
   ]
  },
  {
   "cell_type": "code",
   "execution_count": 38,
   "metadata": {},
   "outputs": [],
   "source": [
    "stopwordset = {'a', 'is', 'by', 'the', 'next', 'if', 'true',\n",
    "              'os', 'be', 'used', 'always', 'such', 'so', 'into',\n",
    "              'instead', 'on', 'but', 'will', 'not', 'to', 'in',\n",
    "                   'into', 'of', '', 'for', 'and', 'or', 'any',\n",
    "               'this', 'one', 'it', 'with', 'a', 'an', 'after',\n",
    "               'as', 'some'}"
   ]
  },
  {
   "cell_type": "code",
   "execution_count": 211,
   "metadata": {},
   "outputs": [],
   "source": [
    "# 方法1，3.10毫秒，其他的方法3.11毫秒\n",
    "def makekey(line):\n",
    "    lenght = len(line)\n",
    "    start = 0\n",
    "    for i, char in enumerate(line):\n",
    "        if char in set(\"\"\"!@#$%^&*()\\—\\-=_+,.?\";':\\/»{}[]<>\\n| ''\"\"\"):\n",
    "            if start == i:\n",
    "                start += 1\n",
    "                continue\n",
    "            yield line[start:i]\n",
    "            start = i + 1 #假设i+1是需要的字符,即没在set里面\n",
    "    else:\n",
    "        if start < lenght: # 去除空格\n",
    "            yield line[start:]\n",
    "    \n",
    "def wordcount(filename, ignore=stopwordset):\n",
    "    with open(filename, 'r', encoding='utf-8') as f:\n",
    "        wordcount = {}\n",
    "        for line in f:\n",
    "            for i in makekey(line):\n",
    "                if i not in stopwordset:\n",
    "                    word = i.lower()\n",
    "                    wordcount[word] = wordcount.get(word, 0) + 1            \n",
    "    return wordcount    \n",
    "                "
   ]
  },
  {
   "cell_type": "code",
   "execution_count": 163,
   "metadata": {},
   "outputs": [],
   "source": [
    "# 方法二实用defauldict\n",
    "from collections import defaultdict\n",
    "def makekey(line):\n",
    "    lenght = len(line)\n",
    "    start = 0\n",
    "    for i, char in enumerate(line):\n",
    "        if char in set(\"\"\"!@#$%^&*()\\—\\-=_+,.?\";':\\/»{}[]<>\\n| ''\"\"\"):\n",
    "            if start == i:\n",
    "                start += 1\n",
    "                continue\n",
    "            yield line[start:i]\n",
    "            start = i + 1 #假设i+1是需要的字符,即没在set里面\n",
    "    else:\n",
    "        if start < lenght: # 去除空格\n",
    "            yield line[start:]\n",
    "    \n",
    "def wordcount(filename):\n",
    "    with open(filename, 'r', encoding='utf-8') as f:\n",
    "        wordcount = defaultdict(lambda: 0)\n",
    "        for line in f:\n",
    "            for i in makekey(line):\n",
    "                if i not in stopwordset:\n",
    "                    word = i.lower()\n",
    "                    wordcount[word] += 1 #如果没找到word(lambda: 0)() + 1       \n",
    "    return wordcount    \n",
    "                "
   ]
  },
  {
   "cell_type": "code",
   "execution_count": 158,
   "metadata": {},
   "outputs": [],
   "source": [
    "# 方法3，使用map函数\n",
    "from collections import defaultdict\n",
    "def makekey(line):\n",
    "    lenght = len(line)\n",
    "    start = 0\n",
    "    for i, char in enumerate(line):\n",
    "        if char in set(\"\"\"!@#$%^&*()\\—\\-=_+,.?\";':\\/»{}[]<>\\n| ''\"\"\"):\n",
    "            if start == i:\n",
    "                start += 1\n",
    "                continue\n",
    "            yield line[start:i]\n",
    "            start = i + 1 #假设i+1是需要的字符,即没在set里面\n",
    "    else:\n",
    "        if start < lenght: # 去除空格\n",
    "            yield line[start:]\n",
    "    \n",
    "def wordcount(filename):\n",
    "    with open(filename, 'r', encoding='utf-8') as f:\n",
    "        wordcount = defaultdict(lambda: 0)\n",
    "        for line in f:\n",
    "            # map函数的第一个参数接受一个参数\n",
    "            # str.lower 等价于 lambda x: str.lower(x)\n",
    "            # lambda x: x.lower()\n",
    "            for i in map(str.lower, makekey(line)):\n",
    "                if i not in stopwordset:\n",
    "                    wordcount[i] += 1 #如果没找到word(lambda: 0)() + 1       \n",
    "    return wordcount    \n",
    "                "
   ]
  },
  {
   "cell_type": "code",
   "execution_count": 155,
   "metadata": {
    "scrolled": true
   },
   "outputs": [],
   "source": [
    "# 方法4，使用filter\n",
    "from collections import defaultdict\n",
    "def makekey(line):\n",
    "    lenght = len(line)\n",
    "    start = 0\n",
    "    for i, char in enumerate(line):\n",
    "        if char in set(\"\"\"!@#$%^&*()\\—\\-=_+,.?\";':\\/»{}[]<>\\n| ''\"\"\"):\n",
    "            if start == i:\n",
    "                start += 1\n",
    "                continue\n",
    "            yield line[start:i]\n",
    "            start = i + 1 #假设i+1是需要的字符,即没在set里面\n",
    "    else:\n",
    "        if start < lenght: # 去除空格\n",
    "            yield line[start:]\n",
    "    \n",
    "def wordcount(filename):\n",
    "    with open(filename, 'r', encoding='utf-8') as f:\n",
    "        wordcount = defaultdict(lambda: 0)\n",
    "        for line in f:\n",
    "            for i in filter(lambda x: x not in stopwordset, makekey(line)):\n",
    "                i = i.lower()\n",
    "                wordcount[i] += 1 #如果没找到word(lambda: 0)() + 1       \n",
    "    return wordcount    \n"
   ]
  },
  {
   "cell_type": "code",
   "execution_count": 217,
   "metadata": {
    "scrolled": false
   },
   "outputs": [
    {
     "name": "stdout",
     "output_type": "stream",
     "text": [
      "('path', 138)\n",
      "('return', 30)\n",
      "('windows', 25)\n",
      "('file', 24)\n",
      "('pathname', 17)\n",
      "('drive', 17)\n",
      "('directory', 16)\n",
      "('unix', 16)\n",
      "('that', 15)\n",
      "('on', 15)\n"
     ]
    }
   ],
   "source": [
    "#%%timeit\n",
    "def top10(wordcount):\n",
    "    #yield会打印一行\n",
    "    # yield sorted(wordcount.items(), key= lambda x: x[1], reverse=True)[:10]\n",
    "    \n",
    "    # yield from会打印10行\n",
    "    yield from sorted(wordcount.items(), key= lambda x: x[1], reverse=True)[:10]\n",
    "    \n",
    "    # 需要写绝对路径，不然有时会找不到\n",
    "print(*top10((wordcount('/Users/jw/Projects/python23/magedu/python/sample.txt'))), sep='\\n')\n",
    "#top10((wordcount('/Users/jw/Projects/python23/magedu/python/sample.txt')))"
   ]
  },
  {
   "cell_type": "code",
   "execution_count": null,
   "metadata": {},
   "outputs": [],
   "source": [
    "# 过滤出含有path的名字\n",
    "d = wordcount('/Users/jw/Projects/python23/magedu/python/sample.txt')\n",
    "print(*filter(lambda x: x.find('path') > -1, d.keys()))"
   ]
  },
  {
   "cell_type": "code",
   "execution_count": null,
   "metadata": {},
   "outputs": [],
   "source": []
  },
  {
   "cell_type": "code",
   "execution_count": null,
   "metadata": {},
   "outputs": [],
   "source": [
    "# 自己写的方法，达到了n的3次幂\n",
    "def splitcontent(filename):\n",
    "    with open(filename, 'r', encoding='utf8') as f:\n",
    "        contents = f.read()\n",
    "        regex = re.compile('[| »\\n\\.\\-,/\\(\\):;>~%\\$_\\*\\'\\'\\\"\\\"//=\\?\\—\\d\\[\\]\\{\\}\\\\\\+©]+')\n",
    "        result = (i.lower() for i in regex.split(contents))\n",
    "        return result\n",
    "    \n",
    "def removestopword(orglist, stopwordset):\n",
    "    for i in orglist:\n",
    "        if not i in stopwordset:          \n",
    "            yield i\n",
    "            \n",
    "def countword(final_result):\n",
    "    wordcount = {}\n",
    "    for i in final_result:\n",
    "        wordcount[i] = 1 + wordcount.get(i, 0)\n",
    "    return wordcount\n",
    "\n",
    "def topn(wordcount, n):\n",
    "    return sorted(wordcount.items(), key= lambda x: x[1], reverse=True)[:n]\n",
    " \n",
    "showtop10(countword(removestopword(splitcontent('sample.txt'), stopwordset)))"
   ]
  },
  {
   "cell_type": "code",
   "execution_count": null,
   "metadata": {},
   "outputs": [],
   "source": []
  },
  {
   "cell_type": "code",
   "execution_count": null,
   "metadata": {},
   "outputs": [],
   "source": []
  },
  {
   "cell_type": "markdown",
   "metadata": {},
   "source": [
    "### 4.去掉停用词，要求全部代码使用函数封装，并完成函数调用"
   ]
  },
  {
   "cell_type": "markdown",
   "metadata": {},
   "source": [
    "### 5.配置文件转换,有一个配置文件，将其转换成json格式"
   ]
  },
  {
   "cell_type": "code",
   "execution_count": 233,
   "metadata": {},
   "outputs": [],
   "source": [
    "import configparser\n",
    "import json"
   ]
  },
  {
   "cell_type": "code",
   "execution_count": 234,
   "metadata": {
    "scrolled": true
   },
   "outputs": [
    {
     "name": "stdout",
     "output_type": "stream",
     "text": [
      "<class 'str'> {\"DEFAULT\": {\"a\": \"test\"}, \"mysql\": {\"default-character-set\": \"utf8\", \"a\": \"1000\"}, \"mysqld\": {\"datadir\": \"/dbserver/data\", \"port\": \"33060\", \"character-set-server\": \"utf8\", \"sql_mode\": \"NO_ENGINE_SUBSTITUTION,STRICT_TRANS_TABLES\"}}\n",
      "\n",
      "\n",
      "<class 'dict'> {'DEFAULT': {'a': 'test'}, 'mysql': {'default-character-set': 'utf8', 'a': '1000'}, 'mysqld': {'datadir': '/dbserver/data', 'port': '33060', 'character-set-server': 'utf8', 'sql_mode': 'NO_ENGINE_SUBSTITUTION,STRICT_TRANS_TABLES'}}\n"
     ]
    }
   ],
   "source": [
    "cfp = configparser.ConfigParser()\n",
    "cfp.read('test.ini')\n",
    "# print(cfp.sections())\n",
    "# print(cfp.default_section, type(cfp.default_section))\n",
    "# print(cfp.defaults())\n",
    "#print(cfp._sections)\n",
    "(k1, v1) = (cfp.default_section, cfp.defaults())\n",
    "dict1 = dict({k1:dict(v1)})\n",
    "a = map(lambda x,y:{x : dict(y)}, cfp._sections.keys(), cfp._sections.values())\n",
    "for i in a:\n",
    "    dict1.update(i)\n",
    "#print(dict1, type(dict1))\n",
    "# s = json.dumps(dict1)\n",
    "# print(s, type(s))\n",
    "with open('test.json', 'w', encoding='utf8') as f:\n",
    "    s = json.dumps(dict1)\n",
    "    f.write(s)\n",
    "    \n",
    "with open('test.json', 'r', encoding='utf8') as f:\n",
    "    s = f.read()\n",
    "    print(type(s), s, end='\\n\\n\\n')\n",
    "    dict1 = json.loads(s, encoding='utf8')\n",
    "    print(type(dict1), dict1)\n",
    "    "
   ]
  },
  {
   "cell_type": "code",
   "execution_count": 235,
   "metadata": {},
   "outputs": [
    {
     "name": "stdout",
     "output_type": "stream",
     "text": [
      "{'mysql': {'default-character-set': 'utf8', 'a': '1000'}}\n",
      "{'mysqld': {'datadir': '/dbserver/data', 'port': '33060', 'character-set-server': 'utf8', 'sql_mode': 'NO_ENGINE_SUBSTITUTION,STRICT_TRANS_TABLES'}}\n",
      "{'mysql': {'default-character-set': 'utf8', 'a': '1000'}, 'mysqld': {'datadir': '/dbserver/data', 'port': '33060', 'character-set-server': 'utf8', 'sql_mode': 'NO_ENGINE_SUBSTITUTION,STRICT_TRANS_TABLES'}}\n"
     ]
    }
   ],
   "source": [
    "a = map(lambda x,y:{x : dict(y)}, cfp._sections.keys(), cfp._sections.values())\n",
    "b = {}\n",
    "for i in a:\n",
    "    print(i)\n",
    "    b.update(i)\n",
    "print(b)"
   ]
  },
  {
   "cell_type": "code",
   "execution_count": 261,
   "metadata": {},
   "outputs": [
    {
     "name": "stdout",
     "output_type": "stream",
     "text": [
      "<class 'dict'>\n",
      "{'mysql': {'a': '1000', 'default-character-set': 'utf8'}, 'mysqld': {'a': 'test', 'datadir': '/dbserver/data', 'port': '33060', 'character-set-server': 'utf8', 'sql_mode': 'NO_ENGINE_SUBSTITUTION,STRICT_TRANS_TABLES'}}\n"
     ]
    }
   ],
   "source": [
    "# 老师给的方法1\n",
    "# python -m json.tool test.json 在命令行查看json文件的格式\n",
    "import configparser\n",
    "import os\n",
    "import json\n",
    "filename = 'test.ini'\n",
    "destfile = os.path.join(os.getcwd(), 'cfg.ini')\n",
    "cfg = configparser.ConfigParser()\n",
    "cfg.read(filename)\n",
    "\n",
    "target = {}\n",
    "for section in cfg.sections():\n",
    "    target[section] = dict(cfg.items(section))\n",
    "with open(destfile, 'w', encoding='utf8') as f:\n",
    "    json.dump(target, f)\n",
    "with open(destfile, 'r', encoding='utf8') as f:\n",
    "    #print(f.read(), type(f.read()))\n",
    "    #print(json.load(f), type(json.load(f)))\n",
    "    a = json.load(f)\n",
    "    print(type(a))\n",
    "    print(a)"
   ]
  },
  {
   "cell_type": "code",
   "execution_count": 268,
   "metadata": {},
   "outputs": [
    {
     "name": "stdout",
     "output_type": "stream",
     "text": [
      "{\"mysql\": {\"default-character-set\": \"utf8\", \"a\": \"1000\"}, \"mysqld\": {\"datadir\": \"/dbserver/data\", \"port\": \"33060\", \"character-set-server\": \"utf8\", \"sql_mode\": \"NO_ENGINE_SUBSTITUTION,STRICT_TRANS_TABLES\"}} <class 'str'>\n"
     ]
    }
   ],
   "source": [
    "# 老师给的方法2\n",
    "# print(cfg._sections)\n",
    "json1 = json.dumps(cfg._sections)\n",
    "print(json1, type(json1))\n",
    "\n",
    "\n",
    "\n"
   ]
  },
  {
   "cell_type": "code",
   "execution_count": 243,
   "metadata": {},
   "outputs": [
    {
     "name": "stdout",
     "output_type": "stream",
     "text": [
      "['b', 'b', 'b']\n",
      "['a', 'c', 'd']\n"
     ]
    }
   ],
   "source": [
    "import random\n",
    "print(random.choices('abcd', k=3))\n",
    "print(random.sample('abcd', k=3))\n"
   ]
  },
  {
   "cell_type": "code",
   "execution_count": null,
   "metadata": {},
   "outputs": [],
   "source": []
  },
  {
   "cell_type": "code",
   "execution_count": null,
   "metadata": {},
   "outputs": [],
   "source": []
  },
  {
   "cell_type": "code",
   "execution_count": null,
   "metadata": {},
   "outputs": [],
   "source": []
  },
  {
   "cell_type": "code",
   "execution_count": null,
   "metadata": {},
   "outputs": [],
   "source": []
  },
  {
   "cell_type": "code",
   "execution_count": null,
   "metadata": {},
   "outputs": [],
   "source": []
  },
  {
   "cell_type": "code",
   "execution_count": null,
   "metadata": {},
   "outputs": [],
   "source": []
  }
 ],
 "metadata": {
  "kernelspec": {
   "display_name": "Python 3",
   "language": "python",
   "name": "python3"
  },
  "language_info": {
   "codemirror_mode": {
    "name": "ipython",
    "version": 3
   },
   "file_extension": ".py",
   "mimetype": "text/x-python",
   "name": "python",
   "nbconvert_exporter": "python",
   "pygments_lexer": "ipython3",
   "version": "3.6.8"
  }
 },
 "nbformat": 4,
 "nbformat_minor": 2
}
