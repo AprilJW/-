{
 "cells": [
  {
   "cell_type": "markdown",
   "metadata": {},
   "source": [
    "### 1.指定一个源文件，实现copy到目标目录\n",
    "### 例如：把/tmp.txt拷贝到/tmp/test1.txt"
   ]
  },
  {
   "cell_type": "code",
   "execution_count": 39,
   "metadata": {},
   "outputs": [],
   "source": [
    "from os import path\n",
    "from pathlib import Path"
   ]
  },
  {
   "cell_type": "code",
   "execution_count": 215,
   "metadata": {},
   "outputs": [],
   "source": [
    "#方法1，自己写的方法，while循环的位置可以调整\n",
    "def copyobject(file1, file2, maxnum):    \n",
    "    if not path.exists(file2):\n",
    "        Path(file2).parent.mkdir(parents=True, exist_ok=True)\n",
    "        \n",
    "    with open(file1, 'r', encoding='utf8') as f1:\n",
    "        src = f1.read(maxnum)\n",
    "        while src:\n",
    "            with open(file2, 'a', encoding='utf8') as f2:\n",
    "                f2.write(src)\n",
    "            src = f1.read(maxnum)\n",
    "#copyobject('tmp/test.txt', 'tmp/test1.txt', 2)"
   ]
  },
  {
   "cell_type": "code",
   "execution_count": 87,
   "metadata": {},
   "outputs": [],
   "source": [
    "# 方法2参考官网\n",
    "def copyobject(file1, file2, maxnum):    \n",
    "    if not path.exists(file2):\n",
    "        Path(file2).parent.mkdir(parents=True, exist_ok=True)\n",
    "        \n",
    "    with open(file1, 'r') as f1:\n",
    "        with open(file2, 'a') as f2:\n",
    "            while 1:                \n",
    "                src = f1.read(maxnum)\n",
    "                if not src:\n",
    "                    break\n",
    "                f2.write(src)\n",
    "copyobject('tmp/test.txt', 'tmp/test1.txt', 2)               "
   ]
  },
  {
   "cell_type": "code",
   "execution_count": 77,
   "metadata": {},
   "outputs": [],
   "source": [
    "!rm -rf tmp/test1.txt"
   ]
  },
  {
   "cell_type": "code",
   "execution_count": 13,
   "metadata": {},
   "outputs": [],
   "source": [
    "import shutil"
   ]
  },
  {
   "cell_type": "code",
   "execution_count": 32,
   "metadata": {},
   "outputs": [
    {
     "data": {
      "text/plain": [
       "'tmp/test1.txt'"
      ]
     },
     "execution_count": 32,
     "metadata": {},
     "output_type": "execute_result"
    }
   ],
   "source": [
    "shutil.copy('tmp/test.txt', 'tmp/test1.txt')"
   ]
  },
  {
   "cell_type": "code",
   "execution_count": 45,
   "metadata": {
    "scrolled": true
   },
   "outputs": [
    {
     "name": "stdout",
     "output_type": "stream",
     "text": [
      "total 0\r\n",
      "-rw-r--r--  1 jw  staff  0 Sep 15 16:40 test.txt\r\n",
      "-rw-r--r--  1 jw  staff  0 Sep 15 16:53 test1.txt\r\n"
     ]
    }
   ],
   "source": [
    "!ls -l tmp/"
   ]
  },
  {
   "cell_type": "code",
   "execution_count": 24,
   "metadata": {},
   "outputs": [
    {
     "name": "stdout",
     "output_type": "stream",
     "text": [
      "16777220 4010967 -rw-r--r-- 1 jw staff 0 3 \"Sep 15 16:22:13 2019\" \"Sep 15 16:22:12 2019\" \"Sep 15 16:22:12 2019\" \"Sep 15 16:13:48 2019\" 4194304 8 0 tmp/test1.txt\r\n"
     ]
    }
   ],
   "source": [
    "!stat tmp/test1.txt"
   ]
  },
  {
   "cell_type": "code",
   "execution_count": 25,
   "metadata": {},
   "outputs": [
    {
     "data": {
      "text/plain": [
       "'tmp/test1.txt'"
      ]
     },
     "execution_count": 25,
     "metadata": {},
     "output_type": "execute_result"
    }
   ],
   "source": [
    "shutil.copy2('tmp/test.txt', 'tmp/test1.txt')"
   ]
  },
  {
   "cell_type": "code",
   "execution_count": 26,
   "metadata": {},
   "outputs": [
    {
     "name": "stdout",
     "output_type": "stream",
     "text": [
      "total 16\r\n",
      "-rw-r--r--  1 jw  staff  3 Sep 15 16:13 test.txt\r\n",
      "-rw-r--r--  1 jw  staff  3 Sep 15 16:13 test1.txt\r\n"
     ]
    }
   ],
   "source": [
    "!ls -l tmp/"
   ]
  },
  {
   "cell_type": "code",
   "execution_count": null,
   "metadata": {},
   "outputs": [],
   "source": [
    "# 使用copy2两个文件的时间为什么不完全一样"
   ]
  },
  {
   "cell_type": "code",
   "execution_count": 27,
   "metadata": {
    "scrolled": true
   },
   "outputs": [
    {
     "name": "stdout",
     "output_type": "stream",
     "text": [
      "16777220 4010967 -rw-r--r-- 1 jw staff 0 3 \"Sep 15 16:27:47 2019\" \"Sep 15 16:13:48 2019\" \"Sep 15 16:27:45 2019\" \"Sep 15 16:13:48 2019\" 4194304 8 0 tmp/test1.txt\r\n"
     ]
    }
   ],
   "source": [
    "!stat tmp/test1.txt "
   ]
  },
  {
   "cell_type": "code",
   "execution_count": 28,
   "metadata": {},
   "outputs": [
    {
     "name": "stdout",
     "output_type": "stream",
     "text": [
      "16777220 4010857 -rw-r--r-- 1 jw staff 0 3 \"Sep 15 16:27:45 2019\" \"Sep 15 16:13:48 2019\" \"Sep 15 16:13:48 2019\" \"Sep 15 16:08:01 2019\" 4194304 8 0 tmp/test.txt\r\n"
     ]
    }
   ],
   "source": [
    "!stat tmp/test.txt"
   ]
  },
  {
   "cell_type": "code",
   "execution_count": 1,
   "metadata": {},
   "outputs": [],
   "source": [
    "!mkdir tmp"
   ]
  },
  {
   "cell_type": "code",
   "execution_count": 3,
   "metadata": {},
   "outputs": [],
   "source": [
    "!touch tmp/test.txt"
   ]
  },
  {
   "cell_type": "code",
   "execution_count": 4,
   "metadata": {},
   "outputs": [
    {
     "name": "stdout",
     "output_type": "stream",
     "text": [
      "tmp/test.txt\r\n"
     ]
    }
   ],
   "source": [
    "!ls tmp/test.txt"
   ]
  },
  {
   "cell_type": "code",
   "execution_count": 80,
   "metadata": {},
   "outputs": [],
   "source": [
    "with open('tmp/test.txt', 'w') as f:\n",
    "    f.write('\\n'.join(('123', '456', '789', '101112', 'abc', 'def')))"
   ]
  },
  {
   "cell_type": "code",
   "execution_count": 81,
   "metadata": {
    "scrolled": true
   },
   "outputs": [
    {
     "name": "stdout",
     "output_type": "stream",
     "text": [
      "123\r\n",
      "456\r\n",
      "789\r\n",
      "101112\r\n",
      "abc\r\n",
      "def"
     ]
    }
   ],
   "source": [
    "!cat tmp/test.txt"
   ]
  },
  {
   "cell_type": "code",
   "execution_count": 88,
   "metadata": {
    "scrolled": true
   },
   "outputs": [
    {
     "name": "stdout",
     "output_type": "stream",
     "text": [
      "123\r\n",
      "456\r\n",
      "789\r\n",
      "101112\r\n",
      "abc123\r\n",
      "456\r\n",
      "789\r\n",
      "101112\r\n",
      "abc\r\n",
      "def123\r\n",
      "456\r\n",
      "789\r\n",
      "101112\r\n",
      "abc\r\n",
      "def"
     ]
    }
   ],
   "source": [
    "!cat tmp/test1.txt"
   ]
  },
  {
   "cell_type": "markdown",
   "metadata": {},
   "source": [
    "### 2. 复制目录\n",
    "选择一个已存在的目录作为当前目录，\n",
    "在其下创建a/b/c/d这样的子目录，并在每一个层级生成50个\n",
    "普通文件，要求文件名由随机4个小写字母组成\n",
    "\n",
    "将a目录下所有内容复制到当前工作目录dst目录下，并且只复制\n",
    "以x,y,z开头的文件"
   ]
  },
  {
   "cell_type": "code",
   "execution_count": 220,
   "metadata": {},
   "outputs": [],
   "source": [
    "import random\n",
    "def genedirsandfiles(dirs: 'a/b/c/d'):\n",
    "    path1 = Path(dirs)\n",
    "    path1.mkdir(parents=True, exist_ok=True)\n",
    "    newparents = [path1] + [parent for parent in path1.parents if str(parent) != '.']\n",
    "    #print(newparents)\n",
    "    for path2 in newparents:\n",
    "        alph = ''.join(chr(i) for i in range(97,123))\n",
    "        for i in range(50):\n",
    "            name = ''.join(random.choices(alph, k=4))\n",
    "            with open('{}/{}.txt'.format(path2, name), 'w', encoding='utf8') as f:\n",
    "                pass\n",
    "genedirsandfiles('a/b/c/d')   "
   ]
  },
  {
   "cell_type": "code",
   "execution_count": 194,
   "metadata": {},
   "outputs": [],
   "source": [
    "import os\n",
    "import re"
   ]
  },
  {
   "cell_type": "code",
   "execution_count": 253,
   "metadata": {
    "scrolled": true
   },
   "outputs": [],
   "source": [
    "def copyobject(file1, file2, maxnum):    \n",
    "    if not path.exists(file2):\n",
    "        Path(file2).parent.mkdir(parents=True, exist_ok=True)\n",
    "        \n",
    "    with open(file1, 'rb') as f1:        \n",
    "        with open(file2, 'ab') as f2:\n",
    "            src = f1.read(maxnum)\n",
    "            while src:\n",
    "                src = f1.read(maxnum)\n",
    "                f2.write(src)\n",
    "\n",
    "            \n",
    "def simplycopy(src, dst):\n",
    "    copyobject(src, dst, maxnum=4*1024)\n",
    "\n",
    "def ignore(src_dir):\n",
    "    names = os.listdir(src_dir)\n",
    "    ignore_file_set = set()\n",
    "    for name in names:\n",
    "        regex = re.compile('[xyz]')       \n",
    "        if not regex.match(name):\n",
    "            src_file = Path() / src_dir / name\n",
    "            ignore_file_set.add(src_file) \n",
    "    return ignore_file_set\n",
    "    \n",
    "def copytree(src, dst, ignore=None, copy=simplycopy):\n",
    "    \n",
    "    if isinstance(dst, str):\n",
    "        dst = Path() / dst        \n",
    "    dst.mkdir(parents=True, exist_ok=True)\n",
    "    \n",
    "    ignore_set = ignore(src)\n",
    "        \n",
    "    for i in os.listdir(src):\n",
    "        src_path = Path() / src / i\n",
    "        dst_path = Path() / dst / i\n",
    "        if src_path.is_file():\n",
    "            if not src_path in ignore_set:\n",
    "                copy(src_path, dst_path)\n",
    "        elif src_path.is_dir():\n",
    "            copytree(src_path, dst_path, ignore=ignore)\n",
    "    #return ignore_set       \n",
    "copytree('a', 'dst', ignore=ignore)"
   ]
  },
  {
   "cell_type": "markdown",
   "metadata": {},
   "source": [
    "### 3.统计一个文件词频，不区分大小写，显示top10"
   ]
  },
  {
   "cell_type": "code",
   "execution_count": 5,
   "metadata": {},
   "outputs": [],
   "source": [
    "import re"
   ]
  },
  {
   "cell_type": "code",
   "execution_count": 127,
   "metadata": {},
   "outputs": [],
   "source": [
    "stopwordset = {'a', 'is', 'by', 'the', 'next', 'if', 'true',\n",
    "              'os', 'be', 'used', 'always', 'such', 'so', 'into',\n",
    "              'instead', 'on', 'but', 'will', 'not', 'to', 'in',\n",
    "                   'into', 'of', '', 'for', 'and', 'or', 'any',\n",
    "               'this', 'one', 'it', 'with', 'a', 'an', 'after',\n",
    "               'as', 'some'}"
   ]
  },
  {
   "cell_type": "code",
   "execution_count": 130,
   "metadata": {
    "scrolled": false
   },
   "outputs": [
    {
     "data": {
      "text/plain": [
       "[('path', 140),\n",
       " ('return', 30),\n",
       " ('windows', 25),\n",
       " ('file', 24),\n",
       " ('pathname', 17),\n",
       " ('drive', 17),\n",
       " ('directory', 16),\n",
       " ('unix', 16),\n",
       " ('that', 15),\n",
       " ('empty', 14)]"
      ]
     },
     "execution_count": 130,
     "metadata": {},
     "output_type": "execute_result"
    }
   ],
   "source": [
    "def splitcontent(filename):\n",
    "    with open(filename, 'r') as f:\n",
    "        contents = f.read()\n",
    "        regex = re.compile('[| »\\n\\.\\-,/\\(\\):;>~%\\$_\\*\\'\\'\\\"\\\"//=\\?\\—\\d\\[\\]\\{\\}\\\\\\+©]+')\n",
    "        result = (i.lower() for i in regex.split(contents))\n",
    "        return result\n",
    "    \n",
    "def removestopword(orglist, stopwordset):\n",
    "    for i in orglist:\n",
    "        if not i in stopwordset:          \n",
    "            yield i\n",
    "            \n",
    "def countword(final_result):\n",
    "    wordcount = {}\n",
    "    for i in final_result:\n",
    "        wordcount[i] = 1 + wordcount.get(i, 0)\n",
    "    return wordcount\n",
    "\n",
    "def showtop10(wordcount):\n",
    "    return sorted(wordcount.items(), key= lambda x: x[1], reverse=True)[:10]\n",
    " \n",
    "showtop10(countword(removestopword(splitcontent('sample.txt'), stopwordset)))"
   ]
  },
  {
   "cell_type": "code",
   "execution_count": 113,
   "metadata": {},
   "outputs": [
    {
     "name": "stdout",
     "output_type": "stream",
     "text": [
      "1397\n"
     ]
    }
   ],
   "source": []
  },
  {
   "cell_type": "code",
   "execution_count": 99,
   "metadata": {},
   "outputs": [
    {
     "name": "stdout",
     "output_type": "stream",
     "text": [
      "1561\n"
     ]
    }
   ],
   "source": []
  },
  {
   "cell_type": "code",
   "execution_count": 76,
   "metadata": {},
   "outputs": [
    {
     "name": "stdout",
     "output_type": "stream",
     "text": [
      "{1: 1, 2: 1, 3: 1}\n"
     ]
    }
   ],
   "source": [
    "\n",
    "\n",
    "\n",
    "    "
   ]
  },
  {
   "cell_type": "code",
   "execution_count": 55,
   "metadata": {},
   "outputs": [],
   "source": []
  },
  {
   "cell_type": "code",
   "execution_count": null,
   "metadata": {},
   "outputs": [],
   "source": []
  },
  {
   "cell_type": "code",
   "execution_count": null,
   "metadata": {},
   "outputs": [],
   "source": []
  },
  {
   "cell_type": "code",
   "execution_count": null,
   "metadata": {},
   "outputs": [],
   "source": []
  },
  {
   "cell_type": "code",
   "execution_count": 137,
   "metadata": {
    "scrolled": true
   },
   "outputs": [
    {
     "name": "stdout",
     "output_type": "stream",
     "text": [
      "{}\n"
     ]
    },
    {
     "data": {
      "text/plain": [
       "__main__.Person"
      ]
     },
     "execution_count": 137,
     "metadata": {},
     "output_type": "execute_result"
    }
   ],
   "source": [
    "class Person:\n",
    "  height = {}\n",
    "  print(height)  \n",
    "  def __init__(self, name, age):\n",
    "    self.name = name\n",
    "    self.age = age\n",
    "\n",
    "Person"
   ]
  },
  {
   "cell_type": "code",
   "execution_count": 139,
   "metadata": {},
   "outputs": [],
   "source": [
    "Person.height['1'] = 234"
   ]
  },
  {
   "cell_type": "code",
   "execution_count": 141,
   "metadata": {},
   "outputs": [
    {
     "data": {
      "text/plain": [
       "{'1': 234}"
      ]
     },
     "execution_count": 141,
     "metadata": {},
     "output_type": "execute_result"
    }
   ],
   "source": [
    "Person.height"
   ]
  },
  {
   "cell_type": "code",
   "execution_count": 152,
   "metadata": {},
   "outputs": [],
   "source": [
    "def f(a=[]):\n",
    "    a.append(3)\n",
    "    print(a)"
   ]
  },
  {
   "cell_type": "code",
   "execution_count": 155,
   "metadata": {
    "scrolled": false
   },
   "outputs": [
    {
     "name": "stdout",
     "output_type": "stream",
     "text": [
      "[3, 3, 3]\n"
     ]
    }
   ],
   "source": [
    "f()"
   ]
  },
  {
   "cell_type": "code",
   "execution_count": 147,
   "metadata": {},
   "outputs": [
    {
     "name": "stdout",
     "output_type": "stream",
     "text": [
      "1\n"
     ]
    }
   ],
   "source": [
    "f(a=1)"
   ]
  },
  {
   "cell_type": "code",
   "execution_count": 148,
   "metadata": {},
   "outputs": [
    {
     "name": "stdout",
     "output_type": "stream",
     "text": [
      "{}\n"
     ]
    }
   ],
   "source": [
    "f()"
   ]
  },
  {
   "cell_type": "code",
   "execution_count": null,
   "metadata": {},
   "outputs": [],
   "source": []
  },
  {
   "cell_type": "code",
   "execution_count": null,
   "metadata": {},
   "outputs": [],
   "source": []
  },
  {
   "cell_type": "code",
   "execution_count": 18,
   "metadata": {},
   "outputs": [
    {
     "ename": "TypeError",
     "evalue": "namedtuple() missing 2 required positional arguments: 'typename' and 'field_names'",
     "output_type": "error",
     "traceback": [
      "\u001b[0;31m---------------------------------------------------------------------------\u001b[0m",
      "\u001b[0;31mTypeError\u001b[0m                                 Traceback (most recent call last)",
      "\u001b[0;32m<ipython-input-18-e0df0938b471>\u001b[0m in \u001b[0;36m<module>\u001b[0;34m()\u001b[0m\n\u001b[1;32m      1\u001b[0m \u001b[0;32mfrom\u001b[0m \u001b[0mcollections\u001b[0m \u001b[0;32mimport\u001b[0m \u001b[0mnamedtuple\u001b[0m\u001b[0;34m\u001b[0m\u001b[0;34m\u001b[0m\u001b[0m\n\u001b[0;32m----> 2\u001b[0;31m \u001b[0ma\u001b[0m \u001b[0;34m=\u001b[0m \u001b[0mnamedtuple\u001b[0m\u001b[0;34m(\u001b[0m\u001b[0;34m)\u001b[0m\u001b[0;34m\u001b[0m\u001b[0;34m\u001b[0m\u001b[0m\n\u001b[0m\u001b[1;32m      3\u001b[0m \u001b[0mprint\u001b[0m\u001b[0;34m(\u001b[0m\u001b[0ma\u001b[0m\u001b[0;34m,\u001b[0m \u001b[0mtype\u001b[0m\u001b[0;34m(\u001b[0m\u001b[0ma\u001b[0m\u001b[0;34m)\u001b[0m\u001b[0;34m)\u001b[0m\u001b[0;34m\u001b[0m\u001b[0;34m\u001b[0m\u001b[0m\n",
      "\u001b[0;31mTypeError\u001b[0m: namedtuple() missing 2 required positional arguments: 'typename' and 'field_names'"
     ]
    }
   ],
   "source": [
    "from collections import namedtuple\n",
    "a = namedtuple()\n",
    "print(a, type(a))"
   ]
  },
  {
   "cell_type": "code",
   "execution_count": 132,
   "metadata": {},
   "outputs": [
    {
     "ename": "UnboundLocalError",
     "evalue": "local variable 'a' referenced before assignment",
     "output_type": "error",
     "traceback": [
      "\u001b[0;31m---------------------------------------------------------------------------\u001b[0m",
      "\u001b[0;31mUnboundLocalError\u001b[0m                         Traceback (most recent call last)",
      "\u001b[0;32m<ipython-input-132-baa8b5e395c7>\u001b[0m in \u001b[0;36m<module>\u001b[0;34m()\u001b[0m\n\u001b[1;32m      5\u001b[0m         \u001b[0mprint\u001b[0m\u001b[0;34m(\u001b[0m\u001b[0ma\u001b[0m\u001b[0;34m)\u001b[0m\u001b[0;34m\u001b[0m\u001b[0;34m\u001b[0m\u001b[0m\n\u001b[1;32m      6\u001b[0m     \u001b[0;32mreturn\u001b[0m \u001b[0mf1\u001b[0m\u001b[0;34m\u001b[0m\u001b[0;34m\u001b[0m\u001b[0m\n\u001b[0;32m----> 7\u001b[0;31m \u001b[0mf\u001b[0m\u001b[0;34m(\u001b[0m\u001b[0;34m)\u001b[0m\u001b[0;34m(\u001b[0m\u001b[0;34m)\u001b[0m\u001b[0;34m\u001b[0m\u001b[0;34m\u001b[0m\u001b[0m\n\u001b[0m",
      "\u001b[0;32m<ipython-input-132-baa8b5e395c7>\u001b[0m in \u001b[0;36mf1\u001b[0;34m()\u001b[0m\n\u001b[1;32m      2\u001b[0m     \u001b[0ma\u001b[0m \u001b[0;34m=\u001b[0m \u001b[0;36m10\u001b[0m\u001b[0;34m\u001b[0m\u001b[0;34m\u001b[0m\u001b[0m\n\u001b[1;32m      3\u001b[0m     \u001b[0;32mdef\u001b[0m \u001b[0mf1\u001b[0m\u001b[0;34m(\u001b[0m\u001b[0;34m)\u001b[0m\u001b[0;34m:\u001b[0m\u001b[0;34m\u001b[0m\u001b[0;34m\u001b[0m\u001b[0m\n\u001b[0;32m----> 4\u001b[0;31m         \u001b[0ma\u001b[0m \u001b[0;34m+=\u001b[0m \u001b[0;36m1\u001b[0m\u001b[0;34m\u001b[0m\u001b[0;34m\u001b[0m\u001b[0m\n\u001b[0m\u001b[1;32m      5\u001b[0m         \u001b[0mprint\u001b[0m\u001b[0;34m(\u001b[0m\u001b[0ma\u001b[0m\u001b[0;34m)\u001b[0m\u001b[0;34m\u001b[0m\u001b[0;34m\u001b[0m\u001b[0m\n\u001b[1;32m      6\u001b[0m     \u001b[0;32mreturn\u001b[0m \u001b[0mf1\u001b[0m\u001b[0;34m\u001b[0m\u001b[0;34m\u001b[0m\u001b[0m\n",
      "\u001b[0;31mUnboundLocalError\u001b[0m: local variable 'a' referenced before assignment"
     ]
    }
   ],
   "source": [
    "def f():\n",
    "    a = 10\n",
    "    def f1():\n",
    "        a += 1\n",
    "        print(a)\n",
    "    return f1\n",
    "f()()"
   ]
  },
  {
   "cell_type": "code",
   "execution_count": 22,
   "metadata": {},
   "outputs": [],
   "source": [
    "class Person:\n",
    "  height = 170\n",
    "  def __init__(self, name, age):\n",
    "    self.name = name\n",
    "    self.age = age\n",
    "    \n",
    "  def getage(self):\n",
    "    return self.name"
   ]
  },
  {
   "cell_type": "code",
   "execution_count": 24,
   "metadata": {},
   "outputs": [
    {
     "data": {
      "text/plain": [
       "180"
      ]
     },
     "execution_count": 24,
     "metadata": {},
     "output_type": "execute_result"
    }
   ],
   "source": [
    "p = Person('tom', 12)\n",
    "p.height += 10\n",
    "p.height"
   ]
  },
  {
   "cell_type": "code",
   "execution_count": 17,
   "metadata": {},
   "outputs": [
    {
     "data": {
      "text/plain": [
       "['123', '']"
      ]
     },
     "execution_count": 17,
     "metadata": {},
     "output_type": "execute_result"
    }
   ],
   "source": [
    "re.split(' ', '123 ')"
   ]
  },
  {
   "cell_type": "code",
   "execution_count": 3,
   "metadata": {},
   "outputs": [
    {
     "name": "stdout",
     "output_type": "stream",
     "text": [
      "total 1544\r\n",
      "-rw-r--r--   1 jw  staff    37K Jul 29 21:55 0723循环作业及练习.ipynb\r\n",
      "-rw-r--r--   1 jw  staff    25K Aug  6 14:53 0726列表作业及练习.ipynb\r\n",
      "-rw-r--r--   1 jw  staff    59K Aug 12 22:24 0731字符串作业及练习.ipynb\r\n",
      "-rw-r--r--   1 jw  staff    30K Aug 10 20:28 0807set_mapping练习.ipynb\r\n",
      "-rw-r--r--   1 jw  staff   9.5K Aug 13 22:19 0809解析式与迭代器练习.ipynb\r\n",
      "-rw-r--r--   1 jw  staff    53K Aug 20 20:48 0812函数练习.ipynb\r\n",
      "-rw-r--r--   1 jw  staff    15K Aug 18 21:50 0816生成器练习.ipynb\r\n",
      "-rw-r--r--   1 jw  staff    10K Aug 18 21:17 0817高阶函数练习.ipynb\r\n",
      "-rw-r--r--   1 jw  staff    18K Aug 21 09:02 0818树练习.ipynb\r\n",
      "-rw-r--r--   1 jw  staff    22K Sep  2 16:06 0819装饰器练习.ipynb\r\n",
      "-rw-r--r--   1 jw  staff    19K Sep  2 11:46 0821函数参数注解.ipynb\r\n",
      "-rw-r--r--   1 jw  staff    65K Aug 28 15:40 0821装饰器及base64作业.ipynb\r\n",
      "-rw-r--r--   1 jw  staff    20K Sep  2 10:21 0828文件模式练习.ipynb\r\n",
      "-rw-r--r--@  1 jw  staff    18K Aug 31 13:35 0831第一次月考.ipynb\r\n",
      "-rw-r--r--   1 jw  staff    21K Sep  6 19:32 0910排序算法.ipynb\r\n",
      "-rw-r--r--   1 jw  staff    37K Sep 12 22:28 0911正则表达式练习.ipynb\r\n",
      "-rw-r--r--   1 jw  staff    15K Sep 14 14:43 0912.os_path.ipynb\r\n",
      "-rw-r--r--   1 jw  staff    17K Sep 16 08:55 0915_os作业.ipynb\r\n",
      "-rw-r--r--@  1 jw  staff    65K Aug 31 19:58 20190806_python基础笔记 copy.md\r\n",
      "-rw-r--r--@  1 jw  staff    83K Sep 12 21:55 20190806_python基础笔记.md\r\n",
      "-rwxr-xr-x@  1 jw  staff   617B Jul 24 17:20 \u001b[31m7.23python_垃圾回收_二进制_补码_循环.txt\u001b[m\u001b[m\r\n",
      "-rwxr-xr-x@  1 jw  staff   2.1K Jul 30 21:29 \u001b[31m7.30Django.txt\u001b[m\u001b[m\r\n",
      "-rw-r--r--   1 jw  staff    22K Sep  1 00:50 Untitled1.ipynb\r\n",
      "drwxr-xr-x  54 jw  staff   1.7K Sep 15 21:16 \u001b[34ma\u001b[m\u001b[m\r\n",
      "-rw-r--r--   1 jw  staff     2B Sep 12 15:15 afile\r\n",
      "-rw-r--r--@  1 jw  staff    67B Sep 14 14:07 cfp\r\n",
      "-rw-r--r--@  1 jw  staff   101B Sep 14 14:21 cfp.ini\r\n",
      "drwxr-xr-x  10 jw  staff   320B Sep 15 21:55 \u001b[34mdst\u001b[m\u001b[m\r\n",
      "drwxr-xr-x   2 jw  staff    64B Sep 12 14:20 \u001b[34mf\u001b[m\u001b[m\r\n",
      "-rw-r--r--@  1 jw  staff    15B Sep 14 10:20 nfile\r\n",
      "-r-xr--r--   1 jw  staff    13K Oct 23  2017 \u001b[31msample.txt\u001b[m\u001b[m\r\n",
      "-rw-r--r--@  1 jw  staff   185B Sep 15 21:59 test.ini\r\n",
      "-rw-r--r--   1 jw  staff   231B Sep 15 22:49 test.json\r\n",
      "drwxr-xr-x   3 jw  staff    96B Sep 15 19:05 \u001b[34mtmp\u001b[m\u001b[m\r\n",
      "-rw-r--r--   1 jw  staff    13K Aug  6 15:26 解构与封装练习.ipynb\r\n"
     ]
    }
   ],
   "source": [
    "!ls -lh"
   ]
  },
  {
   "cell_type": "code",
   "execution_count": 33,
   "metadata": {},
   "outputs": [
    {
     "name": "stdout",
     "output_type": "stream",
     "text": [
      "dict_items([('x', 1), ('y', 2)])\n",
      "('x', 1) ('y', 2)\n",
      "x 1\n",
      "x 1\n",
      "2 x\n",
      "('x', 3) ('y', 4)\n",
      "x 1\n",
      "['x', 1]\n",
      "('x', 6)\n",
      "y x\n"
     ]
    }
   ],
   "source": [
    "a = {'x':1, 'y':2}\n",
    "print(a.items())\n",
    "print(*a.items())\n",
    "print(*('x', 1))\n",
    "print(*['x', 1])\n",
    "print(*{'x', 2})\n",
    "print(*(('x', 3), ('y', 4)))\n",
    "print(*(['x', 1]))\n",
    "print(*[['x', 1]])\n",
    "#print(*{['x', 4]})\n",
    "print(*{('x', 6)})\n",
    "print(*{'x', 'y'})"
   ]
  },
  {
   "cell_type": "code",
   "execution_count": 35,
   "metadata": {},
   "outputs": [
    {
     "name": "stdout",
     "output_type": "stream",
     "text": [
      "x 1\n",
      "x 1\n",
      "1 x\n"
     ]
    }
   ],
   "source": [
    "print(*(['x', 1]))\n",
    "print(*(('x', 1)))\n",
    "print(*({'x', 1}))"
   ]
  },
  {
   "cell_type": "code",
   "execution_count": 37,
   "metadata": {},
   "outputs": [
    {
     "name": "stdout",
     "output_type": "stream",
     "text": [
      "['x', 1]\n",
      "('x', 1)\n",
      "{1, 'x'}\n"
     ]
    }
   ],
   "source": [
    "print(*[['x', 1]])\n",
    "print(*[('x', 1)])\n",
    "print(*[{'x', 1}])"
   ]
  },
  {
   "cell_type": "code",
   "execution_count": 39,
   "metadata": {},
   "outputs": [
    {
     "name": "stdout",
     "output_type": "stream",
     "text": [
      "('x', 1)\n"
     ]
    }
   ],
   "source": [
    "#print(*{['x', 1]})\n",
    "print(*{('x', 1)})\n",
    "#print(*{{'x', 1}}])"
   ]
  },
  {
   "cell_type": "markdown",
   "metadata": {},
   "source": [
    "### 4.去掉停用词，要求全部代码使用函数封装，并完成函数调用"
   ]
  },
  {
   "cell_type": "code",
   "execution_count": null,
   "metadata": {},
   "outputs": [],
   "source": []
  },
  {
   "cell_type": "code",
   "execution_count": null,
   "metadata": {},
   "outputs": [],
   "source": []
  },
  {
   "cell_type": "markdown",
   "metadata": {},
   "source": [
    "### 5.配置文件转换,有一个配置文件，将其转换成json格式"
   ]
  },
  {
   "cell_type": "code",
   "execution_count": 260,
   "metadata": {},
   "outputs": [],
   "source": [
    "import configparser\n",
    "import json"
   ]
  },
  {
   "cell_type": "code",
   "execution_count": 304,
   "metadata": {
    "scrolled": true
   },
   "outputs": [
    {
     "name": "stdout",
     "output_type": "stream",
     "text": [
      "<class 'str'> {\"DEFAULT\": {\"a\": \"test\"}, \"mysql\": {\"default-character-set\": \"utf8\", \"a\": \"1000\"}, \"mysqld\": {\"datadir\": \"/dbserver/data\", \"port\": \"33060\", \"character-set-server\": \"utf8\", \"sql_mode\": \"NO_ENGINE_SUBSTITUTION,STRICT_TRANS_TABLES\"}}\n",
      "\n",
      "\n",
      "<class 'dict'> {'DEFAULT': {'a': 'test'}, 'mysql': {'default-character-set': 'utf8', 'a': '1000'}, 'mysqld': {'datadir': '/dbserver/data', 'port': '33060', 'character-set-server': 'utf8', 'sql_mode': 'NO_ENGINE_SUBSTITUTION,STRICT_TRANS_TABLES'}}\n"
     ]
    }
   ],
   "source": [
    "cfp = configparser.ConfigParser()\n",
    "cfp.read('test.ini')\n",
    "# print(cfp.sections())\n",
    "# print(cfp.default_section, type(cfp.default_section))\n",
    "# print(cfp.defaults())\n",
    "#print(cfp._sections)\n",
    "(k1, v1) = (cfp.default_section, cfp.defaults())\n",
    "dict1 = dict({k1:dict(v1)})\n",
    "a = map(lambda x,y:{x : dict(y)}, cfp._sections.keys(), cfp._sections.values())\n",
    "for i in a:\n",
    "    dict1.update(i)\n",
    "#print(dict1, type(dict1))\n",
    "# s = json.dumps(dict1)\n",
    "# print(s, type(s))\n",
    "with open('test.json', 'w', encoding='utf8') as f:\n",
    "    s = json.dumps(dict1)\n",
    "    f.write(s)\n",
    "    \n",
    "with open('test.json', 'r', encoding='utf8') as f:\n",
    "    s = f.read()\n",
    "    print(type(s), s, end='\\n\\n\\n')\n",
    "    dict1 = json.loads(s, encoding='utf8')\n",
    "    print(type(dict1), dict1)\n",
    "    "
   ]
  },
  {
   "cell_type": "code",
   "execution_count": 293,
   "metadata": {},
   "outputs": [
    {
     "name": "stdout",
     "output_type": "stream",
     "text": [
      "{'mysql': {'default-character-set': 'utf8', 'a': '1000'}, 'mysqld': {'datadir': '/dbserver/data', 'port': '33060', 'character-set-server': 'utf8', 'sql_mode': 'NO_ENGINE_SUBSTITUTION,STRICT_TRANS_TABLES'}}\n"
     ]
    }
   ],
   "source": [
    "a = map(lambda x,y:{x : dict(y)}, cfp._sections.keys(), cfp._sections.values())\n",
    "b = {}\n",
    "for i in a:\n",
    "    b.update(i)\n",
    "print(b)"
   ]
  },
  {
   "cell_type": "code",
   "execution_count": null,
   "metadata": {},
   "outputs": [],
   "source": []
  },
  {
   "cell_type": "code",
   "execution_count": null,
   "metadata": {},
   "outputs": [],
   "source": []
  },
  {
   "cell_type": "code",
   "execution_count": 146,
   "metadata": {},
   "outputs": [
    {
     "data": {
      "text/plain": [
       "['a', 'd', 'a']"
      ]
     },
     "execution_count": 146,
     "metadata": {},
     "output_type": "execute_result"
    }
   ],
   "source": [
    "import random\n",
    "random.choices('abcd', k=3)\n"
   ]
  },
  {
   "cell_type": "code",
   "execution_count": null,
   "metadata": {},
   "outputs": [],
   "source": []
  },
  {
   "cell_type": "code",
   "execution_count": 90,
   "metadata": {},
   "outputs": [
    {
     "name": "stdout",
     "output_type": "stream",
     "text": [
      "/bin/sh: tree: command not found\r\n"
     ]
    }
   ],
   "source": [
    "!tree"
   ]
  },
  {
   "cell_type": "code",
   "execution_count": null,
   "metadata": {},
   "outputs": [],
   "source": []
  },
  {
   "cell_type": "code",
   "execution_count": null,
   "metadata": {},
   "outputs": [],
   "source": []
  },
  {
   "cell_type": "code",
   "execution_count": null,
   "metadata": {},
   "outputs": [],
   "source": []
  },
  {
   "cell_type": "code",
   "execution_count": null,
   "metadata": {},
   "outputs": [],
   "source": []
  },
  {
   "cell_type": "code",
   "execution_count": null,
   "metadata": {},
   "outputs": [],
   "source": []
  }
 ],
 "metadata": {
  "kernelspec": {
   "display_name": "Python 3",
   "language": "python",
   "name": "python3"
  },
  "language_info": {
   "codemirror_mode": {
    "name": "ipython",
    "version": 3
   },
   "file_extension": ".py",
   "mimetype": "text/x-python",
   "name": "python",
   "nbconvert_exporter": "python",
   "pygments_lexer": "ipython3",
   "version": "3.6.8"
  }
 },
 "nbformat": 4,
 "nbformat_minor": 2
}
