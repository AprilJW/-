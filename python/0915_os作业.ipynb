{
 "cells": [
  {
   "cell_type": "markdown",
   "metadata": {},
   "source": [
    "### 1.指定一个源文件，实现copy到目标目录\n",
    "### 例如：把/tmp.txt拷贝到/tmp/test1.txt"
   ]
  },
  {
   "cell_type": "code",
   "execution_count": 4,
   "metadata": {},
   "outputs": [],
   "source": [
    "import os\n",
    "from os import path\n",
    "from pathlib import Path"
   ]
  },
  {
   "cell_type": "code",
   "execution_count": 5,
   "metadata": {},
   "outputs": [
    {
     "name": "stdout",
     "output_type": "stream",
     "text": [
      "/Users/jw/Projects/python23/magedu/python\n"
     ]
    }
   ],
   "source": [
    "print(os.getcwd())"
   ]
  },
  {
   "cell_type": "code",
   "execution_count": 215,
   "metadata": {},
   "outputs": [],
   "source": [
    "basedir = '/Users/jw/Projects/python23/magedu/python'\n",
    "src = os.path.join(basedir, 'tmp/test.txt')\n",
    "dst = os.path.join(basedir, 'tmp/test1.txt')\n",
    "def copyobject(file1, file2, maxnum=2):    \n",
    "    if not path.exists(file2):\n",
    "        Path(file2).parent.mkdir(parents=True, exist_ok=True)\n",
    "        \n",
    "    with open(file1, 'r') as f1:\n",
    "        with open(file2, 'a') as f2:\n",
    "            while 1:                \n",
    "                src = f1.read(maxnum)\n",
    "                if not src:\n",
    "                    break\n",
    "                f2.write(src)\n",
    "copyobject(src, dst, 2)         "
   ]
  },
  {
   "cell_type": "code",
   "execution_count": 87,
   "metadata": {},
   "outputs": [],
   "source": [
    "# 方法2参考官网\n",
    "basedir = '/Users/jw/Projects/python23/magedu/python'\n",
    "src = os.path.join(basedir, 'tmp/test.txt')\n",
    "dst = os.path.join(basedir, 'tmp/test1.txt')\n",
    "def copyobject(file1, file2, maxnum=2):    \n",
    "    if not path.exists(file2):\n",
    "        Path(file2).parent.mkdir(parents=True, exist_ok=True)\n",
    "        \n",
    "    with open(file1, 'r') as f1:\n",
    "        with open(file2, 'a') as f2:\n",
    "            while 1:                \n",
    "                src = f1.read(maxnum)\n",
    "                if not src:\n",
    "                    break\n",
    "                f2.write(src)\n",
    "copyobject(src, dst, 2)               "
   ]
  },
  {
   "cell_type": "code",
   "execution_count": 77,
   "metadata": {},
   "outputs": [],
   "source": [
    "!rm -rf tmp/test1.txt"
   ]
  },
  {
   "cell_type": "code",
   "execution_count": 13,
   "metadata": {},
   "outputs": [],
   "source": [
    "import shutil"
   ]
  },
  {
   "cell_type": "code",
   "execution_count": 32,
   "metadata": {},
   "outputs": [
    {
     "data": {
      "text/plain": [
       "'tmp/test1.txt'"
      ]
     },
     "execution_count": 32,
     "metadata": {},
     "output_type": "execute_result"
    }
   ],
   "source": [
    "shutil.copy('tmp/test.txt', 'tmp/test1.txt')"
   ]
  },
  {
   "cell_type": "code",
   "execution_count": 45,
   "metadata": {
    "scrolled": true
   },
   "outputs": [
    {
     "name": "stdout",
     "output_type": "stream",
     "text": [
      "total 0\r\n",
      "-rw-r--r--  1 jw  staff  0 Sep 15 16:40 test.txt\r\n",
      "-rw-r--r--  1 jw  staff  0 Sep 15 16:53 test1.txt\r\n"
     ]
    }
   ],
   "source": [
    "!ls -l tmp/"
   ]
  },
  {
   "cell_type": "code",
   "execution_count": 24,
   "metadata": {},
   "outputs": [
    {
     "name": "stdout",
     "output_type": "stream",
     "text": [
      "16777220 4010967 -rw-r--r-- 1 jw staff 0 3 \"Sep 15 16:22:13 2019\" \"Sep 15 16:22:12 2019\" \"Sep 15 16:22:12 2019\" \"Sep 15 16:13:48 2019\" 4194304 8 0 tmp/test1.txt\r\n"
     ]
    }
   ],
   "source": [
    "!stat tmp/test1.txt"
   ]
  },
  {
   "cell_type": "code",
   "execution_count": 25,
   "metadata": {},
   "outputs": [
    {
     "data": {
      "text/plain": [
       "'tmp/test1.txt'"
      ]
     },
     "execution_count": 25,
     "metadata": {},
     "output_type": "execute_result"
    }
   ],
   "source": [
    "shutil.copy2('tmp/test.txt', 'tmp/test1.txt')"
   ]
  },
  {
   "cell_type": "code",
   "execution_count": 26,
   "metadata": {},
   "outputs": [
    {
     "name": "stdout",
     "output_type": "stream",
     "text": [
      "total 16\r\n",
      "-rw-r--r--  1 jw  staff  3 Sep 15 16:13 test.txt\r\n",
      "-rw-r--r--  1 jw  staff  3 Sep 15 16:13 test1.txt\r\n"
     ]
    }
   ],
   "source": [
    "!ls -l tmp/"
   ]
  },
  {
   "cell_type": "code",
   "execution_count": null,
   "metadata": {},
   "outputs": [],
   "source": [
    "# 使用copy2两个文件的时间为什么不完全一样"
   ]
  },
  {
   "cell_type": "code",
   "execution_count": 27,
   "metadata": {
    "scrolled": true
   },
   "outputs": [
    {
     "name": "stdout",
     "output_type": "stream",
     "text": [
      "16777220 4010967 -rw-r--r-- 1 jw staff 0 3 \"Sep 15 16:27:47 2019\" \"Sep 15 16:13:48 2019\" \"Sep 15 16:27:45 2019\" \"Sep 15 16:13:48 2019\" 4194304 8 0 tmp/test1.txt\r\n"
     ]
    }
   ],
   "source": [
    "!stat tmp/test1.txt "
   ]
  },
  {
   "cell_type": "code",
   "execution_count": 28,
   "metadata": {},
   "outputs": [
    {
     "name": "stdout",
     "output_type": "stream",
     "text": [
      "16777220 4010857 -rw-r--r-- 1 jw staff 0 3 \"Sep 15 16:27:45 2019\" \"Sep 15 16:13:48 2019\" \"Sep 15 16:13:48 2019\" \"Sep 15 16:08:01 2019\" 4194304 8 0 tmp/test.txt\r\n"
     ]
    }
   ],
   "source": [
    "!stat tmp/test.txt"
   ]
  },
  {
   "cell_type": "code",
   "execution_count": 1,
   "metadata": {},
   "outputs": [],
   "source": [
    "!mkdir tmp"
   ]
  },
  {
   "cell_type": "code",
   "execution_count": 3,
   "metadata": {},
   "outputs": [],
   "source": [
    "!touch tmp/test.txt"
   ]
  },
  {
   "cell_type": "code",
   "execution_count": 4,
   "metadata": {},
   "outputs": [
    {
     "name": "stdout",
     "output_type": "stream",
     "text": [
      "tmp/test.txt\r\n"
     ]
    }
   ],
   "source": [
    "!ls tmp/test.txt"
   ]
  },
  {
   "cell_type": "code",
   "execution_count": 80,
   "metadata": {},
   "outputs": [],
   "source": [
    "with open('tmp/test.txt', 'w') as f:\n",
    "    f.write('\\n'.join(('123', '456', '789', '101112', 'abc', 'def')))"
   ]
  },
  {
   "cell_type": "code",
   "execution_count": 81,
   "metadata": {
    "scrolled": true
   },
   "outputs": [
    {
     "name": "stdout",
     "output_type": "stream",
     "text": [
      "123\r\n",
      "456\r\n",
      "789\r\n",
      "101112\r\n",
      "abc\r\n",
      "def"
     ]
    }
   ],
   "source": [
    "!cat tmp/test.txt"
   ]
  },
  {
   "cell_type": "code",
   "execution_count": 88,
   "metadata": {
    "scrolled": true
   },
   "outputs": [
    {
     "name": "stdout",
     "output_type": "stream",
     "text": [
      "123\r\n",
      "456\r\n",
      "789\r\n",
      "101112\r\n",
      "abc123\r\n",
      "456\r\n",
      "789\r\n",
      "101112\r\n",
      "abc\r\n",
      "def123\r\n",
      "456\r\n",
      "789\r\n",
      "101112\r\n",
      "abc\r\n",
      "def"
     ]
    }
   ],
   "source": [
    "!cat tmp/test1.txt"
   ]
  },
  {
   "cell_type": "markdown",
   "metadata": {},
   "source": [
    "### 2. 复制目录\n",
    "选择一个已存在的目录作为当前目录，\n",
    "在其下创建a/b/c/d这样的子目录，并在每一个层级生成50个(各个层级一共生成50)\n",
    "普通文件，要求文件名由随机4个小写字母组成\n",
    "\n",
    "将a目录下所有内容复制到当前工作目录dst目录下，并且只复制\n",
    "以x,y,z开头的文件"
   ]
  },
  {
   "cell_type": "code",
   "execution_count": null,
   "metadata": {},
   "outputs": [],
   "source": []
  },
  {
   "cell_type": "code",
   "execution_count": 220,
   "metadata": {},
   "outputs": [],
   "source": [
    "import random\n",
    "def genedirsandfiles(dirs: 'a/b/c/d'):\n",
    "    path1 = Path(dirs)\n",
    "    path1.mkdir(parents=True, exist_ok=True)\n",
    "    newparents = [path1] + [parent for parent in path1.parents if str(parent) != '.']\n",
    "    #print(newparents)\n",
    "    for path2 in newparents:\n",
    "        alph = ''.join(chr(i) for i in range(97,123))\n",
    "        for i in range(50):\n",
    "            name = ''.join(random.choices(alph, k=4))\n",
    "            with open('{}/{}.txt'.format(path2, name), 'w', encoding='utf8') as f:\n",
    "                pass\n",
    "genedirsandfiles('a/b/c/d')   "
   ]
  },
  {
   "cell_type": "code",
   "execution_count": 194,
   "metadata": {},
   "outputs": [],
   "source": [
    "import os\n",
    "import re"
   ]
  },
  {
   "cell_type": "code",
   "execution_count": 253,
   "metadata": {
    "scrolled": true
   },
   "outputs": [],
   "source": [
    "def copyobject(file1, file2, maxnum):    \n",
    "    if not path.exists(file2):\n",
    "        Path(file2).parent.mkdir(parents=True, exist_ok=True)\n",
    "        \n",
    "    with open(file1, 'rb') as f1:        \n",
    "        with open(file2, 'ab') as f2:\n",
    "            src = f1.read(maxnum)\n",
    "            while src:\n",
    "                src = f1.read(maxnum)\n",
    "                f2.write(src)\n",
    "\n",
    "            \n",
    "def simplycopy(src, dst):\n",
    "    copyobject(src, dst, maxnum=4*1024)\n",
    "\n",
    "def ignore(src_dir):\n",
    "    names = os.listdir(src_dir)\n",
    "    ignore_file_set = set()\n",
    "    for name in names:\n",
    "        regex = re.compile('[xyz]')       \n",
    "        if not regex.match(name):\n",
    "            src_file = Path() / src_dir / name\n",
    "            ignore_file_set.add(src_file) \n",
    "    return ignore_file_set\n",
    "    \n",
    "def copytree(src, dst, ignore=None, copy=simplycopy):\n",
    "    \n",
    "    if isinstance(dst, str):\n",
    "        dst = Path() / dst        \n",
    "    dst.mkdir(parents=True, exist_ok=True)\n",
    "    \n",
    "    ignore_set = ignore(src)\n",
    "        \n",
    "    for i in os.listdir(src):\n",
    "        src_path = Path() / src / i\n",
    "        dst_path = Path() / dst / i\n",
    "        if src_path.is_file():\n",
    "            if not src_path in ignore_set:\n",
    "                copy(src_path, dst_path)\n",
    "        elif src_path.is_dir():\n",
    "            copytree(src_path, dst_path, ignore=ignore)\n",
    "    #return ignore_set       \n",
    "copytree('a', 'dst', ignore=ignore)"
   ]
  },
  {
   "cell_type": "markdown",
   "metadata": {},
   "source": [
    "### 3.统计一个文件词频，不区分大小写，显示top10"
   ]
  },
  {
   "cell_type": "code",
   "execution_count": 5,
   "metadata": {},
   "outputs": [],
   "source": [
    "import re"
   ]
  },
  {
   "cell_type": "code",
   "execution_count": 38,
   "metadata": {},
   "outputs": [],
   "source": [
    "stopwordset = {'a', 'is', 'by', 'the', 'next', 'if', 'true',\n",
    "              'os', 'be', 'used', 'always', 'such', 'so', 'into',\n",
    "              'instead', 'on', 'but', 'will', 'not', 'to', 'in',\n",
    "                   'into', 'of', '', 'for', 'and', 'or', 'any',\n",
    "               'this', 'one', 'it', 'with', 'a', 'an', 'after',\n",
    "               'as', 'some'}"
   ]
  },
  {
   "cell_type": "code",
   "execution_count": 89,
   "metadata": {},
   "outputs": [],
   "source": [
    "def makekey(line):\n",
    "    lenght = len(line)\n",
    "    start = 0\n",
    "    for i, char in enumerate(line):\n",
    "        if char in set(\"\"\"!@#$%^&*()\\—\\-=_+,.?\";':\\/»{}[]<>\\n| ''\"\"\"):\n",
    "            if start == i:\n",
    "                start += 1\n",
    "                continue\n",
    "            yield line[start:i]\n",
    "            start = i + 1 #假设i+1是需要的字符,即没在set里面\n",
    "    else:\n",
    "        if start < lenght: # 去除空格\n",
    "            yield line[start:]\n",
    "    \n",
    "def wordcount(filename):\n",
    "    with open(filename, 'r', encoding='utf-8') as f:\n",
    "        wordcount = {}\n",
    "        for line in f:\n",
    "            for i in makekey(line):\n",
    "                if i not in stopwordset:\n",
    "                    word = i.lower()\n",
    "                    wordcount[word] = wordcount.get(word, 0) + 1            \n",
    "    return wordcount    \n",
    "                "
   ]
  },
  {
   "cell_type": "code",
   "execution_count": 100,
   "metadata": {},
   "outputs": [],
   "source": [
    "from collections import defaultdict\n",
    "def makekey(line):\n",
    "    lenght = len(line)\n",
    "    start = 0\n",
    "    for i, char in enumerate(line):\n",
    "        if char in set(\"\"\"!@#$%^&*()\\—\\-=_+,.?\";':\\/»{}[]<>\\n| ''\"\"\"):\n",
    "            if start == i:\n",
    "                start += 1\n",
    "                continue\n",
    "            yield line[start:i]\n",
    "            start = i + 1 #假设i+1是需要的字符,即没在set里面\n",
    "    else:\n",
    "        if start < lenght: # 去除空格\n",
    "            yield line[start:]\n",
    "    \n",
    "def wordcount(filename):\n",
    "    with open(filename, 'r', encoding='utf-8') as f:\n",
    "        wordcount = defaultdict(lambda: 0)\n",
    "        for line in f:\n",
    "            for i in makekey(line):\n",
    "                if i not in stopwordset:\n",
    "                    word = i.lower()\n",
    "                    wordcount[word] += 1 #如果没找到word(lambda: 0)() + 1       \n",
    "    return wordcount    \n",
    "                "
   ]
  },
  {
   "cell_type": "code",
   "execution_count": 114,
   "metadata": {},
   "outputs": [],
   "source": [
    "from collections import defaultdict\n",
    "def makekey(line):\n",
    "    lenght = len(line)\n",
    "    start = 0\n",
    "    for i, char in enumerate(line):\n",
    "        if char in set(\"\"\"!@#$%^&*()\\—\\-=_+,.?\";':\\/»{}[]<>\\n| ''\"\"\"):\n",
    "            if start == i:\n",
    "                start += 1\n",
    "                continue\n",
    "            yield line[start:i]\n",
    "            start = i + 1 #假设i+1是需要的字符,即没在set里面\n",
    "    else:\n",
    "        if start < lenght: # 去除空格\n",
    "            yield line[start:]\n",
    "    \n",
    "def wordcount(filename):\n",
    "    with open(filename, 'r', encoding='utf-8') as f:\n",
    "        wordcount = defaultdict(lambda: 0)\n",
    "        for line in f:\n",
    "            # map函数的第一个参数接受一个参数\n",
    "            # str.lower 等价于 lambda x: str.lower(x)\n",
    "            # lambda x: x.lower()\n",
    "            for i in map(str.lower, makekey(line)):\n",
    "                if i not in stopwordset:\n",
    "                    wordcount[i] += 1 #如果没找到word(lambda: 0)() + 1       \n",
    "    return wordcount    \n",
    "                "
   ]
  },
  {
   "cell_type": "code",
   "execution_count": 123,
   "metadata": {
    "scrolled": true
   },
   "outputs": [],
   "source": [
    "from collections import defaultdict\n",
    "def makekey(line):\n",
    "    lenght = len(line)\n",
    "    start = 0\n",
    "    for i, char in enumerate(line):\n",
    "        if char in set(\"\"\"!@#$%^&*()\\—\\-=_+,.?\";':\\/»{}[]<>\\n| ''\"\"\"):\n",
    "            if start == i:\n",
    "                start += 1\n",
    "                continue\n",
    "            yield line[start:i]\n",
    "            start = i + 1 #假设i+1是需要的字符,即没在set里面\n",
    "    else:\n",
    "        if start < lenght: # 去除空格\n",
    "            yield line[start:]\n",
    "    \n",
    "def wordcount(filename):\n",
    "    with open(filename, 'r', encoding='utf-8') as f:\n",
    "        wordcount = defaultdict(lambda: 0)\n",
    "        for line in f:\n",
    "            for i in filter(lambda x: x not in stopwordset, makekey(line)):\n",
    "                i = i.lower()\n",
    "                wordcount[i] += 1 #如果没找到word(lambda: 0)() + 1       \n",
    "    return wordcount    \n",
    "                "
   ]
  },
  {
   "cell_type": "code",
   "execution_count": 124,
   "metadata": {
    "scrolled": false
   },
   "outputs": [
    {
     "data": {
      "text/plain": [
       "[('path', 138),\n",
       " ('return', 30),\n",
       " ('windows', 25),\n",
       " ('file', 24),\n",
       " ('pathname', 17),\n",
       " ('drive', 17),\n",
       " ('directory', 16),\n",
       " ('unix', 16),\n",
       " ('that', 15),\n",
       " ('on', 15)]"
      ]
     },
     "execution_count": 124,
     "metadata": {},
     "output_type": "execute_result"
    }
   ],
   "source": [
    "def top10(wordcount):\n",
    "    return sorted(wordcount.items(), key= lambda x: x[1], reverse=True)[:10]\n",
    "top10(wordcount('/Users/jw/Projects/python23/magedu/python/sample.txt'))\n"
   ]
  },
  {
   "cell_type": "code",
   "execution_count": null,
   "metadata": {},
   "outputs": [],
   "source": [
    "# 过滤出含有path的名字\n",
    "d = wordcount('/Users/jw/Projects/python23/magedu/python/sample.txt')\n",
    "print(*filter(lambda x: x.find('path') > -1, d.keys()))"
   ]
  },
  {
   "cell_type": "code",
   "execution_count": 110,
   "metadata": {},
   "outputs": [
    {
     "data": {
      "text/plain": [
       "-1"
      ]
     },
     "execution_count": 110,
     "metadata": {},
     "output_type": "execute_result"
    }
   ],
   "source": [
    "'asd'.find('3')"
   ]
  },
  {
   "cell_type": "code",
   "execution_count": 60,
   "metadata": {
    "scrolled": true
   },
   "outputs": [
    {
     "name": "stdout",
     "output_type": "stream",
     "text": [
      "Navigation\n",
      "\n",
      "['Navigation', '']\n"
     ]
    },
    {
     "data": {
      "text/plain": [
       "[('Navigation', 1)]"
      ]
     },
     "execution_count": 60,
     "metadata": {},
     "output_type": "execute_result"
    }
   ],
   "source": [
    "\n",
    "def countword(final_result):\n",
    "    wordcount = {}\n",
    "    for i in final_result:\n",
    "        if i not in stopwordset:\n",
    "            wordcount[i] = 1 + wordcount.get(i, 0)\n",
    "    return wordcount\n",
    "\n",
    "\n",
    " \n",
    "top10(countword(splitcontent('/Users/jw/Projects/python23/magedu/python/sample.txt')))\n"
   ]
  },
  {
   "cell_type": "code",
   "execution_count": 51,
   "metadata": {},
   "outputs": [
    {
     "name": "stdout",
     "output_type": "stream",
     "text": [
      "/Users/jw/Projects/python23/magedu/python\n"
     ]
    }
   ],
   "source": [
    "import os\n",
    "print(os.getcwd())"
   ]
  },
  {
   "cell_type": "code",
   "execution_count": 59,
   "metadata": {},
   "outputs": [
    {
     "name": "stdout",
     "output_type": "stream",
     "text": [
      "<class '_io.TextIOWrapper'>\n",
      "Navigation\n",
      "\n",
      "index modules | next | previous |  Python » 3.5.3 Documentation » The Python Standard Library » 11. File and Directory Access » \n",
      "\n",
      "11.2. os.path — Common pathname manipulations\n",
      "\n",
      "Source code: Lib/posixpath.py (for POSIX), Lib/ntpath.py (for Windows NT), and Lib/macpath.py (for Macintosh)\n",
      "\n"
     ]
    }
   ],
   "source": [
    "lambda x: x not in stopwordset"
   ]
  },
  {
   "cell_type": "code",
   "execution_count": 79,
   "metadata": {},
   "outputs": [
    {
     "name": "stdout",
     "output_type": "stream",
     "text": [
      "Navigation\n",
      "\n",
      "index modules | next | previous |  Python » 3.5.3 Documentation » The Python Standard Library » 11. File and Directory Access » \n",
      "\n",
      "11.2. os.path — Common pathname manipulations\n",
      "\n",
      "Source code: Lib/posixpath.py (for POSIX), Lib/ntpath.py (for Windows NT), and Lib/macpath.py (for Macintosh)\n",
      "\n",
      "\n",
      "\n",
      "\n",
      "\n",
      "--------------------------------------------------------------------------------\n",
      "\n",
      "\n",
      "\n",
      "This module implements some useful functions on pathnames. To read or write files see open(), and for accessing the filesystem see the os module. The path parameters can be passed as either strings, or bytes. Applications are encouraged to represent file names as (Unicode) character strings. Unfortunately, some file names may not be representable as strings on Unix, so applications that need to support arbitrary file names on Unix should use bytes objects to represent path names. Vice versa, using bytes objects cannot represent all file names on Windows (in the standard mbcs encoding), hence Windows applications should use string objects to access all files.\n",
      "\n",
      "\n",
      "\n",
      "Unlike a unix shell, Python does not do any automatic path expansions. Functions such as expanduser() and expandvars() can be invoked explicitly when an application desires shell-like path expansion. (See also the glob module.)\n",
      "\n",
      "\n",
      "\n",
      "See also\n",
      "\n",
      "The pathlib module offers high-level path objects.\n",
      "\n",
      "\n",
      "\n",
      "Note\n",
      "\n",
      "All of these functions accept either only bytes or only string objects as their parameters. The result is an object of the same type, if a path or file name is returned.\n",
      "\n",
      "\n",
      "\n",
      "Note\n",
      "\n",
      "Since different operating systems have different path name conventions, there are several versions of this module in the standard library. The os.path module is always the path module suitable for the operating system Python is running on, and therefore usable for local paths. However, you can also import and use the individual modules if you want to manipulate a path that is always in one of the different formats. They all have the same interface:\n",
      "\n",
      "\n",
      "\n",
      "posixpath for UNIX-style paths \n",
      "\n",
      "ntpath for Windows paths \n",
      "\n",
      "macpath for old-style MacOS paths \n",
      "\n",
      "os.path.abspath(path) \n",
      "\n",
      "Return a normalized absolutized version of the pathname path. On most platforms, this is equivalent to calling the function normpath() as follows: normpath(join(os.getcwd(), path)).\n",
      "\n",
      "\n",
      "\n",
      "os.path.basename(path) \n",
      "\n",
      "Return the base name of pathname path. This is the second element of the pair returned by passing path to the function split(). Note that the result of this function is different from the Unix basename program; where basename for '/foo/bar/' returns 'bar', the basename() function returns an empty string ('').\n",
      "\n",
      "\n",
      "\n",
      "os.path.commonpath(paths) \n",
      "\n",
      "Return the longest common sub-path of each pathname in the sequence paths. Raise ValueError if paths contains both absolute and relative pathnames, or if paths is empty. Unlike commonprefix(), this returns a valid path.\n",
      "\n",
      "\n",
      "\n",
      "Availability: Unix, Windows\n",
      "\n",
      "\n",
      "\n",
      "New in version 3.5.\n",
      "\n",
      "\n",
      "\n",
      "os.path.commonprefix(list) \n",
      "\n",
      "Return the longest path prefix (taken character-by-character) that is a prefix of all paths in list. If list is empty, return the empty string ('').\n",
      "\n",
      "\n",
      "\n",
      "Note\n",
      "\n",
      "This function may return invalid paths because it works a character at a time. To obtain a valid path, see commonpath().\n",
      "\n",
      "\n",
      "\n",
      ">>> os.path.commonprefix(['/usr/lib', '/usr/local/lib'])\n",
      "\n",
      "'/usr/l'\n",
      "\n",
      "\n",
      "\n",
      ">>> os.path.commonpath(['/usr/lib', '/usr/local/lib'])\n",
      "\n",
      "'/usr'\n",
      "\n",
      "os.path.dirname(path) \n",
      "\n",
      "Return the directory name of pathname path. This is the first element of the pair returned by passing path to the function split().\n",
      "\n",
      "\n",
      "\n",
      "os.path.exists(path) \n",
      "\n",
      "Return True if path refers to an existing path or an open file descriptor. Returns False for broken symbolic links. On some platforms, this function may return False if permission is not granted to execute os.stat() on the requested file, even if the path physically exists.\n",
      "\n",
      "\n",
      "\n",
      "Changed in version 3.3: path can now be an integer: True is returned if it is an open file descriptor, False otherwise.\n",
      "\n",
      "\n",
      "\n",
      "os.path.lexists(path) \n",
      "\n",
      "Return True if path refers to an existing path. Returns True for broken symbolic links. Equivalent to exists() on platforms lacking os.lstat().\n",
      "\n",
      "\n",
      "\n",
      "os.path.expanduser(path) \n",
      "\n",
      "On Unix and Windows, return the argument with an initial component of ~ or ~user replaced by that user‘s home directory.\n",
      "\n",
      "\n",
      "\n",
      "On Unix, an initial ~ is replaced by the environment variable HOME if it is set; otherwise the current user’s home directory is looked up in the password directory through the built-in module pwd. An initial ~user is looked up directly in the password directory.\n",
      "\n",
      "\n",
      "\n",
      "On Windows, HOME and USERPROFILE will be used if set, otherwise a combination of HOMEPATH and HOMEDRIVE will be used. An initial ~user is handled by stripping the last directory component from the created user path derived above.\n",
      "\n",
      "\n",
      "\n",
      "If the expansion fails or if the path does not begin with a tilde, the path is returned unchanged.\n",
      "\n",
      "\n",
      "\n",
      "os.path.expandvars(path) \n",
      "\n",
      "Return the argument with environment variables expanded. Substrings of the form $name or ${name} are replaced by the value of environment variable name. Malformed variable names and references to non-existing variables are left unchanged.\n",
      "\n",
      "\n",
      "\n",
      "On Windows, %name% expansions are supported in addition to $name and ${name}.\n",
      "\n",
      "\n",
      "\n",
      "os.path.getatime(path) \n",
      "\n",
      "Return the time of last access of path. The return value is a number giving the number of seconds since the epoch (see the time module). Raise OSError if the file does not exist or is inaccessible.\n",
      "\n",
      "\n",
      "\n",
      "If os.stat_float_times() returns True, the result is a floating point number.\n",
      "\n",
      "\n",
      "\n",
      "os.path.getmtime(path) \n",
      "\n",
      "Return the time of last modification of path. The return value is a number giving the number of seconds since the epoch (see the time module). Raise OSError if the file does not exist or is inaccessible.\n",
      "\n",
      "\n",
      "\n",
      "If os.stat_float_times() returns True, the result is a floating point number.\n",
      "\n",
      "\n",
      "\n",
      "os.path.getctime(path) \n",
      "\n",
      "Return the system’s ctime which, on some systems (like Unix) is the time of the last metadata change, and, on others (like Windows), is the creation time for path. The return value is a number giving the number of seconds since the epoch (see the time module). Raise OSError if the file does not exist or is inaccessible.\n",
      "\n",
      "\n",
      "\n",
      "os.path.getsize(path) \n",
      "\n",
      "Return the size, in bytes, of path. Raise OSError if the file does not exist or is inaccessible.\n",
      "\n",
      "\n",
      "\n",
      "os.path.isabs(path) \n",
      "\n",
      "Return True if path is an absolute pathname. On Unix, that means it begins with a slash, on Windows that it begins with a (back)slash after chopping off a potential drive letter.\n",
      "\n",
      "\n",
      "\n",
      "os.path.isfile(path) \n",
      "\n",
      "Return True if path is an existing regular file. This follows symbolic links, so both islink() and isfile() can be true for the same path.\n",
      "\n",
      "\n",
      "\n",
      "os.path.isdir(path) \n",
      "\n",
      "Return True if path is an existing directory. This follows symbolic links, so both islink() and isdir() can be true for the same path.\n",
      "\n",
      "\n",
      "\n",
      "os.path.islink(path) \n",
      "\n",
      "Return True if path refers to a directory entry that is a symbolic link. Always False if symbolic links are not supported by the Python runtime.\n",
      "\n",
      "\n",
      "\n",
      "os.path.ismount(path) \n",
      "\n",
      "Return True if pathname path is a mount point: a point in a file system where a different file system has been mounted. On POSIX, the function checks whether path‘s parent, path/.., is on a different device than path, or whether path/.. and path point to the same i-node on the same device — this should detect mount points for all Unix and POSIX variants. On Windows, a drive letter root and a share UNC are always mount points, and for any other path GetVolumePathName is called to see if it is different from the input path.\n",
      "\n",
      "\n",
      "\n",
      "New in version 3.4: Support for detecting non-root mount points on Windows.\n",
      "\n",
      "\n",
      "\n",
      "os.path.join(path, *paths) \n",
      "\n",
      "Join one or more path components intelligently. The return value is the concatenation of path and any members of *paths with exactly one directory separator (os.sep) following each non-empty part except the last, meaning that the result will only end in a separator if the last part is empty. If a component is an absolute path, all previous components are thrown away and joining continues from the absolute path component.\n",
      "\n",
      "\n",
      "\n",
      "On Windows, the drive letter is not reset when an absolute path component (e.g., r'\\foo') is encountered. If a component contains a drive letter, all previous components are thrown away and the drive letter is reset. Note that since there is a current directory for each drive, os.path.join(\"c:\", \"foo\") represents a path relative to the current directory on drive C: (c:foo), not c:\\foo.\n",
      "\n",
      "\n",
      "\n",
      "os.path.normcase(path) \n",
      "\n",
      "Normalize the case of a pathname. On Unix and Mac OS X, this returns the path unchanged; on case-insensitive filesystems, it converts the path to lowercase. On Windows, it also converts forward slashes to backward slashes. Raise a TypeError if the type of path is not str or bytes.\n",
      "\n",
      "\n",
      "\n",
      "os.path.normpath(path) \n",
      "\n",
      "Normalize a pathname by collapsing redundant separators and up-level references so that A//B, A/B/, A/./B and A/foo/../B all become A/B. This string manipulation may change the meaning of a path that contains symbolic links. On Windows, it converts forward slashes to backward slashes. To normalize case, use normcase().\n",
      "\n",
      "\n",
      "\n",
      "os.path.realpath(path) \n",
      "\n",
      "Return the canonical path of the specified filename, eliminating any symbolic links encountered in the path (if they are supported by the operating system).\n",
      "\n",
      "\n",
      "\n",
      "os.path.relpath(path, start=os.curdir) \n",
      "\n",
      "Return a relative filepath to path either from the current directory or from an optional start directory. This is a path computation: the filesystem is not accessed to confirm the existence or nature of path or start.\n",
      "\n",
      "\n",
      "\n",
      "start defaults to os.curdir.\n",
      "\n",
      "\n",
      "\n",
      "Availability: Unix, Windows.\n",
      "\n",
      "\n",
      "\n",
      "os.path.samefile(path1, path2) \n",
      "\n",
      "Return True if both pathname arguments refer to the same file or directory. This is determined by the device number and i-node number and raises an exception if an os.stat() call on either pathname fails.\n",
      "\n",
      "\n",
      "\n",
      "Availability: Unix, Windows.\n",
      "\n",
      "\n",
      "\n",
      "Changed in version 3.2: Added Windows support.\n",
      "\n",
      "\n",
      "\n",
      "Changed in version 3.4: Windows now uses the same implementation as all other platforms.\n",
      "\n",
      "\n",
      "\n",
      "os.path.sameopenfile(fp1, fp2) \n",
      "\n",
      "Return True if the file descriptors fp1 and fp2 refer to the same file.\n",
      "\n",
      "\n",
      "\n",
      "Availability: Unix, Windows.\n",
      "\n",
      "\n",
      "\n",
      "Changed in version 3.2: Added Windows support.\n",
      "\n",
      "\n",
      "\n",
      "os.path.samestat(stat1, stat2) \n",
      "\n",
      "Return True if the stat tuples stat1 and stat2 refer to the same file. These structures may have been returned by os.fstat(), os.lstat(), or os.stat(). This function implements the underlying comparison used by samefile() and sameopenfile().\n",
      "\n",
      "\n",
      "\n",
      "Availability: Unix, Windows.\n",
      "\n",
      "\n",
      "\n",
      "Changed in version 3.4: Added Windows support.\n",
      "\n",
      "\n",
      "\n",
      "os.path.split(path) \n",
      "\n",
      "Split the pathname path into a pair, (head, tail) where tail is the last pathname component and head is everything leading up to that. The tail part will never contain a slash; if path ends in a slash, tail will be empty. If there is no slash in path, head will be empty. If path is empty, both head and tail are empty. Trailing slashes are stripped from head unless it is the root (one or more slashes only). In all cases, join(head, tail) returns a path to the same location as path (but the strings may differ). Also see the functions dirname() and basename().\n",
      "\n",
      "\n",
      "\n",
      "os.path.splitdrive(path) \n",
      "\n",
      "Split the pathname path into a pair (drive, tail) where drive is either a mount point or the empty string. On systems which do not use drive specifications, drive will always be the empty string. In all cases, drive + tail will be the same as path.\n",
      "\n",
      "\n",
      "\n",
      "On Windows, splits a pathname into drive/UNC sharepoint and relative path.\n",
      "\n",
      "\n",
      "\n",
      "If the path contains a drive letter, drive will contain everything up to and including the colon. e.g. splitdrive(\"c:/dir\") returns (\"c:\", \"/dir\")\n",
      "\n",
      "\n",
      "\n",
      "If the path contains a UNC path, drive will contain the host name and share, up to but not including the fourth separator. e.g. splitdrive(\"//host/computer/dir\") returns (\"//host/computer\", \"/dir\")\n",
      "\n",
      "\n",
      "\n",
      "os.path.splitext(path) \n",
      "\n",
      "Split the pathname path into a pair (root, ext) such that root + ext == path, and ext is empty or begins with a period and contains at most one period. Leading periods on the basename are ignored; splitext('.cshrc') returns ('.cshrc', '').\n",
      "\n",
      "\n",
      "\n",
      "os.path.splitunc(path) \n",
      "\n",
      "Deprecated since version 3.1: Use splitdrive instead.\n",
      "\n",
      "\n",
      "\n",
      "Split the pathname path into a pair (unc, rest) so that unc is the UNC mount point (such as r'\\\\host\\mount'), if present, and rest the rest of the path (such as r'\\path\\file.ext'). For paths containing drive letters, unc will always be the empty string.\n",
      "\n",
      "\n",
      "\n",
      "Availability: Windows.\n",
      "\n",
      "\n",
      "\n",
      "os.path.supports_unicode_filenames \n",
      "\n",
      "True if arbitrary Unicode strings can be used as file names (within limitations imposed by the file system).\n",
      "\n",
      "Navigation\n",
      "\n",
      "index modules | next | previous |  Python » 3.5.3 Documentation » The Python Standard Library » 11. File and Directory Access » \n",
      "\n",
      "© Copyright 2001-2017, Python Software Foundation. \n",
      "\n",
      "The Python Software Foundation is a non-profit corporation. Please donate. \n",
      "\n",
      "Last updated on Jan 16, 2017. Found a bug? \n",
      "\n",
      "Created using Sphinx 1.3.1. \n"
     ]
    }
   ],
   "source": [
    "with open('sample.txt', 'r', encoding='utf8') as f:\n",
    "    for line in f:\n",
    "        print(line)"
   ]
  },
  {
   "cell_type": "code",
   "execution_count": null,
   "metadata": {},
   "outputs": [],
   "source": []
  },
  {
   "cell_type": "code",
   "execution_count": null,
   "metadata": {},
   "outputs": [],
   "source": []
  },
  {
   "cell_type": "code",
   "execution_count": 45,
   "metadata": {},
   "outputs": [],
   "source": [
    "#!cat sample.txt"
   ]
  },
  {
   "cell_type": "code",
   "execution_count": null,
   "metadata": {},
   "outputs": [],
   "source": []
  },
  {
   "cell_type": "code",
   "execution_count": 35,
   "metadata": {},
   "outputs": [
    {
     "data": {
      "text/plain": [
       "23"
      ]
     },
     "execution_count": 35,
     "metadata": {},
     "output_type": "execute_result"
    }
   ],
   "source": [
    "a =  set(\"\"\"!@#$%^&*()-=_+,.?\";':\\/\"\"\")\n",
    "len(list(a))"
   ]
  },
  {
   "cell_type": "code",
   "execution_count": 36,
   "metadata": {},
   "outputs": [
    {
     "data": {
      "text/plain": [
       "[[]]"
      ]
     },
     "execution_count": 36,
     "metadata": {},
     "output_type": "execute_result"
    }
   ],
   "source": [
    "a = [1,2]\n",
    "b = []\n",
    "b.append(a[1:1])\n",
    "b"
   ]
  },
  {
   "cell_type": "code",
   "execution_count": null,
   "metadata": {},
   "outputs": [],
   "source": []
  },
  {
   "cell_type": "code",
   "execution_count": null,
   "metadata": {},
   "outputs": [],
   "source": [
    "\n"
   ]
  },
  {
   "cell_type": "code",
   "execution_count": null,
   "metadata": {},
   "outputs": [],
   "source": []
  },
  {
   "cell_type": "code",
   "execution_count": null,
   "metadata": {},
   "outputs": [],
   "source": []
  },
  {
   "cell_type": "code",
   "execution_count": null,
   "metadata": {},
   "outputs": [],
   "source": [
    "# 自己写的方法，达到了n的3次幂\n",
    "def splitcontent(filename):\n",
    "    with open(filename, 'r', encoding='utf8') as f:\n",
    "        contents = f.read()\n",
    "        regex = re.compile('[| »\\n\\.\\-,/\\(\\):;>~%\\$_\\*\\'\\'\\\"\\\"//=\\?\\—\\d\\[\\]\\{\\}\\\\\\+©]+')\n",
    "        result = (i.lower() for i in regex.split(contents))\n",
    "        return result\n",
    "    \n",
    "def removestopword(orglist, stopwordset):\n",
    "    for i in orglist:\n",
    "        if not i in stopwordset:          \n",
    "            yield i\n",
    "            \n",
    "def countword(final_result):\n",
    "    wordcount = {}\n",
    "    for i in final_result:\n",
    "        wordcount[i] = 1 + wordcount.get(i, 0)\n",
    "    return wordcount\n",
    "\n",
    "def topn(wordcount, n):\n",
    "    return sorted(wordcount.items(), key= lambda x: x[1], reverse=True)[:n]\n",
    " \n",
    "showtop10(countword(removestopword(splitcontent('sample.txt'), stopwordset)))"
   ]
  },
  {
   "cell_type": "code",
   "execution_count": 113,
   "metadata": {},
   "outputs": [
    {
     "name": "stdout",
     "output_type": "stream",
     "text": [
      "1397\n"
     ]
    }
   ],
   "source": [
    "with open(filename, 'r') as f:"
   ]
  },
  {
   "cell_type": "code",
   "execution_count": 99,
   "metadata": {},
   "outputs": [
    {
     "name": "stdout",
     "output_type": "stream",
     "text": [
      "1561\n"
     ]
    }
   ],
   "source": [
    "[0]"
   ]
  },
  {
   "cell_type": "code",
   "execution_count": 76,
   "metadata": {},
   "outputs": [
    {
     "name": "stdout",
     "output_type": "stream",
     "text": [
      "{1: 1, 2: 1, 3: 1}\n"
     ]
    }
   ],
   "source": [
    "def makekey(line:str):\n",
    "    chars = r\"\"\"!@#$%^&*(){}[]-+_\\/,.?~` \"\"\"\n",
    "    length = len(line)\n",
    "    ret = [None] * length\n",
    "    for i, c in enumerate(line):\n",
    "        if c not in chars:\n",
    "            ret[i] = ' '\n",
    "        else:\n",
    "            ret[i] = c.lower()\n",
    "    return ''.join(ret).split()\n",
    "\n",
    "    "
   ]
  },
  {
   "cell_type": "code",
   "execution_count": 6,
   "metadata": {},
   "outputs": [
    {
     "data": {
      "text/plain": [
       "[('a', 1), ('b', 2)]"
      ]
     },
     "execution_count": 6,
     "metadata": {},
     "output_type": "execute_result"
    }
   ],
   "source": [
    "dict1 = {'a':1, 'b':2}\n",
    "sorted(dict1.items(), key=lambda x: x)"
   ]
  },
  {
   "cell_type": "code",
   "execution_count": 15,
   "metadata": {},
   "outputs": [
    {
     "name": "stdout",
     "output_type": "stream",
     "text": [
      "01\n",
      "13\n",
      "21\n",
      "32\n",
      "41\n"
     ]
    }
   ],
   "source": [
    "import random\n",
    "for i in range(5):\n",
    "    print(str(i) + str(random.choice([1, 2, 3]))) "
   ]
  },
  {
   "cell_type": "code",
   "execution_count": null,
   "metadata": {},
   "outputs": [],
   "source": []
  },
  {
   "cell_type": "code",
   "execution_count": null,
   "metadata": {},
   "outputs": [],
   "source": []
  },
  {
   "cell_type": "code",
   "execution_count": 137,
   "metadata": {
    "scrolled": true
   },
   "outputs": [
    {
     "name": "stdout",
     "output_type": "stream",
     "text": [
      "{}\n"
     ]
    },
    {
     "data": {
      "text/plain": [
       "__main__.Person"
      ]
     },
     "execution_count": 137,
     "metadata": {},
     "output_type": "execute_result"
    }
   ],
   "source": [
    "class Person:\n",
    "  height = {}\n",
    "  print(height)  \n",
    "  def __init__(self, name, age):\n",
    "    self.name = name\n",
    "    self.age = age\n",
    "\n",
    "Person"
   ]
  },
  {
   "cell_type": "code",
   "execution_count": 139,
   "metadata": {},
   "outputs": [],
   "source": [
    "Person.height['1'] = 234"
   ]
  },
  {
   "cell_type": "code",
   "execution_count": 141,
   "metadata": {},
   "outputs": [
    {
     "data": {
      "text/plain": [
       "{'1': 234}"
      ]
     },
     "execution_count": 141,
     "metadata": {},
     "output_type": "execute_result"
    }
   ],
   "source": [
    "Person.height"
   ]
  },
  {
   "cell_type": "code",
   "execution_count": 152,
   "metadata": {},
   "outputs": [],
   "source": [
    "def f(a=[]):\n",
    "    a.append(3)\n",
    "    print(a)"
   ]
  },
  {
   "cell_type": "code",
   "execution_count": 155,
   "metadata": {
    "scrolled": false
   },
   "outputs": [
    {
     "name": "stdout",
     "output_type": "stream",
     "text": [
      "[3, 3, 3]\n"
     ]
    }
   ],
   "source": [
    "f()"
   ]
  },
  {
   "cell_type": "code",
   "execution_count": 147,
   "metadata": {},
   "outputs": [
    {
     "name": "stdout",
     "output_type": "stream",
     "text": [
      "1\n"
     ]
    }
   ],
   "source": [
    "f(a=1)"
   ]
  },
  {
   "cell_type": "code",
   "execution_count": 148,
   "metadata": {},
   "outputs": [
    {
     "name": "stdout",
     "output_type": "stream",
     "text": [
      "{}\n"
     ]
    }
   ],
   "source": [
    "f()"
   ]
  },
  {
   "cell_type": "code",
   "execution_count": null,
   "metadata": {},
   "outputs": [],
   "source": []
  },
  {
   "cell_type": "code",
   "execution_count": null,
   "metadata": {},
   "outputs": [],
   "source": []
  },
  {
   "cell_type": "code",
   "execution_count": 18,
   "metadata": {},
   "outputs": [
    {
     "ename": "TypeError",
     "evalue": "namedtuple() missing 2 required positional arguments: 'typename' and 'field_names'",
     "output_type": "error",
     "traceback": [
      "\u001b[0;31m---------------------------------------------------------------------------\u001b[0m",
      "\u001b[0;31mTypeError\u001b[0m                                 Traceback (most recent call last)",
      "\u001b[0;32m<ipython-input-18-e0df0938b471>\u001b[0m in \u001b[0;36m<module>\u001b[0;34m()\u001b[0m\n\u001b[1;32m      1\u001b[0m \u001b[0;32mfrom\u001b[0m \u001b[0mcollections\u001b[0m \u001b[0;32mimport\u001b[0m \u001b[0mnamedtuple\u001b[0m\u001b[0;34m\u001b[0m\u001b[0;34m\u001b[0m\u001b[0m\n\u001b[0;32m----> 2\u001b[0;31m \u001b[0ma\u001b[0m \u001b[0;34m=\u001b[0m \u001b[0mnamedtuple\u001b[0m\u001b[0;34m(\u001b[0m\u001b[0;34m)\u001b[0m\u001b[0;34m\u001b[0m\u001b[0;34m\u001b[0m\u001b[0m\n\u001b[0m\u001b[1;32m      3\u001b[0m \u001b[0mprint\u001b[0m\u001b[0;34m(\u001b[0m\u001b[0ma\u001b[0m\u001b[0;34m,\u001b[0m \u001b[0mtype\u001b[0m\u001b[0;34m(\u001b[0m\u001b[0ma\u001b[0m\u001b[0;34m)\u001b[0m\u001b[0;34m)\u001b[0m\u001b[0;34m\u001b[0m\u001b[0;34m\u001b[0m\u001b[0m\n",
      "\u001b[0;31mTypeError\u001b[0m: namedtuple() missing 2 required positional arguments: 'typename' and 'field_names'"
     ]
    }
   ],
   "source": [
    "from collections import namedtuple\n",
    "a = namedtuple()\n",
    "print(a, type(a))"
   ]
  },
  {
   "cell_type": "code",
   "execution_count": 132,
   "metadata": {},
   "outputs": [
    {
     "ename": "UnboundLocalError",
     "evalue": "local variable 'a' referenced before assignment",
     "output_type": "error",
     "traceback": [
      "\u001b[0;31m---------------------------------------------------------------------------\u001b[0m",
      "\u001b[0;31mUnboundLocalError\u001b[0m                         Traceback (most recent call last)",
      "\u001b[0;32m<ipython-input-132-baa8b5e395c7>\u001b[0m in \u001b[0;36m<module>\u001b[0;34m()\u001b[0m\n\u001b[1;32m      5\u001b[0m         \u001b[0mprint\u001b[0m\u001b[0;34m(\u001b[0m\u001b[0ma\u001b[0m\u001b[0;34m)\u001b[0m\u001b[0;34m\u001b[0m\u001b[0;34m\u001b[0m\u001b[0m\n\u001b[1;32m      6\u001b[0m     \u001b[0;32mreturn\u001b[0m \u001b[0mf1\u001b[0m\u001b[0;34m\u001b[0m\u001b[0;34m\u001b[0m\u001b[0m\n\u001b[0;32m----> 7\u001b[0;31m \u001b[0mf\u001b[0m\u001b[0;34m(\u001b[0m\u001b[0;34m)\u001b[0m\u001b[0;34m(\u001b[0m\u001b[0;34m)\u001b[0m\u001b[0;34m\u001b[0m\u001b[0;34m\u001b[0m\u001b[0m\n\u001b[0m",
      "\u001b[0;32m<ipython-input-132-baa8b5e395c7>\u001b[0m in \u001b[0;36mf1\u001b[0;34m()\u001b[0m\n\u001b[1;32m      2\u001b[0m     \u001b[0ma\u001b[0m \u001b[0;34m=\u001b[0m \u001b[0;36m10\u001b[0m\u001b[0;34m\u001b[0m\u001b[0;34m\u001b[0m\u001b[0m\n\u001b[1;32m      3\u001b[0m     \u001b[0;32mdef\u001b[0m \u001b[0mf1\u001b[0m\u001b[0;34m(\u001b[0m\u001b[0;34m)\u001b[0m\u001b[0;34m:\u001b[0m\u001b[0;34m\u001b[0m\u001b[0;34m\u001b[0m\u001b[0m\n\u001b[0;32m----> 4\u001b[0;31m         \u001b[0ma\u001b[0m \u001b[0;34m+=\u001b[0m \u001b[0;36m1\u001b[0m\u001b[0;34m\u001b[0m\u001b[0;34m\u001b[0m\u001b[0m\n\u001b[0m\u001b[1;32m      5\u001b[0m         \u001b[0mprint\u001b[0m\u001b[0;34m(\u001b[0m\u001b[0ma\u001b[0m\u001b[0;34m)\u001b[0m\u001b[0;34m\u001b[0m\u001b[0;34m\u001b[0m\u001b[0m\n\u001b[1;32m      6\u001b[0m     \u001b[0;32mreturn\u001b[0m \u001b[0mf1\u001b[0m\u001b[0;34m\u001b[0m\u001b[0;34m\u001b[0m\u001b[0m\n",
      "\u001b[0;31mUnboundLocalError\u001b[0m: local variable 'a' referenced before assignment"
     ]
    }
   ],
   "source": [
    "def f():\n",
    "    a = 10\n",
    "    def f1():\n",
    "        a += 1\n",
    "        print(a)\n",
    "    return f1\n",
    "f()()"
   ]
  },
  {
   "cell_type": "code",
   "execution_count": 22,
   "metadata": {},
   "outputs": [],
   "source": [
    "class Person:\n",
    "  height = 170\n",
    "  def __init__(self, name, age):\n",
    "    self.name = name\n",
    "    self.age = age\n",
    "    \n",
    "  def getage(self):\n",
    "    return self.name"
   ]
  },
  {
   "cell_type": "code",
   "execution_count": 24,
   "metadata": {},
   "outputs": [
    {
     "data": {
      "text/plain": [
       "180"
      ]
     },
     "execution_count": 24,
     "metadata": {},
     "output_type": "execute_result"
    }
   ],
   "source": [
    "p = Person('tom', 12)\n",
    "p.height += 10\n",
    "p.height"
   ]
  },
  {
   "cell_type": "code",
   "execution_count": 17,
   "metadata": {},
   "outputs": [
    {
     "data": {
      "text/plain": [
       "['123', '']"
      ]
     },
     "execution_count": 17,
     "metadata": {},
     "output_type": "execute_result"
    }
   ],
   "source": [
    "re.split(' ', '123 ')"
   ]
  },
  {
   "cell_type": "code",
   "execution_count": 3,
   "metadata": {},
   "outputs": [
    {
     "name": "stdout",
     "output_type": "stream",
     "text": [
      "total 1544\r\n",
      "-rw-r--r--   1 jw  staff    37K Jul 29 21:55 0723循环作业及练习.ipynb\r\n",
      "-rw-r--r--   1 jw  staff    25K Aug  6 14:53 0726列表作业及练习.ipynb\r\n",
      "-rw-r--r--   1 jw  staff    59K Aug 12 22:24 0731字符串作业及练习.ipynb\r\n",
      "-rw-r--r--   1 jw  staff    30K Aug 10 20:28 0807set_mapping练习.ipynb\r\n",
      "-rw-r--r--   1 jw  staff   9.5K Aug 13 22:19 0809解析式与迭代器练习.ipynb\r\n",
      "-rw-r--r--   1 jw  staff    53K Aug 20 20:48 0812函数练习.ipynb\r\n",
      "-rw-r--r--   1 jw  staff    15K Aug 18 21:50 0816生成器练习.ipynb\r\n",
      "-rw-r--r--   1 jw  staff    10K Aug 18 21:17 0817高阶函数练习.ipynb\r\n",
      "-rw-r--r--   1 jw  staff    18K Aug 21 09:02 0818树练习.ipynb\r\n",
      "-rw-r--r--   1 jw  staff    22K Sep  2 16:06 0819装饰器练习.ipynb\r\n",
      "-rw-r--r--   1 jw  staff    19K Sep  2 11:46 0821函数参数注解.ipynb\r\n",
      "-rw-r--r--   1 jw  staff    65K Aug 28 15:40 0821装饰器及base64作业.ipynb\r\n",
      "-rw-r--r--   1 jw  staff    20K Sep  2 10:21 0828文件模式练习.ipynb\r\n",
      "-rw-r--r--@  1 jw  staff    18K Aug 31 13:35 0831第一次月考.ipynb\r\n",
      "-rw-r--r--   1 jw  staff    21K Sep  6 19:32 0910排序算法.ipynb\r\n",
      "-rw-r--r--   1 jw  staff    37K Sep 12 22:28 0911正则表达式练习.ipynb\r\n",
      "-rw-r--r--   1 jw  staff    15K Sep 14 14:43 0912.os_path.ipynb\r\n",
      "-rw-r--r--   1 jw  staff    17K Sep 16 08:55 0915_os作业.ipynb\r\n",
      "-rw-r--r--@  1 jw  staff    65K Aug 31 19:58 20190806_python基础笔记 copy.md\r\n",
      "-rw-r--r--@  1 jw  staff    83K Sep 12 21:55 20190806_python基础笔记.md\r\n",
      "-rwxr-xr-x@  1 jw  staff   617B Jul 24 17:20 \u001b[31m7.23python_垃圾回收_二进制_补码_循环.txt\u001b[m\u001b[m\r\n",
      "-rwxr-xr-x@  1 jw  staff   2.1K Jul 30 21:29 \u001b[31m7.30Django.txt\u001b[m\u001b[m\r\n",
      "-rw-r--r--   1 jw  staff    22K Sep  1 00:50 Untitled1.ipynb\r\n",
      "drwxr-xr-x  54 jw  staff   1.7K Sep 15 21:16 \u001b[34ma\u001b[m\u001b[m\r\n",
      "-rw-r--r--   1 jw  staff     2B Sep 12 15:15 afile\r\n",
      "-rw-r--r--@  1 jw  staff    67B Sep 14 14:07 cfp\r\n",
      "-rw-r--r--@  1 jw  staff   101B Sep 14 14:21 cfp.ini\r\n",
      "drwxr-xr-x  10 jw  staff   320B Sep 15 21:55 \u001b[34mdst\u001b[m\u001b[m\r\n",
      "drwxr-xr-x   2 jw  staff    64B Sep 12 14:20 \u001b[34mf\u001b[m\u001b[m\r\n",
      "-rw-r--r--@  1 jw  staff    15B Sep 14 10:20 nfile\r\n",
      "-r-xr--r--   1 jw  staff    13K Oct 23  2017 \u001b[31msample.txt\u001b[m\u001b[m\r\n",
      "-rw-r--r--@  1 jw  staff   185B Sep 15 21:59 test.ini\r\n",
      "-rw-r--r--   1 jw  staff   231B Sep 15 22:49 test.json\r\n",
      "drwxr-xr-x   3 jw  staff    96B Sep 15 19:05 \u001b[34mtmp\u001b[m\u001b[m\r\n",
      "-rw-r--r--   1 jw  staff    13K Aug  6 15:26 解构与封装练习.ipynb\r\n"
     ]
    }
   ],
   "source": [
    "!ls -lh"
   ]
  },
  {
   "cell_type": "code",
   "execution_count": 33,
   "metadata": {},
   "outputs": [
    {
     "name": "stdout",
     "output_type": "stream",
     "text": [
      "dict_items([('x', 1), ('y', 2)])\n",
      "('x', 1) ('y', 2)\n",
      "x 1\n",
      "x 1\n",
      "2 x\n",
      "('x', 3) ('y', 4)\n",
      "x 1\n",
      "['x', 1]\n",
      "('x', 6)\n",
      "y x\n"
     ]
    }
   ],
   "source": [
    "a = {'x':1, 'y':2}\n",
    "print(a.items())\n",
    "print(*a.items())\n",
    "print(*('x', 1))\n",
    "print(*['x', 1])\n",
    "print(*{'x', 2})\n",
    "print(*(('x', 3), ('y', 4)))\n",
    "print(*(['x', 1]))\n",
    "print(*[['x', 1]])\n",
    "#print(*{['x', 4]})\n",
    "print(*{('x', 6)})\n",
    "print(*{'x', 'y'})"
   ]
  },
  {
   "cell_type": "code",
   "execution_count": 35,
   "metadata": {},
   "outputs": [
    {
     "name": "stdout",
     "output_type": "stream",
     "text": [
      "x 1\n",
      "x 1\n",
      "1 x\n"
     ]
    }
   ],
   "source": [
    "print(*(['x', 1]))\n",
    "print(*(('x', 1)))\n",
    "print(*({'x', 1}))"
   ]
  },
  {
   "cell_type": "code",
   "execution_count": 37,
   "metadata": {},
   "outputs": [
    {
     "name": "stdout",
     "output_type": "stream",
     "text": [
      "['x', 1]\n",
      "('x', 1)\n",
      "{1, 'x'}\n"
     ]
    }
   ],
   "source": [
    "print(*[['x', 1]])\n",
    "print(*[('x', 1)])\n",
    "print(*[{'x', 1}])"
   ]
  },
  {
   "cell_type": "code",
   "execution_count": 39,
   "metadata": {},
   "outputs": [
    {
     "name": "stdout",
     "output_type": "stream",
     "text": [
      "('x', 1)\n"
     ]
    }
   ],
   "source": [
    "#print(*{['x', 1]})\n",
    "print(*{('x', 1)})\n",
    "#print(*{{'x', 1}}])"
   ]
  },
  {
   "cell_type": "markdown",
   "metadata": {},
   "source": [
    "### 4.去掉停用词，要求全部代码使用函数封装，并完成函数调用"
   ]
  },
  {
   "cell_type": "code",
   "execution_count": null,
   "metadata": {},
   "outputs": [],
   "source": []
  },
  {
   "cell_type": "code",
   "execution_count": null,
   "metadata": {},
   "outputs": [],
   "source": []
  },
  {
   "cell_type": "markdown",
   "metadata": {},
   "source": [
    "### 5.配置文件转换,有一个配置文件，将其转换成json格式"
   ]
  },
  {
   "cell_type": "code",
   "execution_count": 260,
   "metadata": {},
   "outputs": [],
   "source": [
    "import configparser\n",
    "import json"
   ]
  },
  {
   "cell_type": "code",
   "execution_count": 304,
   "metadata": {
    "scrolled": true
   },
   "outputs": [
    {
     "name": "stdout",
     "output_type": "stream",
     "text": [
      "<class 'str'> {\"DEFAULT\": {\"a\": \"test\"}, \"mysql\": {\"default-character-set\": \"utf8\", \"a\": \"1000\"}, \"mysqld\": {\"datadir\": \"/dbserver/data\", \"port\": \"33060\", \"character-set-server\": \"utf8\", \"sql_mode\": \"NO_ENGINE_SUBSTITUTION,STRICT_TRANS_TABLES\"}}\n",
      "\n",
      "\n",
      "<class 'dict'> {'DEFAULT': {'a': 'test'}, 'mysql': {'default-character-set': 'utf8', 'a': '1000'}, 'mysqld': {'datadir': '/dbserver/data', 'port': '33060', 'character-set-server': 'utf8', 'sql_mode': 'NO_ENGINE_SUBSTITUTION,STRICT_TRANS_TABLES'}}\n"
     ]
    }
   ],
   "source": [
    "cfp = configparser.ConfigParser()\n",
    "cfp.read('test.ini')\n",
    "# print(cfp.sections())\n",
    "# print(cfp.default_section, type(cfp.default_section))\n",
    "# print(cfp.defaults())\n",
    "#print(cfp._sections)\n",
    "(k1, v1) = (cfp.default_section, cfp.defaults())\n",
    "dict1 = dict({k1:dict(v1)})\n",
    "a = map(lambda x,y:{x : dict(y)}, cfp._sections.keys(), cfp._sections.values())\n",
    "for i in a:\n",
    "    dict1.update(i)\n",
    "#print(dict1, type(dict1))\n",
    "# s = json.dumps(dict1)\n",
    "# print(s, type(s))\n",
    "with open('test.json', 'w', encoding='utf8') as f:\n",
    "    s = json.dumps(dict1)\n",
    "    f.write(s)\n",
    "    \n",
    "with open('test.json', 'r', encoding='utf8') as f:\n",
    "    s = f.read()\n",
    "    print(type(s), s, end='\\n\\n\\n')\n",
    "    dict1 = json.loads(s, encoding='utf8')\n",
    "    print(type(dict1), dict1)\n",
    "    "
   ]
  },
  {
   "cell_type": "code",
   "execution_count": 293,
   "metadata": {},
   "outputs": [
    {
     "name": "stdout",
     "output_type": "stream",
     "text": [
      "{'mysql': {'default-character-set': 'utf8', 'a': '1000'}, 'mysqld': {'datadir': '/dbserver/data', 'port': '33060', 'character-set-server': 'utf8', 'sql_mode': 'NO_ENGINE_SUBSTITUTION,STRICT_TRANS_TABLES'}}\n"
     ]
    }
   ],
   "source": [
    "a = map(lambda x,y:{x : dict(y)}, cfp._sections.keys(), cfp._sections.values())\n",
    "b = {}\n",
    "for i in a:\n",
    "    b.update(i)\n",
    "print(b)"
   ]
  },
  {
   "cell_type": "code",
   "execution_count": null,
   "metadata": {},
   "outputs": [],
   "source": []
  },
  {
   "cell_type": "code",
   "execution_count": null,
   "metadata": {},
   "outputs": [],
   "source": []
  },
  {
   "cell_type": "code",
   "execution_count": 146,
   "metadata": {},
   "outputs": [
    {
     "data": {
      "text/plain": [
       "['a', 'd', 'a']"
      ]
     },
     "execution_count": 146,
     "metadata": {},
     "output_type": "execute_result"
    }
   ],
   "source": [
    "import random\n",
    "random.choices('abcd', k=3)\n"
   ]
  },
  {
   "cell_type": "code",
   "execution_count": null,
   "metadata": {},
   "outputs": [],
   "source": []
  },
  {
   "cell_type": "code",
   "execution_count": 90,
   "metadata": {},
   "outputs": [
    {
     "name": "stdout",
     "output_type": "stream",
     "text": [
      "/bin/sh: tree: command not found\r\n"
     ]
    }
   ],
   "source": [
    "!tree"
   ]
  },
  {
   "cell_type": "code",
   "execution_count": null,
   "metadata": {},
   "outputs": [],
   "source": []
  },
  {
   "cell_type": "code",
   "execution_count": null,
   "metadata": {},
   "outputs": [],
   "source": []
  },
  {
   "cell_type": "code",
   "execution_count": null,
   "metadata": {},
   "outputs": [],
   "source": []
  },
  {
   "cell_type": "code",
   "execution_count": null,
   "metadata": {},
   "outputs": [],
   "source": []
  },
  {
   "cell_type": "code",
   "execution_count": null,
   "metadata": {},
   "outputs": [],
   "source": []
  }
 ],
 "metadata": {
  "kernelspec": {
   "display_name": "Python 3",
   "language": "python",
   "name": "python3"
  },
  "language_info": {
   "codemirror_mode": {
    "name": "ipython",
    "version": 3
   },
   "file_extension": ".py",
   "mimetype": "text/x-python",
   "name": "python",
   "nbconvert_exporter": "python",
   "pygments_lexer": "ipython3",
   "version": "3.6.8"
  }
 },
 "nbformat": 4,
 "nbformat_minor": 2
}
