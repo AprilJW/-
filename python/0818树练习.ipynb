{
 "cells": [
  {
   "cell_type": "code",
   "execution_count": 54,
   "metadata": {},
   "outputs": [],
   "source": [
    "# 格式打印\n",
    "def fn(n):\n",
    "    [print('{:>{}}'.format(' '.join((str(j) for j in range(i, 0, -1))), (len(str(n)) + 1)*n)) for i in range(1, n+1)]"
   ]
  },
  {
   "cell_type": "code",
   "execution_count": 59,
   "metadata": {},
   "outputs": [
    {
     "name": "stdout",
     "output_type": "stream",
     "text": [
      "                                   1\n",
      "                                 2 1\n",
      "                               3 2 1\n",
      "                             4 3 2 1\n",
      "                           5 4 3 2 1\n",
      "                         6 5 4 3 2 1\n",
      "                       7 6 5 4 3 2 1\n",
      "                     8 7 6 5 4 3 2 1\n",
      "                   9 8 7 6 5 4 3 2 1\n",
      "                10 9 8 7 6 5 4 3 2 1\n",
      "             11 10 9 8 7 6 5 4 3 2 1\n",
      "          12 11 10 9 8 7 6 5 4 3 2 1\n"
     ]
    }
   ],
   "source": [
    "fn(12)"
   ]
  },
  {
   "cell_type": "code",
   "execution_count": 138,
   "metadata": {},
   "outputs": [],
   "source": [
    "def fn1(n):\n",
    "    [print('{:>{}}'.format(' '.join((str(j) for j in range(i, 0, -1))), (len(str(n)) + 1)*n) ) for i in range(n, 0, -1)]\n",
    "             "
   ]
  },
  {
   "cell_type": "code",
   "execution_count": 139,
   "metadata": {},
   "outputs": [
    {
     "name": "stdout",
     "output_type": "stream",
     "text": [
      "          18 17 16 15 14 13 12 11 10 9 8 7 6 5 4 3 2 1\n",
      "             17 16 15 14 13 12 11 10 9 8 7 6 5 4 3 2 1\n",
      "                16 15 14 13 12 11 10 9 8 7 6 5 4 3 2 1\n",
      "                   15 14 13 12 11 10 9 8 7 6 5 4 3 2 1\n",
      "                      14 13 12 11 10 9 8 7 6 5 4 3 2 1\n",
      "                         13 12 11 10 9 8 7 6 5 4 3 2 1\n",
      "                            12 11 10 9 8 7 6 5 4 3 2 1\n",
      "                               11 10 9 8 7 6 5 4 3 2 1\n",
      "                                  10 9 8 7 6 5 4 3 2 1\n",
      "                                     9 8 7 6 5 4 3 2 1\n",
      "                                       8 7 6 5 4 3 2 1\n",
      "                                         7 6 5 4 3 2 1\n",
      "                                           6 5 4 3 2 1\n",
      "                                             5 4 3 2 1\n",
      "                                               4 3 2 1\n",
      "                                                 3 2 1\n",
      "                                                   2 1\n",
      "                                                     1\n"
     ]
    }
   ],
   "source": [
    "fn1(18)"
   ]
  },
  {
   "cell_type": "code",
   "execution_count": 140,
   "metadata": {},
   "outputs": [],
   "source": [
    "\n",
    "def fn2(n, n1=None): # n=12\n",
    "    if n1 == None:\n",
    "        n1 = n\n",
    "    a = n\n",
    "    if a < 1:\n",
    "        return\n",
    "    print('{:>{}}'.format(' '.join(str(i) for i in range(a, 0, -1)), n1*(len(str(n1))+1)))\n",
    "    fn2(n-1, n1)"
   ]
  },
  {
   "cell_type": "code",
   "execution_count": 141,
   "metadata": {},
   "outputs": [
    {
     "name": "stdout",
     "output_type": "stream",
     "text": [
      "          18 17 16 15 14 13 12 11 10 9 8 7 6 5 4 3 2 1\n",
      "             17 16 15 14 13 12 11 10 9 8 7 6 5 4 3 2 1\n",
      "                16 15 14 13 12 11 10 9 8 7 6 5 4 3 2 1\n",
      "                   15 14 13 12 11 10 9 8 7 6 5 4 3 2 1\n",
      "                      14 13 12 11 10 9 8 7 6 5 4 3 2 1\n",
      "                         13 12 11 10 9 8 7 6 5 4 3 2 1\n",
      "                            12 11 10 9 8 7 6 5 4 3 2 1\n",
      "                               11 10 9 8 7 6 5 4 3 2 1\n",
      "                                  10 9 8 7 6 5 4 3 2 1\n",
      "                                     9 8 7 6 5 4 3 2 1\n",
      "                                       8 7 6 5 4 3 2 1\n",
      "                                         7 6 5 4 3 2 1\n",
      "                                           6 5 4 3 2 1\n",
      "                                             5 4 3 2 1\n",
      "                                               4 3 2 1\n",
      "                                                 3 2 1\n",
      "                                                   2 1\n",
      "                                                     1\n"
     ]
    }
   ],
   "source": [
    "fn2(18)"
   ]
  },
  {
   "cell_type": "code",
   "execution_count": 144,
   "metadata": {},
   "outputs": [],
   "source": [
    "def fn4(n, n2=None):\n",
    "    if n2 is None:\n",
    "        n2 = n\n",
    "    if n < 1:\n",
    "        return\n",
    "    print('{:>{}}'.format(' '.join(str(j) for j in range(13-n, 0, -1)), n2*(len(str(n2)) + 1)))\n",
    "    fn4(n-1, n2)"
   ]
  },
  {
   "cell_type": "code",
   "execution_count": 145,
   "metadata": {},
   "outputs": [
    {
     "name": "stdout",
     "output_type": "stream",
     "text": [
      "                                   1\n",
      "                                 2 1\n",
      "                               3 2 1\n",
      "                             4 3 2 1\n",
      "                           5 4 3 2 1\n",
      "                         6 5 4 3 2 1\n",
      "                       7 6 5 4 3 2 1\n",
      "                     8 7 6 5 4 3 2 1\n",
      "                   9 8 7 6 5 4 3 2 1\n",
      "                10 9 8 7 6 5 4 3 2 1\n",
      "             11 10 9 8 7 6 5 4 3 2 1\n",
      "          12 11 10 9 8 7 6 5 4 3 2 1\n"
     ]
    }
   ],
   "source": [
    "fn4(12)"
   ]
  },
  {
   "cell_type": "code",
   "execution_count": 47,
   "metadata": {},
   "outputs": [],
   "source": [
    "def trangile_print(n):\n",
    "    str1 = ''\n",
    "    for i in range(1, n+1):\n",
    "        str1 = \"{}  {}\".format(i,str1)\n",
    "        print('{:>{}}'.format(str1, 4*n))\n",
    "        \n",
    "    "
   ]
  },
  {
   "cell_type": "code",
   "execution_count": 48,
   "metadata": {},
   "outputs": [
    {
     "name": "stdout",
     "output_type": "stream",
     "text": [
      "                                             1  \n",
      "                                          2  1  \n",
      "                                       3  2  1  \n",
      "                                    4  3  2  1  \n",
      "                                 5  4  3  2  1  \n",
      "                              6  5  4  3  2  1  \n",
      "                           7  6  5  4  3  2  1  \n",
      "                        8  7  6  5  4  3  2  1  \n",
      "                     9  8  7  6  5  4  3  2  1  \n",
      "                 10  9  8  7  6  5  4  3  2  1  \n",
      "             11  10  9  8  7  6  5  4  3  2  1  \n",
      "         12  11  10  9  8  7  6  5  4  3  2  1  \n"
     ]
    }
   ],
   "source": [
    "trangile_print(12)"
   ]
  },
  {
   "cell_type": "code",
   "execution_count": null,
   "metadata": {},
   "outputs": [],
   "source": []
  },
  {
   "cell_type": "code",
   "execution_count": 154,
   "metadata": {},
   "outputs": [
    {
     "name": "stdout",
     "output_type": "stream",
     "text": [
      "{'a': {'b': 1, 'c': 2}, 'd': {'e': 3, 'f': {'g': 4}}, 'h': 5}\n"
     ]
    }
   ],
   "source": [
    "#2. 扁平化字典\n",
    "dic = {'a':{'b':1, 'c':2}, 'd':{'e':3, 'f':{'g':4}}, 'h':5}\n",
    "print(dic)"
   ]
  },
  {
   "cell_type": "code",
   "execution_count": 161,
   "metadata": {},
   "outputs": [],
   "source": [
    "def modify_dict(dic):\n",
    "    new_dict = {}\n",
    "    for key in dic:\n",
    "        if not isinstance(dic[key], dict):\n",
    "            new_dict[key] = dic[key] # dic.getdict(key, None)\n",
    "        else:\n",
    "            for key1 in dic[key]:\n",
    "                if not isinstance(dic[key][key1], dict):\n",
    "                    print(key1)\n",
    "                    new_key = '{}.{}'.format(key, key1)\n",
    "                    new_dict[new_key] = dic[key][key1]\n",
    "                else:\n",
    "                    for key2 in dic[key][key1]:\n",
    "                        print(key2)\n",
    "                        if not isinstance(dic[key][key1][key2], dict):\n",
    "                            new_key1 = '{}.{}.{}'.format(key, key1, key2)\n",
    "                            new_dict[new_key1] = dic[key][key1][key2]\n",
    "\n",
    "    return  new_dict"
   ]
  },
  {
   "cell_type": "code",
   "execution_count": 162,
   "metadata": {
    "scrolled": true
   },
   "outputs": [
    {
     "name": "stdout",
     "output_type": "stream",
     "text": [
      "b\n",
      "c\n",
      "e\n",
      "g\n"
     ]
    },
    {
     "data": {
      "text/plain": [
       "{'a.b': 1, 'a.c': 2, 'd.e': 3, 'd.f.g': 4, 'h': 5}"
      ]
     },
     "execution_count": 162,
     "metadata": {},
     "output_type": "execute_result"
    }
   ],
   "source": [
    "modify_dict(dic)"
   ]
  },
  {
   "cell_type": "code",
   "execution_count": null,
   "metadata": {},
   "outputs": [],
   "source": []
  },
  {
   "cell_type": "code",
   "execution_count": 2,
   "metadata": {},
   "outputs": [],
   "source": [
    "dic = {'a':{'b':1, 'c':2}, 'd':{'e':3, 'f':{'g':4}}, 'h':5}"
   ]
  },
  {
   "cell_type": "code",
   "execution_count": 170,
   "metadata": {
    "scrolled": true
   },
   "outputs": [
    {
     "data": {
      "text/plain": [
       "{'q': 2, 'qq': 2}"
      ]
     },
     "execution_count": 170,
     "metadata": {},
     "output_type": "execute_result"
    }
   ],
   "source": [
    "fn(strkey='q')"
   ]
  },
  {
   "cell_type": "code",
   "execution_count": 9,
   "metadata": {},
   "outputs": [],
   "source": [
    "from collections import defaultdict\n",
    "def modify_dic(dic, new_dic={}, stack=[], count=defaultdict(lambda: 0)):\n",
    "    if not isinstance(dic, dict):\n",
    "        #print('222')\n",
    "        count['count'] += 1\n",
    "        if count['count'] == 2:\n",
    "            stack = stack[0:1] + stack[2:]\n",
    "        if count['count'] == 3:\n",
    "            stack = stack[-2:]\n",
    "        if count['count'] == 4:\n",
    "            stack = stack[-4:]\n",
    "        new_key = '.'.join(stack)\n",
    "        new_dic[new_key] = dic\n",
    "        return new_dic\n",
    "\n",
    "    for key, value in dic.items():\n",
    "        stack.append(key)\n",
    "        modify_dic(value)\n",
    "    return new_dic\n",
    "    #print(new_dic)\n",
    "\n",
    "        \n",
    "    "
   ]
  },
  {
   "cell_type": "code",
   "execution_count": 10,
   "metadata": {},
   "outputs": [],
   "source": [
    "# dic = {'a':{'b':1, 'c':2}, 'd':{'e':3, 'f':{'g':4}}, 'h':5}\n",
    "dic = {'a':{'b':1, 'c':2}, 'd':{'e':3, 'f':{'g':4}}}"
   ]
  },
  {
   "cell_type": "code",
   "execution_count": 11,
   "metadata": {},
   "outputs": [
    {
     "data": {
      "text/plain": [
       "{'a.b': 1, 'a.c': 2, 'd.e': 3, 'd.e.f.g': 4}"
      ]
     },
     "execution_count": 11,
     "metadata": {},
     "output_type": "execute_result"
    }
   ],
   "source": [
    "modify_dic(dic)"
   ]
  },
  {
   "cell_type": "code",
   "execution_count": 58,
   "metadata": {},
   "outputs": [],
   "source": [
    "from collections import defaultdict\n",
    "def flatmap(dic, new_dic={}, prefix=''):\n",
    "    for key, value in dic.items():\n",
    "        if not isinstance(value, dict):\n",
    "            prefix = prefix + key\n",
    "            new_dic[prefix] = value\n",
    "        else:\n",
    "            flatmap(value, new_dic)            \n",
    "    return new_dic\n",
    "\n"
   ]
  },
  {
   "cell_type": "code",
   "execution_count": 59,
   "metadata": {},
   "outputs": [],
   "source": []
  },
  {
   "cell_type": "code",
   "execution_count": 60,
   "metadata": {},
   "outputs": [
    {
     "data": {
      "text/plain": [
       "{'b': 1, 'bc': 2, 'e': 3, 'g': 4}"
      ]
     },
     "execution_count": 60,
     "metadata": {},
     "output_type": "execute_result"
    }
   ],
   "source": [
    "flatmap(dic)"
   ]
  },
  {
   "cell_type": "code",
   "execution_count": null,
   "metadata": {},
   "outputs": [],
   "source": [
    "dic = {'a':{'b':1, 'c':2}, 'd':{'e':3, 'f':{'g':4}}}"
   ]
  }
 ],
 "metadata": {
  "kernelspec": {
   "display_name": "Python 3",
   "language": "python",
   "name": "python3"
  },
  "language_info": {
   "codemirror_mode": {
    "name": "ipython",
    "version": 3
   },
   "file_extension": ".py",
   "mimetype": "text/x-python",
   "name": "python",
   "nbconvert_exporter": "python",
   "pygments_lexer": "ipython3",
   "version": "3.6.8"
  }
 },
 "nbformat": 4,
 "nbformat_minor": 2
}
