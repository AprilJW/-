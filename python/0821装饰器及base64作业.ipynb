{
 "cells": [
  {
   "cell_type": "code",
   "execution_count": 2,
   "metadata": {},
   "outputs": [],
   "source": [
    "import time"
   ]
  },
  {
   "cell_type": "code",
   "execution_count": 3,
   "metadata": {},
   "outputs": [],
   "source": [
    "\n",
    "cachedic = {}\n",
    "def makekey(*args, **kwargs):\n",
    "    key = args\n",
    "    if kwargs:\n",
    "        key += (object(), )\n",
    "        for item in kwargs.items():\n",
    "            key += item\n",
    "    return key\n",
    "\n",
    "def cache(fn):\n",
    "    def wrapper(*args, **kwargs):\n",
    "        key = makekey(*args, **kwargs)\n",
    "        if key in cachedic:\n",
    "            return cachedic[key]\n",
    "        ret = fn(*args, **kwargs)\n",
    "        cachedic[key] = ret\n",
    "        print('cachedic: ',cachedic)\n",
    "        return ret\n",
    "    return wrapper\n",
    "\n",
    "@cache\n",
    "def add(a, b):\n",
    "    time.sleep(2)\n",
    "    return a + b"
   ]
  },
  {
   "cell_type": "code",
   "execution_count": 4,
   "metadata": {},
   "outputs": [
    {
     "name": "stdout",
     "output_type": "stream",
     "text": [
      "cachedic:  {(1, 2): 3}\n"
     ]
    },
    {
     "data": {
      "text/plain": [
       "3"
      ]
     },
     "execution_count": 4,
     "metadata": {},
     "output_type": "execute_result"
    }
   ],
   "source": [
    "add(1, 2)"
   ]
  },
  {
   "cell_type": "code",
   "execution_count": 5,
   "metadata": {},
   "outputs": [
    {
     "data": {
      "text/plain": [
       "3"
      ]
     },
     "execution_count": 5,
     "metadata": {},
     "output_type": "execute_result"
    }
   ],
   "source": [
    "add(1, 2)"
   ]
  },
  {
   "cell_type": "code",
   "execution_count": 6,
   "metadata": {},
   "outputs": [
    {
     "name": "stdout",
     "output_type": "stream",
     "text": [
      "cachedic:  {(1, 2): 3, (<object object at 0x110046c00>, 'a', 1, 'b', 2): 3}\n"
     ]
    },
    {
     "data": {
      "text/plain": [
       "3"
      ]
     },
     "execution_count": 6,
     "metadata": {},
     "output_type": "execute_result"
    }
   ],
   "source": [
    "add(a=1, b=2)"
   ]
  },
  {
   "cell_type": "code",
   "execution_count": 225,
   "metadata": {},
   "outputs": [],
   "source": [
    "import inspect, time\n",
    "from collections import OrderedDict\n",
    "\n",
    "cachedic = {}\n",
    "# def makekey(*args, **kwargs):\n",
    "#     keyset = {}\n",
    "#     keyset.update(args)\n",
    "#     for item in kwargs.items():\n",
    "#         keyset.update(item)\n",
    "#     return keyset\n",
    "# def makedefaultkey():\n",
    "#     pass\n",
    "def updatedic(fn, args, kwargs):\n",
    "    tempdic = OrderedDict()\n",
    "    for k, v in inspect.signature(fn).parameters.items():\n",
    "        tempdic[k] = v.default\n",
    "    if args:\n",
    "        lenght = len(args)\n",
    "        if lenght == 1:\n",
    "            tempdic.update(dict(a=args[0]))\n",
    "        else:\n",
    "            tempdic.update(dict(a=args[0]))\n",
    "            tempdic.update(dict(b=args[1]))\n",
    "    if kwargs:\n",
    "        tempdic.update(kwargs)\n",
    "    return tempdic\n",
    "    \n",
    "\n",
    "def cache(fn):\n",
    "    def wrapper(*args, **kwargs):\n",
    "        #setkey = makekey(*args, **kwargs)\n",
    "        \n",
    "#         if key in cachedic:\n",
    "#             return cachedic[key]\n",
    "        tempdic = updatedic(fn, args, kwargs)\n",
    "    \n",
    "        print('cachedic:', cachedic)\n",
    "        \n",
    "        if tuple(tempdic.items()) in cachedic:\n",
    "            return cachedic[tuple(tempdic.items())]\n",
    "        \n",
    "        \n",
    "        \n",
    "        ret = fn(*args, **kwargs)\n",
    "        cachedic[tuple(tempdic.items())] = ret\n",
    "#         print(inspect.signature(fn))\n",
    "#         print(type(inspect.signature(fn)))\n",
    "        \n",
    "        #cachedic[key] = ret\n",
    "        #print('cachedic: ',cachedic)\n",
    "        return ret\n",
    "    return wrapper\n",
    "\n",
    "@cache # add = cache(add)\n",
    "def add(a=4, b=5):\n",
    "    time.sleep(2)\n",
    "    return a + b"
   ]
  },
  {
   "cell_type": "code",
   "execution_count": 226,
   "metadata": {
    "scrolled": true
   },
   "outputs": [
    {
     "name": "stdout",
     "output_type": "stream",
     "text": [
      "cachedic: {}\n"
     ]
    },
    {
     "data": {
      "text/plain": [
       "9"
      ]
     },
     "execution_count": 226,
     "metadata": {},
     "output_type": "execute_result"
    }
   ],
   "source": [
    "add()\n"
   ]
  },
  {
   "cell_type": "code",
   "execution_count": 227,
   "metadata": {
    "scrolled": false
   },
   "outputs": [
    {
     "name": "stdout",
     "output_type": "stream",
     "text": [
      "cachedic: {(('a', 4), ('b', 5)): 9}\n"
     ]
    },
    {
     "data": {
      "text/plain": [
       "9"
      ]
     },
     "execution_count": 227,
     "metadata": {},
     "output_type": "execute_result"
    }
   ],
   "source": [
    "add(a=4)"
   ]
  },
  {
   "cell_type": "code",
   "execution_count": 228,
   "metadata": {
    "scrolled": false
   },
   "outputs": [
    {
     "name": "stdout",
     "output_type": "stream",
     "text": [
      "cachedic: {(('a', 4), ('b', 5)): 9}\n"
     ]
    },
    {
     "data": {
      "text/plain": [
       "9"
      ]
     },
     "execution_count": 228,
     "metadata": {},
     "output_type": "execute_result"
    }
   ],
   "source": [
    "add(4)"
   ]
  },
  {
   "cell_type": "code",
   "execution_count": 229,
   "metadata": {},
   "outputs": [
    {
     "name": "stdout",
     "output_type": "stream",
     "text": [
      "cachedic: {(('a', 4), ('b', 5)): 9}\n"
     ]
    },
    {
     "data": {
      "text/plain": [
       "9"
      ]
     },
     "execution_count": 229,
     "metadata": {},
     "output_type": "execute_result"
    }
   ],
   "source": [
    "add(4, b=5)"
   ]
  },
  {
   "cell_type": "code",
   "execution_count": 230,
   "metadata": {
    "scrolled": true
   },
   "outputs": [
    {
     "name": "stdout",
     "output_type": "stream",
     "text": [
      "cachedic: {(('a', 4), ('b', 5)): 9}\n"
     ]
    },
    {
     "data": {
      "text/plain": [
       "9"
      ]
     },
     "execution_count": 230,
     "metadata": {},
     "output_type": "execute_result"
    }
   ],
   "source": [
    "add(4, 5)"
   ]
  },
  {
   "cell_type": "code",
   "execution_count": 231,
   "metadata": {
    "scrolled": true
   },
   "outputs": [
    {
     "name": "stdout",
     "output_type": "stream",
     "text": [
      "cachedic: {(('a', 4), ('b', 5)): 9}\n"
     ]
    },
    {
     "data": {
      "text/plain": [
       "9"
      ]
     },
     "execution_count": 231,
     "metadata": {},
     "output_type": "execute_result"
    }
   ],
   "source": [
    "add(a=4, b=5)"
   ]
  },
  {
   "cell_type": "code",
   "execution_count": null,
   "metadata": {},
   "outputs": [],
   "source": []
  },
  {
   "cell_type": "code",
   "execution_count": 187,
   "metadata": {},
   "outputs": [
    {
     "name": "stdout",
     "output_type": "stream",
     "text": [
      "{'a': 1}\n"
     ]
    }
   ],
   "source": [
    "tempdic = {}\n",
    "tempdic.update(dict(a=1))\n",
    "print(tempdic)"
   ]
  },
  {
   "cell_type": "code",
   "execution_count": 193,
   "metadata": {},
   "outputs": [
    {
     "data": {
      "text/plain": [
       "(('a', 1), ('b', 2))"
      ]
     },
     "execution_count": 193,
     "metadata": {},
     "output_type": "execute_result"
    }
   ],
   "source": [
    "tuple({'a':1, 'b':2}.items())"
   ]
  },
  {
   "cell_type": "code",
   "execution_count": 186,
   "metadata": {},
   "outputs": [
    {
     "data": {
      "text/plain": [
       "(['a', 1], ['b', 2])"
      ]
     },
     "execution_count": 186,
     "metadata": {},
     "output_type": "execute_result"
    }
   ],
   "source": [
    "tuple([['a', 1], ['b', 2]])"
   ]
  },
  {
   "cell_type": "code",
   "execution_count": 153,
   "metadata": {},
   "outputs": [
    {
     "ename": "SyntaxError",
     "evalue": "invalid syntax (<ipython-input-153-0fb3e16f6521>, line 1)",
     "output_type": "error",
     "traceback": [
      "\u001b[0;36m  File \u001b[0;32m\"<ipython-input-153-0fb3e16f6521>\"\u001b[0;36m, line \u001b[0;32m1\u001b[0m\n\u001b[0;31m    d = (a=4, b=5)\u001b[0m\n\u001b[0m          ^\u001b[0m\n\u001b[0;31mSyntaxError\u001b[0m\u001b[0;31m:\u001b[0m invalid syntax\n"
     ]
    }
   ],
   "source": [
    "d = (a=4, b=5)\n",
    "for i in range(2):\n",
    "    print(d[i])"
   ]
  },
  {
   "cell_type": "code",
   "execution_count": 155,
   "metadata": {},
   "outputs": [
    {
     "ename": "SyntaxError",
     "evalue": "invalid syntax (<ipython-input-155-74bc110b226e>, line 1)",
     "output_type": "error",
     "traceback": [
      "\u001b[0;36m  File \u001b[0;32m\"<ipython-input-155-74bc110b226e>\"\u001b[0;36m, line \u001b[0;32m1\u001b[0m\n\u001b[0;31m    type((a=4, b=5))\u001b[0m\n\u001b[0m           ^\u001b[0m\n\u001b[0;31mSyntaxError\u001b[0m\u001b[0;31m:\u001b[0m invalid syntax\n"
     ]
    }
   ],
   "source": [
    "type((a=4, b=5))"
   ]
  },
  {
   "cell_type": "code",
   "execution_count": 14,
   "metadata": {},
   "outputs": [
    {
     "data": {
      "text/plain": [
       "b'abc'"
      ]
     },
     "execution_count": 14,
     "metadata": {},
     "output_type": "execute_result"
    }
   ],
   "source": [
    "str1 = 'abc'\n",
    "str1.encode('utf8')"
   ]
  },
  {
   "cell_type": "code",
   "execution_count": 18,
   "metadata": {},
   "outputs": [
    {
     "name": "stdout",
     "output_type": "stream",
     "text": [
      "0b1100001\n",
      "0b1100010\n",
      "0b1100011\n"
     ]
    }
   ],
   "source": [
    "for i in range(97, 100):\n",
    "    print(bin(i))"
   ]
  },
  {
   "cell_type": "code",
   "execution_count": 60,
   "metadata": {
    "scrolled": true
   },
   "outputs": [
    {
     "name": "stdout",
     "output_type": "stream",
     "text": [
      "{0: 'A', 1: 'B', 2: 'C', 3: 'D', 4: 'E', 5: 'F', 6: 'G', 7: 'H', 8: 'I', 9: 'J', 10: 'K', 11: 'L', 12: 'M', 13: 'N', 14: 'O', 15: 'P', 16: 'Q', 17: 'R', 18: 'S', 19: 'T', 20: 'U', 21: 'V', 22: 'W', 23: 'X', 24: 'Y', 25: 'Z', 26: 'a', 27: 'b', 28: 'c', 29: 'd', 30: 'e', 31: 'f', 32: 'g', 33: 'h', 34: 'i', 35: 'j', 36: 'k', 37: 'l', 38: 'm', 39: 'n', 40: 'o', 41: 'p', 42: 'q', 43: 'r', 44: 's', 45: 't', 46: 'u', 47: 'v', 48: 'w', 49: 'x', 50: 'y', 51: 'z', 52: '0', 53: '1', 54: '2', 55: '3', 56: '4', 57: '5', 58: '6', 59: '7', 60: '8', 61: '9', 62: '+', 63: '/'}\n"
     ]
    }
   ],
   "source": [
    "import math\n",
    "mapping = {}\n",
    "for i in range(62):\n",
    "    if i < 26:\n",
    "        mapping[i] = chr(i+65)\n",
    "    elif i < 52:\n",
    "        mapping[i] = chr(i+71)\n",
    "    else:\n",
    "        mapping[i] = chr(i-4)\n",
    "mapping[62] = '+'\n",
    "mapping[63] = '/'\n",
    "print(mapping)"
   ]
  },
  {
   "cell_type": "code",
   "execution_count": null,
   "metadata": {},
   "outputs": [],
   "source": [
    "def format_str(rightlst, )"
   ]
  },
  {
   "cell_type": "code",
   "execution_count": 85,
   "metadata": {},
   "outputs": [],
   "source": [
    "def convert_str_to_base64(str1):\n",
    "    #chrlst = ['A', 'b', '+']\n",
    "    binlst = ['{}{}'.format('0', bin(ord(i))[2:]) for i in str1]\n",
    "    #print(binlst)\n",
    "    sumstr = ''.join(binlst)\n",
    "    # print(sumstr)\n",
    "    lenght = math.ceil(len(sumstr)/6)\n",
    "    # print(lenght)\n",
    "    rightlst = ['{:0<8}'.format('00'+sumstr[6*i: 6*(i+1)]) for i in range(lenght)]\n",
    "    #print(rightlst)\n",
    "    newstr = ''.join([mapping.get(int('0b'+i[2:], 2), None) for i in rightlst])\n",
    "    return newstr"
   ]
  },
  {
   "cell_type": "code",
   "execution_count": 78,
   "metadata": {
    "scrolled": false
   },
   "outputs": [
    {
     "name": "stdout",
     "output_type": "stream",
     "text": [
      "['01100001', '01100010', '0101011']\n",
      "['00011000', '00010110', '00001001', '00010110']\n"
     ]
    },
    {
     "data": {
      "text/plain": [
       "'YWJW'"
      ]
     },
     "execution_count": 78,
     "metadata": {},
     "output_type": "execute_result"
    }
   ],
   "source": [
    "convert_str_to_base64('ab+')"
   ]
  },
  {
   "cell_type": "code",
   "execution_count": 80,
   "metadata": {
    "scrolled": true
   },
   "outputs": [
    {
     "name": "stdout",
     "output_type": "stream",
     "text": [
      "['01000001']\n",
      "['00010000', '00010000']\n"
     ]
    },
    {
     "data": {
      "text/plain": [
       "'QQ'"
      ]
     },
     "execution_count": 80,
     "metadata": {},
     "output_type": "execute_result"
    }
   ],
   "source": [
    "convert_str_to_base64('A')"
   ]
  },
  {
   "cell_type": "code",
   "execution_count": 86,
   "metadata": {
    "scrolled": true
   },
   "outputs": [
    {
     "data": {
      "text/plain": [
       "'TWFuQNLmgZGlzdGluZ3Vpc2hlZFiBub3RA3tzY8oGJ5QNDS5oHJlYXNvbliBidXRAxPKB0aGlzQObS3M7q2MLkgcGFzc2lvbkDM5N7agb3RoZXJAwtzS2sLY5rEDu0NLG0IGlzQMKBsdXN0QN7MgdGhlQNrS3MixA6NDC6IGJ5QMKBwZXJzZXZlcmFuY2VA3syBkZWxpZ2h0QNLcgdGhlQMbe3OjS3OrKyIGFuZEDS3MjKzMLo0s7CxNjKgZ2VuZXJhdGlvbkDezIGtub3dsZWRnZViBleGNlZWRzQOjQyoHNob3J0QOzK0MraytzGyoG9mQMLc8oGNhcm5hbEDg2MrC5urkyrg'"
      ]
     },
     "execution_count": 86,
     "metadata": {},
     "output_type": "execute_result"
    }
   ],
   "source": [
    "str1 = 'Man is distinguished, not only by his reason, but by this singular passion from other animals, which is a lust of the mind, that by a perseverance of delight in the continued and indefatigable generation of knowledge, exceeds the short vehemence of any carnal pleasure.'\n",
    "\n",
    "convert_str_to_base64(str1)"
   ]
  },
  {
   "cell_type": "code",
   "execution_count": 100,
   "metadata": {},
   "outputs": [],
   "source": [
    "def patch_bin(str2):   \n",
    "    new_bin_str = ''.join(['{:0>8}'.format(bin(ord(i))[2:]) for i in str2])\n",
    "    length = len(new_bin_str)\n",
    "    if length == 24:\n",
    "        return new_bin_str\n",
    "    return '{:0<24}'.format(new_bin_str)"
   ]
  },
  {
   "cell_type": "code",
   "execution_count": 101,
   "metadata": {},
   "outputs": [],
   "source": [
    "def split_bin(str3):   \n",
    "    base64 = ''.join([mapping.get(int(str3[6*i:6*(i+1)], 2), None) for i in range(4)])\n",
    "    return base64"
   ]
  },
  {
   "cell_type": "code",
   "execution_count": 125,
   "metadata": {},
   "outputs": [],
   "source": [
    "def convert_last_str(str4, index):\n",
    "    num = 0\n",
    "    last_str = str4[index+3:]\n",
    "    print('last_str:', last_str)\n",
    "    last_bin = ''.join(['{:0>8}'.format(bin(ord(i))[2:]) for i in last_str])\n",
    "    print('last_bin:', last_bin)\n",
    "    lenght = len(last_bin)\n",
    "    if 0 < lenght <=8:\n",
    "        num = 2\n",
    "        last_bin = '{:0<12}'.format(last_bin)\n",
    "    elif 8 < lenght <= 16:\n",
    "        num =1\n",
    "        last_bin = '{:0<18}'.format(last_bin)\n",
    "    base64 = ''.join([mapping.get(int(last_bin[i:i+6], 2), None) for i in range(0, lenght, 6)])\n",
    "    print('**:', base64)\n",
    "    if num == 1:\n",
    "        base64 += '='\n",
    "    if num == 2:\n",
    "        base64 += 2 * '='\n",
    "    return base64\n",
    "          "
   ]
  },
  {
   "cell_type": "code",
   "execution_count": 115,
   "metadata": {},
   "outputs": [],
   "source": [
    "def convert_str_to_base64(str1):\n",
    "    lenght = len(str1)\n",
    "    beforebase = ''\n",
    "    for i in range(0, lenght-3, 3):\n",
    "        #print(str1[i:i+3])\n",
    "        base64 = split_bin(patch_bin(str1[i:i+3])) \n",
    "        beforebase += base64\n",
    "    #print(beforebase)\n",
    "    base64 = beforebase + convert_last_str(str1, i)\n",
    "    print(convert_last_str(str1, i))\n",
    "    return base64\n",
    "    "
   ]
  },
  {
   "cell_type": "code",
   "execution_count": 126,
   "metadata": {
    "scrolled": true
   },
   "outputs": [
    {
     "name": "stdout",
     "output_type": "stream",
     "text": [
      "last_str: e.\n",
      "last_bin: 0110010100101110\n",
      "**: ZS4\n"
     ]
    },
    {
     "data": {
      "text/plain": [
       "'TWFuIGlzIGRpc3Rpbmd1aXNoZWQsIG5vdCBvbmx5IGJ5IGhpcyByZWFzb24sIGJ1dCBieSB0aGlzIHNpbmd1bGFyIHBhc3Npb24gZnJvbSBvdGhlciBhbmltYWxzLCB3aGljaCBpcyBhIGx1c3Qgb2YgdGhlIG1pbmQsIHRoYXQgYnkgYSBwZXJzZXZlcmFuY2Ugb2YgZGVsaWdodCBpbiB0aGUgY29udGludWVkIGFuZCBpbmRlZmF0aWdhYmxlIGdlbmVyYXRpb24gb2Yga25vd2xlZGdlLCBleGNlZWRzIHRoZSBzaG9ydCB2ZWhlbWVuY2Ugb2YgYW55IGNhcm5hbCBwbGVhc3VyZS4='"
      ]
     },
     "execution_count": 126,
     "metadata": {},
     "output_type": "execute_result"
    }
   ],
   "source": [
    "str1 = 'Man is distinguished, not only by his reason, but by this singular passion from other animals, which is a lust of the mind, that by a perseverance of delight in the continued and indefatigable generation of knowledge, exceeds the short vehemence of any carnal pleasure.'\n",
    "convert_str_to_base64(str1)"
   ]
  },
  {
   "cell_type": "code",
   "execution_count": null,
   "metadata": {},
   "outputs": [],
   "source": [
    "TWFuIGlzIGRpc3Rpbmd1aXNoZWQsIG5vdCBvbmx5IGJ5IGhpcyByZWFzb24sIGJ1dCBieSB0aGlz\n",
    "IHNpbmd1bGFyIHBhc3Npb24gZnJvbSBvdGhlciBhbmltYWxzLCB3aGljaCBpcyBhIGx1c3Qgb2Yg\n",
    "dGhlIG1pbmQsIHRoYXQgYnkgYSBwZXJzZXZlcmFuY2Ugb2YgZGVsaWdodCBpbiB0aGUgY29udGlu\n",
    "dWVkIGFuZCBpbmRlZmF0aWdhYmxlIGdlbmVyYXRpb24gb2Yga25vd2xlZGdlLCBleGNlZWRzIHRo\n",
    "ZSBzaG9ydCB2ZWhlbWVuY2Ugb2YgYW55IGNhcm5hbCBwbGVhc3VyZS4="
   ]
  },
  {
   "cell_type": "code",
   "execution_count": 57,
   "metadata": {},
   "outputs": [
    {
     "data": {
      "text/plain": [
       "[9, 10]"
      ]
     },
     "execution_count": 57,
     "metadata": {},
     "output_type": "execute_result"
    }
   ],
   "source": [
    "a = [1,2,3,4,5,6,7,8,9,10]\n",
    "a[8:15]"
   ]
  },
  {
   "cell_type": "code",
   "execution_count": 59,
   "metadata": {},
   "outputs": [
    {
     "data": {
      "text/plain": [
       "3"
      ]
     },
     "execution_count": 59,
     "metadata": {},
     "output_type": "execute_result"
    }
   ],
   "source": [
    "import math\n",
    "math.ceil(13/6)"
   ]
  },
  {
   "cell_type": "code",
   "execution_count": 61,
   "metadata": {},
   "outputs": [
    {
     "data": {
      "text/plain": [
       "1"
      ]
     },
     "execution_count": 61,
     "metadata": {},
     "output_type": "execute_result"
    }
   ],
   "source": [
    "int('0b01000', 2)"
   ]
  },
  {
   "cell_type": "code",
   "execution_count": 93,
   "metadata": {},
   "outputs": [
    {
     "name": "stdout",
     "output_type": "stream",
     "text": [
      "0\n",
      "1\n",
      "1\n"
     ]
    }
   ],
   "source": [
    "for i in range(2):\n",
    "    print(i)\n",
    "print(i)"
   ]
  },
  {
   "cell_type": "code",
   "execution_count": 124,
   "metadata": {},
   "outputs": [
    {
     "data": {
      "text/plain": [
       "56"
      ]
     },
     "execution_count": 124,
     "metadata": {},
     "output_type": "execute_result"
    }
   ],
   "source": [
    "int('111000', 2)"
   ]
  },
  {
   "cell_type": "code",
   "execution_count": 15,
   "metadata": {},
   "outputs": [
    {
     "data": {
      "text/plain": [
       "24"
      ]
     },
     "execution_count": 15,
     "metadata": {},
     "output_type": "execute_result"
    }
   ],
   "source": [
    "int('0b011000', 2)"
   ]
  },
  {
   "cell_type": "code",
   "execution_count": 91,
   "metadata": {},
   "outputs": [
    {
     "data": {
      "text/plain": [
       "'0b1101110'"
      ]
     },
     "execution_count": 91,
     "metadata": {},
     "output_type": "execute_result"
    }
   ],
   "source": [
    "bin(ord('n'))"
   ]
  },
  {
   "cell_type": "code",
   "execution_count": 8,
   "metadata": {},
   "outputs": [
    {
     "data": {
      "text/plain": [
       "6382179"
      ]
     },
     "execution_count": 8,
     "metadata": {},
     "output_type": "execute_result"
    }
   ],
   "source": [
    "int.from_bytes('abc'.encode(), 'big')"
   ]
  },
  {
   "cell_type": "code",
   "execution_count": null,
   "metadata": {},
   "outputs": [],
   "source": [
    "int.from_bytes()"
   ]
  },
  {
   "cell_type": "code",
   "execution_count": 81,
   "metadata": {},
   "outputs": [
    {
     "data": {
      "text/plain": [
       "bytes"
      ]
     },
     "execution_count": 81,
     "metadata": {},
     "output_type": "execute_result"
    }
   ],
   "source": [
    "type(b'a')"
   ]
  },
  {
   "cell_type": "code",
   "execution_count": 82,
   "metadata": {},
   "outputs": [
    {
     "data": {
      "text/plain": [
       "b''"
      ]
     },
     "execution_count": 82,
     "metadata": {},
     "output_type": "execute_result"
    }
   ],
   "source": [
    "b'a'[1:]"
   ]
  },
  {
   "cell_type": "code",
   "execution_count": null,
   "metadata": {},
   "outputs": [],
   "source": []
  },
  {
   "cell_type": "code",
   "execution_count": null,
   "metadata": {},
   "outputs": [],
   "source": []
  },
  {
   "cell_type": "code",
   "execution_count": null,
   "metadata": {},
   "outputs": [],
   "source": []
  },
  {
   "cell_type": "code",
   "execution_count": null,
   "metadata": {},
   "outputs": [],
   "source": []
  }
 ],
 "metadata": {
  "kernelspec": {
   "display_name": "Python 3",
   "language": "python",
   "name": "python3"
  },
  "language_info": {
   "codemirror_mode": {
    "name": "ipython",
    "version": 3
   },
   "file_extension": ".py",
   "mimetype": "text/x-python",
   "name": "python",
   "nbconvert_exporter": "python",
   "pygments_lexer": "ipython3",
   "version": "3.6.8"
  }
 },
 "nbformat": 4,
 "nbformat_minor": 2
}
