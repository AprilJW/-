{
 "cells": [
  {
   "cell_type": "code",
   "execution_count": 35,
   "metadata": {
    "scrolled": false
   },
   "outputs": [
    {
     "data": {
      "text/plain": [
       "b'ABCDEFGHIJKLMNOPQRSTUVWXYZabcdefghijklmnopqrstuvwxyz0123456789+/'"
      ]
     },
     "execution_count": 35,
     "metadata": {},
     "output_type": "execute_result"
    }
   ],
   "source": [
    "alphabet = bytes('ABCDEFGHIJKLMNOPQRSTUVWXYZabcdefghijklmnopqrstuvwxyz0123456789+/', 'ascii')\n",
    "alphabet"
   ]
  },
  {
   "cell_type": "code",
   "execution_count": null,
   "metadata": {},
   "outputs": [],
   "source": [
    "bytes()"
   ]
  },
  {
   "cell_type": "code",
   "execution_count": 119,
   "metadata": {},
   "outputs": [],
   "source": [
    "# base64 字节编码（课堂方法）\n",
    "def base64encode(src):\n",
    "    ret = bytearray()\n",
    "    if isinstance(src, str):\n",
    "        _src = src.encode() #  默认utf-8\n",
    "    elif isinstance(src, bytes):\n",
    "        _src = src\n",
    "    else:\n",
    "        raise TypeError\n",
    "        \n",
    "    lenght = len(_src)\n",
    "    for i in range(0, lenght, 3):\n",
    "        #print(_src)\n",
    "        triple = _src[i: i+3]\n",
    "        r = 3 - len(triple)\n",
    "        if r:\n",
    "            triple += b'\\x00' * r\n",
    "        b = int.from_bytes(triple, 'big')\n",
    "        \n",
    "        for j in range(18, -1 ,-6):\n",
    "            index = b >> j & 0x3f if j != 18 else b >> j\n",
    "            #print(index)\n",
    "            ret.append(alphabet[index])\n",
    "    if r:       \n",
    "        ret[-r:] = b'=' * r\n",
    "    return ret.decode()"
   ]
  },
  {
   "cell_type": "code",
   "execution_count": 124,
   "metadata": {},
   "outputs": [
    {
     "data": {
      "text/plain": [
       "'fg=='"
      ]
     },
     "execution_count": 124,
     "metadata": {},
     "output_type": "execute_result"
    }
   ],
   "source": [
    "import base64\n",
    "base64.b64encode(b'~').decode()"
   ]
  },
  {
   "cell_type": "code",
   "execution_count": 103,
   "metadata": {
    "scrolled": false
   },
   "outputs": [
    {
     "name": "stdout",
     "output_type": "stream",
     "text": [
      "b'abc'\n"
     ]
    },
    {
     "data": {
      "text/plain": [
       "'YWJj'"
      ]
     },
     "execution_count": 103,
     "metadata": {},
     "output_type": "execute_result"
    }
   ],
   "source": [
    "base64encode('abc')"
   ]
  },
  {
   "cell_type": "code",
   "execution_count": 104,
   "metadata": {
    "scrolled": true
   },
   "outputs": [
    {
     "name": "stdout",
     "output_type": "stream",
     "text": [
      "b'~'\n"
     ]
    },
    {
     "data": {
      "text/plain": [
       "'fg=='"
      ]
     },
     "execution_count": 104,
     "metadata": {},
     "output_type": "execute_result"
    }
   ],
   "source": [
    "base64encode('~')"
   ]
  },
  {
   "cell_type": "code",
   "execution_count": 116,
   "metadata": {},
   "outputs": [
    {
     "name": "stdout",
     "output_type": "stream",
     "text": [
      "b'a'\n"
     ]
    },
    {
     "data": {
      "text/plain": [
       "'YQ=='"
      ]
     },
     "execution_count": 116,
     "metadata": {},
     "output_type": "execute_result"
    }
   ],
   "source": [
    "base64encode('a')"
   ]
  },
  {
   "cell_type": "code",
   "execution_count": 120,
   "metadata": {},
   "outputs": [
    {
     "data": {
      "text/plain": [
       "'TWFuIGlzIGRpc3Rpbmd1aXNoZWQsIG5vdCBvbmx5IGJ5IGhpcyByZWFzb24sIGJ1dCBieSB0aGlzIHNpbmd1bGFyIHBhc3Npb24gZnJvbSBvdGhlciBhbmltYWxzLCB3aGljaCBpcyBhIGx1c3Qgb2YgdGhlIG1pbmQsIHRoYXQgYnkgYSBwZXJzZXZlcmFuY2Ugb2YgZGVsaWdodCBpbiB0aGUgY29udGludWVkIGFuZCBpbmRlZmF0aWdhYmxlIGdlbmVyYXRpb24gb2Yga25vd2xlZGdlLCBleGNlZWRzIHRoZSBzaG9ydCB2ZWhlbWVuY2Ugb2YgYW55IGNhcm5hbCBwbGVhc3VyZS4='"
      ]
     },
     "execution_count": 120,
     "metadata": {},
     "output_type": "execute_result"
    }
   ],
   "source": [
    "str1 = 'Man is distinguished, not only by his reason, but by this singular passion from other animals, which is a lust of the mind, that by a perseverance of delight in the continued and indefatigable generation of knowledge, exceeds the short vehemence of any carnal pleasure.'\n",
    "str2 = 'Man is distinguished'\n",
    "base64encode(str1)\n"
   ]
  },
  {
   "cell_type": "code",
   "execution_count": null,
   "metadata": {},
   "outputs": [],
   "source": []
  },
  {
   "cell_type": "code",
   "execution_count": null,
   "metadata": {},
   "outputs": [],
   "source": []
  },
  {
   "cell_type": "code",
   "execution_count": null,
   "metadata": {},
   "outputs": [],
   "source": []
  },
  {
   "cell_type": "code",
   "execution_count": null,
   "metadata": {},
   "outputs": [],
   "source": []
  },
  {
   "cell_type": "code",
   "execution_count": 157,
   "metadata": {},
   "outputs": [
    {
     "data": {
      "text/plain": [
       "'`'"
      ]
     },
     "execution_count": 157,
     "metadata": {},
     "output_type": "execute_result"
    }
   ],
   "source": [
    "b'\\x60'.decode()"
   ]
  },
  {
   "cell_type": "code",
   "execution_count": null,
   "metadata": {},
   "outputs": [],
   "source": [
    "# 实现缓存和过期清楚的功能"
   ]
  },
  {
   "cell_type": "code",
   "execution_count": 114,
   "metadata": {},
   "outputs": [],
   "source": [
    "from functools import wraps\n",
    "import inspect\n",
    "import time\n",
    "import datetime\n",
    "\n",
    "def logger(fn):\n",
    "    @wraps(fn)\n",
    "    def wrapper(*args, **kwargs):\n",
    "        start = datetime.datetime.now()        \n",
    "        ret = fn(*args, **kwargs)\n",
    "        delta = (datetime.datetime.now() - start).total_seconds()\n",
    "        print(fn.__name__, delta)\n",
    "        return ret\n",
    "    return wrapper\n",
    "    \n",
    "def mag_cache(duration=2):\n",
    "    def cache(fn):\n",
    "        cache_dic = {}\n",
    "        @wraps(fn)\n",
    "        def wrapper(*args, **kwargs):\n",
    "            \n",
    "            def _clear_expire(cache):\n",
    "                expire_keys = []\n",
    "                for k, (_, v) in cache.items():\n",
    "                    now = datetime.datetime.now().timestamp()\n",
    "                    if now - v > duration:\n",
    "                        expire_keys.append(k)\n",
    "                for i in expire_keys:\n",
    "                    cache.pop(i) \n",
    "            _clear_expire(cache_dic)\n",
    "\n",
    "            \n",
    "            def _make_key():\n",
    "                sig = inspect.signature(fn)\n",
    "                params = sig.parameters\n",
    "\n",
    "                target = dict(zip(list(params.keys()), args), **kwargs)\n",
    "                print(target)\n",
    "                for k, v in params.items():\n",
    "                    if k not in target:\n",
    "                        target[k] = v.default\n",
    "                print(target)\n",
    "                return tuple(sorted(target.items())), target\n",
    "            key, target = _make_key()\n",
    "            \n",
    "            \n",
    "            if key not in cache_dic:\n",
    "                cache_dic[key] = fn(**target), datetime.datetime.now().timestamp()\n",
    "\n",
    "            return cache_dic[key]\n",
    "\n",
    "        return wrapper\n",
    "    return cache\n",
    "    # add = logger(mag_cache(wrapper)) logger里面的fn是mag_cache(wrapper)\n",
    "           # add里面的fn 指logger里面的wrapper\n",
    "@logger             # add = mag_cache(2)(add)->mag_cache(cache)->mag_cache(wrapper)\n",
    "@mag_cache(20)              # add里面的fn 是add函数\n",
    "def add(a=4, b=5):\n",
    "    time.sleep(2)\n",
    "    return a+b"
   ]
  },
  {
   "cell_type": "code",
   "execution_count": 122,
   "metadata": {
    "scrolled": true
   },
   "outputs": [
    {
     "name": "stdout",
     "output_type": "stream",
     "text": [
      "{'a': 6}\n",
      "{'a': 6, 'b': 5}\n",
      "add 0.000368\n"
     ]
    },
    {
     "data": {
      "text/plain": [
       "(11, 1566969101.009297)"
      ]
     },
     "execution_count": 122,
     "metadata": {},
     "output_type": "execute_result"
    }
   ],
   "source": [
    "add(6)"
   ]
  },
  {
   "cell_type": "code",
   "execution_count": 123,
   "metadata": {},
   "outputs": [],
   "source": [
    "from functools import wraps\n",
    "import inspect\n",
    "import time\n",
    "import datetime\n",
    "\n",
    "def logger(fn):\n",
    "    @wraps(fn)\n",
    "    def wrapper(*args, **kwargs):\n",
    "        start = datetime.datetime.now()        \n",
    "        ret = fn(*args, **kwargs)\n",
    "        delta = (datetime.datetime.now() - start).total_seconds()\n",
    "        print(fn.__name__, delta)\n",
    "        return ret\n",
    "    return wrapper\n",
    "    \n",
    "def mag_cache(duration=2):\n",
    "    def cache(fn):\n",
    "        cache_dic = {}\n",
    "        \n",
    "        def _clear_expire(cache):\n",
    "            expire_keys = []\n",
    "            for k, (_, v) in cache.items():\n",
    "                now = datetime.datetime.now().timestamp()\n",
    "                if now - v > duration:\n",
    "                    expire_keys.append(k)\n",
    "            for i in expire_keys:\n",
    "                cache.pop(i)\n",
    "        \n",
    "        def _make_key(fn, args, kwargs):\n",
    "            sig = inspect.signature(fn)\n",
    "            params = sig.parameters\n",
    "\n",
    "            target = dict(zip(list(params.keys()), args), **kwargs)\n",
    "            # print(params)\n",
    "            for k, v in params.items():\n",
    "                if k not in target:\n",
    "                    target[k] = v.default                \n",
    "            return tuple(sorted(target.items())), target\n",
    "                   \n",
    "        @wraps(fn)\n",
    "        def wrapper(*args, **kwargs):\n",
    "            _clear_expire(cache_dic)\n",
    "            key, target = _make_key(fn, args, kwargs)\n",
    "                        \n",
    "            if key not in cache_dic:\n",
    "                cache_dic[key] = fn(**target), datetime.datetime.now().timestamp()\n",
    "\n",
    "            return cache_dic[key]\n",
    "\n",
    "        return wrapper\n",
    "    return cache\n",
    "    # add = logger(mag_cache(wrapper)) logger里面的fn是mag_cache(wrapper)\n",
    "           # add里面的fn 指logger里面的wrapper\n",
    "@logger             # add = mag_cache(2)(add)->mag_cache(cache)->mag_cache(wrapper)\n",
    "@mag_cache(20)              # add里面的fn 是add函数\n",
    "def add(a=4, b=5):\n",
    "    time.sleep(2)\n",
    "    return a+b"
   ]
  },
  {
   "cell_type": "code",
   "execution_count": 125,
   "metadata": {
    "scrolled": false
   },
   "outputs": [
    {
     "name": "stdout",
     "output_type": "stream",
     "text": [
      "add 2.005203\n",
      "(9, 1566969229.202248)\n",
      "********\n",
      "add 0.000141\n",
      "(9, 1566969229.202248)\n",
      "add 0.000117\n",
      "(9, 1566969229.202248)\n",
      "add 9.5e-05\n",
      "(9, 1566969229.202248)\n",
      "add 9.1e-05\n",
      "(9, 1566969229.202248)\n",
      "add 5.8e-05\n",
      "(9, 1566969229.202248)\n",
      "add 5.9e-05\n",
      "(9, 1566969229.202248)\n"
     ]
    }
   ],
   "source": [
    "print(add(4))\n",
    "print('********')\n",
    "print(add(4))\n",
    "print(add(4, 5))\n",
    "print(add(a=4, b=5))\n",
    "print(add(a=4))\n",
    "print(add(b=5))\n",
    "print(add(4, b=5))"
   ]
  },
  {
   "cell_type": "code",
   "execution_count": 129,
   "metadata": {},
   "outputs": [],
   "source": [
    "from functools import wraps\n",
    "import inspect\n",
    "import time\n",
    "import datetime\n",
    "\n",
    "def _clear_expire(cache, duration):\n",
    "    expire_keys = []\n",
    "    for k, (_, v) in cache.items():\n",
    "        now = datetime.datetime.now().timestamp()\n",
    "        if now - v > duration:\n",
    "            expire_keys.append(k)\n",
    "    for i in expire_keys:\n",
    "        cache.pop(i)\n",
    "        \n",
    "def _make_key(fn, args, kwargs):\n",
    "    sig = inspect.signature(fn)\n",
    "    params = sig.parameters\n",
    "\n",
    "    target = dict(zip(list(params.keys()), args), **kwargs)\n",
    "    # print(params)\n",
    "    for k, v in params.items():\n",
    "        if k not in target:\n",
    "            target[k] = v.default                \n",
    "    return tuple(sorted(target.items())), target\n",
    "                           \n",
    "\n",
    "def logger(fn):\n",
    "    @wraps(fn)\n",
    "    def wrapper(*args, **kwargs):\n",
    "        start = datetime.datetime.now()        \n",
    "        ret = fn(*args, **kwargs)\n",
    "        delta = (datetime.datetime.now() - start).total_seconds()\n",
    "        print(fn.__name__, delta)\n",
    "        return ret\n",
    "    return wrapper\n",
    "    \n",
    "def mag_cache(duration=2):\n",
    "    def cache(fn):\n",
    "        cache_dic = {}\n",
    "               \n",
    "        @wraps(fn)\n",
    "        def wrapper(*args, **kwargs):\n",
    "            _clear_expire(cache_dic, duration)\n",
    "            key, target = _make_key(fn, args, kwargs)\n",
    "                        \n",
    "            if key not in cache_dic:\n",
    "                cache_dic[key] = fn(**target), datetime.datetime.now().timestamp()\n",
    "\n",
    "            return cache_dic[key]\n",
    "\n",
    "        return wrapper\n",
    "    return cache\n",
    "    # add = logger(mag_cache(wrapper)) logger里面的fn是mag_cache(wrapper)\n",
    "           # add里面的fn 指logger里面的wrapper\n",
    "@logger             # add = mag_cache(2)(add)->mag_cache(cache)->mag_cache(wrapper)\n",
    "@mag_cache(20)              # add里面的fn 是add函数\n",
    "def add(a=4, b=5):\n",
    "    time.sleep(2)\n",
    "    return a+b"
   ]
  },
  {
   "cell_type": "code",
   "execution_count": 130,
   "metadata": {},
   "outputs": [
    {
     "name": "stdout",
     "output_type": "stream",
     "text": [
      "add 2.003159\n",
      "(9, 1566969654.319878)\n",
      "********\n",
      "add 7.4e-05\n",
      "(9, 1566969654.319878)\n",
      "add 4.3e-05\n",
      "(9, 1566969654.319878)\n",
      "add 3.9e-05\n",
      "(9, 1566969654.319878)\n",
      "add 5.6e-05\n",
      "(9, 1566969654.319878)\n",
      "add 4.4e-05\n",
      "(9, 1566969654.319878)\n",
      "add 5.1e-05\n",
      "(9, 1566969654.319878)\n"
     ]
    }
   ],
   "source": [
    "print(add(4))\n",
    "print('********')\n",
    "print(add(4))\n",
    "print(add(4, 5))\n",
    "print(add(a=4, b=5))\n",
    "print(add(a=4))\n",
    "print(add(b=5))\n",
    "print(add(4, b=5))"
   ]
  },
  {
   "cell_type": "code",
   "execution_count": 131,
   "metadata": {},
   "outputs": [],
   "source": [
    "from functools import wraps\n",
    "import inspect\n",
    "import time\n",
    "import datetime\n",
    "\n",
    "def _clear_expire(cache, duration):\n",
    "    expire_keys = []\n",
    "    for k, (_, v) in cache.items():\n",
    "        now = datetime.datetime.now().timestamp()\n",
    "        if now - v > duration:\n",
    "            expire_keys.append(k)\n",
    "    for i in expire_keys:\n",
    "        cache.pop(i)\n",
    "        \n",
    "def _make_key(fn, args, kwargs):\n",
    "    sig = inspect.signature(fn)\n",
    "    params = sig.parameters\n",
    "\n",
    "    target = dict(zip(list(params.keys()), args), **kwargs)\n",
    "\n",
    "    target.update(((k, params[k].default) for k in (params.keys() - target.keys())))\n",
    "\n",
    "        \n",
    "    return tuple(sorted(target.items())), target\n",
    "                           \n",
    "\n",
    "def logger(fn):\n",
    "    @wraps(fn)\n",
    "    def wrapper(*args, **kwargs):\n",
    "        start = datetime.datetime.now()        \n",
    "        ret = fn(*args, **kwargs)\n",
    "        delta = (datetime.datetime.now() - start).total_seconds()\n",
    "        print(fn.__name__, delta)\n",
    "        return ret\n",
    "    return wrapper\n",
    "    \n",
    "def mag_cache(duration=2):\n",
    "    def cache(fn):\n",
    "        cache_dic = {}\n",
    "               \n",
    "        @wraps(fn)\n",
    "        def wrapper(*args, **kwargs):\n",
    "            _clear_expire(cache_dic, duration)\n",
    "            key, target = _make_key(fn, args, kwargs)\n",
    "                        \n",
    "            if key not in cache_dic:\n",
    "                cache_dic[key] = fn(**target), datetime.datetime.now().timestamp()\n",
    "\n",
    "            return cache_dic[key]\n",
    "\n",
    "        return wrapper\n",
    "    return cache\n",
    "    # add = logger(mag_cache(wrapper)) logger里面的fn是mag_cache(wrapper)\n",
    "           # add里面的fn 指logger里面的wrapper\n",
    "@logger             # add = mag_cache(2)(add)->mag_cache(cache)->mag_cache(wrapper)\n",
    "@mag_cache(20)              # add里面的fn 是add函数\n",
    "def add(a=4, b=5):\n",
    "    time.sleep(2)\n",
    "    return a+b"
   ]
  },
  {
   "cell_type": "code",
   "execution_count": 132,
   "metadata": {},
   "outputs": [
    {
     "name": "stdout",
     "output_type": "stream",
     "text": [
      "add 2.000258\n",
      "(9, 1566969897.635582)\n",
      "********\n",
      "add 0.000148\n",
      "(9, 1566969897.635582)\n",
      "add 0.000101\n",
      "(9, 1566969897.635582)\n",
      "add 0.000119\n",
      "(9, 1566969897.635582)\n",
      "add 0.000104\n",
      "(9, 1566969897.635582)\n",
      "add 9.4e-05\n",
      "(9, 1566969897.635582)\n",
      "add 6e-05\n",
      "(9, 1566969897.635582)\n"
     ]
    }
   ],
   "source": [
    "print(add(4))\n",
    "print('********')\n",
    "print(add(4))\n",
    "print(add(4, 5))\n",
    "print(add(a=4, b=5))\n",
    "print(add(a=4))\n",
    "print(add(b=5))\n",
    "print(add(4, b=5))"
   ]
  },
  {
   "cell_type": "code",
   "execution_count": 189,
   "metadata": {},
   "outputs": [],
   "source": [
    "from functools import wraps\n",
    "import inspect\n",
    "import time\n",
    "import datetime\n",
    "from collections import OrderedDict\n",
    "\n",
    "def _clear_expire(cache, duration):\n",
    "    expire_keys = []\n",
    "    for k, (_, v) in cache.items():\n",
    "        now = datetime.datetime.now().timestamp()\n",
    "        if now - v > duration:\n",
    "            expire_keys.append(k)\n",
    "    for i in expire_keys:\n",
    "        cache.pop(i)\n",
    "        \n",
    "def _make_key(fn, *args, **kwargs):\n",
    "    sig = inspect.signature(fn)\n",
    "    params = sig.parameters\n",
    "#     print('params.keys():', params.keys())\n",
    "#     print('args:', args)\n",
    "    print(params)\n",
    "    print(params.keys(), type(params.keys()))\n",
    "    target = OrderedDict(zip(params.keys(), args))\n",
    "#     print('***:', target)\n",
    "    for k, v in params.items():\n",
    "        if k not in target:\n",
    "            if k in kwargs:\n",
    "                target[k] = kwargs[k]\n",
    "            else:\n",
    "                target[k] = v.default\n",
    "#     print(target)\n",
    "    return tuple(target.items()), target\n",
    "                           \n",
    "\n",
    "def logger(fn):\n",
    "    @wraps(fn)\n",
    "    def wrapper(*args, **kwargs):\n",
    "        start = datetime.datetime.now()        \n",
    "        ret = fn(*args, **kwargs)\n",
    "        delta = (datetime.datetime.now() - start).total_seconds()\n",
    "        print(fn.__name__, delta)\n",
    "        return ret\n",
    "    return wrapper\n",
    "    \n",
    "def mag_cache(duration=2):\n",
    "    def cache(fn):\n",
    "        cache_dic = {}\n",
    "               \n",
    "        @wraps(fn)\n",
    "        def wrapper(*args, **kwargs):\n",
    "            _clear_expire(cache_dic, duration)\n",
    "            key, target = _make_key(fn, *args, **kwargs)\n",
    "            print(key)          \n",
    "            if key not in cache_dic:\n",
    "                cache_dic[key] = fn(**target), datetime.datetime.now().timestamp()\n",
    "\n",
    "            return cache_dic[key]\n",
    "\n",
    "        return wrapper\n",
    "    return cache\n",
    "    # add = logger(mag_cache(wrapper)) logger里面的fn是mag_cache(wrapper)\n",
    "           # add里面的fn 指logger里面的wrapper\n",
    "@logger             # add = mag_cache(2)(add)->mag_cache(cache)->mag_cache(wrapper)\n",
    "@mag_cache(20)              # add里面的fn 是add函数\n",
    "def add(a=4, b=5):\n",
    "    time.sleep(2)\n",
    "    return a+b"
   ]
  },
  {
   "cell_type": "code",
   "execution_count": 190,
   "metadata": {},
   "outputs": [
    {
     "name": "stdout",
     "output_type": "stream",
     "text": [
      "OrderedDict([('a', <Parameter \"a=4\">), ('b', <Parameter \"b=5\">)])\n",
      "odict_keys(['a', 'b']) <class 'odict_keys'>\n",
      "(('a', 4), ('b', 5))\n",
      "add 2.003614\n",
      "(9, 1566977973.586199)\n",
      "********\n",
      "OrderedDict([('a', <Parameter \"a=4\">), ('b', <Parameter \"b=5\">)])\n",
      "odict_keys(['a', 'b']) <class 'odict_keys'>\n",
      "(('a', 4), ('b', 5))\n",
      "add 0.000417\n",
      "(9, 1566977973.586199)\n",
      "OrderedDict([('a', <Parameter \"a=4\">), ('b', <Parameter \"b=5\">)])\n",
      "odict_keys(['a', 'b']) <class 'odict_keys'>\n",
      "(('a', 4), ('b', 5))\n",
      "add 0.000343\n",
      "(9, 1566977973.586199)\n",
      "OrderedDict([('a', <Parameter \"a=4\">), ('b', <Parameter \"b=5\">)])\n",
      "odict_keys(['a', 'b']) <class 'odict_keys'>\n",
      "(('a', 4), ('b', 5))\n",
      "add 0.00029\n",
      "(9, 1566977973.586199)\n",
      "OrderedDict([('a', <Parameter \"a=4\">), ('b', <Parameter \"b=5\">)])\n",
      "odict_keys(['a', 'b']) <class 'odict_keys'>\n",
      "(('a', 4), ('b', 5))\n",
      "add 0.000257\n",
      "(9, 1566977973.586199)\n",
      "OrderedDict([('a', <Parameter \"a=4\">), ('b', <Parameter \"b=5\">)])\n",
      "odict_keys(['a', 'b']) <class 'odict_keys'>\n",
      "(('a', 4), ('b', 5))\n",
      "add 0.000219\n",
      "(9, 1566977973.586199)\n",
      "OrderedDict([('a', <Parameter \"a=4\">), ('b', <Parameter \"b=5\">)])\n",
      "odict_keys(['a', 'b']) <class 'odict_keys'>\n",
      "(('a', 4), ('b', 5))\n",
      "add 0.000223\n",
      "(9, 1566977973.586199)\n"
     ]
    }
   ],
   "source": [
    "print(add(4))\n",
    "print('********')\n",
    "print(add(4))\n",
    "print(add(4, 5))\n",
    "print(add(a=4, b=5))\n",
    "print(add(a=4))\n",
    "print(add(b=5))\n",
    "print(add(4, b=5))"
   ]
  },
  {
   "cell_type": "code",
   "execution_count": 186,
   "metadata": {},
   "outputs": [
    {
     "data": {
      "text/plain": [
       "OrderedDict([('b', 3), ('a', 2)])"
      ]
     },
     "execution_count": 186,
     "metadata": {},
     "output_type": "execute_result"
    }
   ],
   "source": [
    "a = OrderedDict()\n",
    "a.update([('b', 3), ('a', 2)])\n",
    "a"
   ]
  },
  {
   "cell_type": "code",
   "execution_count": 188,
   "metadata": {},
   "outputs": [
    {
     "data": {
      "text/plain": [
       "OrderedDict([('b', 1), ('a', 2)])"
      ]
     },
     "execution_count": 188,
     "metadata": {},
     "output_type": "execute_result"
    }
   ],
   "source": [
    "a = OrderedDict()\n",
    "a.update({'b':1, 'a':2})\n",
    "a"
   ]
  },
  {
   "cell_type": "code",
   "execution_count": null,
   "metadata": {},
   "outputs": [],
   "source": []
  },
  {
   "cell_type": "code",
   "execution_count": 175,
   "metadata": {},
   "outputs": [
    {
     "data": {
      "text/plain": [
       "OrderedDict([('a', 3)])"
      ]
     },
     "execution_count": 175,
     "metadata": {},
     "output_type": "execute_result"
    }
   ],
   "source": [
    "params = {'a':1, 'b':2}\n",
    "args = (3,)\n",
    "target = OrderedDict(zip(params.keys(), args))\n",
    "target"
   ]
  },
  {
   "cell_type": "code",
   "execution_count": null,
   "metadata": {},
   "outputs": [],
   "source": []
  },
  {
   "cell_type": "code",
   "execution_count": null,
   "metadata": {},
   "outputs": [],
   "source": []
  },
  {
   "cell_type": "code",
   "execution_count": null,
   "metadata": {},
   "outputs": [],
   "source": []
  },
  {
   "cell_type": "code",
   "execution_count": null,
   "metadata": {},
   "outputs": [],
   "source": []
  },
  {
   "cell_type": "code",
   "execution_count": null,
   "metadata": {},
   "outputs": [],
   "source": []
  },
  {
   "cell_type": "code",
   "execution_count": 147,
   "metadata": {},
   "outputs": [
    {
     "name": "stdout",
     "output_type": "stream",
     "text": [
      "{'a': 1, 'b': 2}\n"
     ]
    }
   ],
   "source": [
    "a = {}\n",
    "a.update(a=1, b=2)\n",
    "print(a)"
   ]
  },
  {
   "cell_type": "code",
   "execution_count": 151,
   "metadata": {
    "scrolled": true
   },
   "outputs": [
    {
     "data": {
      "text/plain": [
       "{0: 'a', 1: 'b', 'c': 9, 'd': 8, '6': 'w', '7': 'q'}"
      ]
     },
     "execution_count": 151,
     "metadata": {},
     "output_type": "execute_result"
    }
   ],
   "source": [
    "# , {'6':'w', '7':'q'}\n",
    "target = dict(zip(list(range(3)), ['a', 'b']), c=9, d=8, **{'6':'w', '7':'q'})\n",
    "target"
   ]
  },
  {
   "cell_type": "code",
   "execution_count": 138,
   "metadata": {},
   "outputs": [
    {
     "name": "stdout",
     "output_type": "stream",
     "text": [
      "(0, 'a')\n",
      "(1, 'b')\n"
     ]
    }
   ],
   "source": [
    "for i in zip(list(range(3)), ['a', 'b']):\n",
    "    print(i)"
   ]
  },
  {
   "cell_type": "code",
   "execution_count": null,
   "metadata": {},
   "outputs": [],
   "source": []
  },
  {
   "cell_type": "code",
   "execution_count": null,
   "metadata": {},
   "outputs": [],
   "source": []
  },
  {
   "cell_type": "code",
   "execution_count": null,
   "metadata": {},
   "outputs": [],
   "source": []
  },
  {
   "cell_type": "code",
   "execution_count": null,
   "metadata": {},
   "outputs": [],
   "source": []
  },
  {
   "cell_type": "code",
   "execution_count": 64,
   "metadata": {},
   "outputs": [],
   "source": [
    "x = {'a': 1}\n",
    "def f1():\n",
    "    def fn(y):\n",
    "        return y\n",
    "    x = fn(x)\n",
    "    return x"
   ]
  },
  {
   "cell_type": "code",
   "execution_count": 54,
   "metadata": {},
   "outputs": [],
   "source": [
    "x = {'a': 1}\n",
    "def fn(y):\n",
    "    return y\n",
    "x = {'b': 1}\n",
    "x = fn(x)"
   ]
  },
  {
   "cell_type": "code",
   "execution_count": 55,
   "metadata": {},
   "outputs": [],
   "source": []
  },
  {
   "cell_type": "code",
   "execution_count": null,
   "metadata": {},
   "outputs": [],
   "source": []
  },
  {
   "cell_type": "code",
   "execution_count": null,
   "metadata": {
    "scrolled": true
   },
   "outputs": [],
   "source": []
  },
  {
   "cell_type": "code",
   "execution_count": 14,
   "metadata": {},
   "outputs": [
    {
     "data": {
      "text/plain": [
       "2"
      ]
     },
     "execution_count": 14,
     "metadata": {},
     "output_type": "execute_result"
    }
   ],
   "source": [
    "a = 1\n",
    "def fn():\n",
    "    a = 2\n",
    "    return a\n",
    "a = fn()\n",
    "a"
   ]
  },
  {
   "cell_type": "code",
   "execution_count": 39,
   "metadata": {},
   "outputs": [],
   "source": [
    "# l = []\n",
    "def f1():\n",
    "#     print(1)\n",
    "    def f2():\n",
    "#         print(l)\n",
    "        l.append(1)\n",
    "        return l\n",
    "    l = f2()\n",
    "    \n",
    "    return l\n"
   ]
  },
  {
   "cell_type": "code",
   "execution_count": 40,
   "metadata": {},
   "outputs": [
    {
     "data": {
      "text/plain": [
       "[1]"
      ]
     },
     "execution_count": 40,
     "metadata": {},
     "output_type": "execute_result"
    }
   ],
   "source": [
    "f1()"
   ]
  },
  {
   "cell_type": "code",
   "execution_count": 28,
   "metadata": {},
   "outputs": [
    {
     "ename": "UnboundLocalError",
     "evalue": "local variable 'a' referenced before assignment",
     "output_type": "error",
     "traceback": [
      "\u001b[0;31m---------------------------------------------------------------------------\u001b[0m",
      "\u001b[0;31mUnboundLocalError\u001b[0m                         Traceback (most recent call last)",
      "\u001b[0;32m<ipython-input-28-c8b2d209f1b0>\u001b[0m in \u001b[0;36m<module>\u001b[0;34m()\u001b[0m\n\u001b[1;32m      5\u001b[0m     \u001b[0ma\u001b[0m \u001b[0;34m=\u001b[0m \u001b[0mlist\u001b[0m\u001b[0;34m(\u001b[0m\u001b[0;34m)\u001b[0m\u001b[0;34m\u001b[0m\u001b[0;34m\u001b[0m\u001b[0m\n\u001b[1;32m      6\u001b[0m \u001b[0;34m\u001b[0m\u001b[0m\n\u001b[0;32m----> 7\u001b[0;31m \u001b[0mf\u001b[0m\u001b[0;34m(\u001b[0m\u001b[0;34m)\u001b[0m\u001b[0;34m\u001b[0m\u001b[0;34m\u001b[0m\u001b[0m\n\u001b[0m",
      "\u001b[0;32m<ipython-input-28-c8b2d209f1b0>\u001b[0m in \u001b[0;36mf\u001b[0;34m()\u001b[0m\n\u001b[1;32m      2\u001b[0m \u001b[0;34m\u001b[0m\u001b[0m\n\u001b[1;32m      3\u001b[0m \u001b[0;32mdef\u001b[0m \u001b[0mf\u001b[0m\u001b[0;34m(\u001b[0m\u001b[0;34m)\u001b[0m\u001b[0;34m:\u001b[0m\u001b[0;34m\u001b[0m\u001b[0;34m\u001b[0m\u001b[0m\n\u001b[0;32m----> 4\u001b[0;31m     \u001b[0ma\u001b[0m\u001b[0;34m.\u001b[0m\u001b[0mappend\u001b[0m\u001b[0;34m(\u001b[0m\u001b[0;36m1\u001b[0m\u001b[0;34m)\u001b[0m\u001b[0;34m\u001b[0m\u001b[0;34m\u001b[0m\u001b[0m\n\u001b[0m\u001b[1;32m      5\u001b[0m     \u001b[0ma\u001b[0m \u001b[0;34m=\u001b[0m \u001b[0mlist\u001b[0m\u001b[0;34m(\u001b[0m\u001b[0;34m)\u001b[0m\u001b[0;34m\u001b[0m\u001b[0;34m\u001b[0m\u001b[0m\n\u001b[1;32m      6\u001b[0m \u001b[0;34m\u001b[0m\u001b[0m\n",
      "\u001b[0;31mUnboundLocalError\u001b[0m: local variable 'a' referenced before assignment"
     ]
    }
   ],
   "source": [
    "a = []\n",
    "\n",
    "def f():\n",
    "    a.append(1)\n",
    "    a = list()\n",
    "    \n",
    "f()"
   ]
  },
  {
   "cell_type": "code",
   "execution_count": null,
   "metadata": {},
   "outputs": [],
   "source": [
    "from functools import wraps\n",
    "import inspect\n",
    "import time\n",
    "import datetime\n",
    "\n",
    "def logger(fn):\n",
    "    @wraps(fn)\n",
    "    def wrapper(*args, **kwargs):\n",
    "        start = datetime.datetime.now()        \n",
    "        ret = fn(*args, **kwargs)\n",
    "        delta = (datetime.datetime.now() - start).total_seconds()\n",
    "        print(fn.__name__, delta)\n",
    "        return ret\n",
    "    return wrapper\n",
    "    \n",
    "def mag_cache(duration=2):\n",
    "    def cache(fn):\n",
    "        cache_dic = {}\n",
    "        @wraps(fn)\n",
    "        def wrapper(*args, **kwargs):\n",
    "            \n",
    "            def _clear_expire():\n",
    "                expire_keys = []\n",
    "                for k, (_, v) in cache_dic.items():\n",
    "                    now = datetime.datetime.now().timestamp()\n",
    "                    if now - v > duration:\n",
    "                        expire_keys.append(k)\n",
    "                for i in expire_keys:\n",
    "                    cache_dic.pop(i)\n",
    "                return cache_dic   \n",
    "            cache_dic = _clear_expire()\n",
    "            \n",
    "            def _make_key():\n",
    "                sig = inspect.signature(fn)\n",
    "                params = sig.parameters\n",
    "\n",
    "                target = dict(zip(list(params.keys()), args), **kwargs)\n",
    "                # print(params)\n",
    "                for k, v in params.items():\n",
    "                    if k not in target:\n",
    "                        target[k] = v.default\n",
    "                key = tuple(sorted(target.items()))\n",
    "                return key\n",
    "            key = _make_key()\n",
    "            \n",
    "            \n",
    "            if key not in cache_dic:\n",
    "                cache_dic[key] = fn(**kwargs), datetime.datetime.now().timestamp()\n",
    "\n",
    "            return cache_dic[key]\n",
    "\n",
    "        return wrapper\n",
    "    return cache\n",
    "    # add = logger(mag_cache(wrapper)) logger里面的fn是mag_cache(wrapper)\n",
    "           # add里面的fn 指logger里面的wrapper\n",
    "@logger             # add = mag_cache(2)(add)->mag_cache(cache)->mag_cache(wrapper)\n",
    "@mag_cache(2)              # add里面的fn 是add函数\n",
    "def add(a=4, b=5):\n",
    "    time.sleep(2)\n",
    "    return a+b"
   ]
  },
  {
   "cell_type": "code",
   "execution_count": null,
   "metadata": {},
   "outputs": [],
   "source": []
  },
  {
   "cell_type": "code",
   "execution_count": null,
   "metadata": {},
   "outputs": [],
   "source": []
  },
  {
   "cell_type": "code",
   "execution_count": null,
   "metadata": {},
   "outputs": [],
   "source": []
  },
  {
   "cell_type": "code",
   "execution_count": null,
   "metadata": {},
   "outputs": [],
   "source": []
  },
  {
   "cell_type": "code",
   "execution_count": null,
   "metadata": {},
   "outputs": [],
   "source": []
  },
  {
   "cell_type": "code",
   "execution_count": null,
   "metadata": {},
   "outputs": [],
   "source": []
  },
  {
   "cell_type": "code",
   "execution_count": null,
   "metadata": {},
   "outputs": [],
   "source": []
  },
  {
   "cell_type": "code",
   "execution_count": null,
   "metadata": {},
   "outputs": [],
   "source": []
  },
  {
   "cell_type": "code",
   "execution_count": null,
   "metadata": {},
   "outputs": [],
   "source": []
  },
  {
   "cell_type": "code",
   "execution_count": null,
   "metadata": {},
   "outputs": [],
   "source": []
  },
  {
   "cell_type": "code",
   "execution_count": null,
   "metadata": {},
   "outputs": [],
   "source": []
  },
  {
   "cell_type": "code",
   "execution_count": null,
   "metadata": {},
   "outputs": [],
   "source": []
  },
  {
   "cell_type": "code",
   "execution_count": null,
   "metadata": {},
   "outputs": [],
   "source": []
  },
  {
   "cell_type": "code",
   "execution_count": 181,
   "metadata": {},
   "outputs": [
    {
     "ename": "SyntaxError",
     "evalue": "invalid syntax (<ipython-input-181-55a12776396a>, line 1)",
     "output_type": "error",
     "traceback": [
      "\u001b[0;36m  File \u001b[0;32m\"<ipython-input-181-55a12776396a>\"\u001b[0;36m, line \u001b[0;32m1\u001b[0m\n\u001b[0;31m    c = OrderedDict([('a', <Parameter \"a=4\">), ('b', <Parameter \"b=5\">)])\u001b[0m\n\u001b[0m                           ^\u001b[0m\n\u001b[0;31mSyntaxError\u001b[0m\u001b[0;31m:\u001b[0m invalid syntax\n"
     ]
    }
   ],
   "source": [
    "c = OrderedDict([('a', <Parameter \"a=4\">), ('b', <Parameter \"b=5\">)])\n",
    "for i, j in c:\n",
    "    pass"
   ]
  },
  {
   "cell_type": "code",
   "execution_count": null,
   "metadata": {},
   "outputs": [],
   "source": []
  },
  {
   "cell_type": "code",
   "execution_count": null,
   "metadata": {},
   "outputs": [],
   "source": []
  },
  {
   "cell_type": "code",
   "execution_count": null,
   "metadata": {},
   "outputs": [],
   "source": []
  },
  {
   "cell_type": "code",
   "execution_count": null,
   "metadata": {},
   "outputs": [],
   "source": []
  },
  {
   "cell_type": "code",
   "execution_count": null,
   "metadata": {},
   "outputs": [],
   "source": []
  },
  {
   "cell_type": "code",
   "execution_count": 171,
   "metadata": {},
   "outputs": [
    {
     "name": "stdout",
     "output_type": "stream",
     "text": [
      "dict_items([('b', 1), ('a', 2)]) <class 'dict_items'>\n",
      "[('a', 2), ('b', 1)]\n",
      "(('a', 2), ('b', 1))\n"
     ]
    }
   ],
   "source": [
    "a = {'b':1, 'a':2}\n",
    "b = sorted(a.items()) # sorted可以对<class 'dict_items'>排序\n",
    "# 并且返回一个list [('a', 2), ('b', 1)]\n",
    "print(a.items(), type(a.items()))\n",
    "print(b)\n",
    "print(tuple(b))\n",
    "\n"
   ]
  },
  {
   "cell_type": "code",
   "execution_count": 168,
   "metadata": {},
   "outputs": [
    {
     "ename": "SyntaxError",
     "evalue": "invalid syntax (<ipython-input-168-363e88e975b4>, line 1)",
     "output_type": "error",
     "traceback": [
      "\u001b[0;36m  File \u001b[0;32m\"<ipython-input-168-363e88e975b4>\"\u001b[0;36m, line \u001b[0;32m1\u001b[0m\n\u001b[0;31m    sorted???\u001b[0m\n\u001b[0m          ^\u001b[0m\n\u001b[0;31mSyntaxError\u001b[0m\u001b[0;31m:\u001b[0m invalid syntax\n"
     ]
    }
   ],
   "source": [
    "sorted()"
   ]
  },
  {
   "cell_type": "code",
   "execution_count": 154,
   "metadata": {},
   "outputs": [
    {
     "name": "stdout",
     "output_type": "stream",
     "text": [
      "{'b': 2, 'a': 1, 'c': 1}\n"
     ]
    }
   ],
   "source": [
    "b = {'b':2}\n",
    "b.update(a=1,c=1)\n",
    "print(b)"
   ]
  },
  {
   "cell_type": "code",
   "execution_count": 155,
   "metadata": {},
   "outputs": [
    {
     "data": {
      "text/plain": [
       "{'a': 1, 'b': 2, 'c': 3}"
      ]
     },
     "execution_count": 155,
     "metadata": {},
     "output_type": "execute_result"
    }
   ],
   "source": [
    "dict(a=1, b=2, c=3)"
   ]
  },
  {
   "cell_type": "code",
   "execution_count": 150,
   "metadata": {},
   "outputs": [
    {
     "name": "stdout",
     "output_type": "stream",
     "text": [
      "{'a': 1}\n"
     ]
    }
   ],
   "source": [
    "print({'a':1})"
   ]
  },
  {
   "cell_type": "code",
   "execution_count": null,
   "metadata": {},
   "outputs": [],
   "source": []
  },
  {
   "cell_type": "code",
   "execution_count": null,
   "metadata": {},
   "outputs": [],
   "source": []
  },
  {
   "cell_type": "code",
   "execution_count": 71,
   "metadata": {},
   "outputs": [
    {
     "data": {
      "text/plain": [
       "'0x7e'"
      ]
     },
     "execution_count": 71,
     "metadata": {},
     "output_type": "execute_result"
    }
   ],
   "source": [
    "hex(int.from_bytes('~'.encode(), 'big'))"
   ]
  },
  {
   "cell_type": "code",
   "execution_count": 59,
   "metadata": {},
   "outputs": [
    {
     "data": {
      "text/plain": [
       "'0x616263'"
      ]
     },
     "execution_count": 59,
     "metadata": {},
     "output_type": "execute_result"
    }
   ],
   "source": [
    "hex(int.from_bytes(b'abc', 'big'))"
   ]
  },
  {
   "cell_type": "code",
   "execution_count": null,
   "metadata": {},
   "outputs": [],
   "source": [
    "# 0110 0001"
   ]
  },
  {
   "cell_type": "code",
   "execution_count": 28,
   "metadata": {},
   "outputs": [
    {
     "data": {
      "text/plain": [
       "6"
      ]
     },
     "execution_count": 28,
     "metadata": {},
     "output_type": "execute_result"
    }
   ],
   "source": [
    "97 >> 4"
   ]
  },
  {
   "cell_type": "code",
   "execution_count": 100,
   "metadata": {},
   "outputs": [
    {
     "name": "stdout",
     "output_type": "stream",
     "text": [
      "[0, 0]\n"
     ]
    }
   ],
   "source": [
    "a = [1,2]\n",
    "a[-0:] = [0] * 2\n",
    "print(a)\n"
   ]
  },
  {
   "cell_type": "code",
   "execution_count": null,
   "metadata": {},
   "outputs": [],
   "source": []
  },
  {
   "cell_type": "code",
   "execution_count": null,
   "metadata": {},
   "outputs": [],
   "source": []
  },
  {
   "cell_type": "code",
   "execution_count": 31,
   "metadata": {},
   "outputs": [
    {
     "data": {
      "text/plain": [
       "(6, 6, 6)"
      ]
     },
     "execution_count": 31,
     "metadata": {},
     "output_type": "execute_result"
    }
   ],
   "source": [
    "# 右移动几位代表2的几次幂\n",
    "97 >> 0b0100, 97 >> 0x4, 97 >> 4"
   ]
  },
  {
   "cell_type": "code",
   "execution_count": 83,
   "metadata": {},
   "outputs": [
    {
     "data": {
      "text/plain": [
       "'0x6100'"
      ]
     },
     "execution_count": 83,
     "metadata": {},
     "output_type": "execute_result"
    }
   ],
   "source": [
    "hex(int.from_bytes(b'a' + b'\\x00', 'big'))"
   ]
  },
  {
   "cell_type": "code",
   "execution_count": 88,
   "metadata": {},
   "outputs": [
    {
     "data": {
      "text/plain": [
       "('\\x00', b'\\x00', 0)"
      ]
     },
     "execution_count": 88,
     "metadata": {},
     "output_type": "execute_result"
    }
   ],
   "source": [
    "b'\\x00'.decode(), b'\\x00', 0x00"
   ]
  },
  {
   "cell_type": "code",
   "execution_count": 80,
   "metadata": {},
   "outputs": [
    {
     "data": {
      "text/plain": [
       "0"
      ]
     },
     "execution_count": 80,
     "metadata": {},
     "output_type": "execute_result"
    }
   ],
   "source": []
  },
  {
   "cell_type": "code",
   "execution_count": 90,
   "metadata": {},
   "outputs": [
    {
     "data": {
      "text/plain": [
       "0"
      ]
     },
     "execution_count": 90,
     "metadata": {},
     "output_type": "execute_result"
    }
   ],
   "source": [
    "int.from_bytes(b'\\x00', 'big')"
   ]
  },
  {
   "cell_type": "code",
   "execution_count": 91,
   "metadata": {
    "scrolled": true
   },
   "outputs": [
    {
     "data": {
      "text/plain": [
       "b'\\x00'"
      ]
     },
     "execution_count": 91,
     "metadata": {},
     "output_type": "execute_result"
    }
   ],
   "source": [
    "bytes('\\x00', 'ascii')"
   ]
  },
  {
   "cell_type": "code",
   "execution_count": 92,
   "metadata": {},
   "outputs": [
    {
     "data": {
      "text/plain": [
       "b'\\x00'"
      ]
     },
     "execution_count": 92,
     "metadata": {},
     "output_type": "execute_result"
    }
   ],
   "source": [
    "bytes('\\x00', 'gbk')"
   ]
  },
  {
   "cell_type": "code",
   "execution_count": 93,
   "metadata": {},
   "outputs": [
    {
     "data": {
      "text/plain": [
       "b'\\x00'"
      ]
     },
     "execution_count": 93,
     "metadata": {},
     "output_type": "execute_result"
    }
   ],
   "source": [
    "bytes('\\x00', 'utf-8')"
   ]
  },
  {
   "cell_type": "code",
   "execution_count": 96,
   "metadata": {
    "scrolled": true
   },
   "outputs": [
    {
     "data": {
      "text/plain": [
       "b'abc'"
      ]
     },
     "execution_count": 96,
     "metadata": {},
     "output_type": "execute_result"
    }
   ],
   "source": [
    "bytes(range(97, 100))"
   ]
  },
  {
   "cell_type": "code",
   "execution_count": null,
   "metadata": {},
   "outputs": [],
   "source": []
  },
  {
   "cell_type": "code",
   "execution_count": null,
   "metadata": {},
   "outputs": [],
   "source": []
  },
  {
   "cell_type": "code",
   "execution_count": null,
   "metadata": {},
   "outputs": [],
   "source": []
  },
  {
   "cell_type": "code",
   "execution_count": 2,
   "metadata": {},
   "outputs": [],
   "source": [
    "import time"
   ]
  },
  {
   "cell_type": "code",
   "execution_count": 3,
   "metadata": {},
   "outputs": [],
   "source": [
    "\n",
    "cachedic = {}\n",
    "def makekey(*args, **kwargs):\n",
    "    key = args\n",
    "    if kwargs:\n",
    "        key += (object(), )\n",
    "        for item in kwargs.items():\n",
    "            key += item\n",
    "    return key\n",
    "\n",
    "def cache(fn):\n",
    "    def wrapper(*args, **kwargs):\n",
    "        key = makekey(*args, **kwargs)\n",
    "        if key in cachedic:\n",
    "            return cachedic[key]\n",
    "        ret = fn(*args, **kwargs)\n",
    "        cachedic[key] = ret\n",
    "        print('cachedic: ',cachedic)\n",
    "        return ret\n",
    "    return wrapper\n",
    "\n",
    "@cache\n",
    "def add(a, b):\n",
    "    time.sleep(2)\n",
    "    return a + b"
   ]
  },
  {
   "cell_type": "code",
   "execution_count": 4,
   "metadata": {},
   "outputs": [
    {
     "name": "stdout",
     "output_type": "stream",
     "text": [
      "cachedic:  {(1, 2): 3}\n"
     ]
    },
    {
     "data": {
      "text/plain": [
       "3"
      ]
     },
     "execution_count": 4,
     "metadata": {},
     "output_type": "execute_result"
    }
   ],
   "source": [
    "add(1, 2)"
   ]
  },
  {
   "cell_type": "code",
   "execution_count": 5,
   "metadata": {},
   "outputs": [
    {
     "data": {
      "text/plain": [
       "3"
      ]
     },
     "execution_count": 5,
     "metadata": {},
     "output_type": "execute_result"
    }
   ],
   "source": [
    "add(1, 2)"
   ]
  },
  {
   "cell_type": "code",
   "execution_count": 6,
   "metadata": {},
   "outputs": [
    {
     "name": "stdout",
     "output_type": "stream",
     "text": [
      "cachedic:  {(1, 2): 3, (<object object at 0x110046c00>, 'a', 1, 'b', 2): 3}\n"
     ]
    },
    {
     "data": {
      "text/plain": [
       "3"
      ]
     },
     "execution_count": 6,
     "metadata": {},
     "output_type": "execute_result"
    }
   ],
   "source": [
    "add(a=1, b=2)"
   ]
  },
  {
   "cell_type": "code",
   "execution_count": 225,
   "metadata": {},
   "outputs": [],
   "source": [
    "import inspect, time\n",
    "from collections import OrderedDict\n",
    "\n",
    "cachedic = {}\n",
    "# def makekey(*args, **kwargs):\n",
    "#     keyset = {}\n",
    "#     keyset.update(args)\n",
    "#     for item in kwargs.items():\n",
    "#         keyset.update(item)\n",
    "#     return keyset\n",
    "# def makedefaultkey():\n",
    "#     pass\n",
    "def updatedic(fn, args, kwargs):\n",
    "    tempdic = OrderedDict()\n",
    "    for k, v in inspect.signature(fn).parameters.items():\n",
    "        tempdic[k] = v.default\n",
    "    if args:\n",
    "        lenght = len(args)\n",
    "        if lenght == 1:\n",
    "            tempdic.update(dict(a=args[0]))\n",
    "        else:\n",
    "            tempdic.update(dict(a=args[0]))\n",
    "            tempdic.update(dict(b=args[1]))\n",
    "    if kwargs:\n",
    "        tempdic.update(kwargs)\n",
    "    return tempdic\n",
    "    \n",
    "\n",
    "def cache(fn):\n",
    "    def wrapper(*args, **kwargs):\n",
    "        #setkey = makekey(*args, **kwargs)\n",
    "        \n",
    "#         if key in cachedic:\n",
    "#             return cachedic[key]\n",
    "        tempdic = updatedic(fn, args, kwargs)\n",
    "    \n",
    "        print('cachedic:', cachedic)\n",
    "        \n",
    "        if tuple(tempdic.items()) in cachedic:\n",
    "            return cachedic[tuple(tempdic.items())]\n",
    "        \n",
    "        \n",
    "        \n",
    "        ret = fn(*args, **kwargs)\n",
    "        cachedic[tuple(tempdic.items())] = ret\n",
    "#         print(inspect.signature(fn))\n",
    "#         print(type(inspect.signature(fn)))\n",
    "        \n",
    "        #cachedic[key] = ret\n",
    "        #print('cachedic: ',cachedic)\n",
    "        return ret\n",
    "    return wrapper\n",
    "\n",
    "@cache # add = cache(add)\n",
    "def add(a=4, b=5):\n",
    "    time.sleep(2)\n",
    "    return a + b"
   ]
  },
  {
   "cell_type": "code",
   "execution_count": 226,
   "metadata": {
    "scrolled": true
   },
   "outputs": [
    {
     "name": "stdout",
     "output_type": "stream",
     "text": [
      "cachedic: {}\n"
     ]
    },
    {
     "data": {
      "text/plain": [
       "9"
      ]
     },
     "execution_count": 226,
     "metadata": {},
     "output_type": "execute_result"
    }
   ],
   "source": [
    "add()\n"
   ]
  },
  {
   "cell_type": "code",
   "execution_count": 227,
   "metadata": {
    "scrolled": false
   },
   "outputs": [
    {
     "name": "stdout",
     "output_type": "stream",
     "text": [
      "cachedic: {(('a', 4), ('b', 5)): 9}\n"
     ]
    },
    {
     "data": {
      "text/plain": [
       "9"
      ]
     },
     "execution_count": 227,
     "metadata": {},
     "output_type": "execute_result"
    }
   ],
   "source": [
    "add(a=4)"
   ]
  },
  {
   "cell_type": "code",
   "execution_count": 228,
   "metadata": {
    "scrolled": false
   },
   "outputs": [
    {
     "name": "stdout",
     "output_type": "stream",
     "text": [
      "cachedic: {(('a', 4), ('b', 5)): 9}\n"
     ]
    },
    {
     "data": {
      "text/plain": [
       "9"
      ]
     },
     "execution_count": 228,
     "metadata": {},
     "output_type": "execute_result"
    }
   ],
   "source": [
    "add(4)"
   ]
  },
  {
   "cell_type": "code",
   "execution_count": 229,
   "metadata": {},
   "outputs": [
    {
     "name": "stdout",
     "output_type": "stream",
     "text": [
      "cachedic: {(('a', 4), ('b', 5)): 9}\n"
     ]
    },
    {
     "data": {
      "text/plain": [
       "9"
      ]
     },
     "execution_count": 229,
     "metadata": {},
     "output_type": "execute_result"
    }
   ],
   "source": [
    "add(4, b=5)"
   ]
  },
  {
   "cell_type": "code",
   "execution_count": 230,
   "metadata": {
    "scrolled": true
   },
   "outputs": [
    {
     "name": "stdout",
     "output_type": "stream",
     "text": [
      "cachedic: {(('a', 4), ('b', 5)): 9}\n"
     ]
    },
    {
     "data": {
      "text/plain": [
       "9"
      ]
     },
     "execution_count": 230,
     "metadata": {},
     "output_type": "execute_result"
    }
   ],
   "source": [
    "add(4, 5)"
   ]
  },
  {
   "cell_type": "code",
   "execution_count": 231,
   "metadata": {
    "scrolled": true
   },
   "outputs": [
    {
     "name": "stdout",
     "output_type": "stream",
     "text": [
      "cachedic: {(('a', 4), ('b', 5)): 9}\n"
     ]
    },
    {
     "data": {
      "text/plain": [
       "9"
      ]
     },
     "execution_count": 231,
     "metadata": {},
     "output_type": "execute_result"
    }
   ],
   "source": [
    "add(a=4, b=5)"
   ]
  },
  {
   "cell_type": "code",
   "execution_count": null,
   "metadata": {},
   "outputs": [],
   "source": []
  },
  {
   "cell_type": "code",
   "execution_count": 187,
   "metadata": {},
   "outputs": [
    {
     "name": "stdout",
     "output_type": "stream",
     "text": [
      "{'a': 1}\n"
     ]
    }
   ],
   "source": [
    "tempdic = {}\n",
    "tempdic.update(dict(a=1))\n",
    "print(tempdic)"
   ]
  },
  {
   "cell_type": "code",
   "execution_count": 193,
   "metadata": {},
   "outputs": [
    {
     "data": {
      "text/plain": [
       "(('a', 1), ('b', 2))"
      ]
     },
     "execution_count": 193,
     "metadata": {},
     "output_type": "execute_result"
    }
   ],
   "source": [
    "tuple({'a':1, 'b':2}.items())"
   ]
  },
  {
   "cell_type": "code",
   "execution_count": 186,
   "metadata": {},
   "outputs": [
    {
     "data": {
      "text/plain": [
       "(['a', 1], ['b', 2])"
      ]
     },
     "execution_count": 186,
     "metadata": {},
     "output_type": "execute_result"
    }
   ],
   "source": [
    "tuple([['a', 1], ['b', 2]])"
   ]
  },
  {
   "cell_type": "code",
   "execution_count": 14,
   "metadata": {},
   "outputs": [
    {
     "data": {
      "text/plain": [
       "b'abc'"
      ]
     },
     "execution_count": 14,
     "metadata": {},
     "output_type": "execute_result"
    }
   ],
   "source": [
    "str1 = 'abc'\n",
    "str1.encode('utf8')"
   ]
  },
  {
   "cell_type": "code",
   "execution_count": 18,
   "metadata": {},
   "outputs": [
    {
     "name": "stdout",
     "output_type": "stream",
     "text": [
      "0b1100001\n",
      "0b1100010\n",
      "0b1100011\n"
     ]
    }
   ],
   "source": [
    "for i in range(97, 100):\n",
    "    print(bin(i))"
   ]
  },
  {
   "cell_type": "code",
   "execution_count": 113,
   "metadata": {
    "scrolled": true
   },
   "outputs": [
    {
     "name": "stdout",
     "output_type": "stream",
     "text": [
      "{0: 'A', 1: 'B', 2: 'C', 3: 'D', 4: 'E', 5: 'F', 6: 'G', 7: 'H', 8: 'I', 9: 'J', 10: 'K', 11: 'L', 12: 'M', 13: 'N', 14: 'O', 15: 'P', 16: 'Q', 17: 'R', 18: 'S', 19: 'T', 20: 'U', 21: 'V', 22: 'W', 23: 'X', 24: 'Y', 25: 'Z', 26: 'a', 27: 'b', 28: 'c', 29: 'd', 30: 'e', 31: 'f', 32: 'g', 33: 'h', 34: 'i', 35: 'j', 36: 'k', 37: 'l', 38: 'm', 39: 'n', 40: 'o', 41: 'p', 42: 'q', 43: 'r', 44: 's', 45: 't', 46: 'u', 47: 'v', 48: 'w', 49: 'x', 50: 'y', 51: 'z', 52: '0', 53: '1', 54: '2', 55: '3', 56: '4', 57: '5', 58: '6', 59: '7', 60: '8', 61: '9', 62: '+', 63: '/'}\n"
     ]
    }
   ],
   "source": [
    "import math\n",
    "mapping = {}\n",
    "for i in range(62):\n",
    "    if i < 26:\n",
    "        mapping[i] = chr(i+65)\n",
    "    elif i < 52:\n",
    "        mapping[i] = chr(i+71)\n",
    "    else:\n",
    "        mapping[i] = chr(i-4)\n",
    "mapping[62] = '+'\n",
    "mapping[63] = '/'\n",
    "print(mapping)"
   ]
  },
  {
   "cell_type": "code",
   "execution_count": null,
   "metadata": {},
   "outputs": [],
   "source": []
  },
  {
   "cell_type": "code",
   "execution_count": 85,
   "metadata": {},
   "outputs": [],
   "source": [
    "def convert_str_to_base64(str1):\n",
    "    #chrlst = ['A', 'b', '+']\n",
    "    binlst = ['{}{}'.format('0', bin(ord(i))[2:]) for i in str1]\n",
    "    #print(binlst)\n",
    "    sumstr = ''.join(binlst)\n",
    "    # print(sumstr)\n",
    "    lenght = math.ceil(len(sumstr)/6)\n",
    "    # print(lenght)\n",
    "    rightlst = ['{:0<8}'.format('00'+sumstr[6*i: 6*(i+1)]) for i in range(lenght)]\n",
    "    #print(rightlst)\n",
    "    newstr = ''.join([mapping.get(int('0b'+i[2:], 2), None) for i in rightlst])\n",
    "    return newstr"
   ]
  },
  {
   "cell_type": "code",
   "execution_count": 78,
   "metadata": {
    "scrolled": false
   },
   "outputs": [
    {
     "name": "stdout",
     "output_type": "stream",
     "text": [
      "['01100001', '01100010', '0101011']\n",
      "['00011000', '00010110', '00001001', '00010110']\n"
     ]
    },
    {
     "data": {
      "text/plain": [
       "'YWJW'"
      ]
     },
     "execution_count": 78,
     "metadata": {},
     "output_type": "execute_result"
    }
   ],
   "source": [
    "convert_str_to_base64('ab+')"
   ]
  },
  {
   "cell_type": "code",
   "execution_count": 80,
   "metadata": {
    "scrolled": true
   },
   "outputs": [
    {
     "name": "stdout",
     "output_type": "stream",
     "text": [
      "['01000001']\n",
      "['00010000', '00010000']\n"
     ]
    },
    {
     "data": {
      "text/plain": [
       "'QQ'"
      ]
     },
     "execution_count": 80,
     "metadata": {},
     "output_type": "execute_result"
    }
   ],
   "source": [
    "convert_str_to_base64('A')"
   ]
  },
  {
   "cell_type": "code",
   "execution_count": 86,
   "metadata": {
    "scrolled": true
   },
   "outputs": [
    {
     "data": {
      "text/plain": [
       "'TWFuQNLmgZGlzdGluZ3Vpc2hlZFiBub3RA3tzY8oGJ5QNDS5oHJlYXNvbliBidXRAxPKB0aGlzQObS3M7q2MLkgcGFzc2lvbkDM5N7agb3RoZXJAwtzS2sLY5rEDu0NLG0IGlzQMKBsdXN0QN7MgdGhlQNrS3MixA6NDC6IGJ5QMKBwZXJzZXZlcmFuY2VA3syBkZWxpZ2h0QNLcgdGhlQMbe3OjS3OrKyIGFuZEDS3MjKzMLo0s7CxNjKgZ2VuZXJhdGlvbkDezIGtub3dsZWRnZViBleGNlZWRzQOjQyoHNob3J0QOzK0MraytzGyoG9mQMLc8oGNhcm5hbEDg2MrC5urkyrg'"
      ]
     },
     "execution_count": 86,
     "metadata": {},
     "output_type": "execute_result"
    }
   ],
   "source": [
    "str1 = 'Man is distinguished, not only by his reason, but by this singular passion from other animals, which is a lust of the mind, that by a perseverance of delight in the continued and indefatigable generation of knowledge, exceeds the short vehemence of any carnal pleasure.'\n",
    "\n",
    "convert_str_to_base64(str1)"
   ]
  },
  {
   "cell_type": "code",
   "execution_count": 108,
   "metadata": {},
   "outputs": [],
   "source": [
    "def patch_bin(str2):   \n",
    "    new_bin_str = ''.join(['{:0>8}'.format(bin(ord(i))[2:]) for i in str2])\n",
    "    length = len(new_bin_str)\n",
    "    if length == 24:\n",
    "        return new_bin_str\n",
    "    return '{:0<24}'.format(new_bin_str)"
   ]
  },
  {
   "cell_type": "code",
   "execution_count": 109,
   "metadata": {},
   "outputs": [],
   "source": [
    "def split_bin(str3):   \n",
    "    base64 = ''.join([mapping.get(int(str3[6*i:6*(i+1)], 2), None) for i in range(4)])\n",
    "    return base64"
   ]
  },
  {
   "cell_type": "code",
   "execution_count": 110,
   "metadata": {},
   "outputs": [],
   "source": [
    "def convert_last_str(str4, index):\n",
    "    num = 0\n",
    "    last_str = str4[index+3:]\n",
    "    print('last_str:', last_str)\n",
    "    last_bin = ''.join(['{:0>8}'.format(bin(ord(i))[2:]) for i in last_str])\n",
    "    print('last_bin:', last_bin)\n",
    "    lenght = len(last_bin)\n",
    "    if 0 < lenght <=8:\n",
    "        num = 2\n",
    "        last_bin = '{:0<12}'.format(last_bin)\n",
    "    elif 8 < lenght <= 16:\n",
    "        num =1\n",
    "        last_bin = '{:0<18}'.format(last_bin)\n",
    "    base64 = ''.join([mapping.get(int(last_bin[i:i+6], 2), None) for i in range(0, lenght, 6)])\n",
    "    print('**:', base64)\n",
    "    if num == 1:\n",
    "        base64 += '='\n",
    "    if num == 2:\n",
    "        base64 += 2 * '='\n",
    "    return base64\n",
    "          "
   ]
  },
  {
   "cell_type": "code",
   "execution_count": 111,
   "metadata": {},
   "outputs": [],
   "source": [
    "def convert_str_to_base64(str1):\n",
    "    lenght = len(str1)\n",
    "    beforebase = ''\n",
    "    for i in range(0, lenght-3, 3):\n",
    "        #print(str1[i:i+3])\n",
    "        base64 = split_bin(patch_bin(str1[i:i+3])) \n",
    "        beforebase += base64\n",
    "    #print(beforebase)\n",
    "    base64 = beforebase + convert_last_str(str1, i)\n",
    "    print(convert_last_str(str1, i))\n",
    "    return base64\n",
    "    "
   ]
  },
  {
   "cell_type": "code",
   "execution_count": 114,
   "metadata": {
    "scrolled": true
   },
   "outputs": [
    {
     "name": "stdout",
     "output_type": "stream",
     "text": [
      "last_str: e.\n",
      "last_bin: 0110010100101110\n",
      "**: ZS4\n",
      "last_str: e.\n",
      "last_bin: 0110010100101110\n",
      "**: ZS4\n",
      "ZS4=\n"
     ]
    },
    {
     "data": {
      "text/plain": [
       "'TWFuIGlzIGRpc3Rpbmd1aXNoZWQsIG5vdCBvbmx5IGJ5IGhpcyByZWFzb24sIGJ1dCBieSB0aGlzIHNpbmd1bGFyIHBhc3Npb24gZnJvbSBvdGhlciBhbmltYWxzLCB3aGljaCBpcyBhIGx1c3Qgb2YgdGhlIG1pbmQsIHRoYXQgYnkgYSBwZXJzZXZlcmFuY2Ugb2YgZGVsaWdodCBpbiB0aGUgY29udGludWVkIGFuZCBpbmRlZmF0aWdhYmxlIGdlbmVyYXRpb24gb2Yga25vd2xlZGdlLCBleGNlZWRzIHRoZSBzaG9ydCB2ZWhlbWVuY2Ugb2YgYW55IGNhcm5hbCBwbGVhc3VyZS4='"
      ]
     },
     "execution_count": 114,
     "metadata": {},
     "output_type": "execute_result"
    }
   ],
   "source": [
    "str1 = 'Man is distinguished, not only by his reason, but by this singular passion from other animals, which is a lust of the mind, that by a perseverance of delight in the continued and indefatigable generation of knowledge, exceeds the short vehemence of any carnal pleasure.'\n",
    "\n",
    "convert_str_to_base64(str1)"
   ]
  },
  {
   "cell_type": "code",
   "execution_count": null,
   "metadata": {},
   "outputs": [],
   "source": [
    "TWFuIGlzIGRpc3Rpbmd1aXNoZWQsIG5vdCBvbmx5IGJ5IGhpcyByZWFzb24sIGJ1dCBieSB0aGlz\n",
    "IHNpbmd1bGFyIHBhc3Npb24gZnJvbSBvdGhlciBhbmltYWxzLCB3aGljaCBpcyBhIGx1c3Qgb2Yg\n",
    "dGhlIG1pbmQsIHRoYXQgYnkgYSBwZXJzZXZlcmFuY2Ugb2YgZGVsaWdodCBpbiB0aGUgY29udGlu\n",
    "dWVkIGFuZCBpbmRlZmF0aWdhYmxlIGdlbmVyYXRpb24gb2Yga25vd2xlZGdlLCBleGNlZWRzIHRo\n",
    "ZSBzaG9ydCB2ZWhlbWVuY2Ugb2YgYW55IGNhcm5hbCBwbGVhc3VyZS4="
   ]
  },
  {
   "cell_type": "code",
   "execution_count": 57,
   "metadata": {},
   "outputs": [
    {
     "data": {
      "text/plain": [
       "[9, 10]"
      ]
     },
     "execution_count": 57,
     "metadata": {},
     "output_type": "execute_result"
    }
   ],
   "source": [
    "a = [1,2,3,4,5,6,7,8,9,10]\n",
    "a[8:15]"
   ]
  },
  {
   "cell_type": "code",
   "execution_count": 59,
   "metadata": {},
   "outputs": [
    {
     "data": {
      "text/plain": [
       "3"
      ]
     },
     "execution_count": 59,
     "metadata": {},
     "output_type": "execute_result"
    }
   ],
   "source": [
    "import math\n",
    "math.ceil(13/6)"
   ]
  },
  {
   "cell_type": "code",
   "execution_count": 61,
   "metadata": {},
   "outputs": [
    {
     "data": {
      "text/plain": [
       "1"
      ]
     },
     "execution_count": 61,
     "metadata": {},
     "output_type": "execute_result"
    }
   ],
   "source": [
    "int('0b01000', 2)"
   ]
  },
  {
   "cell_type": "code",
   "execution_count": 93,
   "metadata": {},
   "outputs": [
    {
     "name": "stdout",
     "output_type": "stream",
     "text": [
      "0\n",
      "1\n",
      "1\n"
     ]
    }
   ],
   "source": [
    "for i in range(2):\n",
    "    print(i)\n",
    "print(i)"
   ]
  },
  {
   "cell_type": "code",
   "execution_count": 124,
   "metadata": {},
   "outputs": [
    {
     "data": {
      "text/plain": [
       "56"
      ]
     },
     "execution_count": 124,
     "metadata": {},
     "output_type": "execute_result"
    }
   ],
   "source": [
    "int('111000', 2)"
   ]
  },
  {
   "cell_type": "code",
   "execution_count": 15,
   "metadata": {},
   "outputs": [
    {
     "data": {
      "text/plain": [
       "24"
      ]
     },
     "execution_count": 15,
     "metadata": {},
     "output_type": "execute_result"
    }
   ],
   "source": [
    "int('0b011000', 2)"
   ]
  },
  {
   "cell_type": "code",
   "execution_count": 91,
   "metadata": {},
   "outputs": [
    {
     "data": {
      "text/plain": [
       "'0b1101110'"
      ]
     },
     "execution_count": 91,
     "metadata": {},
     "output_type": "execute_result"
    }
   ],
   "source": [
    "bin(ord('n'))"
   ]
  },
  {
   "cell_type": "code",
   "execution_count": 8,
   "metadata": {},
   "outputs": [
    {
     "data": {
      "text/plain": [
       "6382179"
      ]
     },
     "execution_count": 8,
     "metadata": {},
     "output_type": "execute_result"
    }
   ],
   "source": [
    "int.from_bytes('abc'.encode(), 'big')"
   ]
  },
  {
   "cell_type": "code",
   "execution_count": null,
   "metadata": {},
   "outputs": [],
   "source": [
    "int.from_bytes()"
   ]
  },
  {
   "cell_type": "code",
   "execution_count": 81,
   "metadata": {},
   "outputs": [
    {
     "data": {
      "text/plain": [
       "bytes"
      ]
     },
     "execution_count": 81,
     "metadata": {},
     "output_type": "execute_result"
    }
   ],
   "source": [
    "type(b'a')"
   ]
  },
  {
   "cell_type": "code",
   "execution_count": 82,
   "metadata": {},
   "outputs": [
    {
     "data": {
      "text/plain": [
       "b''"
      ]
     },
     "execution_count": 82,
     "metadata": {},
     "output_type": "execute_result"
    }
   ],
   "source": [
    "b'a'[1:]"
   ]
  },
  {
   "cell_type": "code",
   "execution_count": 1,
   "metadata": {},
   "outputs": [
    {
     "data": {
      "text/plain": [
       "b'abc'"
      ]
     },
     "execution_count": 1,
     "metadata": {},
     "output_type": "execute_result"
    }
   ],
   "source": [
    "'abc'.encode()"
   ]
  },
  {
   "cell_type": "code",
   "execution_count": 3,
   "metadata": {},
   "outputs": [
    {
     "data": {
      "text/plain": [
       "b'abc'"
      ]
     },
     "execution_count": 3,
     "metadata": {},
     "output_type": "execute_result"
    }
   ],
   "source": [
    "bytes('abc', 'ascii')"
   ]
  },
  {
   "cell_type": "code",
   "execution_count": 4,
   "metadata": {},
   "outputs": [
    {
     "data": {
      "text/plain": [
       "b'\\xe5\\xb0\\x8f\\xe7\\x8c\\xab'"
      ]
     },
     "execution_count": 4,
     "metadata": {},
     "output_type": "execute_result"
    }
   ],
   "source": [
    "'小猫'.encode()"
   ]
  },
  {
   "cell_type": "code",
   "execution_count": null,
   "metadata": {},
   "outputs": [],
   "source": [
    "str.encode()"
   ]
  },
  {
   "cell_type": "code",
   "execution_count": 9,
   "metadata": {},
   "outputs": [
    {
     "data": {
      "text/plain": [
       "'0b1000001'"
      ]
     },
     "execution_count": 9,
     "metadata": {},
     "output_type": "execute_result"
    }
   ],
   "source": [
    "bin(65)"
   ]
  },
  {
   "cell_type": "code",
   "execution_count": 10,
   "metadata": {},
   "outputs": [],
   "source": [
    "a = bytearray()"
   ]
  },
  {
   "cell_type": "code",
   "execution_count": 11,
   "metadata": {},
   "outputs": [
    {
     "data": {
      "text/plain": [
       "bytearray(b'')"
      ]
     },
     "execution_count": 11,
     "metadata": {},
     "output_type": "execute_result"
    }
   ],
   "source": [
    "a"
   ]
  },
  {
   "cell_type": "code",
   "execution_count": 17,
   "metadata": {},
   "outputs": [
    {
     "data": {
      "text/plain": [
       "bytearray(b'\\x02\\x10a')"
      ]
     },
     "execution_count": 17,
     "metadata": {},
     "output_type": "execute_result"
    }
   ],
   "source": [
    "a.append(97)\n",
    "a"
   ]
  },
  {
   "cell_type": "code",
   "execution_count": 13,
   "metadata": {},
   "outputs": [
    {
     "data": {
      "text/plain": [
       "bytearray(b'\\x02')"
      ]
     },
     "execution_count": 13,
     "metadata": {},
     "output_type": "execute_result"
    }
   ],
   "source": [
    "a"
   ]
  },
  {
   "cell_type": "code",
   "execution_count": null,
   "metadata": {},
   "outputs": [],
   "source": []
  },
  {
   "cell_type": "code",
   "execution_count": null,
   "metadata": {},
   "outputs": [],
   "source": []
  },
  {
   "cell_type": "code",
   "execution_count": null,
   "metadata": {},
   "outputs": [],
   "source": []
  },
  {
   "cell_type": "code",
   "execution_count": null,
   "metadata": {},
   "outputs": [],
   "source": []
  }
 ],
 "metadata": {
  "kernelspec": {
   "display_name": "Python 3",
   "language": "python",
   "name": "python3"
  },
  "language_info": {
   "codemirror_mode": {
    "name": "ipython",
    "version": 3
   },
   "file_extension": ".py",
   "mimetype": "text/x-python",
   "name": "python",
   "nbconvert_exporter": "python",
   "pygments_lexer": "ipython3",
   "version": "3.6.8"
  }
 },
 "nbformat": 4,
 "nbformat_minor": 2
}
