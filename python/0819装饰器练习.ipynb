{
 "cells": [
  {
   "cell_type": "code",
   "execution_count": 8,
   "metadata": {},
   "outputs": [
    {
     "data": {
      "text/plain": [
       "15"
      ]
     },
     "execution_count": 8,
     "metadata": {},
     "output_type": "execute_result"
    }
   ],
   "source": [
    "def add(a):\n",
    "    def add(b):\n",
    "        def add(c):\n",
    "            return a+b+c\n",
    "        return add\n",
    "    return add\n",
    "add(4)(5)(6)"
   ]
  },
  {
   "cell_type": "code",
   "execution_count": 2,
   "metadata": {},
   "outputs": [],
   "source": [
    "def add(a):\n",
    "    def add2(b):\n",
    "        def add3(c):\n",
    "            return a+b+c\n",
    "        return add3\n",
    "    return add2"
   ]
  },
  {
   "cell_type": "code",
   "execution_count": 3,
   "metadata": {},
   "outputs": [
    {
     "data": {
      "text/plain": [
       "15"
      ]
     },
     "execution_count": 3,
     "metadata": {},
     "output_type": "execute_result"
    }
   ],
   "source": [
    "add(4)(5)(6)"
   ]
  },
  {
   "cell_type": "code",
   "execution_count": 4,
   "metadata": {},
   "outputs": [],
   "source": [
    "def add(a, b):\n",
    "    def add1(c):\n",
    "        return a+b+c\n",
    "    return add1"
   ]
  },
  {
   "cell_type": "code",
   "execution_count": 5,
   "metadata": {},
   "outputs": [
    {
     "data": {
      "text/plain": [
       "15"
      ]
     },
     "execution_count": 5,
     "metadata": {},
     "output_type": "execute_result"
    }
   ],
   "source": [
    "add(4,5)(6)"
   ]
  },
  {
   "cell_type": "code",
   "execution_count": 6,
   "metadata": {},
   "outputs": [],
   "source": [
    "def add(a):\n",
    "    def add1(b, c):\n",
    "        return a+b+c\n",
    "    return add1"
   ]
  },
  {
   "cell_type": "code",
   "execution_count": 7,
   "metadata": {},
   "outputs": [
    {
     "data": {
      "text/plain": [
       "15"
      ]
     },
     "execution_count": 7,
     "metadata": {},
     "output_type": "execute_result"
    }
   ],
   "source": [
    "add(4)(5,6)"
   ]
  },
  {
   "cell_type": "code",
   "execution_count": 21,
   "metadata": {
    "scrolled": true
   },
   "outputs": [
    {
     "name": "stdout",
     "output_type": "stream",
     "text": [
      "6e-06\n",
      "2e-06\n",
      "2e-06\n"
     ]
    },
    {
     "data": {
      "text/plain": [
       "3"
      ]
     },
     "execution_count": 21,
     "metadata": {},
     "output_type": "execute_result"
    }
   ],
   "source": [
    "import datetime\n",
    "def add(a, b):\n",
    "    return a + b\n",
    "\n",
    "def logger(fn, *args, **kwargs): # 同时传入另一个函数的参数和变量\n",
    "    start = datetime.datetime.now()\n",
    "    x = fn(*args, **kwargs)\n",
    "    \n",
    "    delta = (datetime.datetime.now()-start).total_seconds()\n",
    "    print(delta)\n",
    "    return x\n",
    "    \n",
    "logger(add, 1, 2) # 三种调用方式等价\n",
    "logger(add, 1, b=2)\n",
    "logger(add, a=1, b=2)\n",
    "\n"
   ]
  },
  {
   "cell_type": "code",
   "execution_count": 23,
   "metadata": {},
   "outputs": [
    {
     "name": "stdout",
     "output_type": "stream",
     "text": [
      "5e-06\n"
     ]
    },
    {
     "data": {
      "text/plain": [
       "3"
      ]
     },
     "execution_count": 23,
     "metadata": {},
     "output_type": "execute_result"
    }
   ],
   "source": [
    "# 修改，在logger中先传入add, 再传入2个参数(柯里化)\n",
    "import datetime\n",
    "\n",
    "def add(a, b):\n",
    "    return a + b\n",
    "\n",
    "def logger(fn):\n",
    "    def wrapper(*args, **kwargs):     \n",
    "        start = datetime.datetime.now()\n",
    "        x = fn(*args, **kwargs)\n",
    "        delta = (datetime.datetime.now()-start).total_seconds()\n",
    "        print(delta)\n",
    "        return x\n",
    "    return wrapper\n",
    "logger(add)(1, 2) "
   ]
  },
  {
   "cell_type": "code",
   "execution_count": 24,
   "metadata": {
    "scrolled": true
   },
   "outputs": [
    {
     "name": "stdout",
     "output_type": "stream",
     "text": [
      "4e-06\n"
     ]
    },
    {
     "data": {
      "text/plain": [
       "3"
      ]
     },
     "execution_count": 24,
     "metadata": {},
     "output_type": "execute_result"
    }
   ],
   "source": [
    "# 进一步修改成装饰器（背）\n",
    "import datetime\n",
    "\n",
    "def logger(fn):\n",
    "    def wrapper(*args, **kwargs):     \n",
    "        start = datetime.datetime.now()\n",
    "        x = fn(*args, **kwargs)\n",
    "        delta = (datetime.datetime.now()-start).total_seconds()\n",
    "        print(delta)\n",
    "        return x\n",
    "    return wrapper\n",
    "\n",
    "@logger # add = logger(add)\n",
    "def add(a, b):\n",
    "    return a + b\n",
    "\n",
    "# logger(add)(1, 2) 相当于在add上面加一个装饰器 \n",
    "add(1, 2)"
   ]
  },
  {
   "cell_type": "code",
   "execution_count": 16,
   "metadata": {},
   "outputs": [],
   "source": [
    "# 在上面装饰器的基础上增加修改函数fun.__name__ 、fun.__dic__的功能\n",
    "\n",
    "def update_add():\n",
    "    wrapper.__name__ = fn.__name__\n",
    "    wrapper.__doc__ = fn.__doc__\n",
    "\n",
    "def logger(fn):\n",
    "    def wrapper(*args, **kwargs):\n",
    "        'wrapper doc'\n",
    "#         wrapper.__name__ = fn.__name__ # 写到里面只有函数执行时才会被修改\n",
    "#         wrapper.__doc__ = fn.__doc__   \n",
    "        return fn(*args, **kwargs)\n",
    "    wrapper.__name__ = fn.__name__  # 写到外面在函数定义时就可以被修改\n",
    "    wrapper.__doc__ = fn.__doc__\n",
    "    \n",
    "    #update_add(fn, wrapper)\n",
    "    return wrapper\n",
    "\n",
    "@logger # add = logger(add)\n",
    "def add(a, b):\n",
    "    'add doc'\n",
    "    return a + b\n",
    "\n",
    "\n",
    "\n",
    "    \n",
    "# 调用add, 先执行装饰器，在返回来的add基础上再接着执行\n",
    "# 调用logger(add),返回内层的wrapper函数，该函数用到\n",
    "# 外层函数的fn变量，形成闭包，所以但调用到内层函数时fn,\n",
    "# fn不会消亡\n",
    "# 当调用add时，add已经指向wrapper函数对象了，所以，当\n",
    "# 获取name和dict属性时，得到的是wrapper属性\n",
    "\n",
    "#add(1, 2)\n",
    "\n"
   ]
  },
  {
   "cell_type": "code",
   "execution_count": 7,
   "metadata": {},
   "outputs": [
    {
     "data": {
      "text/plain": [
       "'add'"
      ]
     },
     "execution_count": 7,
     "metadata": {},
     "output_type": "execute_result"
    }
   ],
   "source": [
    "def update_add(wrapper, fn):\n",
    "    wrapper.__name__ = fn.__name__\n",
    "    wrapper.__doc__ = fn.__doc__\n",
    "    \n",
    "def logger(fn):\n",
    "    def wrapper(*args, **kwargs):\n",
    "        return fn(*args, **kwargs)\n",
    "   \n",
    "    update_add(wrapper, fn)\n",
    "    return wrapper\n",
    "    \n",
    "@logger # add = logger(add)\n",
    "def add(a, b):\n",
    "    return a + b\n",
    "\n",
    "\n",
    "#add(1, 2)\n",
    "add.__name__"
   ]
  },
  {
   "cell_type": "code",
   "execution_count": 11,
   "metadata": {},
   "outputs": [
    {
     "data": {
      "text/plain": [
       "'add'"
      ]
     },
     "execution_count": 11,
     "metadata": {},
     "output_type": "execute_result"
    }
   ],
   "source": [
    "def update_properties(src):\n",
    "    def _copy(dest):\n",
    "        dest.__name__ = src.__name__\n",
    "        dest.__doc__ = src.__doc__\n",
    "        return dest # 装饰器的内层函数需要有返回值\n",
    "    return _copy\n",
    "    \n",
    "def logger(fn):\n",
    "    @update_properties(fn)  #wrapper = update_properties(wrapper, fn)\n",
    "    def wrapper(*args, **kwargs):\n",
    "        return fn(*args, **kwargs) # 装饰器的内层函数需要有返回值\n",
    "   \n",
    "\n",
    "    return wrapper\n",
    "    \n",
    "@logger # add = logger(add)\n",
    "def add(a, b):\n",
    "    return a + b\n",
    "\n",
    "\n",
    "#add(1, 2)\n",
    "add.__name__"
   ]
  },
  {
   "cell_type": "code",
   "execution_count": null,
   "metadata": {},
   "outputs": [],
   "source": []
  },
  {
   "cell_type": "code",
   "execution_count": 17,
   "metadata": {},
   "outputs": [
    {
     "name": "stdout",
     "output_type": "stream",
     "text": [
      "add add doc\n"
     ]
    }
   ],
   "source": [
    "print(add.__name__, add.__doc__)"
   ]
  },
  {
   "cell_type": "code",
   "execution_count": null,
   "metadata": {},
   "outputs": [],
   "source": [
    "装饰器：无参装饰器、有参装饰器\n",
    "无参装饰器：是一个函数，无参实际上是只有一个函数作为参数，\n",
    "而且装饰器返回一个函数。"
   ]
  },
  {
   "cell_type": "code",
   "execution_count": 38,
   "metadata": {},
   "outputs": [],
   "source": [
    "\n",
    "\n"
   ]
  },
  {
   "cell_type": "code",
   "execution_count": 39,
   "metadata": {},
   "outputs": [
    {
     "data": {
      "text/plain": [
       "4"
      ]
     },
     "execution_count": 39,
     "metadata": {},
     "output_type": "execute_result"
    }
   ],
   "source": []
  },
  {
   "cell_type": "code",
   "execution_count": null,
   "metadata": {},
   "outputs": [],
   "source": []
  },
  {
   "cell_type": "code",
   "execution_count": 26,
   "metadata": {},
   "outputs": [
    {
     "name": "stdout",
     "output_type": "stream",
     "text": [
      "ff (1, 2)\n"
     ]
    }
   ],
   "source": []
  },
  {
   "cell_type": "code",
   "execution_count": null,
   "metadata": {},
   "outputs": [],
   "source": []
  },
  {
   "cell_type": "code",
   "execution_count": null,
   "metadata": {},
   "outputs": [],
   "source": []
  }
 ],
 "metadata": {
  "kernelspec": {
   "display_name": "Python 3",
   "language": "python",
   "name": "python3"
  },
  "language_info": {
   "codemirror_mode": {
    "name": "ipython",
    "version": 3
   },
   "file_extension": ".py",
   "mimetype": "text/x-python",
   "name": "python",
   "nbconvert_exporter": "python",
   "pygments_lexer": "ipython3",
   "version": "3.6.8"
  }
 },
 "nbformat": 4,
 "nbformat_minor": 2
}
