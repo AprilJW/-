{
 "cells": [
  {
   "cell_type": "code",
   "execution_count": 18,
   "metadata": {},
   "outputs": [],
   "source": [
    "import numpy as np\n",
    "np.set_printoptions(suppress=True)"
   ]
  },
  {
   "cell_type": "code",
   "execution_count": 66,
   "metadata": {},
   "outputs": [
    {
     "data": {
      "text/plain": [
       "9"
      ]
     },
     "execution_count": 66,
     "metadata": {},
     "output_type": "execute_result"
    }
   ],
   "source": [
    "def logger(fn, *args, **kwargs):\n",
    "    return fn(*args)\n",
    "def add(x, y):\n",
    "    return x + y\n",
    "logger(add, 4, 5)"
   ]
  },
  {
   "cell_type": "code",
   "execution_count": 68,
   "metadata": {},
   "outputs": [
    {
     "data": {
      "text/plain": [
       "3"
      ]
     },
     "execution_count": 68,
     "metadata": {},
     "output_type": "execute_result"
    }
   ],
   "source": [
    "# 不带参数的装饰器，一般只有两层(修改属性，打印函数运行时间)\n",
    "def logger(fn):\n",
    "    @wraps(fn)\n",
    "    def wrapper(*args):\n",
    "        ret = fn(*args)\n",
    "        return ret\n",
    "    return wrapper\n",
    "@logger\n",
    "def add(x, y):\n",
    "    return x + y\n",
    "add(1, 2)"
   ]
  },
  {
   "cell_type": "code",
   "execution_count": 75,
   "metadata": {
    "scrolled": true
   },
   "outputs": [
    {
     "name": "stdout",
     "output_type": "stream",
     "text": [
      "add took 2.005133 s.\n"
     ]
    },
    {
     "data": {
      "text/plain": [
       "3"
      ]
     },
     "execution_count": 75,
     "metadata": {},
     "output_type": "execute_result"
    }
   ],
   "source": [
    "# 带参数装饰器，是一个函数，接受的参数也是一个\n",
    "# 函数，返回值是一个不带参数的装饰器，可以看作在\n",
    "# 无参装饰器外层再加一层函数，这个函数可以接受多个参数\n",
    "\n",
    "# 题目：将记录的功能提取出来\n",
    "# 分析：在最外层增加了时间间隔参数和一个打印函数，打印函数也可以换成写入文件的函数\n",
    "import datetime, time, functools\n",
    "def logger(duration, func = lambda name, delta: print('{} took {} s.'.format(name, delta))):\n",
    "    def _logger(fn):\n",
    "        @wraps(fn)\n",
    "        def wrapper(*args):\n",
    "            start = datetime.datetime.now()\n",
    "            ret = fn(*args)\n",
    "            delta = (datetime.datetime.now() - start).total_seconds()\n",
    "            if delta > duration:\n",
    "                 func(fn.__name__, delta)\n",
    "                    \n",
    "            return ret\n",
    "        return wrapper\n",
    "    return _logger\n",
    "@logger(2)  # add = logger(duration)(add)\n",
    "def add(x, y):\n",
    "    time.sleep(2)\n",
    "    return x + y\n",
    "add(1, 2)"
   ]
  },
  {
   "cell_type": "code",
   "execution_count": 74,
   "metadata": {},
   "outputs": [],
   "source": [
    "#functools模块\n",
    "from functools import update_wrapper\n",
    "update_wrapper(wrapper, wrapped, \n",
    "               assigned=('__module__', '__name__', '__qualname__', '__doc__', '__annotations__'), \n",
    "               updated=('__dict__',))\n",
    "# 用wrapped更新wrapper\n",
    "#  '__qualname__' 限定名\n",
    "#  '__annotations__' 参数注解\n",
    "# 元组中为被更新属性，updated=('__dict__',)\n",
    "# 返回包装好的wrapper函数\n",
    "\n",
    "wraps(wrappered, assigned='', updated='')\n",
    "#  wrappered相当于fn,函数返回包装好的wrapper函数"
   ]
  },
  {
   "cell_type": "code",
   "execution_count": 77,
   "metadata": {},
   "outputs": [
    {
     "name": "stdout",
     "output_type": "stream",
     "text": [
      "3\n",
      "add\n",
      "<function add at 0x1127a8ea0>\n",
      "{'__wrapped__': <function add at 0x1127a8ea0>}\n"
     ]
    }
   ],
   "source": [
    "def logger(duration, func = lambda name, delta: print('{} took {} s.'.format(name, delta))):\n",
    "    def _logger(fn):\n",
    "        #@wraps(fn)\n",
    "        def wrapper(*args):\n",
    "            start = datetime.datetime.now()\n",
    "            ret = fn(*args)\n",
    "            delta = (datetime.datetime.now() - start).total_seconds()\n",
    "            if delta > duration:\n",
    "                 func(fn.__name__, delta)\n",
    "                    \n",
    "            return ret\n",
    "        return functools.update_wrapper(wrapper, fn)\n",
    "    return _logger\n",
    "\n",
    "@logger(2)  # add = logger(duration)(add)\n",
    "def add(x, y):\n",
    "    #time.sleep(2)\n",
    "    return x + y\n",
    "print(add(1, 2), add.__name__, add.__wrapped__, add.__dict__, sep='\\n')"
   ]
  },
  {
   "cell_type": "code",
   "execution_count": null,
   "metadata": {},
   "outputs": [],
   "source": [
    "????? 增加一个__wrapped__属性，保留着wrapped函数"
   ]
  },
  {
   "cell_type": "code",
   "execution_count": 86,
   "metadata": {},
   "outputs": [],
   "source": [
    "def logger(fn):\n",
    "    @wraps(fn)\n",
    "    def wrapper(*args):\n",
    "        ret = fn(*args)\n",
    "        return ret\n",
    "    return wrapper\n",
    "#print('logger:', logger)  两个圈先执行哪一个？\n",
    "@logger  # add = logger(duration)(add)\n",
    "def add(x, y):return x + y\n",
    "    \n",
    "@logger\n",
    "def sub(x, y):pass\n",
    "# print(logger.__defaults__) None\n",
    "# print(add.__name__, sub.__name__)\n",
    "# logger什么时候执行？ 在第8行开始执行，11行执行第二次，一共执行两次\n",
    "# wraps装饰器执行了几次？ 2次\n",
    "# wapper的name属性被覆盖过几次？ 2次\n",
    "# add.__name__打印什么名字? add，因为wapper name虽然被覆盖了2次但是两个不同的wapper\n",
    "# sub.__name__打印什么？ sub"
   ]
  },
  {
   "cell_type": "code",
   "execution_count": 82,
   "metadata": {},
   "outputs": [
    {
     "data": {
      "text/plain": [
       "3"
      ]
     },
     "execution_count": 82,
     "metadata": {},
     "output_type": "execute_result"
    }
   ],
   "source": [
    "def add(x, y=1): return x + y\n",
    "add(1, 2)   "
   ]
  },
  {
   "cell_type": "code",
   "execution_count": 83,
   "metadata": {},
   "outputs": [
    {
     "name": "stdout",
     "output_type": "stream",
     "text": [
      "(1,)\n"
     ]
    }
   ],
   "source": [
    "print(add.__defaults__)"
   ]
  },
  {
   "cell_type": "code",
   "execution_count": 69,
   "metadata": {},
   "outputs": [],
   "source": [
    "def fn():\n",
    "    print(fn.__name__)\n",
    "    "
   ]
  },
  {
   "cell_type": "code",
   "execution_count": 70,
   "metadata": {},
   "outputs": [
    {
     "name": "stdout",
     "output_type": "stream",
     "text": [
      "fn\n"
     ]
    }
   ],
   "source": [
    "fn()"
   ]
  },
  {
   "cell_type": "code",
   "execution_count": null,
   "metadata": {},
   "outputs": [],
   "source": []
  },
  {
   "cell_type": "code",
   "execution_count": null,
   "metadata": {},
   "outputs": [],
   "source": []
  },
  {
   "cell_type": "code",
   "execution_count": 37,
   "metadata": {},
   "outputs": [
    {
     "name": "stdout",
     "output_type": "stream",
     "text": [
      "args: 1\n",
      "kwargs: ('b', 2)\n",
      "(1,) {'b': 2}\n",
      "4e-06\n"
     ]
    },
    {
     "data": {
      "text/plain": [
       "3"
      ]
     },
     "execution_count": 37,
     "metadata": {},
     "output_type": "execute_result"
    }
   ],
   "source": [
    "# 获取函数执行时长，对超过时长的的阈值记录一下\n",
    "import datetime, time\n",
    "def logger(duration):\n",
    "    def _logger(fn):\n",
    "        def wrapper(*args, **kwargs):\n",
    "    #         print('args:', *args) \n",
    "            #print('kwargs:', **kwargs)\n",
    "            #print('kwargs:', b=2)\n",
    "    #         print('kwargs:', *kwargs.items())\n",
    "    #         print(args, kwargs)\n",
    "            start = datetime.datetime.now()\n",
    "            result = fn(*args, **kwargs)\n",
    "            delta = (datetime.datetime.now() - start).total_seconds()\n",
    "            print(delta)\n",
    "            return result\n",
    "        return wrapper\n",
    "    return _logger\n",
    "\n",
    "@logger(5) # add = logger(5)(add)\n",
    "def add(a, b):\n",
    "    #time.sleep(2)\n",
    "    return a + b\n",
    "add(1, b=2)"
   ]
  },
  {
   "cell_type": "code",
   "execution_count": 39,
   "metadata": {},
   "outputs": [
    {
     "name": "stdout",
     "output_type": "stream",
     "text": [
      "1 2\n"
     ]
    }
   ],
   "source": [
    "(lambda x, y: print(x, y))(1, 2)"
   ]
  },
  {
   "cell_type": "code",
   "execution_count": 41,
   "metadata": {},
   "outputs": [],
   "source": [
    "from functools import wraps, update_wrapper"
   ]
  },
  {
   "cell_type": "code",
   "execution_count": 43,
   "metadata": {},
   "outputs": [],
   "source": [
    "update_wrapper??"
   ]
  },
  {
   "cell_type": "code",
   "execution_count": 44,
   "metadata": {},
   "outputs": [],
   "source": [
    "wraps??"
   ]
  },
  {
   "cell_type": "code",
   "execution_count": 48,
   "metadata": {},
   "outputs": [
    {
     "name": "stdout",
     "output_type": "stream",
     "text": [
      "add\n"
     ]
    }
   ],
   "source": [
    "def update(fn1):\n",
    "    def _update(wrapper):\n",
    "        wrapper.__name__ = fn1.__name__\n",
    "        wrapper.__doc__ = fn1.__doc__\n",
    "        return wrapper\n",
    "    return _update\n",
    "\n",
    "def update_pro(fn):\n",
    "    @update(fn)  # wrapper = update(fn)(wrapper)\n",
    "    def wrapper(*args):\n",
    "        return fn(*args)\n",
    "    \n",
    "    return wrapper\n",
    "    \n",
    "@update_pro\n",
    "def add(a, b):\n",
    "    return a + b\n",
    "# add(1, 2)\n",
    "print(add.__name__)"
   ]
  },
  {
   "cell_type": "code",
   "execution_count": 54,
   "metadata": {},
   "outputs": [
    {
     "name": "stdout",
     "output_type": "stream",
     "text": [
      "add\n"
     ]
    }
   ],
   "source": [
    "def wraps1(fn):\n",
    "    def _wraps1(wrapp):\n",
    "        wrapp.__name__ = fn.__name__\n",
    "        return wrapp\n",
    "    return _wraps1\n",
    "def logger(fn):\n",
    "    @wraps1(fn) # wrapper = wraps(fn)(wrapper)\n",
    "    def wrapper(*args):\n",
    "        return fn(*args)        \n",
    "    return wrapper\n",
    "@logger\n",
    "def add(a, b):\n",
    "    return a + b\n",
    "#add(1, 2)\n",
    "print(add.__name__)"
   ]
  },
  {
   "cell_type": "code",
   "execution_count": 60,
   "metadata": {},
   "outputs": [
    {
     "name": "stdout",
     "output_type": "stream",
     "text": [
      "add\n"
     ]
    }
   ],
   "source": [
    "def update_wrapper(fn):\n",
    "    def wrapp(wrapper):\n",
    "        wrapper.__name__ = fn.__name__\n",
    "        return wrapper\n",
    "    return wrapp\n",
    "def logger(fn):\n",
    "    @update_wrapper(fn)\n",
    "    def wrapper(*args):\n",
    "        return fn(args)\n",
    "    #update_wrapper(wrapper, fn)\n",
    "    # update_wrapper(fn)(wrapper)\n",
    "    return wrapper\n",
    "    \n",
    "@logger\n",
    "def add(a, b):\n",
    "    return a + b\n",
    "print(add.__name__)"
   ]
  },
  {
   "cell_type": "code",
   "execution_count": null,
   "metadata": {},
   "outputs": [],
   "source": []
  },
  {
   "cell_type": "code",
   "execution_count": null,
   "metadata": {},
   "outputs": [],
   "source": []
  },
  {
   "cell_type": "code",
   "execution_count": null,
   "metadata": {},
   "outputs": [],
   "source": []
  },
  {
   "cell_type": "code",
   "execution_count": 8,
   "metadata": {},
   "outputs": [
    {
     "data": {
      "text/plain": [
       "15"
      ]
     },
     "execution_count": 8,
     "metadata": {},
     "output_type": "execute_result"
    }
   ],
   "source": [
    "def add(a):\n",
    "    def add(b):\n",
    "        def add(c):\n",
    "            return a+b+c\n",
    "        return add\n",
    "    return add\n",
    "add(4)(5)(6)"
   ]
  },
  {
   "cell_type": "code",
   "execution_count": 2,
   "metadata": {},
   "outputs": [],
   "source": [
    "def add(a):\n",
    "    def add2(b):\n",
    "        def add3(c):\n",
    "            return a+b+c\n",
    "        return add3\n",
    "    return add2"
   ]
  },
  {
   "cell_type": "code",
   "execution_count": 3,
   "metadata": {},
   "outputs": [
    {
     "data": {
      "text/plain": [
       "15"
      ]
     },
     "execution_count": 3,
     "metadata": {},
     "output_type": "execute_result"
    }
   ],
   "source": [
    "add(4)(5)(6)"
   ]
  },
  {
   "cell_type": "code",
   "execution_count": 4,
   "metadata": {},
   "outputs": [],
   "source": [
    "def add(a, b):\n",
    "    def add1(c):\n",
    "        return a+b+c\n",
    "    return add1"
   ]
  },
  {
   "cell_type": "code",
   "execution_count": 5,
   "metadata": {},
   "outputs": [
    {
     "data": {
      "text/plain": [
       "15"
      ]
     },
     "execution_count": 5,
     "metadata": {},
     "output_type": "execute_result"
    }
   ],
   "source": [
    "add(4,5)(6)"
   ]
  },
  {
   "cell_type": "code",
   "execution_count": 6,
   "metadata": {},
   "outputs": [],
   "source": [
    "def add(a):\n",
    "    def add1(b, c):\n",
    "        return a+b+c\n",
    "    return add1"
   ]
  },
  {
   "cell_type": "code",
   "execution_count": 7,
   "metadata": {},
   "outputs": [
    {
     "data": {
      "text/plain": [
       "15"
      ]
     },
     "execution_count": 7,
     "metadata": {},
     "output_type": "execute_result"
    }
   ],
   "source": [
    "add(4)(5,6)"
   ]
  },
  {
   "cell_type": "code",
   "execution_count": 21,
   "metadata": {
    "scrolled": true
   },
   "outputs": [
    {
     "name": "stdout",
     "output_type": "stream",
     "text": [
      "6e-06\n",
      "2e-06\n",
      "2e-06\n"
     ]
    },
    {
     "data": {
      "text/plain": [
       "3"
      ]
     },
     "execution_count": 21,
     "metadata": {},
     "output_type": "execute_result"
    }
   ],
   "source": [
    "import datetime\n",
    "def add(a, b):\n",
    "    return a + b\n",
    "\n",
    "def logger(fn, *args, **kwargs): # 同时传入另一个函数的参数和变量\n",
    "    start = datetime.datetime.now()\n",
    "    x = fn(*args, **kwargs)\n",
    "    \n",
    "    delta = (datetime.datetime.now()-start).total_seconds()\n",
    "    print(delta)\n",
    "    return x\n",
    "    \n",
    "logger(add, 1, 2) # 三种调用方式等价\n",
    "logger(add, 1, b=2)\n",
    "logger(add, a=1, b=2)\n",
    "\n"
   ]
  },
  {
   "cell_type": "code",
   "execution_count": 23,
   "metadata": {},
   "outputs": [
    {
     "name": "stdout",
     "output_type": "stream",
     "text": [
      "5e-06\n"
     ]
    },
    {
     "data": {
      "text/plain": [
       "3"
      ]
     },
     "execution_count": 23,
     "metadata": {},
     "output_type": "execute_result"
    }
   ],
   "source": [
    "# 修改，在logger中先传入add, 再传入2个参数(柯里化)\n",
    "import datetime\n",
    "\n",
    "def add(a, b):\n",
    "    return a + b\n",
    "\n",
    "def logger(fn):\n",
    "    def wrapper(*args, **kwargs):     \n",
    "        start = datetime.datetime.now()\n",
    "        x = fn(*args, **kwargs)\n",
    "        delta = (datetime.datetime.now()-start).total_seconds()\n",
    "        print(delta)\n",
    "        return x\n",
    "    return wrapper\n",
    "logger(add)(1, 2) "
   ]
  },
  {
   "cell_type": "code",
   "execution_count": 24,
   "metadata": {
    "scrolled": true
   },
   "outputs": [
    {
     "name": "stdout",
     "output_type": "stream",
     "text": [
      "4e-06\n"
     ]
    },
    {
     "data": {
      "text/plain": [
       "3"
      ]
     },
     "execution_count": 24,
     "metadata": {},
     "output_type": "execute_result"
    }
   ],
   "source": [
    "# 进一步修改成装饰器（背）\n",
    "import datetime\n",
    "\n",
    "def logger(fn):\n",
    "    def wrapper(*args, **kwargs):     \n",
    "        start = datetime.datetime.now()\n",
    "        x = fn(*args, **kwargs)\n",
    "        delta = (datetime.datetime.now()-start).total_seconds()\n",
    "        print(delta)\n",
    "        return x\n",
    "    return wrapper\n",
    "\n",
    "@logger # add = logger(add)\n",
    "def add(a, b):\n",
    "    return a + b\n",
    "\n",
    "# logger(add)(1, 2) 相当于在add上面加一个装饰器 \n",
    "add(1, 2)"
   ]
  },
  {
   "cell_type": "code",
   "execution_count": 16,
   "metadata": {},
   "outputs": [],
   "source": [
    "# 在上面装饰器的基础上增加修改函数fun.__name__ 、fun.__dic__的功能\n",
    "\n",
    "def update_add():\n",
    "    wrapper.__name__ = fn.__name__\n",
    "    wrapper.__doc__ = fn.__doc__\n",
    "\n",
    "def logger(fn):\n",
    "    def wrapper(*args, **kwargs):\n",
    "        'wrapper doc'\n",
    "#         wrapper.__name__ = fn.__name__ # 写到里面只有函数执行时才会被修改\n",
    "#         wrapper.__doc__ = fn.__doc__   \n",
    "        return fn(*args, **kwargs)\n",
    "    wrapper.__name__ = fn.__name__  # 写到外面在函数定义时就可以被修改\n",
    "    wrapper.__doc__ = fn.__doc__\n",
    "    \n",
    "    #update_add(fn, wrapper)\n",
    "    return wrapper\n",
    "\n",
    "@logger # add = logger(add)\n",
    "def add(a, b):\n",
    "    'add doc'\n",
    "    return a + b\n",
    "\n",
    "\n",
    "\n",
    "    \n",
    "# 调用add, 先执行装饰器，在返回来的add基础上再接着执行\n",
    "# 调用logger(add),返回内层的wrapper函数，该函数用到\n",
    "# 外层函数的fn变量，形成闭包，所以但调用到内层函数时fn,\n",
    "# fn不会消亡\n",
    "# 当调用add时，add已经指向wrapper函数对象了，所以，当\n",
    "# 获取name和dict属性时，得到的是wrapper属性\n",
    "\n",
    "#add(1, 2)\n",
    "\n"
   ]
  },
  {
   "cell_type": "code",
   "execution_count": 7,
   "metadata": {},
   "outputs": [
    {
     "data": {
      "text/plain": [
       "'add'"
      ]
     },
     "execution_count": 7,
     "metadata": {},
     "output_type": "execute_result"
    }
   ],
   "source": [
    "def update_add(wrapper, fn):\n",
    "    wrapper.__name__ = fn.__name__\n",
    "    wrapper.__doc__ = fn.__doc__\n",
    "    \n",
    "def logger(fn):\n",
    "    def wrapper(*args, **kwargs):\n",
    "        return fn(*args, **kwargs)\n",
    "   \n",
    "    update_add(wrapper, fn)\n",
    "    return wrapper\n",
    "    \n",
    "@logger # add = logger(add)\n",
    "def add(a, b):\n",
    "    return a + b\n",
    "\n",
    "\n",
    "#add(1, 2)\n",
    "add.__name__"
   ]
  },
  {
   "cell_type": "code",
   "execution_count": 11,
   "metadata": {},
   "outputs": [
    {
     "data": {
      "text/plain": [
       "'add'"
      ]
     },
     "execution_count": 11,
     "metadata": {},
     "output_type": "execute_result"
    }
   ],
   "source": [
    "def update_properties(src):\n",
    "    def _copy(dest):\n",
    "        dest.__name__ = src.__name__\n",
    "        dest.__doc__ = src.__doc__\n",
    "        return dest # 装饰器的内层函数需要有返回值\n",
    "    return _copy\n",
    "    \n",
    "def logger(fn):\n",
    "    @update_properties(fn)  #wrapper = update_properties(wrapper, fn)\n",
    "    def wrapper(*args, **kwargs):\n",
    "        return fn(*args, **kwargs) # 装饰器的内层函数需要有返回值\n",
    "   \n",
    "\n",
    "    return wrapper\n",
    "    \n",
    "@logger # add = logger(add)\n",
    "def add(a, b):\n",
    "    return a + b\n",
    "\n",
    "\n",
    "#add(1, 2)\n",
    "add.__name__"
   ]
  },
  {
   "cell_type": "code",
   "execution_count": null,
   "metadata": {},
   "outputs": [],
   "source": []
  },
  {
   "cell_type": "code",
   "execution_count": 17,
   "metadata": {},
   "outputs": [
    {
     "name": "stdout",
     "output_type": "stream",
     "text": [
      "add add doc\n"
     ]
    }
   ],
   "source": [
    "print(add.__name__, add.__doc__)"
   ]
  },
  {
   "cell_type": "code",
   "execution_count": null,
   "metadata": {},
   "outputs": [],
   "source": [
    "装饰器：无参装饰器、有参装饰器\n",
    "无参装饰器：是一个函数，无参实际上是只有一个函数作为参数，\n",
    "而且装饰器返回一个函数。"
   ]
  },
  {
   "cell_type": "code",
   "execution_count": 38,
   "metadata": {},
   "outputs": [],
   "source": [
    "\n",
    "\n"
   ]
  },
  {
   "cell_type": "code",
   "execution_count": 39,
   "metadata": {},
   "outputs": [
    {
     "data": {
      "text/plain": [
       "4"
      ]
     },
     "execution_count": 39,
     "metadata": {},
     "output_type": "execute_result"
    }
   ],
   "source": []
  },
  {
   "cell_type": "code",
   "execution_count": null,
   "metadata": {},
   "outputs": [],
   "source": []
  },
  {
   "cell_type": "code",
   "execution_count": 26,
   "metadata": {},
   "outputs": [
    {
     "name": "stdout",
     "output_type": "stream",
     "text": [
      "ff (1, 2)\n"
     ]
    }
   ],
   "source": []
  },
  {
   "cell_type": "code",
   "execution_count": null,
   "metadata": {},
   "outputs": [],
   "source": []
  },
  {
   "cell_type": "code",
   "execution_count": null,
   "metadata": {},
   "outputs": [],
   "source": []
  }
 ],
 "metadata": {
  "kernelspec": {
   "display_name": "Python 3",
   "language": "python",
   "name": "python3"
  },
  "language_info": {
   "codemirror_mode": {
    "name": "ipython",
    "version": 3
   },
   "file_extension": ".py",
   "mimetype": "text/x-python",
   "name": "python",
   "nbconvert_exporter": "python",
   "pygments_lexer": "ipython3",
   "version": "3.6.8"
  }
 },
 "nbformat": 4,
 "nbformat_minor": 2
}
