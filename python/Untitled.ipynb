{
 "cells": [
  {
   "cell_type": "code",
   "execution_count": 11,
   "metadata": {},
   "outputs": [
    {
     "name": "stdout",
     "output_type": "stream",
     "text": [
      "[0, 1, 2, 3, 4, 5, 6, 7, 8, 9]\n",
      "1 3 8\n"
     ]
    }
   ],
   "source": [
    "alst = list(range(10))\n",
    "print(alst)\n",
    "_, second, _, four,*_,last_second,_ = alst\n",
    "print(second, four, last_second)"
   ]
  },
  {
   "cell_type": "code",
   "execution_count": 12,
   "metadata": {},
   "outputs": [
    {
     "name": "stdout",
     "output_type": "stream",
     "text": [
      "4\n"
     ]
    }
   ],
   "source": [
    "alst = [1,(2,3,4),5]\n",
    "_, (*_,a), _= alst\n",
    "print(a)"
   ]
  },
  {
   "cell_type": "code",
   "execution_count": 16,
   "metadata": {},
   "outputs": [
    {
     "name": "stdout",
     "output_type": "stream",
     "text": [
      "java_home   'usr/bin'\n"
     ]
    }
   ],
   "source": [
    "a_str = \"java_home = 'usr/bin'\"\n",
    "c = a_str.partition('=')\n",
    "print(c[0], c[-1])"
   ]
  },
  {
   "cell_type": "code",
   "execution_count": 18,
   "metadata": {},
   "outputs": [
    {
     "name": "stdout",
     "output_type": "stream",
     "text": [
      "java_home   'usr/bin'\n"
     ]
    }
   ],
   "source": [
    "a_str = \"java_home = 'usr/bin'\"\n",
    "b = a_str.split('=', maxsplit=1)\n",
    "print(b[0], b[1])\n"
   ]
  },
  {
   "cell_type": "code",
   "execution_count": 22,
   "metadata": {},
   "outputs": [
    {
     "name": "stdout",
     "output_type": "stream",
     "text": [
      "before: [3, 6, 15, 5, 4, 1, 20, 4, 8, 13, 9, 19, 16, 9, 5, 17, 17, 4, 10, 13]\n",
      "after: [1, 3, 4, 4, 4, 5, 5, 6, 8, 9, 9, 10, 13, 13, 15, 16, 17, 17, 19, 20]\n"
     ]
    }
   ],
   "source": [
    "import random\n",
    "nums = [None] * 20\n",
    "for i in range(20):\n",
    "    nums[i] = random.randint(1, 20)\n",
    "print('before:', nums)\n",
    "for i in range(1, len(nums)):\n",
    "    flag = False\n",
    "    for j in range(len(nums)-i):\n",
    "        if nums[j] > nums[j+1]:\n",
    "            nums[j], nums[j+1] = nums[j+1], nums[j]\n",
    "            flag = True\n",
    "    if not flag:\n",
    "        break\n",
    "print('after:', nums)"
   ]
  },
  {
   "cell_type": "code",
   "execution_count": null,
   "metadata": {},
   "outputs": [],
   "source": []
  },
  {
   "cell_type": "code",
   "execution_count": null,
   "metadata": {},
   "outputs": [],
   "source": []
  }
 ],
 "metadata": {
  "kernelspec": {
   "display_name": "Python 3",
   "language": "python",
   "name": "python3"
  },
  "language_info": {
   "codemirror_mode": {
    "name": "ipython",
    "version": 3
   },
   "file_extension": ".py",
   "mimetype": "text/x-python",
   "name": "python",
   "nbconvert_exporter": "python",
   "pygments_lexer": "ipython3",
   "version": "3.6.8"
  }
 },
 "nbformat": 4,
 "nbformat_minor": 2
}
