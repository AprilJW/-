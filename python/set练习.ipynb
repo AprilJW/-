{
 "cells": [
  {
   "cell_type": "code",
   "execution_count": 41,
   "metadata": {},
   "outputs": [
    {
     "name": "stdout",
     "output_type": "stream",
     "text": [
      "defaultdict(<class 'int'>, {})\n",
      "defaultdict(<class 'int'>, {'2': 3, '4': 1, '8': 3, '3': 2, '0': 4, '1': 2, '5': 1})\n"
     ]
    }
   ],
   "source": [
    "from collections import defaultdict\n",
    "integer = '2488832010300215'\n",
    "dict1 = defaultdict(int)\n",
    "print(dict1)\n",
    "for i in integer:\n",
    "    dict1[i] += 1\n",
    "print(dict1)"
   ]
  },
  {
   "cell_type": "code",
   "execution_count": 67,
   "metadata": {},
   "outputs": [
    {
     "name": "stdout",
     "output_type": "stream",
     "text": [
      "abcdefghijklmnopqrstuvwxyz\n"
     ]
    }
   ],
   "source": [
    "import random\n",
    "str1 = ''\n",
    "for i in range(97, 123):\n",
    "    #print(chr(i))\n",
    "    str1 += chr(i)\n",
    "print(str1)"
   ]
  },
  {
   "cell_type": "code",
   "execution_count": 71,
   "metadata": {
    "scrolled": true
   },
   "outputs": [
    {
     "name": "stdout",
     "output_type": "stream",
     "text": [
      "[('nb', 2), ('hm', 2), ('gh', 2), ('ng', 2), ('pe', 2), ('wj', 2), ('xl', 1), ('si', 1), ('ek', 1), ('cv', 1), ('ys', 1), ('xw', 1), ('dj', 1), ('ak', 1), ('fv', 1), ('du', 1), ('uh', 1), ('il', 1), ('cb', 1), ('sb', 1), ('jt', 1), ('sf', 1), ('dy', 1), ('jm', 1), ('rj', 1), ('yb', 1), ('wb', 1), ('ii', 1), ('sg', 1), ('qr', 1), ('vh', 1), ('xk', 1), ('hv', 1), ('xi', 1), ('bk', 1), ('qb', 1), ('gb', 1), ('hp', 1), ('bq', 1), ('cp', 1), ('jf', 1), ('ux', 1), ('sc', 1), ('ft', 1), ('uw', 1), ('ac', 1), ('cn', 1), ('rq', 1), ('nt', 1), ('vc', 1), ('pj', 1), ('bi', 1), ('gw', 1), ('qk', 1), ('un', 1), ('or', 1), ('kd', 1), ('mr', 1), ('mx', 1), ('ci', 1), ('ox', 1), ('cs', 1), ('fw', 1), ('ru', 1), ('gp', 1), ('ll', 1), ('jp', 1), ('go', 1), ('qq', 1), ('km', 1), ('tp', 1), ('fl', 1), ('my', 1), ('nu', 1), ('oy', 1), ('vg', 1), ('qt', 1), ('az', 1), ('mt', 1), ('ad', 1), ('ap', 1), ('gk', 1), ('yy', 1), ('mf', 1), ('au', 1), ('zv', 1), ('ff', 1), ('ke', 1), ('qa', 1), ('vt', 1), ('ee', 1), ('aq', 1), ('fp', 1), ('rw', 1)]\n"
     ]
    }
   ],
   "source": [
    "lst1 = []\n",
    "for i in range(100):\n",
    "    str4 = ''\n",
    "    str2 = str1[random.randint(0, len(str1)-1)]\n",
    "    str3 = str1[random.randint(0, len(str1)-1)]\n",
    "    str4 = str2 + str3\n",
    "    lst1.append(str4)\n",
    "#print(lst1)\n",
    "dict1 = defaultdict(int)\n",
    "for i in lst1:\n",
    "    dict1[i] += 1\n",
    "lst1 = [None] * len(dict1)\n",
    "i = 0\n",
    "for k_v in dict1.items():\n",
    "    lst1[i] = k_v\n",
    "    i += 1\n",
    "for i in range(1, len(lst1)):\n",
    "    flag = False\n",
    "    for j in range(len(lst1)-i):\n",
    "        if lst1[j][-1] < lst1[j+1][-1]:\n",
    "            lst1[j], lst1[j+1] = lst1[j+1], lst1[j]\n",
    "            flag = True\n",
    "    if not flag:\n",
    "        break\n",
    "print(lst1)\n",
    "    "
   ]
  },
  {
   "cell_type": "code",
   "execution_count": 74,
   "metadata": {
    "scrolled": true
   },
   "outputs": [
    {
     "name": "stdout",
     "output_type": "stream",
     "text": [
      "[(950, 1), (-552, 1), (-790, 1), (209, 1), (675, 1), (819, 1), (501, 1), (202, 1), (667, 1), (-305, 1), (-687, 1), (556, 1), (857, 1), (-762, 1), (-737, 1), (-964, 1), (-197, 1), (755, 1), (885, 1), (711, 1), (-967, 1), (-514, 1), (-573, 1), (432, 1), (727, 1), (637, 1), (-765, 1), (39, 1), (-110, 1), (-497, 1), (-140, 1), (-729, 1), (934, 1), (-253, 1), (719, 1), (59, 1), (-189, 1), (-647, 1), (783, 1), (-543, 1), (-353, 1), (-1, 1), (-621, 1), (-209, 1), (-59, 1), (-90, 1), (-231, 1), (525, 1), (232, 1), (-996, 1), (-120, 1), (-83, 1), (196, 1), (-430, 1), (-414, 1), (-207, 1), (508, 1), (210, 1), (-264, 1), (949, 1), (-701, 1), (110, 1), (718, 1), (-248, 1), (273, 1), (-303, 1), (602, 1), (664, 1), (-63, 1), (356, 1), (-904, 1), (185, 1), (612, 1), (-438, 1), (231, 1), (-167, 1), (-319, 1), (-707, 1), (657, 1), (-58, 1), (-306, 1), (534, 1), (564, 1), (-991, 1), (-489, 1), (-97, 1), (780, 1), (236, 1), (-875, 1), (-82, 1), (965, 1), (277, 1), (-256, 1), (566, 1), (912, 1), (-331, 1), (-50, 2), (-146, 2)]\n"
     ]
    }
   ],
   "source": [
    "lst = [None] * 100\n",
    "for i in range(100):\n",
    "    lst[i] = random.randint(-1000, 1000)\n",
    "dict1 = defaultdict(int)\n",
    "for i in lst:\n",
    "    dict1[i] += 1\n",
    "lst2 = [None] * len(dict1)\n",
    "for i, k_v in enumerate (dict1.items()):\n",
    "    #print(i, k_v)\n",
    "    lst2[i] = k_v\n",
    "for i in range(1, len(lst2)):\n",
    "    flag = False\n",
    "    for j in range(len(lst2)-i):\n",
    "        if lst2[j][-1] > lst2[j+1][-1]:\n",
    "            lst2[j], lst2[j+1] = lst2[j+1], lst2[j]\n",
    "            flag = True\n",
    "    if not flag:\n",
    "        break\n",
    "print(lst2)"
   ]
  },
  {
   "cell_type": "code",
   "execution_count": 63,
   "metadata": {},
   "outputs": [
    {
     "name": "stdout",
     "output_type": "stream",
     "text": [
      "97\n",
      "<class 'int'>\n",
      "a\n",
      "<class 'str'>\n",
      "97\n"
     ]
    }
   ],
   "source": [
    "print(ord('a'))\n",
    "print(type(ord('a')))\n",
    "print(chr(97))\n",
    "print(type(chr(97)))\n",
    "print(ascii())"
   ]
  },
  {
   "cell_type": "code",
   "execution_count": 64,
   "metadata": {},
   "outputs": [],
   "source": [
    "ascii?"
   ]
  },
  {
   "cell_type": "code",
   "execution_count": 55,
   "metadata": {},
   "outputs": [
    {
     "ename": "TypeError",
     "evalue": "'str' object is not callable",
     "output_type": "error",
     "traceback": [
      "\u001b[0;31m---------------------------------------------------------------------------\u001b[0m",
      "\u001b[0;31mTypeError\u001b[0m                                 Traceback (most recent call last)",
      "\u001b[0;32m<ipython-input-55-dc69e1898e28>\u001b[0m in \u001b[0;36m<module>\u001b[0;34m()\u001b[0m\n\u001b[1;32m      1\u001b[0m \u001b[0;32mfrom\u001b[0m \u001b[0mstring\u001b[0m \u001b[0;32mimport\u001b[0m \u001b[0mascii_letters\u001b[0m\u001b[0;34m\u001b[0m\u001b[0;34m\u001b[0m\u001b[0m\n\u001b[0;32m----> 2\u001b[0;31m \u001b[0mascii_letters\u001b[0m\u001b[0;34m(\u001b[0m\u001b[0mbytes\u001b[0m\u001b[0;34m(\u001b[0m\u001b[0;34m'a'\u001b[0m\u001b[0;34m,\u001b[0m \u001b[0mencoding\u001b[0m\u001b[0;34m=\u001b[0m\u001b[0;34m'utf8'\u001b[0m\u001b[0;34m)\u001b[0m\u001b[0;34m)\u001b[0m\u001b[0;34m\u001b[0m\u001b[0;34m\u001b[0m\u001b[0m\n\u001b[0m\u001b[1;32m      3\u001b[0m \u001b[0;31m#bytes('a', encoding='utf8')\u001b[0m\u001b[0;34m\u001b[0m\u001b[0;34m\u001b[0m\u001b[0;34m\u001b[0m\u001b[0m\n",
      "\u001b[0;31mTypeError\u001b[0m: 'str' object is not callable"
     ]
    }
   ],
   "source": [
    "from string import ascii_letters\n",
    "ascii_letters(bytes('a', encoding='utf8'))\n",
    "#bytes('a', encoding='utf8')"
   ]
  },
  {
   "cell_type": "code",
   "execution_count": 76,
   "metadata": {},
   "outputs": [
    {
     "data": {
      "text/plain": [
       "90"
      ]
     },
     "execution_count": 76,
     "metadata": {},
     "output_type": "execute_result"
    }
   ],
   "source": [
    "d = dict(a=1, b=2)\n",
    "d.pop('c', 90)\n"
   ]
  },
  {
   "cell_type": "code",
   "execution_count": 79,
   "metadata": {},
   "outputs": [
    {
     "data": {
      "text/plain": [
       "1000"
      ]
     },
     "execution_count": 79,
     "metadata": {},
     "output_type": "execute_result"
    }
   ],
   "source": [
    "d.setdefault('k', 1000)"
   ]
  },
  {
   "cell_type": "code",
   "execution_count": 82,
   "metadata": {},
   "outputs": [
    {
     "data": {
      "text/plain": [
       "90"
      ]
     },
     "execution_count": 82,
     "metadata": {},
     "output_type": "execute_result"
    }
   ],
   "source": [
    "d.get('m', 90)"
   ]
  },
  {
   "cell_type": "code",
   "execution_count": 77,
   "metadata": {},
   "outputs": [
    {
     "data": {
      "text/plain": [
       "('b', 2)"
      ]
     },
     "execution_count": 77,
     "metadata": {},
     "output_type": "execute_result"
    }
   ],
   "source": [
    "d.popitem()"
   ]
  },
  {
   "cell_type": "code",
   "execution_count": 78,
   "metadata": {},
   "outputs": [
    {
     "name": "stdout",
     "output_type": "stream",
     "text": [
      "{'a': 1}\n"
     ]
    }
   ],
   "source": [
    "print(d)"
   ]
  },
  {
   "cell_type": "code",
   "execution_count": null,
   "metadata": {},
   "outputs": [],
   "source": []
  },
  {
   "cell_type": "code",
   "execution_count": 1,
   "metadata": {},
   "outputs": [
    {
     "data": {
      "text/plain": [
       "{'B', 'C'}"
      ]
     },
     "execution_count": 1,
     "metadata": {},
     "output_type": "execute_result"
    }
   ],
   "source": [
    "# 微博好友推荐\n",
    "s1 = {'A','B','C'}\n",
    "s2 = {'B','C','D'}\n",
    "s1 & s2"
   ]
  },
  {
   "cell_type": "code",
   "execution_count": 3,
   "metadata": {},
   "outputs": [
    {
     "data": {
      "text/plain": [
       "set()"
      ]
     },
     "execution_count": 3,
     "metadata": {},
     "output_type": "execute_result"
    }
   ],
   "source": [
    "#微信好友\n",
    "# d in (sa | sb | sc),可以算法不好\n",
    "# 自己的好友列表中找到群里的人，是否有交集\n",
    "s1 = {1}\n",
    "s2 = {2,3,4}\n",
    "s1 & s2"
   ]
  },
  {
   "cell_type": "code",
   "execution_count": 4,
   "metadata": {},
   "outputs": [
    {
     "name": "stdout",
     "output_type": "stream",
     "text": [
      "no\n"
     ]
    }
   ],
   "source": [
    "s1 = {'A','B','C'}\n",
    "s2 = {'B','C','D'}\n",
    "#或者 s1-s2 == set()\n",
    "#s1 <= s2\n",
    "if s1 & s2 == s1:\n",
    "    print('yes')\n",
    "else:\n",
    "    print('no')"
   ]
  },
  {
   "cell_type": "code",
   "execution_count": 5,
   "metadata": {},
   "outputs": [
    {
     "name": "stdout",
     "output_type": "stream",
     "text": [
      "yes\n"
     ]
    }
   ],
   "source": [
    "#s1 & s2 != set()\n",
    "#s1-s2 < s1\n",
    "for i in s1:\n",
    "    if i in s2:\n",
    "        print('yes')\n",
    "        break\n",
    "    else:\n",
    "        print('no')"
   ]
  },
  {
   "cell_type": "code",
   "execution_count": 6,
   "metadata": {},
   "outputs": [
    {
     "data": {
      "text/plain": [
       "{1, 2, 4}"
      ]
     },
     "execution_count": 6,
     "metadata": {},
     "output_type": "execute_result"
    }
   ],
   "source": [
    "s1 = {1,2,3,4,5}\n",
    "s2 = {3,5}\n",
    "s1-(s2&s1)"
   ]
  },
  {
   "cell_type": "code",
   "execution_count": 8,
   "metadata": {},
   "outputs": [
    {
     "name": "stdout",
     "output_type": "stream",
     "text": [
      "[14, 19, 18, 16, 17, 18, 17, 10, 19, 14]\n",
      "[18, 15, 11, 13, 18, 11, 14, 18, 17, 20]\n"
     ]
    }
   ],
   "source": [
    "import random\n",
    "nums1 = [0] * 10\n",
    "for i in range(10):\n",
    "    nums1[i] = random.randint(10, 20)\n",
    "nums2 = [0] * 10\n",
    "for j in range(10):\n",
    "    nums2[j] = random.randint(10, 20)\n",
    "print(nums1)\n",
    "print(nums2)"
   ]
  },
  {
   "cell_type": "code",
   "execution_count": 11,
   "metadata": {},
   "outputs": [
    {
     "name": "stdout",
     "output_type": "stream",
     "text": [
      "10\n"
     ]
    }
   ],
   "source": [
    "s1 = set(nums1)\n",
    "s2 = set(nums2)\n",
    "print(len(s1 | s2))"
   ]
  },
  {
   "cell_type": "code",
   "execution_count": 15,
   "metadata": {},
   "outputs": [
    {
     "name": "stdout",
     "output_type": "stream",
     "text": [
      "10\n"
     ]
    }
   ],
   "source": [
    "print(len((s1 ^ s2) | (s1 & s2) ))"
   ]
  },
  {
   "cell_type": "code",
   "execution_count": 16,
   "metadata": {},
   "outputs": [
    {
     "name": "stdout",
     "output_type": "stream",
     "text": [
      "{10, 14, 16, 17, 18, 19}\n",
      "{11, 13, 14, 15, 17, 18, 20}\n"
     ]
    }
   ],
   "source": [
    "print(s1)\n",
    "print(s2)"
   ]
  },
  {
   "cell_type": "code",
   "execution_count": 18,
   "metadata": {},
   "outputs": [
    {
     "name": "stdout",
     "output_type": "stream",
     "text": [
      "重复：{17, 18, 14}\n",
      "不重复：{10, 11, 13, 15, 16, 19, 20}\n"
     ]
    }
   ],
   "source": [
    "print('重复：{}'.format(s1 & s2))\n",
    "print('不重复：{}'.format(s1 ^ s2))"
   ]
  },
  {
   "cell_type": "code",
   "execution_count": 27,
   "metadata": {},
   "outputs": [],
   "source": [
    "d5 = {'a':1, 'b':2,'c':'abc','d':(1,),'e':[1,2,1]}"
   ]
  },
  {
   "cell_type": "code",
   "execution_count": 29,
   "metadata": {},
   "outputs": [
    {
     "name": "stdout",
     "output_type": "stream",
     "text": [
      "{'c': 'abc', 'd': (1,), 'e': [1, 2, 1]}\n"
     ]
    }
   ],
   "source": [
    "dict1 = {}\n",
    "for k, v in d5.items():\n",
    "    if isinstance(v, (str, tuple, list)):\n",
    "        dict1[k] = v\n",
    "print(dict1)\n",
    "        "
   ]
  },
  {
   "cell_type": "code",
   "execution_count": 34,
   "metadata": {},
   "outputs": [],
   "source": [
    "c = dict(a=1, b=2)"
   ]
  },
  {
   "cell_type": "code",
   "execution_count": 119,
   "metadata": {},
   "outputs": [
    {
     "name": "stdout",
     "output_type": "stream",
     "text": [
      "defaultdict(<class 'list'>, {'x': [22, 22, 20, 25], 'y': [25, 21], 'z': [25, 25]})\n"
     ]
    }
   ],
   "source": [
    "d = defaultdict(list)\n",
    "d['a'].append(1)\n",
    "d['a'].extend([2,3])\n",
    "d['a']\n",
    "d = defaultdict(set)\n",
    "d['b'].add(9)\n",
    "d['b'].update({9,8,7,6})\n",
    "d.setdefault('c',3)\n",
    "d.setdefault('d')\n",
    "d.setdefault('e',[2,3]).append(9)\n",
    "#print(d)\n",
    "#d['b']\n",
    "\n",
    "a = defaultdict(list)\n",
    "for k, v in [(1,2),[4,5],{6,7}]:\n",
    "    a[k] = v\n",
    "#print(a)\n",
    "\n",
    "a = defaultdict(list)\n",
    "for i in 'xyz':\n",
    "    for j in range(random.randint(1,4)):\n",
    "        a[i].append(random.randint(20,25))\n",
    "print(a)\n"
   ]
  },
  {
   "cell_type": "code",
   "execution_count": 113,
   "metadata": {},
   "outputs": [],
   "source": [
    "random.randint?"
   ]
  },
  {
   "cell_type": "code",
   "execution_count": null,
   "metadata": {},
   "outputs": [],
   "source": [
    "d['b'].update({})"
   ]
  },
  {
   "cell_type": "code",
   "execution_count": 121,
   "metadata": {},
   "outputs": [],
   "source": [
    "rows = [\n",
    "    {'address': '5412 N CLARK', 'date': '07/01/2012'},\n",
    "    {'address': '5148 N CLARK', 'date': '07/04/2012'},\n",
    "    {'address': '5800 E 58TH', 'date': '07/02/2012'},\n",
    "    {'address': '2122 N CLARK', 'date': '07/03/2012'},\n",
    "    {'address': '5645 N RAVENSWOOD', 'date': '07/02/2012'},\n",
    "    {'address': '1060 W ADDISON', 'date': '07/02/2012'},\n",
    "    {'address': '4801 N BROADWAY', 'date': '07/01/2012'},\n",
    "    {'address': '1039 W GRANVILLE', 'date': '07/04/2012'},\n",
    "]"
   ]
  },
  {
   "cell_type": "code",
   "execution_count": 135,
   "metadata": {},
   "outputs": [],
   "source": [
    "from operator import itemgetter\n",
    "from itertools import groupby\n",
    "rows.sort(key=itemgetter('date'))\n",
    "#print(rows)"
   ]
  },
  {
   "cell_type": "code",
   "execution_count": 139,
   "metadata": {
    "scrolled": true
   },
   "outputs": [
    {
     "name": "stdout",
     "output_type": "stream",
     "text": [
      "07/01/2012\n",
      "  {'address': '5412 N CLARK', 'date': '07/01/2012'}\n",
      "  {'address': '4801 N BROADWAY', 'date': '07/01/2012'}\n",
      "07/02/2012\n",
      "  {'address': '5800 E 58TH', 'date': '07/02/2012'}\n",
      "  {'address': '5645 N RAVENSWOOD', 'date': '07/02/2012'}\n",
      "  {'address': '1060 W ADDISON', 'date': '07/02/2012'}\n",
      "07/03/2012\n",
      "  {'address': '2122 N CLARK', 'date': '07/03/2012'}\n",
      "07/04/2012\n",
      "  {'address': '5148 N CLARK', 'date': '07/04/2012'}\n",
      "  {'address': '1039 W GRANVILLE', 'date': '07/04/2012'}\n"
     ]
    }
   ],
   "source": [
    "for k, v in groupby(rows, key=itemgetter('date')):\n",
    "    print(k)\n",
    "    for i in v:\n",
    "        print(' ', i)"
   ]
  },
  {
   "cell_type": "code",
   "execution_count": 142,
   "metadata": {
    "scrolled": true
   },
   "outputs": [
    {
     "name": "stdout",
     "output_type": "stream",
     "text": [
      "{'address': '5412 N CLARK', 'date': '07/01/2012'}\n",
      "{'address': '4801 N BROADWAY', 'date': '07/01/2012'}\n"
     ]
    }
   ],
   "source": [
    "rows_by_date = defaultdict(list)\n",
    "for row in rows:\n",
    "    rows_by_date[row['date']].append(row)\n",
    "#print(rows_by_date)\n",
    "for i in rows_by_date['07/01/2012']:\n",
    "    print(i)"
   ]
  },
  {
   "cell_type": "code",
   "execution_count": 147,
   "metadata": {},
   "outputs": [
    {
     "name": "stdout",
     "output_type": "stream",
     "text": [
      "OrderedDict([('a', 1), ('b', 2), ('c', 3)])\n"
     ]
    },
    {
     "data": {
      "text/plain": [
       "'{\"a\": 1, \"b\": 2, \"c\": 3}'"
      ]
     },
     "execution_count": 147,
     "metadata": {},
     "output_type": "execute_result"
    }
   ],
   "source": [
    "from collections import OrderedDict\n",
    "d = OrderedDict()\n",
    "d.update(dict(a=1, b=2, c=3))\n",
    "print(d)\n",
    "import json\n",
    "json.dumps(d)"
   ]
  },
  {
   "cell_type": "code",
   "execution_count": 148,
   "metadata": {},
   "outputs": [],
   "source": [
    "prices = {\n",
    "    'ACME': 45.23,\n",
    "    'AAPL': 612.78,\n",
    "    'IBM': 205.55,\n",
    "    'HPQ': 37.20,\n",
    "    'FB': 10.75\n",
    "}"
   ]
  },
  {
   "cell_type": "code",
   "execution_count": 154,
   "metadata": {},
   "outputs": [
    {
     "data": {
      "text/plain": [
       "[(10.75, 'FB'),\n",
       " (37.2, 'HPQ'),\n",
       " (45.23, 'ACME'),\n",
       " (205.55, 'IBM'),\n",
       " (612.78, 'AAPL')]"
      ]
     },
     "execution_count": 154,
     "metadata": {},
     "output_type": "execute_result"
    }
   ],
   "source": [
    "a = zip(prices.values(), prices.keys())\n",
    "#print(a)\n",
    "# for i in a:\n",
    "#     print(i)\n",
    "sorted(a)"
   ]
  },
  {
   "cell_type": "code",
   "execution_count": 156,
   "metadata": {},
   "outputs": [
    {
     "data": {
      "text/plain": [
       "(10.75, 'FB')"
      ]
     },
     "execution_count": 156,
     "metadata": {},
     "output_type": "execute_result"
    }
   ],
   "source": [
    "a = zip(prices.values(), prices.keys())\n",
    "min(a)"
   ]
  },
  {
   "cell_type": "code",
   "execution_count": 167,
   "metadata": {},
   "outputs": [],
   "source": [
    "a = {\n",
    "    'x' : 1,\n",
    "    'y' : 2,\n",
    "    'z' : 3\n",
    "}\n",
    "b = {\n",
    "    'w' : 10,\n",
    "    'x' : 11,\n",
    "    'y' : 7\n",
    "}"
   ]
  },
  {
   "cell_type": "code",
   "execution_count": 160,
   "metadata": {},
   "outputs": [
    {
     "data": {
      "text/plain": [
       "{'x', 'y'}"
      ]
     },
     "execution_count": 160,
     "metadata": {},
     "output_type": "execute_result"
    }
   ],
   "source": [
    "a.keys() & b.keys()"
   ]
  },
  {
   "cell_type": "code",
   "execution_count": 161,
   "metadata": {},
   "outputs": [
    {
     "data": {
      "text/plain": [
       "{'z'}"
      ]
     },
     "execution_count": 161,
     "metadata": {},
     "output_type": "execute_result"
    }
   ],
   "source": [
    "a.keys() - b.keys()"
   ]
  },
  {
   "cell_type": "code",
   "execution_count": 162,
   "metadata": {},
   "outputs": [
    {
     "data": {
      "text/plain": [
       "{'w', 'x', 'y', 'z'}"
      ]
     },
     "execution_count": 162,
     "metadata": {},
     "output_type": "execute_result"
    }
   ],
   "source": [
    "a.keys() | b.keys()"
   ]
  },
  {
   "cell_type": "code",
   "execution_count": 164,
   "metadata": {},
   "outputs": [
    {
     "data": {
      "text/plain": [
       "{'w', 'z'}"
      ]
     },
     "execution_count": 164,
     "metadata": {},
     "output_type": "execute_result"
    }
   ],
   "source": [
    "a.keys() ^ b.keys()"
   ]
  },
  {
   "cell_type": "code",
   "execution_count": 168,
   "metadata": {},
   "outputs": [
    {
     "data": {
      "text/plain": [
       "set()"
      ]
     },
     "execution_count": 168,
     "metadata": {},
     "output_type": "execute_result"
    }
   ],
   "source": [
    "a.items() & b.items()"
   ]
  },
  {
   "cell_type": "code",
   "execution_count": 170,
   "metadata": {},
   "outputs": [
    {
     "name": "stdout",
     "output_type": "stream",
     "text": [
      "{'y': 2, 'x': 1}\n",
      "{'x': 1, 'y': 2, 'z': 3}\n"
     ]
    }
   ],
   "source": [
    "c = {key:a[key] for key in a.keys()-{'z'}}\n",
    "print(c)\n",
    "print(a)"
   ]
  },
  {
   "cell_type": "code",
   "execution_count": 171,
   "metadata": {},
   "outputs": [],
   "source": [
    "set?"
   ]
  },
  {
   "cell_type": "code",
   "execution_count": 181,
   "metadata": {},
   "outputs": [
    {
     "data": {
      "text/plain": [
       "{2, 3, 'ab', (1,)}"
      ]
     },
     "execution_count": 181,
     "metadata": {},
     "output_type": "execute_result"
    }
   ],
   "source": [
    "set([(1,),2,3,'ab'])"
   ]
  },
  {
   "cell_type": "code",
   "execution_count": 185,
   "metadata": {},
   "outputs": [],
   "source": [
    "def dedupe(items):\n",
    "    seen = set()\n",
    "    for item in items:\n",
    "        if item not in seen:\n",
    "            yield item\n",
    "            seen.add(item)\n",
    "    print(seen)"
   ]
  },
  {
   "cell_type": "code",
   "execution_count": 188,
   "metadata": {},
   "outputs": [
    {
     "ename": "TypeError",
     "evalue": "unhashable type: 'list'",
     "output_type": "error",
     "traceback": [
      "\u001b[0;31m---------------------------------------------------------------------------\u001b[0m",
      "\u001b[0;31mTypeError\u001b[0m                                 Traceback (most recent call last)",
      "\u001b[0;32m<ipython-input-188-49ece54b56eb>\u001b[0m in \u001b[0;36m<module>\u001b[0;34m()\u001b[0m\n\u001b[0;32m----> 1\u001b[0;31m \u001b[0mlist\u001b[0m\u001b[0;34m(\u001b[0m\u001b[0mdedupe\u001b[0m\u001b[0;34m(\u001b[0m\u001b[0;34m[\u001b[0m\u001b[0;36m1\u001b[0m\u001b[0;34m,\u001b[0m\u001b[0;36m2\u001b[0m\u001b[0;34m,\u001b[0m\u001b[0;36m1\u001b[0m\u001b[0;34m,\u001b[0m\u001b[0;34m[\u001b[0m\u001b[0;36m1\u001b[0m\u001b[0;34m]\u001b[0m\u001b[0;34m]\u001b[0m\u001b[0;34m)\u001b[0m\u001b[0;34m)\u001b[0m\u001b[0;34m\u001b[0m\u001b[0;34m\u001b[0m\u001b[0m\n\u001b[0m\u001b[1;32m      2\u001b[0m \u001b[0;34m\u001b[0m\u001b[0m\n",
      "\u001b[0;32m<ipython-input-185-7f22b5dd1f1f>\u001b[0m in \u001b[0;36mdedupe\u001b[0;34m(items)\u001b[0m\n\u001b[1;32m      2\u001b[0m     \u001b[0mseen\u001b[0m \u001b[0;34m=\u001b[0m \u001b[0mset\u001b[0m\u001b[0;34m(\u001b[0m\u001b[0;34m)\u001b[0m\u001b[0;34m\u001b[0m\u001b[0;34m\u001b[0m\u001b[0m\n\u001b[1;32m      3\u001b[0m     \u001b[0;32mfor\u001b[0m \u001b[0mitem\u001b[0m \u001b[0;32min\u001b[0m \u001b[0mitems\u001b[0m\u001b[0;34m:\u001b[0m\u001b[0;34m\u001b[0m\u001b[0;34m\u001b[0m\u001b[0m\n\u001b[0;32m----> 4\u001b[0;31m         \u001b[0;32mif\u001b[0m \u001b[0mitem\u001b[0m \u001b[0;32mnot\u001b[0m \u001b[0;32min\u001b[0m \u001b[0mseen\u001b[0m\u001b[0;34m:\u001b[0m\u001b[0;34m\u001b[0m\u001b[0;34m\u001b[0m\u001b[0m\n\u001b[0m\u001b[1;32m      5\u001b[0m             \u001b[0;32myield\u001b[0m \u001b[0mitem\u001b[0m\u001b[0;34m\u001b[0m\u001b[0;34m\u001b[0m\u001b[0m\n\u001b[1;32m      6\u001b[0m             \u001b[0mseen\u001b[0m\u001b[0;34m.\u001b[0m\u001b[0madd\u001b[0m\u001b[0;34m(\u001b[0m\u001b[0mitem\u001b[0m\u001b[0;34m)\u001b[0m\u001b[0;34m\u001b[0m\u001b[0;34m\u001b[0m\u001b[0m\n",
      "\u001b[0;31mTypeError\u001b[0m: unhashable type: 'list'"
     ]
    }
   ],
   "source": [
    "list(dedupe([1,2,1,[1]]))\n",
    "\n"
   ]
  },
  {
   "cell_type": "code",
   "execution_count": null,
   "metadata": {},
   "outputs": [],
   "source": []
  },
  {
   "cell_type": "code",
   "execution_count": null,
   "metadata": {},
   "outputs": [],
   "source": []
  }
 ],
 "metadata": {
  "kernelspec": {
   "display_name": "Python 3",
   "language": "python",
   "name": "python3"
  },
  "language_info": {
   "codemirror_mode": {
    "name": "ipython",
    "version": 3
   },
   "file_extension": ".py",
   "mimetype": "text/x-python",
   "name": "python",
   "nbconvert_exporter": "python",
   "pygments_lexer": "ipython3",
   "version": "3.6.8"
  }
 },
 "nbformat": 4,
 "nbformat_minor": 2
}
