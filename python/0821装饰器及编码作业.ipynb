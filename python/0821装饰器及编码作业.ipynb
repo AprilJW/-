{
 "cells": [
  {
   "cell_type": "code",
   "execution_count": 2,
   "metadata": {},
   "outputs": [],
   "source": [
    "import time"
   ]
  },
  {
   "cell_type": "code",
   "execution_count": 3,
   "metadata": {},
   "outputs": [],
   "source": [
    "\n",
    "cachedic = {}\n",
    "def makekey(*args, **kwargs):\n",
    "    key = args\n",
    "    if kwargs:\n",
    "        key += (object(), )\n",
    "        for item in kwargs.items():\n",
    "            key += item\n",
    "    return key\n",
    "\n",
    "def cache(fn):\n",
    "    def wrapper(*args, **kwargs):\n",
    "        key = makekey(*args, **kwargs)\n",
    "        if key in cachedic:\n",
    "            return cachedic[key]\n",
    "        ret = fn(*args, **kwargs)\n",
    "        cachedic[key] = ret\n",
    "        print('cachedic: ',cachedic)\n",
    "        return ret\n",
    "    return wrapper\n",
    "\n",
    "@cache\n",
    "def add(a, b):\n",
    "    time.sleep(2)\n",
    "    return a + b"
   ]
  },
  {
   "cell_type": "code",
   "execution_count": 4,
   "metadata": {},
   "outputs": [
    {
     "name": "stdout",
     "output_type": "stream",
     "text": [
      "cachedic:  {(1, 2): 3}\n"
     ]
    },
    {
     "data": {
      "text/plain": [
       "3"
      ]
     },
     "execution_count": 4,
     "metadata": {},
     "output_type": "execute_result"
    }
   ],
   "source": [
    "add(1, 2)"
   ]
  },
  {
   "cell_type": "code",
   "execution_count": 5,
   "metadata": {},
   "outputs": [
    {
     "data": {
      "text/plain": [
       "3"
      ]
     },
     "execution_count": 5,
     "metadata": {},
     "output_type": "execute_result"
    }
   ],
   "source": [
    "add(1, 2)"
   ]
  },
  {
   "cell_type": "code",
   "execution_count": 6,
   "metadata": {},
   "outputs": [
    {
     "name": "stdout",
     "output_type": "stream",
     "text": [
      "cachedic:  {(1, 2): 3, (<object object at 0x110046c00>, 'a', 1, 'b', 2): 3}\n"
     ]
    },
    {
     "data": {
      "text/plain": [
       "3"
      ]
     },
     "execution_count": 6,
     "metadata": {},
     "output_type": "execute_result"
    }
   ],
   "source": [
    "add(a=1, b=2)"
   ]
  },
  {
   "cell_type": "code",
   "execution_count": null,
   "metadata": {},
   "outputs": [],
   "source": [
    "cachedic = {}\n",
    "def makekey(*args, **kwargs):\n",
    "    keyset = {}\n",
    "    keyset.update(args)\n",
    "    for item in kwargs.items():\n",
    "        keyset.update(item)\n",
    "    return keyset\n",
    "def makedefaultkey\n",
    "\n",
    "def cache(fn):\n",
    "    def wrapper(*args, **kwargs):\n",
    "        setkey = makekey(*args, **kwargs)\n",
    "        \n",
    "        if key in cachedic:\n",
    "            return cachedic[key]\n",
    "        ret = fn(*args, **kwargs)\n",
    "        cachedic[key] = ret\n",
    "        print('cachedic: ',cachedic)\n",
    "        return ret\n",
    "    return wrapper\n",
    "\n",
    "@cache\n",
    "def add(a=4, b=5):\n",
    "    time.sleep(2)\n",
    "    return a + b"
   ]
  },
  {
   "cell_type": "code",
   "execution_count": 13,
   "metadata": {},
   "outputs": [
    {
     "name": "stdout",
     "output_type": "stream",
     "text": [
      "{1, 3}\n"
     ]
    }
   ],
   "source": [
    "a = {1}\n",
    "a.update({3:8})\n",
    "print(a)"
   ]
  },
  {
   "cell_type": "code",
   "execution_count": 14,
   "metadata": {},
   "outputs": [
    {
     "data": {
      "text/plain": [
       "b'abc'"
      ]
     },
     "execution_count": 14,
     "metadata": {},
     "output_type": "execute_result"
    }
   ],
   "source": [
    "str1 = 'abc'\n",
    "str1.encode('utf8')"
   ]
  },
  {
   "cell_type": "code",
   "execution_count": 18,
   "metadata": {},
   "outputs": [
    {
     "name": "stdout",
     "output_type": "stream",
     "text": [
      "0b1100001\n",
      "0b1100010\n",
      "0b1100011\n"
     ]
    }
   ],
   "source": [
    "for i in range(97, 100):\n",
    "    print(bin(i))"
   ]
  },
  {
   "cell_type": "code",
   "execution_count": 19,
   "metadata": {},
   "outputs": [
    {
     "ename": "TypeError",
     "evalue": "'str' object cannot be interpreted as an integer",
     "output_type": "error",
     "traceback": [
      "\u001b[0;31m---------------------------------------------------------------------------\u001b[0m",
      "\u001b[0;31mTypeError\u001b[0m                                 Traceback (most recent call last)",
      "\u001b[0;32m<ipython-input-19-059d639f8522>\u001b[0m in \u001b[0;36m<module>\u001b[0;34m()\u001b[0m\n\u001b[0;32m----> 1\u001b[0;31m \u001b[0mhex\u001b[0m\u001b[0;34m(\u001b[0m\u001b[0;34m'a'\u001b[0m\u001b[0;34m)\u001b[0m\u001b[0;34m\u001b[0m\u001b[0;34m\u001b[0m\u001b[0m\n\u001b[0m",
      "\u001b[0;31mTypeError\u001b[0m: 'str' object cannot be interpreted as an integer"
     ]
    }
   ],
   "source": []
  },
  {
   "cell_type": "code",
   "execution_count": null,
   "metadata": {},
   "outputs": [],
   "source": []
  },
  {
   "cell_type": "code",
   "execution_count": null,
   "metadata": {},
   "outputs": [],
   "source": []
  },
  {
   "cell_type": "code",
   "execution_count": null,
   "metadata": {},
   "outputs": [],
   "source": []
  }
 ],
 "metadata": {
  "kernelspec": {
   "display_name": "Python 3",
   "language": "python",
   "name": "python3"
  },
  "language_info": {
   "codemirror_mode": {
    "name": "ipython",
    "version": 3
   },
   "file_extension": ".py",
   "mimetype": "text/x-python",
   "name": "python",
   "nbconvert_exporter": "python",
   "pygments_lexer": "ipython3",
   "version": "3.6.8"
  }
 },
 "nbformat": 4,
 "nbformat_minor": 2
}
