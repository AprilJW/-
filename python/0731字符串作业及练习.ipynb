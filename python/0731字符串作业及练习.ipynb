{
 "cells": [
  {
   "cell_type": "markdown",
   "metadata": {},
   "source": [
    "1.求杨辉三角第m行第k个元素.　第m 行有m项，m是正整数\n",
    "因此k一定不会大于m, 第n行的m个元素可以表示为C(n-1, m-1),\n",
    "即从n-1个不同元素中取出m-1个元素的组合数"
   ]
  },
  {
   "cell_type": "code",
   "execution_count": 196,
   "metadata": {},
   "outputs": [],
   "source": [
    "def get_element(m, k):\n",
    "    j = m - k\n",
    "    s1 = 1\n",
    "    s2 = 1\n",
    "    s3 = 1  \n",
    "    while m > 1:\n",
    "        s1 *= (m-1)\n",
    "        m -= 1\n",
    "    print('s1:', s1)     \n",
    "           \n",
    "    while k > 1:\n",
    "        s2 *= (k -1)\n",
    "        k -= 1\n",
    "        \n",
    "    print('s2:', s2)\n",
    "      \n",
    "    while j > 0:\n",
    "        s3 *= j\n",
    "        j -= 1\n",
    "    print('s3:', s3)\n",
    "    return s1/(s2 * s3)\n",
    "        "
   ]
  },
  {
   "cell_type": "code",
   "execution_count": 1,
   "metadata": {},
   "outputs": [],
   "source": [
    "# 求某行的某一个元素\n",
    "#method2,通过一次循环实现3个阶乘的计算，比第一种方法方便\n",
    "#注意m 和 k只能从1开始取，不然会很麻烦\n",
    "def get_element(m, k):    \n",
    "    factorial = 1\n",
    "    triangle = []\n",
    "    for i in range(0, m):\n",
    "        if i != 0:\n",
    "            factorial *= i\n",
    "        if i == k-1:\n",
    "            triangle.append(factorial)\n",
    "        if i == m-k:\n",
    "            triangle.append(factorial)\n",
    "    triangle.append(factorial)\n",
    "    element = triangle[2] / (triangle[0] * triangle[1])\n",
    "    return element\n",
    "            \n"
   ]
  },
  {
   "cell_type": "code",
   "execution_count": 10,
   "metadata": {},
   "outputs": [
    {
     "data": {
      "text/plain": [
       "(1.0, 1.0, 70.0, 3.0)"
      ]
     },
     "execution_count": 10,
     "metadata": {},
     "output_type": "execute_result"
    }
   ],
   "source": [
    "get_element(9, 9), get_element(9,1), get_element(9,5), get_element(4, 2)\n"
   ]
  },
  {
   "cell_type": "code",
   "execution_count": 7,
   "metadata": {},
   "outputs": [
    {
     "data": {
      "text/plain": [
       "(1.0, 1.0, 1.0)"
      ]
     },
     "execution_count": 7,
     "metadata": {},
     "output_type": "execute_result"
    }
   ],
   "source": [
    "get_element(1,1), get_element(2,1), get_element(2,1)"
   ]
  },
  {
   "cell_type": "code",
   "execution_count": 11,
   "metadata": {},
   "outputs": [
    {
     "name": "stdout",
     "output_type": "stream",
     "text": [
      "[[1], [1, 1], [1, 2, 1], [1, 3, 3, 1], [1, 4, 6, 4, 1], [1, 5, 10, 10, 5, 1]]\n"
     ]
    }
   ],
   "source": [
    "# 求前几行和第几行\n",
    "#append方法\n",
    "triangle = [[1], [1, 1]]\n",
    "for i in range(2, 6):\n",
    "    cur = [1]\n",
    "    pre = triangle[i-1]\n",
    "    for j in range(i-1):\n",
    "        cur.append(pre[j] + pre[j+1])\n",
    "    cur.append(1)\n",
    "    triangle.append(cur)\n",
    "print(triangle)"
   ]
  },
  {
   "cell_type": "code",
   "execution_count": 19,
   "metadata": {},
   "outputs": [
    {
     "name": "stdout",
     "output_type": "stream",
     "text": [
      "[[1], [1, 1], [1, 2, 1], [1, 3, 3, 1], [1, 4, 6, 4, 1], [1, 5, 10, 10, 5, 1]]\n",
      "[1, 5, 10, 10, 5, 1]\n"
     ]
    }
   ],
   "source": [
    "triangle = []\n",
    "for i in range(1, 7):\n",
    "    cur = [1]\n",
    "    triangle.append(cur)\n",
    "    if i == 1:\n",
    "        continue\n",
    "    pre = triangle[-2]\n",
    "    for j in range(i - 2):\n",
    "        cur.append(pre[j] + pre[j+1])\n",
    "    cur.append(1)\n",
    "print(triangle)\n",
    "print(cur)"
   ]
  },
  {
   "cell_type": "code",
   "execution_count": 18,
   "metadata": {},
   "outputs": [
    {
     "name": "stdout",
     "output_type": "stream",
     "text": [
      "[[1], [1, 1], [1, 2, 1], [1, 3, 3, 1], [1, 4, 6, 4, 1], [1, 5, 10, 10, 5, 1]]\n"
     ]
    }
   ],
   "source": [
    "#从0开始\n",
    "triangle = []\n",
    "for i in range(6):\n",
    "    cur = [1]\n",
    "    triangle.append(cur)\n",
    "    if i == 0: continue        \n",
    "    pre = triangle[-2]   \n",
    "    for j in range(i-1): # [1,2,1] cur=[1,3,3,1]        \n",
    "        cur.append(pre[j] + pre[j+1])\n",
    "    cur.append(1)\n",
    "print(triangle)"
   ]
  },
  {
   "cell_type": "code",
   "execution_count": null,
   "metadata": {},
   "outputs": [],
   "source": []
  },
  {
   "cell_type": "code",
   "execution_count": null,
   "metadata": {},
   "outputs": [],
   "source": []
  },
  {
   "cell_type": "code",
   "execution_count": null,
   "metadata": {},
   "outputs": [],
   "source": []
  },
  {
   "cell_type": "code",
   "execution_count": null,
   "metadata": {},
   "outputs": [],
   "source": [
    "def get_element(m, k):\n",
    "    prerow = [1,1]\n",
    "    row = [1]\n",
    "    for i in range(m-2):\n",
    "        row.append(prerow[i] + prerow[i+1])\n",
    "    row.append(1)\n",
    "    print(row)\n",
    "    prerow = row"
   ]
  },
  {
   "cell_type": "code",
   "execution_count": null,
   "metadata": {},
   "outputs": [],
   "source": []
  },
  {
   "cell_type": "code",
   "execution_count": 37,
   "metadata": {
    "scrolled": true
   },
   "outputs": [
    {
     "name": "stdout",
     "output_type": "stream",
     "text": [
      "[40320, 40320]\n"
     ]
    },
    {
     "ename": "IndexError",
     "evalue": "list index out of range",
     "output_type": "error",
     "traceback": [
      "\u001b[0;31m---------------------------------------------------------------------------\u001b[0m",
      "\u001b[0;31mIndexError\u001b[0m                                Traceback (most recent call last)",
      "\u001b[0;32m<ipython-input-37-62910be1556e>\u001b[0m in \u001b[0;36m<module>\u001b[0;34m()\u001b[0m\n\u001b[1;32m     15\u001b[0m         \u001b[0mtargets\u001b[0m\u001b[0;34m.\u001b[0m\u001b[0mappend\u001b[0m\u001b[0;34m(\u001b[0m\u001b[0mfactorial\u001b[0m\u001b[0;34m)\u001b[0m\u001b[0;34m\u001b[0m\u001b[0;34m\u001b[0m\u001b[0m\n\u001b[1;32m     16\u001b[0m \u001b[0mprint\u001b[0m\u001b[0;34m(\u001b[0m\u001b[0mtargets\u001b[0m\u001b[0;34m)\u001b[0m\u001b[0;34m\u001b[0m\u001b[0;34m\u001b[0m\u001b[0m\n\u001b[0;32m---> 17\u001b[0;31m \u001b[0mprint\u001b[0m\u001b[0;34m(\u001b[0m\u001b[0mtargets\u001b[0m\u001b[0;34m[\u001b[0m\u001b[0;36m2\u001b[0m\u001b[0;34m]\u001b[0m\u001b[0;34m//\u001b[0m\u001b[0;34m(\u001b[0m\u001b[0mtargets\u001b[0m\u001b[0;34m[\u001b[0m\u001b[0;36m0\u001b[0m\u001b[0;34m]\u001b[0m \u001b[0;34m*\u001b[0m \u001b[0mtargets\u001b[0m\u001b[0;34m[\u001b[0m\u001b[0;36m1\u001b[0m\u001b[0;34m]\u001b[0m\u001b[0;34m)\u001b[0m\u001b[0;34m)\u001b[0m\u001b[0;34m\u001b[0m\u001b[0;34m\u001b[0m\u001b[0m\n\u001b[0m",
      "\u001b[0;31mIndexError\u001b[0m: list index out of range"
     ]
    }
   ],
   "source": [
    "m = 9\n",
    "k = 1\n",
    "n = m-1\n",
    "r = k-1\n",
    "d = n-r\n",
    "targets = []\n",
    "factorial = 1\n",
    "for i in range(1, n+1):\n",
    "    factorial *= i\n",
    "    if i == r:\n",
    "        targets.append(factorial)\n",
    "    if i == d:\n",
    "        targets.append(factorial)\n",
    "    if i == n:\n",
    "        targets.append(factorial)\n",
    "print(targets)\n",
    "print(targets[2]//(targets[0] * targets[1]))"
   ]
  },
  {
   "cell_type": "code",
   "execution_count": null,
   "metadata": {},
   "outputs": [],
   "source": []
  },
  {
   "cell_type": "code",
   "execution_count": 28,
   "metadata": {},
   "outputs": [
    {
     "data": {
      "text/plain": [
       "70.0"
      ]
     },
     "execution_count": 28,
     "metadata": {},
     "output_type": "execute_result"
    }
   ],
   "source": [
    "get_element(8, 4)"
   ]
  },
  {
   "cell_type": "code",
   "execution_count": null,
   "metadata": {},
   "outputs": [],
   "source": [
    "#method1 一次循环求出3个阶乘\n",
    "factorial = 1\n"
   ]
  },
  {
   "cell_type": "code",
   "execution_count": 197,
   "metadata": {},
   "outputs": [
    {
     "name": "stdout",
     "output_type": "stream",
     "text": [
      "s1: 120\n",
      "s2: 2\n",
      "s3: 6\n"
     ]
    },
    {
     "data": {
      "text/plain": [
       "10.0"
      ]
     },
     "execution_count": 197,
     "metadata": {},
     "output_type": "execute_result"
    }
   ],
   "source": [
    "get_element(6, 3)"
   ]
  },
  {
   "cell_type": "code",
   "execution_count": 205,
   "metadata": {},
   "outputs": [
    {
     "name": "stdout",
     "output_type": "stream",
     "text": [
      "s1: 6\n",
      "s2: 1\n",
      "s3: 2\n"
     ]
    },
    {
     "data": {
      "text/plain": [
       "3.0"
      ]
     },
     "execution_count": 205,
     "metadata": {},
     "output_type": "execute_result"
    }
   ],
   "source": [
    "get_element(4, 2)"
   ]
  },
  {
   "cell_type": "markdown",
   "metadata": {},
   "source": [
    "随机产生10个数，要求：每个数字取值范围为[1,20],\n",
    "统计重复数字和不重复数字分别是什么，和个数"
   ]
  },
  {
   "cell_type": "code",
   "execution_count": 220,
   "metadata": {},
   "outputs": [
    {
     "name": "stdout",
     "output_type": "stream",
     "text": [
      "[4, 8, 18, 19, 19, 12, 10, 6, 6, 11]\n",
      "repeat num: 2, repeat element:[6, 19]\n",
      "not repeat num: 8, not repeat element:[11, 6, 10, 12, 19, 18, 8, 4]\n"
     ]
    }
   ],
   "source": [
    "import random\n",
    "lst = list()\n",
    "n = 0\n",
    "while True:\n",
    "    a = random.randint(1, 20)\n",
    "    lst.append(a)\n",
    "    n += 1\n",
    "    if n >= 10:\n",
    "        break\n",
    "print(lst)\n",
    "repeat = []\n",
    "not_repeat = []\n",
    "repeat_num = 0\n",
    "not_repeat_num = 0\n",
    "while lst:\n",
    "    last_ele = lst.pop()\n",
    "    if last_ele in lst:\n",
    "        \n",
    "        if not last_ele in repeat:\n",
    "            repeat.append(last_ele)        \n",
    "            #print(repeat[-1], 'is repeat element')\n",
    "            repeat_num +=1\n",
    "    else :\n",
    "        #print(last_ele, 'is not repeat element')\n",
    "        not_repeat.append(last_ele)\n",
    "        not_repeat_num += 1\n",
    "print('repeat num: {}, repeat element:{}'.format(repeat_num, repeat))\n",
    "print('not repeat num: {}, not repeat element:{}'.format(not_repeat_num, not_repeat))"
   ]
  },
  {
   "cell_type": "markdown",
   "metadata": {},
   "source": [
    "### 统计列表中数据个数的几种方法"
   ]
  },
  {
   "cell_type": "code",
   "execution_count": 16,
   "metadata": {},
   "outputs": [
    {
     "name": "stdout",
     "output_type": "stream",
     "text": [
      "[1, 0, 0, 1, 1, 1, 0, 1, 1, 1]\n",
      "[('a', 3), (19, 2), (6, 2)]\n",
      "[8, 18, 10]\n"
     ]
    }
   ],
   "source": [
    "#如果不用dic,用数组实现比较好的方式\n",
    "#method1 新建一个与原来等长度的list，(方法较好)\n",
    "#用对应位置存数量（可以处理原list没有规律的情况）\n",
    "nums = ['a', 8, 18, 19, 19, 'a', 10, 6, 6, 'a']\n",
    "mapnums = [0]*len(nums)\n",
    "samnums = []\n",
    "diffnums = []\n",
    "for i in range(len(nums)-1):\n",
    "    if mapnums[i] == 1:\n",
    "        continue\n",
    "    flag = False\n",
    "    count = 1\n",
    "    for j in range(i+1, len(nums)):\n",
    "        if mapnums[j] == 1:\n",
    "            continue\n",
    "        if nums[i] == nums[j]:\n",
    "            flag = True\n",
    "            mapnums[j] = 1\n",
    "            count += 1\n",
    "    if flag:\n",
    "        mapnums[i] =1\n",
    "        samnums.append((nums[i], count))\n",
    "    else:\n",
    "        diffnums.append(nums[i])\n",
    "        \n",
    "print(mapnums)\n",
    "print(samnums)\n",
    "print(diffnums)"
   ]
  },
  {
   "cell_type": "code",
   "execution_count": 18,
   "metadata": {},
   "outputs": [
    {
     "name": "stdout",
     "output_type": "stream",
     "text": [
      "[(2, 2), (3, 4), (6, 2)]\n",
      "[1, 4]\n"
     ]
    }
   ],
   "source": [
    "#题目改编，统计有序数组的元素数量\n",
    "nums = [1,2,2,3,3,3,3,4,6,6]\n",
    "samnums = []\n",
    "diffnums = []\n",
    "i = 0\n",
    "while i < len(nums)-1:\n",
    "    j = i + 1\n",
    "    flag = False\n",
    "    count = 1\n",
    "    while j < len(nums):\n",
    "        if nums[i] == nums[j]:\n",
    "            count += 1\n",
    "            flag = True\n",
    "            j += 1\n",
    "        else:\n",
    "            break\n",
    "    if flag:\n",
    "        samnums.append((nums[i], count))\n",
    "    \n",
    "    else:\n",
    "        diffnums.append(nums[i])\n",
    "    i += count\n",
    "print(samnums)\n",
    "print(diffnums)\n"
   ]
  },
  {
   "cell_type": "code",
   "execution_count": 22,
   "metadata": {},
   "outputs": [
    {
     "name": "stdout",
     "output_type": "stream",
     "text": [
      "[0, 2, 3, 3, 2, 2, 0, 1, 1, 0]\n"
     ]
    }
   ],
   "source": [
    "# 统计全数字\n",
    "a = '23145231457823'\n",
    "b = [0] * 10\n",
    "for i in a:\n",
    "    b[int(i)] += 1\n",
    "print(b)"
   ]
  },
  {
   "cell_type": "code",
   "execution_count": 23,
   "metadata": {},
   "outputs": [
    {
     "name": "stdout",
     "output_type": "stream",
     "text": [
      "[2, 0, 0, 1, 1, 0, 0, 0, 3, 4, 1, 1, 0, 3, 0, 0, 0, 0, 0, 0, 0, 0, 1, 1, 0, 0]\n"
     ]
    }
   ],
   "source": [
    "# 统计全字母\n",
    "alst = 'aanijnxijdwnkljjie'\n",
    "mapalst = [0]*26\n",
    "for i in alst:\n",
    "    mapalst[int(ord(i))-97] += 1\n",
    "print(mapalst)"
   ]
  },
  {
   "cell_type": "code",
   "execution_count": null,
   "metadata": {},
   "outputs": [],
   "source": []
  },
  {
   "cell_type": "code",
   "execution_count": 216,
   "metadata": {},
   "outputs": [
    {
     "name": "stdout",
     "output_type": "stream",
     "text": [
      "[1, 2]\n"
     ]
    }
   ],
   "source": [
    "猴子吃桃"
   ]
  },
  {
   "cell_type": "code",
   "execution_count": 221,
   "metadata": {},
   "outputs": [
    {
     "name": "stdout",
     "output_type": "stream",
     "text": [
      "第10天,有1个桃\n",
      "第9天,有4个桃\n",
      "第8天,有10个桃\n",
      "第7天,有22个桃\n",
      "第6天,有46个桃\n",
      "第5天,有94个桃\n",
      "第4天,有190个桃\n",
      "第3天,有382个桃\n",
      "第2天,有766个桃\n",
      "第1天,有1534个桃\n"
     ]
    }
   ],
   "source": [
    "y = 1\n",
    "day = 10\n",
    "print('第{}天,有{}个桃'.format(day, y))\n",
    "while day>1:\n",
    "    day -= 1\n",
    "    x =(y + 1) * 2\n",
    "    print('第{}天,有{}个桃'.format(day, x))\n",
    "    y = x\n",
    "    "
   ]
  },
  {
   "cell_type": "code",
   "execution_count": 19,
   "metadata": {},
   "outputs": [
    {
     "name": "stdout",
     "output_type": "stream",
     "text": [
      "第10天,有1个桃\n",
      "第9天,有4个桃\n",
      "第8天,有10个桃\n",
      "第7天,有22个桃\n",
      "第6天,有46个桃\n",
      "第5天,有94个桃\n",
      "第4天,有190个桃\n",
      "第3天,有382个桃\n",
      "第2天,有766个桃\n",
      "第1天,有1534个桃\n"
     ]
    }
   ],
   "source": [
    "#method2\n",
    "x = 1\n",
    "day = 10\n",
    "print('第{}天,有{}个桃'.format(day, x))\n",
    "while day>1:\n",
    "    day -= 1\n",
    "    x =(x + 1) * 2\n",
    "    print('第{}天,有{}个桃'.format(day, x))"
   ]
  },
  {
   "cell_type": "markdown",
   "metadata": {},
   "source": [
    "判断数字位数并排序打印，输入5个正整数，打印每个数字位数，并升序打印"
   ]
  },
  {
   "cell_type": "code",
   "execution_count": 223,
   "metadata": {
    "scrolled": true
   },
   "outputs": [
    {
     "name": "stdout",
     "output_type": "stream",
     "text": [
      ">>>:1\n",
      "input integer:1,bit size:1\n",
      ">>>:9\n",
      "input integer:9,bit size:1\n",
      ">>>:5\n",
      "input integer:5,bit size:1\n",
      ">>>:13\n",
      "input integer:13,bit size:2\n",
      ">>>:8\n",
      "input integer:8,bit size:1\n",
      "[1, 9, 5, 13, 8]\n"
     ]
    }
   ],
   "source": [
    "k = 0\n",
    "lst = []\n",
    "while True:\n",
    "    integ = input('>>>:')\n",
    "    print('input integer:{},bit size:{}'.format(int(integ), len(integ)))\n",
    "    lst.append(int(integ))\n",
    "    k += 1\n",
    "    if k >=5:\n",
    "        break\n",
    "print(lst)    "
   ]
  },
  {
   "cell_type": "code",
   "execution_count": 226,
   "metadata": {},
   "outputs": [
    {
     "name": "stdout",
     "output_type": "stream",
     "text": [
      "[1, 9, 5, 13, 8]\n",
      "[1, 5, 8, 9, 13]\n"
     ]
    }
   ],
   "source": [
    "lst = [1,9,5,13,8]\n",
    "print(lst)\n",
    "for i in range(1, len(lst)):\n",
    "    flag = False\n",
    "    for j in range(0, len(lst)-i):\n",
    "        if lst[j] > lst[j+1]:\n",
    "            lst[j], lst[j+1] = lst[j+1], lst[j]\n",
    "            flag = True\n",
    "    if not flag:\n",
    "        break\n",
    "print(lst)"
   ]
  },
  {
   "cell_type": "markdown",
   "metadata": {},
   "source": [
    "判断数字并打印"
   ]
  },
  {
   "cell_type": "code",
   "execution_count": 20,
   "metadata": {},
   "outputs": [
    {
     "name": "stdout",
     "output_type": "stream",
     "text": [
      ">>>>:00035\n"
     ]
    }
   ],
   "source": [
    "while True:\n",
    "    a = input('>>>>:')\n",
    "    if a.isdigit:\n",
    "        break"
   ]
  },
  {
   "cell_type": "code",
   "execution_count": 7,
   "metadata": {
    "scrolled": false
   },
   "outputs": [
    {
     "name": "stdout",
     "output_type": "stream",
     "text": [
      "i: 2\n",
      "2\n",
      "a1: 3\n",
      "a1: 5\n",
      "a1: 0\n",
      "a1: 0\n",
      "a2: 3\n",
      "a2: 5\n",
      "a2: 0\n",
      "a2: 0\n"
     ]
    }
   ],
   "source": [
    "if a.startswith('0'):\n",
    "    i = 0\n",
    "    while a[i] == '0':\n",
    "        i += 1\n",
    "        if a[i] != '0':\n",
    "            break\n",
    "    print('i:', i)\n",
    "    print(len(a) - i)\n",
    "else:\n",
    "    print(len(a))\n",
    "#method1\n",
    "for i in a[::-1]:\n",
    "    print('a1:',i)\n",
    "#method2\n",
    "for i in range(len(a)):\n",
    "    print('a2:', a[-(i+1)])\n",
    "    "
   ]
  },
  {
   "cell_type": "code",
   "execution_count": 21,
   "metadata": {},
   "outputs": [
    {
     "name": "stdout",
     "output_type": "stream",
     "text": [
      "35\n"
     ]
    }
   ],
   "source": [
    "# method2\n",
    "b = a.strip().lstrip('0')\n",
    "print(b)"
   ]
  },
  {
   "cell_type": "code",
   "execution_count": 7,
   "metadata": {},
   "outputs": [
    {
     "data": {
      "text/plain": [
       "97"
      ]
     },
     "execution_count": 7,
     "metadata": {},
     "output_type": "execute_result"
    }
   ],
   "source": [
    "# hex('a')\n",
    "ord('a')\n",
    "ord()\n",
    "# bin(int(ascii('a')))"
   ]
  },
  {
   "cell_type": "code",
   "execution_count": 5,
   "metadata": {},
   "outputs": [
    {
     "name": "stdout",
     "output_type": "stream",
     "text": [
      "44\n"
     ]
    }
   ],
   "source": [
    "a = '0053'\n",
    "if a.startswith('0'):\n",
    "    print('44')"
   ]
  },
  {
   "cell_type": "code",
   "execution_count": 1,
   "metadata": {},
   "outputs": [],
   "source": [
    "from collections import namedtuple"
   ]
  },
  {
   "cell_type": "code",
   "execution_count": 5,
   "metadata": {},
   "outputs": [
    {
     "data": {
      "text/plain": [
       "['x', 'y']"
      ]
     },
     "execution_count": 5,
     "metadata": {},
     "output_type": "execute_result"
    }
   ],
   "source": [
    "'x   y'.replace(',',' ').split()"
   ]
  },
  {
   "cell_type": "code",
   "execution_count": 7,
   "metadata": {},
   "outputs": [
    {
     "name": "stdout",
     "output_type": "stream",
     "text": [
      "5\n",
      "4\n",
      "5\n",
      "4\n",
      "<class '__main__.Point'>\n",
      "Point(x=[10], y=4)\n",
      "Point(x=[13], y=4)\n"
     ]
    }
   ],
   "source": [
    "Point = namedtuple('Point', ['x', 'y'])\n",
    "point = Point(5, 4)\n",
    "print(point.x)\n",
    "print(point.y)\n",
    "print(point[0])\n",
    "print(point[1])\n",
    "\n",
    "print(type(point))\n",
    "point2 = Point([5], 4)\n",
    "point2[0][0] = 10\n",
    "print(point2)\n",
    "point2.x[0] = 13\n",
    "print(point2)"
   ]
  },
  {
   "cell_type": "code",
   "execution_count": 9,
   "metadata": {},
   "outputs": [
    {
     "name": "stdout",
     "output_type": "stream",
     "text": [
      "c:\\windows\n",
      "t\n"
     ]
    }
   ],
   "source": [
    "c = 'c:\\\\windows\\nt'\n",
    "print(c)"
   ]
  },
  {
   "cell_type": "code",
   "execution_count": 18,
   "metadata": {},
   "outputs": [
    {
     "name": "stdout",
     "output_type": "stream",
     "text": [
      "c:\\windows\\nt\n",
      "c:\\windows\\nt,12\n",
      "8,8\n"
     ]
    }
   ],
   "source": [
    "c = r'c:\\\\windows\\nt'\n",
    "c = R'c:\\\\windows\\nt'\n",
    "c = 'c:\\\\windows\\\\nt'\n",
    "print(c)\n",
    "d = 12\n",
    "c = f'{c},{d}'\n",
    "print(c)\n",
    "c = '{},{}'.format(1, 2)\n",
    "c = '{a},{b}'.format(a=1, b=2)\n",
    "c = '{1},{1}'.format(4, 8)\n",
    "print(c)\n"
   ]
  },
  {
   "cell_type": "code",
   "execution_count": 24,
   "metadata": {},
   "outputs": [
    {
     "data": {
      "text/plain": [
       "'0,1,2,3,4'"
      ]
     },
     "execution_count": 24,
     "metadata": {},
     "output_type": "execute_result"
    }
   ],
   "source": [
    "join(可迭代对象)，并且对象本身都是字符串，返回新的字符串\n",
    "+ 也返回新的字符串\n",
    "\n",
    "\"\".join([\"1\",'2','3'])\n",
    "\",\".join(tuple(map(str, range(5))))"
   ]
  },
  {
   "cell_type": "code",
   "execution_count": 41,
   "metadata": {},
   "outputs": [
    {
     "name": "stdout",
     "output_type": "stream",
     "text": [
      "[\"I'm\", 'a', 'su', 'per', 'stu', 'd\\\\fent.']\n",
      "[\"I'm\", 'a su\\rper \\r\\nstu\\nd\\\\fent.']\n",
      "[\"I'm\\ta su\\rper \\r\", 'stu', 'd\\\\fent.']\n",
      "[\"I'm\\ta su\\rper \\r\", 'stu\\nd\\\\fent.']\n",
      "[\"I'm\\ta su\\rper \\r\\nstu\", 'd\\\\fent.']\n",
      "['', \"'m\\ta su\\rper \\r\\nstu\\nd\\\\fent.\"]\n",
      "['', \"'m\\ta su\\rper \\r\\nstu\\nd\\\\fent.\"]\n",
      "[\"I'm\\ta su\\rper \\r\\nstu\\nd\\\\fent\", '']\n",
      "[\"I'm\\ta su\\rper \\r\\nstu\\nd\\\\fent\", '']\n"
     ]
    }
   ],
   "source": [
    "s = \"I'm\\ta su\\rper \\r\\nstu\\nd\\\\fent.\"\n",
    "print(s.split())\n",
    "print(s.split('\\t'))\n",
    "print(s.split('\\n'))\n",
    "print(s.split('\\n',maxsplit=1))\n",
    "print(s.rsplit('\\n',maxsplit=1))\n",
    "print(s.split('I', -1))\n",
    "print(s.rsplit('I', -1))\n",
    "print(s.split('.', -1))\n",
    "print(s.rsplit('.', -1))"
   ]
  },
  {
   "cell_type": "code",
   "execution_count": 46,
   "metadata": {},
   "outputs": [
    {
     "data": {
      "text/plain": [
       "[\"I'm\\ta su\", 'per ', 'stu', 'd\\\\fent', '.']"
      ]
     },
     "execution_count": 46,
     "metadata": {},
     "output_type": "execute_result"
    }
   ],
   "source": [
    "s = \"I'm\\ta su\\rper \\r\\nstu\\nd\\\\fent\\f.\"\n",
    "#不能指定参数，行分隔符默认是\\r\\n \\n \\r \\f 等\n",
    "s.splitlines()"
   ]
  },
  {
   "cell_type": "code",
   "execution_count": 86,
   "metadata": {},
   "outputs": [
    {
     "data": {
      "text/plain": [
       "(\"I'm\\tasu\\rper\\r\\nstu\\nd\\\\fent\\x0c.\", '', '')"
      ]
     },
     "execution_count": 86,
     "metadata": {},
     "output_type": "execute_result"
    }
   ],
   "source": [
    "s = \"I'm\\tasu\\rper\\r\\nstu\\nd\\\\fent\\f.\"\n",
    "#返回3元组，必须指定一个参数\n",
    "s.partition('I')\n",
    "#若字符串中没有空格，则最后用两个空格填充\n",
    "s.partition(' ')"
   ]
  },
  {
   "cell_type": "code",
   "execution_count": 53,
   "metadata": {},
   "outputs": [
    {
     "data": {
      "text/plain": [
       "'aBC'"
      ]
     },
     "execution_count": 53,
     "metadata": {},
     "output_type": "execute_result"
    }
   ],
   "source": [
    "s = 'Abc'\n",
    "s.upper()\n",
    "s.lower()\n",
    "s.swapcase()\n",
    "#每个单词首字母大写\n",
    "s.title()\n",
    "#单词首字母大写\n",
    "s.capitalize()"
   ]
  },
  {
   "cell_type": "code",
   "execution_count": null,
   "metadata": {},
   "outputs": [],
   "source": [
    "s.replace(old, new, 替换次数，不指定全部替换)\n"
   ]
  },
  {
   "cell_type": "code",
   "execution_count": 84,
   "metadata": {},
   "outputs": [
    {
     "data": {
      "text/plain": [
       "'Hello  \\n \\r\\n Python \\n  \\t'"
      ]
     },
     "execution_count": 84,
     "metadata": {},
     "output_type": "execute_result"
    }
   ],
   "source": [
    "#不指定则默认取出两端空白字符，若指定则按指定字符取或去除\n",
    "s = \"\\r\\n\\t     Hello  \\n \\r\\n Python \\n  \\t\"\n",
    "#print(s.strip())\n",
    "#s.strip('\\r\\f\\n\\t   ')\n",
    "s.lstrip('\\r\\f\\n\\t   ')\n",
    "#print(s.rstrip())\n"
   ]
  },
  {
   "cell_type": "code",
   "execution_count": 67,
   "metadata": {},
   "outputs": [
    {
     "data": {
      "text/plain": [
       "3"
      ]
     },
     "execution_count": 67,
     "metadata": {},
     "output_type": "execute_result"
    }
   ],
   "source": [
    "s = \"Hello\"\n",
    "# 返回第一个找到的索引，若找不到返回-1,也可以指定开始\n",
    "# 和结束位置,  像列表中lst.index(value)但是此方法找不到会报错\n",
    "s.find('m')\n",
    "# 找到第一个l,并返回索引2\n",
    "s.find('l', -3, -1)\n",
    "# 找到第二个l,并返回索引3\n",
    "s.rfind('l',-3, -1)"
   ]
  },
  {
   "cell_type": "code",
   "execution_count": 9,
   "metadata": {},
   "outputs": [
    {
     "name": "stdout",
     "output_type": "stream",
     "text": [
      "3\n",
      "8\n",
      "8\n"
     ]
    }
   ],
   "source": [
    "s = 'Iamvery very sorry'\n",
    "print(s.index('very'))\n",
    "print(s.index('very', 4, 20))\n",
    "print(s.rindex('very'))"
   ]
  },
  {
   "cell_type": "code",
   "execution_count": 10,
   "metadata": {},
   "outputs": [
    {
     "name": "stdout",
     "output_type": "stream",
     "text": [
      "2\n",
      "1\n"
     ]
    }
   ],
   "source": [
    "print(s.count('very'))\n",
    "print(s.count('very', 4, 20))"
   ]
  },
  {
   "cell_type": "code",
   "execution_count": 12,
   "metadata": {},
   "outputs": [
    {
     "data": {
      "text/plain": [
       "False"
      ]
     },
     "execution_count": 12,
     "metadata": {},
     "output_type": "execute_result"
    }
   ],
   "source": [
    "#是否值包含字母数字和下划线\n",
    "s.isidentifier()"
   ]
  },
  {
   "cell_type": "code",
   "execution_count": 19,
   "metadata": {},
   "outputs": [
    {
     "data": {
      "text/plain": [
       "'{4,5}'"
      ]
     },
     "execution_count": 19,
     "metadata": {},
     "output_type": "execute_result"
    }
   ],
   "source": [
    "from collections import namedtuple\n",
    "Point = namedtuple('Point', 'x,y')\n",
    "p = Point(4,5)\n",
    "\"{{{0.x},{0.y}}}\".format(p)\n",
    "\n"
   ]
  },
  {
   "cell_type": "code",
   "execution_count": 20,
   "metadata": {},
   "outputs": [
    {
     "data": {
      "text/plain": [
       "'4,5'"
      ]
     },
     "execution_count": 20,
     "metadata": {},
     "output_type": "execute_result"
    }
   ],
   "source": [
    "\"{0.x},{0.y}\".format(p)"
   ]
  },
  {
   "cell_type": "code",
   "execution_count": 43,
   "metadata": {
    "scrolled": true
   },
   "outputs": [
    {
     "name": "stdout",
     "output_type": "stream",
     "text": [
      "3*7=21  \n",
      "3*7=0021\n",
      "3*7=0021\n",
      "3*7=2100\n",
      "*21**\n"
     ]
    }
   ],
   "source": [
    "#:>4  右对齐第3个位置一共占4块空间即空格空格21\n",
    "print('{}*{}={:<4}'.format(3, 7, 3*7))\n",
    "#向右对齐前面填2个0，即0021\n",
    "print('{}*{}={:>04}'.format(3, 7, 3*7))\n",
    "print('{}*{}={:0>4}'.format(3, 7, 3*7))\n",
    "#向左对齐后面填2个0，即2100\n",
    "print('{}*{}={:<04}'.format(3, 7, 3*7))\n",
    "#填充‘*’\n",
    "print('{:*^5}'.format(21))\n"
   ]
  },
  {
   "cell_type": "code",
   "execution_count": 49,
   "metadata": {
    "scrolled": true
   },
   "outputs": [
    {
     "data": {
      "text/plain": [
       "'int:8 hex:0x8 oct:0o10 bin:1000'"
      ]
     },
     "execution_count": 49,
     "metadata": {},
     "output_type": "execute_result"
    }
   ],
   "source": [
    "\"int:{0:d} hex:{0:#x} oct:{0:#o} bin:{0:b}\".format(8)"
   ]
  },
  {
   "cell_type": "code",
   "execution_count": 57,
   "metadata": {
    "scrolled": true
   },
   "outputs": [
    {
     "data": {
      "text/plain": [
       "'   c0A80001'"
      ]
     },
     "execution_count": 57,
     "metadata": {},
     "output_type": "execute_result"
    }
   ],
   "source": [
    "octets = [192, 168, 0, 1]\n",
    "'{:5x}{:2X}{:02X}{:02X}'.format(*octets)"
   ]
  },
  {
   "cell_type": "code",
   "execution_count": null,
   "metadata": {},
   "outputs": [],
   "source": [
    "'{:02X}{:02X}{:02X}{:02X}'.format(*octets)"
   ]
  },
  {
   "cell_type": "code",
   "execution_count": 59,
   "metadata": {},
   "outputs": [
    {
     "name": "stdout",
     "output_type": "stream",
     "text": [
      "1.732051\n",
      " 1.732051\n"
     ]
    }
   ],
   "source": [
    "#默认一共生成7位\n",
    "print('{:f}'.format(3**0.5))\n",
    "#一共生成9位，默认右对齐\n",
    "print('{:9f}'.format(3**0.5))"
   ]
  },
  {
   "cell_type": "code",
   "execution_count": 72,
   "metadata": {},
   "outputs": [
    {
     "name": "stdout",
     "output_type": "stream",
     "text": [
      "1.732\n"
     ]
    }
   ],
   "source": [
    "#宽度为2但是不起作用\n",
    "print('{:2}'.format(1.732))"
   ]
  },
  {
   "cell_type": "code",
   "execution_count": 62,
   "metadata": {},
   "outputs": [
    {
     "name": "stdout",
     "output_type": "stream",
     "text": [
      "1.73\n"
     ]
    }
   ],
   "source": [
    "print('{:.2f}'.format(1.732))"
   ]
  },
  {
   "cell_type": "code",
   "execution_count": 63,
   "metadata": {},
   "outputs": [
    {
     "name": "stdout",
     "output_type": "stream",
     "text": [
      "1.73\n"
     ]
    }
   ],
   "source": [
    "#宽度为3但是不起作用\n",
    "print('{:3.2f}'.format(1.732))"
   ]
  },
  {
   "cell_type": "code",
   "execution_count": 68,
   "metadata": {},
   "outputs": [
    {
     "name": "stdout",
     "output_type": "stream",
     "text": [
      "**1.73\n"
     ]
    }
   ],
   "source": [
    "print('{:*>6.2f}'.format(1.732))"
   ]
  },
  {
   "cell_type": "code",
   "execution_count": 71,
   "metadata": {},
   "outputs": [
    {
     "name": "stdout",
     "output_type": "stream",
     "text": [
      "*173.200%\n"
     ]
    }
   ],
   "source": [
    "print('{:*>9.3%}'.format(1.732))"
   ]
  },
  {
   "cell_type": "code",
   "execution_count": 73,
   "metadata": {},
   "outputs": [
    {
     "data": {
      "text/plain": [
       "10"
      ]
     },
     "execution_count": 73,
     "metadata": {},
     "output_type": "execute_result"
    }
   ],
   "source": [
    "0xa"
   ]
  },
  {
   "cell_type": "code",
   "execution_count": 91,
   "metadata": {},
   "outputs": [
    {
     "data": {
      "text/plain": [
       "b'abc'"
      ]
     },
     "execution_count": 91,
     "metadata": {},
     "output_type": "execute_result"
    }
   ],
   "source": [
    "bytes(range(97, 100))"
   ]
  },
  {
   "cell_type": "code",
   "execution_count": 92,
   "metadata": {},
   "outputs": [
    {
     "data": {
      "text/plain": [
       "b'abc'"
      ]
     },
     "execution_count": 92,
     "metadata": {},
     "output_type": "execute_result"
    }
   ],
   "source": [
    "bytes((97, 98, 99))"
   ]
  },
  {
   "cell_type": "code",
   "execution_count": 97,
   "metadata": {},
   "outputs": [
    {
     "data": {
      "text/plain": [
       "b'a'"
      ]
     },
     "execution_count": 97,
     "metadata": {},
     "output_type": "execute_result"
    }
   ],
   "source": [
    "'a'.encode()"
   ]
  },
  {
   "cell_type": "code",
   "execution_count": 93,
   "metadata": {},
   "outputs": [
    {
     "data": {
      "text/plain": [
       "b'abc'"
      ]
     },
     "execution_count": 93,
     "metadata": {},
     "output_type": "execute_result"
    }
   ],
   "source": [
    "bytes([97, 98, 99])"
   ]
  },
  {
   "cell_type": "code",
   "execution_count": 90,
   "metadata": {},
   "outputs": [
    {
     "data": {
      "text/plain": [
       "b'\\xe4\\xb8\\xad\\xe6\\x96\\x87'"
      ]
     },
     "execution_count": 90,
     "metadata": {},
     "output_type": "execute_result"
    }
   ],
   "source": [
    "bytes('中文', 'utf-8')"
   ]
  },
  {
   "cell_type": "code",
   "execution_count": 101,
   "metadata": {},
   "outputs": [
    {
     "data": {
      "text/plain": [
       "b'abc'"
      ]
     },
     "execution_count": 101,
     "metadata": {},
     "output_type": "execute_result"
    }
   ],
   "source": [
    "bytes('abc', 'utf-8')"
   ]
  },
  {
   "cell_type": "code",
   "execution_count": 102,
   "metadata": {},
   "outputs": [
    {
     "data": {
      "text/plain": [
       "b'abc'"
      ]
     },
     "execution_count": 102,
     "metadata": {},
     "output_type": "execute_result"
    }
   ],
   "source": [
    "bytes(b'abc')"
   ]
  },
  {
   "cell_type": "code",
   "execution_count": 103,
   "metadata": {},
   "outputs": [
    {
     "data": {
      "text/plain": [
       "b'\\x00\\x00\\x00'"
      ]
     },
     "execution_count": 103,
     "metadata": {},
     "output_type": "execute_result"
    }
   ],
   "source": [
    "bytes(3)"
   ]
  },
  {
   "cell_type": "code",
   "execution_count": 104,
   "metadata": {},
   "outputs": [
    {
     "data": {
      "text/plain": [
       "b''"
      ]
     },
     "execution_count": 104,
     "metadata": {},
     "output_type": "execute_result"
    }
   ],
   "source": [
    "bytes()"
   ]
  },
  {
   "cell_type": "code",
   "execution_count": 105,
   "metadata": {},
   "outputs": [
    {
     "data": {
      "text/plain": [
       "b'abc'"
      ]
     },
     "execution_count": 105,
     "metadata": {},
     "output_type": "execute_result"
    }
   ],
   "source": [
    "bytes() + b'abc'"
   ]
  },
  {
   "cell_type": "code",
   "execution_count": 108,
   "metadata": {},
   "outputs": [
    {
     "data": {
      "text/plain": [
       "b'123abc'"
      ]
     },
     "execution_count": 108,
     "metadata": {},
     "output_type": "execute_result"
    }
   ],
   "source": [
    "bytes(b'123') + b'abc'"
   ]
  },
  {
   "cell_type": "code",
   "execution_count": 111,
   "metadata": {},
   "outputs": [
    {
     "data": {
      "text/plain": [
       "'\\t'"
      ]
     },
     "execution_count": 111,
     "metadata": {},
     "output_type": "execute_result"
    }
   ],
   "source": [
    "'\\x09'"
   ]
  },
  {
   "cell_type": "code",
   "execution_count": 112,
   "metadata": {},
   "outputs": [
    {
     "data": {
      "text/plain": [
       "b'a'"
      ]
     },
     "execution_count": 112,
     "metadata": {},
     "output_type": "execute_result"
    }
   ],
   "source": [
    "'a'.encode()"
   ]
  },
  {
   "cell_type": "code",
   "execution_count": 113,
   "metadata": {},
   "outputs": [
    {
     "data": {
      "text/plain": [
       "'1'"
      ]
     },
     "execution_count": 113,
     "metadata": {},
     "output_type": "execute_result"
    }
   ],
   "source": [
    "'1'.encode()"
   ]
  },
  {
   "cell_type": "code",
   "execution_count": 115,
   "metadata": {},
   "outputs": [
    {
     "data": {
      "text/plain": [
       "b'\\x01'"
      ]
     },
     "execution_count": 115,
     "metadata": {},
     "output_type": "execute_result"
    }
   ],
   "source": [
    "'\\x01'.encode()"
   ]
  },
  {
   "cell_type": "code",
   "execution_count": 116,
   "metadata": {},
   "outputs": [
    {
     "data": {
      "text/plain": [
       "'\\r0a'"
      ]
     },
     "execution_count": 116,
     "metadata": {},
     "output_type": "execute_result"
    }
   ],
   "source": [
    "'\\x0d0a' "
   ]
  },
  {
   "cell_type": "code",
   "execution_count": 117,
   "metadata": {},
   "outputs": [
    {
     "data": {
      "text/plain": [
       "bytearray(b'ab')"
      ]
     },
     "execution_count": 117,
     "metadata": {},
     "output_type": "execute_result"
    }
   ],
   "source": [
    "bytearray([97, 98])"
   ]
  },
  {
   "cell_type": "code",
   "execution_count": 121,
   "metadata": {},
   "outputs": [],
   "source": [
    "a = [1,2]\n",
    "b = a[:]\n"
   ]
  },
  {
   "cell_type": "code",
   "execution_count": 122,
   "metadata": {},
   "outputs": [
    {
     "name": "stdout",
     "output_type": "stream",
     "text": [
      "[1, 2] [1, 2]\n"
     ]
    }
   ],
   "source": [
    "print(a, b)"
   ]
  },
  {
   "cell_type": "code",
   "execution_count": 124,
   "metadata": {},
   "outputs": [],
   "source": [
    "a[0] = 50"
   ]
  },
  {
   "cell_type": "code",
   "execution_count": 125,
   "metadata": {},
   "outputs": [
    {
     "name": "stdout",
     "output_type": "stream",
     "text": [
      "[50, 2] [1, 2]\n"
     ]
    }
   ],
   "source": [
    "print(a, b)"
   ]
  },
  {
   "cell_type": "code",
   "execution_count": 126,
   "metadata": {},
   "outputs": [
    {
     "data": {
      "text/plain": [
       "b'abc'"
      ]
     },
     "execution_count": 126,
     "metadata": {},
     "output_type": "execute_result"
    }
   ],
   "source": [
    "bytes(range(97, 100))"
   ]
  },
  {
   "cell_type": "code",
   "execution_count": 127,
   "metadata": {},
   "outputs": [
    {
     "data": {
      "text/plain": [
       "b'abc'"
      ]
     },
     "execution_count": 127,
     "metadata": {},
     "output_type": "execute_result"
    }
   ],
   "source": [
    "bytes('abc', 'ascii')"
   ]
  },
  {
   "cell_type": "code",
   "execution_count": 128,
   "metadata": {},
   "outputs": [
    {
     "data": {
      "text/plain": [
       "b'abc'"
      ]
     },
     "execution_count": 128,
     "metadata": {},
     "output_type": "execute_result"
    }
   ],
   "source": [
    "bytes([97, 98, 99])"
   ]
  },
  {
   "cell_type": "code",
   "execution_count": 129,
   "metadata": {},
   "outputs": [
    {
     "data": {
      "text/plain": [
       "b'abc'"
      ]
     },
     "execution_count": 129,
     "metadata": {},
     "output_type": "execute_result"
    }
   ],
   "source": [
    "bytes('abc', 'utf-8')"
   ]
  },
  {
   "cell_type": "code",
   "execution_count": 131,
   "metadata": {},
   "outputs": [
    {
     "data": {
      "text/plain": [
       "b'\\x00\\x00\\x00'"
      ]
     },
     "execution_count": 131,
     "metadata": {},
     "output_type": "execute_result"
    }
   ],
   "source": [
    "bytes(3)"
   ]
  },
  {
   "cell_type": "code",
   "execution_count": 132,
   "metadata": {},
   "outputs": [
    {
     "data": {
      "text/plain": [
       "b'abc'"
      ]
     },
     "execution_count": 132,
     "metadata": {},
     "output_type": "execute_result"
    }
   ],
   "source": [
    "bytes() + bytes(b'abc')"
   ]
  },
  {
   "cell_type": "code",
   "execution_count": 133,
   "metadata": {},
   "outputs": [
    {
     "data": {
      "text/plain": [
       "b'\\tabc'"
      ]
     },
     "execution_count": 133,
     "metadata": {},
     "output_type": "execute_result"
    }
   ],
   "source": [
    "b'\\tabc'"
   ]
  },
  {
   "cell_type": "code",
   "execution_count": 134,
   "metadata": {},
   "outputs": [
    {
     "data": {
      "text/plain": [
       "b'9abc'"
      ]
     },
     "execution_count": 134,
     "metadata": {},
     "output_type": "execute_result"
    }
   ],
   "source": [
    "b'9abc'"
   ]
  },
  {
   "cell_type": "code",
   "execution_count": 135,
   "metadata": {},
   "outputs": [
    {
     "data": {
      "text/plain": [
       "47"
      ]
     },
     "execution_count": 135,
     "metadata": {},
     "output_type": "execute_result"
    }
   ],
   "source": [
    "0x30 -1"
   ]
  },
  {
   "cell_type": "code",
   "execution_count": 136,
   "metadata": {},
   "outputs": [
    {
     "data": {
      "text/plain": [
       "'0x1e'"
      ]
     },
     "execution_count": 136,
     "metadata": {},
     "output_type": "execute_result"
    }
   ],
   "source": [
    "hex(30)"
   ]
  },
  {
   "cell_type": "code",
   "execution_count": 137,
   "metadata": {},
   "outputs": [
    {
     "name": "stdout",
     "output_type": "stream",
     "text": [
      "<class 'int'>\n"
     ]
    }
   ],
   "source": [
    "print(type(0x30))"
   ]
  },
  {
   "cell_type": "code",
   "execution_count": 139,
   "metadata": {},
   "outputs": [
    {
     "data": {
      "text/plain": [
       "'0x2f'"
      ]
     },
     "execution_count": 139,
     "metadata": {},
     "output_type": "execute_result"
    }
   ],
   "source": [
    "hex(0x30-1)"
   ]
  },
  {
   "cell_type": "code",
   "execution_count": 141,
   "metadata": {},
   "outputs": [
    {
     "name": "stdout",
     "output_type": "stream",
     "text": [
      "b'\\xe4\\xb8\\xad\\xe6\\x96\\x87'\n",
      "中文\n"
     ]
    }
   ],
   "source": [
    "x = '中文'\n",
    "y = x.encode()\n",
    "print(y)\n",
    "print(y.decode())"
   ]
  },
  {
   "cell_type": "code",
   "execution_count": 142,
   "metadata": {},
   "outputs": [
    {
     "data": {
      "text/plain": [
       "b'123bc123'"
      ]
     },
     "execution_count": 142,
     "metadata": {},
     "output_type": "execute_result"
    }
   ],
   "source": [
    "b'abca'.replace(b'a',  b'123', 2)"
   ]
  },
  {
   "cell_type": "code",
   "execution_count": 144,
   "metadata": {},
   "outputs": [
    {
     "data": {
      "text/plain": [
       "b'abc'"
      ]
     },
     "execution_count": 144,
     "metadata": {},
     "output_type": "execute_result"
    }
   ],
   "source": [
    "bytes.fromhex('61 62 63')"
   ]
  },
  {
   "cell_type": "code",
   "execution_count": null,
   "metadata": {},
   "outputs": [],
   "source": [
    "bytes.fromhex()"
   ]
  },
  {
   "cell_type": "code",
   "execution_count": 146,
   "metadata": {},
   "outputs": [
    {
     "data": {
      "text/plain": [
       "'616263'"
      ]
     },
     "execution_count": 146,
     "metadata": {},
     "output_type": "execute_result"
    }
   ],
   "source": [
    "'abc'.encode().hex()"
   ]
  },
  {
   "cell_type": "code",
   "execution_count": 148,
   "metadata": {},
   "outputs": [
    {
     "data": {
      "text/plain": [
       "'616263'"
      ]
     },
     "execution_count": 148,
     "metadata": {},
     "output_type": "execute_result"
    }
   ],
   "source": [
    "bytes(range(97, 100)).hex()"
   ]
  },
  {
   "cell_type": "code",
   "execution_count": 150,
   "metadata": {},
   "outputs": [
    {
     "data": {
      "text/plain": [
       "'007836310078363200783633'"
      ]
     },
     "execution_count": 150,
     "metadata": {},
     "output_type": "execute_result"
    }
   ],
   "source": [
    "b'\\0x61\\0x62\\0x63'.hex()"
   ]
  },
  {
   "cell_type": "code",
   "execution_count": null,
   "metadata": {},
   "outputs": [],
   "source": [
    "b'616263'.hex()"
   ]
  },
  {
   "cell_type": "code",
   "execution_count": 151,
   "metadata": {},
   "outputs": [
    {
     "data": {
      "text/plain": [
       "'616263'"
      ]
     },
     "execution_count": 151,
     "metadata": {},
     "output_type": "execute_result"
    }
   ],
   "source": [
    "b'abc'.hex()"
   ]
  },
  {
   "cell_type": "code",
   "execution_count": 152,
   "metadata": {},
   "outputs": [
    {
     "data": {
      "text/plain": [
       "6382179"
      ]
     },
     "execution_count": 152,
     "metadata": {},
     "output_type": "execute_result"
    }
   ],
   "source": [
    "int.from_bytes(b'abc', 'big')"
   ]
  },
  {
   "cell_type": "code",
   "execution_count": 153,
   "metadata": {},
   "outputs": [
    {
     "data": {
      "text/plain": [
       "bytearray(b'abc')"
      ]
     },
     "execution_count": 153,
     "metadata": {},
     "output_type": "execute_result"
    }
   ],
   "source": [
    "bytearray(range(97, 100))"
   ]
  },
  {
   "cell_type": "code",
   "execution_count": 154,
   "metadata": {},
   "outputs": [
    {
     "data": {
      "text/plain": [
       "bytearray(b'abc')"
      ]
     },
     "execution_count": 154,
     "metadata": {},
     "output_type": "execute_result"
    }
   ],
   "source": [
    "bytearray(b'abc')"
   ]
  },
  {
   "cell_type": "code",
   "execution_count": 156,
   "metadata": {},
   "outputs": [
    {
     "data": {
      "text/plain": [
       "bytearray(b'abc')"
      ]
     },
     "execution_count": 156,
     "metadata": {},
     "output_type": "execute_result"
    }
   ],
   "source": [
    "bytearray('abc', 'utf-8')"
   ]
  },
  {
   "cell_type": "code",
   "execution_count": 157,
   "metadata": {},
   "outputs": [
    {
     "data": {
      "text/plain": [
       "b'abc'"
      ]
     },
     "execution_count": 157,
     "metadata": {},
     "output_type": "execute_result"
    }
   ],
   "source": [
    "bytes(bytearray(b'abc'))"
   ]
  },
  {
   "cell_type": "code",
   "execution_count": 158,
   "metadata": {},
   "outputs": [
    {
     "data": {
      "text/plain": [
       "bytearray(b'abc')"
      ]
     },
     "execution_count": 158,
     "metadata": {},
     "output_type": "execute_result"
    }
   ],
   "source": [
    "bytearray(bytes(bytearray(b'abc')))"
   ]
  },
  {
   "cell_type": "code",
   "execution_count": 159,
   "metadata": {},
   "outputs": [
    {
     "name": "stdout",
     "output_type": "stream",
     "text": [
      "bytearray(b'')\n"
     ]
    }
   ],
   "source": [
    "m = bytearray()\n",
    "print(m)"
   ]
  },
  {
   "cell_type": "code",
   "execution_count": 160,
   "metadata": {},
   "outputs": [
    {
     "name": "stdout",
     "output_type": "stream",
     "text": [
      "bytearray(b'1')\n"
     ]
    }
   ],
   "source": [
    "m.append(0x31)\n",
    "print(m)"
   ]
  },
  {
   "cell_type": "code",
   "execution_count": 161,
   "metadata": {},
   "outputs": [
    {
     "name": "stdout",
     "output_type": "stream",
     "text": [
      "bytearray(b'1a')\n"
     ]
    }
   ],
   "source": [
    "m.append(0x61)\n",
    "print(m)"
   ]
  },
  {
   "cell_type": "code",
   "execution_count": 162,
   "metadata": {},
   "outputs": [
    {
     "name": "stdout",
     "output_type": "stream",
     "text": [
      "bytearray(b'1aAB')\n"
     ]
    }
   ],
   "source": [
    "m.extend(range(65, 67))\n",
    "print(m)"
   ]
  },
  {
   "cell_type": "code",
   "execution_count": 163,
   "metadata": {},
   "outputs": [
    {
     "name": "stdout",
     "output_type": "stream",
     "text": [
      "bytearray(b'\\t1aAB')\n"
     ]
    }
   ],
   "source": [
    "m.insert(0, 9)\n",
    "print(m)"
   ]
  },
  {
   "cell_type": "code",
   "execution_count": 167,
   "metadata": {},
   "outputs": [
    {
     "data": {
      "text/plain": [
       "bytearray(b'1aAB')"
      ]
     },
     "execution_count": 167,
     "metadata": {},
     "output_type": "execute_result"
    }
   ],
   "source": [
    "m.lstrip()\n",
    "#print(m)"
   ]
  },
  {
   "cell_type": "code",
   "execution_count": 166,
   "metadata": {},
   "outputs": [
    {
     "data": {
      "text/plain": [
       "'89'"
      ]
     },
     "execution_count": 166,
     "metadata": {},
     "output_type": "execute_result"
    }
   ],
   "source": [
    "n = '\\t89'\n",
    "n.strip()"
   ]
  },
  {
   "cell_type": "code",
   "execution_count": 169,
   "metadata": {},
   "outputs": [
    {
     "data": {
      "text/plain": [
       "bytearray(b'abc123')"
      ]
     },
     "execution_count": 169,
     "metadata": {},
     "output_type": "execute_result"
    }
   ],
   "source": [
    "bytearray(b'abc') + bytearray(b'123')"
   ]
  },
  {
   "cell_type": "markdown",
   "metadata": {},
   "source": [
    "m*2"
   ]
  },
  {
   "cell_type": "code",
   "execution_count": 170,
   "metadata": {},
   "outputs": [
    {
     "data": {
      "text/plain": [
       "bytearray(b'\\t1aAB\\t1aAB')"
      ]
     },
     "execution_count": 170,
     "metadata": {},
     "output_type": "execute_result"
    }
   ],
   "source": [
    "m*2"
   ]
  },
  {
   "cell_type": "code",
   "execution_count": 171,
   "metadata": {},
   "outputs": [
    {
     "data": {
      "text/plain": [
       "49"
      ]
     },
     "execution_count": 171,
     "metadata": {},
     "output_type": "execute_result"
    }
   ],
   "source": [
    "0x31"
   ]
  },
  {
   "cell_type": "code",
   "execution_count": 181,
   "metadata": {},
   "outputs": [
    {
     "data": {
      "text/plain": [
       "b'1'"
      ]
     },
     "execution_count": 181,
     "metadata": {},
     "output_type": "execute_result"
    }
   ],
   "source": [
    "'\\x31'.encode()"
   ]
  },
  {
   "cell_type": "code",
   "execution_count": 173,
   "metadata": {},
   "outputs": [
    {
     "data": {
      "text/plain": [
       "b'\\x00x31'"
      ]
     },
     "execution_count": 173,
     "metadata": {},
     "output_type": "execute_result"
    }
   ],
   "source": [
    "'\\0x31'.encode()"
   ]
  },
  {
   "cell_type": "code",
   "execution_count": 180,
   "metadata": {},
   "outputs": [
    {
     "data": {
      "text/plain": [
       "b'\\x031'"
      ]
     },
     "execution_count": 180,
     "metadata": {},
     "output_type": "execute_result"
    }
   ],
   "source": [
    "'\\x031'.encode()"
   ]
  },
  {
   "cell_type": "code",
   "execution_count": null,
   "metadata": {},
   "outputs": [],
   "source": []
  }
 ],
 "metadata": {
  "kernelspec": {
   "display_name": "Python 3",
   "language": "python",
   "name": "python3"
  },
  "language_info": {
   "codemirror_mode": {
    "name": "ipython",
    "version": 3
   },
   "file_extension": ".py",
   "mimetype": "text/x-python",
   "name": "python",
   "nbconvert_exporter": "python",
   "pygments_lexer": "ipython3",
   "version": "3.6.8"
  }
 },
 "nbformat": 4,
 "nbformat_minor": 2
}
