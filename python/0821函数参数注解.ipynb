{
 "cells": [
  {
   "cell_type": "code",
   "execution_count": 1,
   "metadata": {},
   "outputs": [],
   "source": [
    "import inspect"
   ]
  },
  {
   "cell_type": "code",
   "execution_count": null,
   "metadata": {},
   "outputs": [],
   "source": [
    "python类型注解\n",
    "函数注解(function annotations):\n",
    "只是对函数参数做辅助说明，非强制性定义参数类型\n",
    "也不会对参数进行检查\n",
    "变量注解：\n",
    "i:int=3"
   ]
  },
  {
   "cell_type": "code",
   "execution_count": 10,
   "metadata": {},
   "outputs": [],
   "source": [
    "def add(a:int, b:int):\n",
    "    pass"
   ]
  },
  {
   "cell_type": "code",
   "execution_count": 11,
   "metadata": {},
   "outputs": [
    {
     "name": "stdout",
     "output_type": "stream",
     "text": [
      "add None {} {'a': <class 'int'>, 'b': <class 'int'>}\n"
     ]
    }
   ],
   "source": [
    "print(add.__name__, add.__doc__, add.__dict__, add.__annotations__)"
   ]
  },
  {
   "cell_type": "code",
   "execution_count": 12,
   "metadata": {},
   "outputs": [],
   "source": [
    "add(1,2) # 假设传入了位置参数无法和字典中的声明对比？？？？？"
   ]
  },
  {
   "cell_type": "code",
   "execution_count": null,
   "metadata": {},
   "outputs": [],
   "source": [
    "参数检查的过程：\n",
    "函数作为参数传入到检查函数中\n",
    "检查参数拿到函数传入的实际参数，与形参声明对比"
   ]
  },
  {
   "cell_type": "code",
   "execution_count": 18,
   "metadata": {},
   "outputs": [
    {
     "data": {
      "text/plain": [
       "False"
      ]
     },
     "execution_count": 18,
     "metadata": {},
     "output_type": "execute_result"
    }
   ],
   "source": [
    "# inspect模块\n",
    "import inspect, pathlib\n",
    "inspect.isfunction(add)\n",
    "inspect.ismethod(pathlib.Path().absolute) # 是类的方法\n",
    "inspect.isgenerator((i for i in range(2))) # 是生成器表达式构成的生成器\n",
    "inspect.isgeneratorfunction(add) #  函数中有yield\n",
    "inspect.isgeneratorfunction((i for i in range(2))) # 不是生成器函数\n",
    "inspect.isclass(add)\n",
    "inspect.ismodule(inspect)\n",
    "inspect.isbuiltin(print) \n",
    "inspect.isbuiltin(int) # 不是内建函数，是被导入的\n"
   ]
  },
  {
   "cell_type": "code",
   "execution_count": null,
   "metadata": {},
   "outputs": [],
   "source": []
  },
  {
   "cell_type": "code",
   "execution_count": null,
   "metadata": {},
   "outputs": [],
   "source": []
  },
  {
   "cell_type": "code",
   "execution_count": null,
   "metadata": {},
   "outputs": [],
   "source": [
    "def param(fn):\n",
    "    def _param(wrapper):\n",
    "        params = inspect.signature(wrapper).parameters\n",
    "        for i, (k,v) in enumerate(params.items()):\n",
    "            print(i, k, v.name, v.kind, v.default, v.annotation)\n",
    "        #ret = fn(x, y, *args, m, n, **kwargs)\n",
    "        return wrapper\n",
    "    return _param\n",
    "\n",
    "def logger(fn):\n",
    "    @param(fn)  # wrapper = param(fn)(wrapper)\n",
    "    def wrapper(x, y, *args, m, n, **kwargs):\n",
    "        ret = fn(x, y, *args, m, n, **kwargs)\n",
    "        return ret\n",
    "    return wrapper"
   ]
  },
  {
   "cell_type": "code",
   "execution_count": null,
   "metadata": {},
   "outputs": [],
   "source": [
    "def param(fn):\n",
    "    def _param(wrapper):\n",
    "        params = inspect.signature(wrapper).parameters\n",
    "        for i, (k,v) in enumerate(params.items()):\n",
    "            print(i, k, v.name, v.kind, v.default, v.annotation)\n",
    "        #ret = fn(x, y, *args, m, n, **kwargs)\n",
    "        return wrapper\n",
    "    return _param\n",
    "\n",
    "def logger(fn):\n",
    "    @param(fn)  # wrapper = param(fn)(wrapper)\n",
    "    def wrapper(*args, **kwargs):\n",
    "        params = inspect.signature(wrapper).parameters\n",
    "        values = list(params.values())\n",
    "        flag = False\n",
    "        for i, arg in enumerate(args):\n",
    "            value = values[i]\n",
    "            if isinstance(arg, value.annotation):\n",
    "                print(arg, 'right')\n",
    "            else:\n",
    "                print(arg, 'rong')\n",
    "                flag = True\n",
    "                break\n",
    "        if not flag:\n",
    "            for k, kwarg in kwargs.items():\n",
    "                value = params[k]\n",
    "                if isinstance(kwarg, value.annotation):\n",
    "                    print(kwargs, 'right')\n",
    "                else:\n",
    "                    print(kwargs, 'roung')\n",
    "                    flag = True\n",
    "                    break\n",
    "            \n",
    "        ret = fn(*args,**kwargs)\n",
    "        return ret\n",
    "    return wrapper\n",
    "\n",
    "@logger\n",
    "def add(x:int=1, y:int=2) -> int:\n",
    "    return x + y"
   ]
  },
  {
   "cell_type": "code",
   "execution_count": 4,
   "metadata": {
    "scrolled": false
   },
   "outputs": [
    {
     "name": "stdout",
     "output_type": "stream",
     "text": [
      "(x, y:int=7, *args, m, n:int=10, **kwargs) -> int\n",
      "OrderedDict([('x', <Parameter \"x\">), ('y', <Parameter \"y:int=7\">), ('args', <Parameter \"*args\">), ('m', <Parameter \"m\">), ('n', <Parameter \"n:int=10\">), ('kwargs', <Parameter \"**kwargs\">)])\n",
      "0 x x POSITIONAL_OR_KEYWORD <class 'inspect._empty'> <class 'inspect._empty'>\n",
      "1 y y POSITIONAL_OR_KEYWORD 7 <class 'int'>\n",
      "2 args args VAR_POSITIONAL <class 'inspect._empty'> <class 'inspect._empty'>\n",
      "3 m m KEYWORD_ONLY <class 'inspect._empty'> <class 'inspect._empty'>\n",
      "4 n n KEYWORD_ONLY 10 <class 'int'>\n",
      "5 kwargs kwargs VAR_KEYWORD <class 'inspect._empty'> <class 'inspect._empty'>\n"
     ]
    }
   ],
   "source": [
    "def add(x, y:int=7, *args, m, n:int=10, **kwargs) -> int:\n",
    "    return x + y\n",
    "sig = inspect.signature(add)\n",
    "print(sig)\n",
    "params = sig.parameters\n",
    "print(params)\n",
    "for i, (k,v) in enumerate(params.items()):\n",
    "    print(i, k, v.name, v.kind, v.default, v.annotation)"
   ]
  },
  {
   "cell_type": "code",
   "execution_count": null,
   "metadata": {},
   "outputs": [],
   "source": []
  },
  {
   "cell_type": "code",
   "execution_count": null,
   "metadata": {},
   "outputs": [],
   "source": []
  },
  {
   "cell_type": "code",
   "execution_count": null,
   "metadata": {},
   "outputs": [],
   "source": []
  },
  {
   "cell_type": "code",
   "execution_count": null,
   "metadata": {},
   "outputs": [],
   "source": []
  },
  {
   "cell_type": "code",
   "execution_count": null,
   "metadata": {},
   "outputs": [],
   "source": []
  },
  {
   "cell_type": "code",
   "execution_count": null,
   "metadata": {},
   "outputs": [],
   "source": []
  }
 ],
 "metadata": {
  "kernelspec": {
   "display_name": "Python 3",
   "language": "python",
   "name": "python3"
  },
  "language_info": {
   "codemirror_mode": {
    "name": "ipython",
    "version": 3
   },
   "file_extension": ".py",
   "mimetype": "text/x-python",
   "name": "python",
   "nbconvert_exporter": "python",
   "pygments_lexer": "ipython3",
   "version": "3.6.8"
  }
 },
 "nbformat": 4,
 "nbformat_minor": 2
}
