{
 "cells": [
  {
   "cell_type": "code",
   "execution_count": 1,
   "metadata": {},
   "outputs": [],
   "source": [
    "import re\n"
   ]
  },
  {
   "cell_type": "code",
   "execution_count": null,
   "metadata": {},
   "outputs": [],
   "source": [
    "# 一般先编译再匹配\n",
    "re.compile(pattern, flags=0) \n",
    "# re.M|re.S(DOTALL)|re.I \n",
    "# 位运算多行，单行，忽略大小写，默认是单行模式"
   ]
  },
  {
   "cell_type": "code",
   "execution_count": null,
   "metadata": {},
   "outputs": [],
   "source": [
    "# 单次匹配match search fullmatch\n",
    "# match:从pos位置开始匹配，默认从第一个位置开始匹配，\n",
    "# 如果匹配不到返回None\n",
    "    # 编译匹配\n",
    "    regex = re.compile(pattern, flags)\n",
    "    regex.match(string[,pos[, endpos]])\n",
    "    # 直接匹配\n",
    "    re.match(pattern, string, flag=0)\n",
    "# search：从头开始搜素，如果第一个单词没搜索到，\n",
    "# 则搜素第二个单词，一直向下搜索，找不到返回\n",
    "    regex.search(string[, pos[,endpos]])\n",
    "    re.search(pattern, string, flags=0)\n",
    "# fullsearch\n",
    "    regex.fullsearch(string[, pos[, endpos]])\n",
    "    re.fullsearch(pattern, string, flags=0)"
   ]
  },
  {
   "cell_type": "code",
   "execution_count": null,
   "metadata": {},
   "outputs": [],
   "source": [
    "# 例子：\n"
   ]
  },
  {
   "cell_type": "code",
   "execution_count": null,
   "metadata": {},
   "outputs": [],
   "source": [
    "全文搜索：\n",
    "搜索整个字符串，所有匹配项返回列表，没找到返回空列表\n",
    "regex.findall(string[, pos[, endpos]])\n",
    "re.findall(pattern, string, flags=0)\n",
    "返回迭代器，每次迭代返回match对象\n",
    "regex.finditer(string[, pos[, endpos]])\n",
    "re.finditer(pattern, string, flags=0)"
   ]
  },
  {
   "cell_type": "code",
   "execution_count": null,
   "metadata": {},
   "outputs": [],
   "source": [
    "匹配替换\n",
    "全局搜索，对匹配项使用repl替换，replacement可以是\n",
    "string,bytes,function\n",
    "默认count=0，全部替换\n",
    "regex.sub(replacement, string, count=0)\n",
    "re.sub(pattern, replacement, string, count=0,flags=0)\n",
    "\n",
    "返回一个元组\n",
    "regex.subn(replacement, string, count=0)\n",
    "re.subn(pattern, replacement, string, count=0)"
   ]
  },
  {
   "cell_type": "code",
   "execution_count": null,
   "metadata": {},
   "outputs": [],
   "source": [
    "分割字符串\n",
    "regex.split(string)\n",
    "re.split(pattern, string, maxsplit=0, flags=0)\n"
   ]
  },
  {
   "cell_type": "code",
   "execution_count": null,
   "metadata": {},
   "outputs": [],
   "source": [
    "分组匹配\n",
    "match，seatch，finditer返回值并迭代，都返回match对象\n",
    "findall返回字符串列表\n",
    "先匹配，如果匹配成功，会在match对象中生成分组\n",
    "matchobject.groups() 返回一个元组，元素为组名\n",
    "matchobject.group(0) 返回match的具体内容\n",
    "matchobject.group(1) 返回元组中的第一个元素\n",
    "如果使用了命名分组\n",
    "matchobject.groupdict()"
   ]
  },
  {
   "cell_type": "code",
   "execution_count": 23,
   "metadata": {
    "scrolled": false
   },
   "outputs": [
    {
     "name": "stdout",
     "output_type": "stream",
     "text": [
      "<_sre.SRE_Match object; span=(0, 6), match='bottle'>\n",
      "('bottle',)\n",
      "bottle\n",
      "bottle\n",
      "<_sre.SRE_Match object; span=(0, 6), match='bottle'>\n",
      "('ottle',)\n",
      "bottle\n",
      "ottle\n",
      "<_sre.SRE_Match object; span=(0, 6), match='bottle'>\n",
      "bottle\n",
      "<_sre.SRE_Match object; span=(0, 6), match='bottle'>\n",
      "bottle\n",
      "{'age': 'bag', 'sex': 'big'}\n",
      "('ottle', 'bag', 'big')\n",
      "bottle\n",
      "bag\n",
      "big\n",
      "ottle\n",
      "bag\n",
      "big\n",
      "big\n"
     ]
    }
   ],
   "source": [
    "# match例子：\n",
    "s = '''bottle\\nbag\\nbig\\napple'''\n",
    "regex = re.compile('(b\\w+)') # b在组里面，编译匹配\n",
    "result = regex.match(s)\n",
    "print(result) # 匹配上了bottle，返回一个match对象\n",
    "print(result.groups()) # ('bottle',)\n",
    "print(result.group(0)) # ’bottle'\n",
    "print(result.group(1)) # 'bottle'\n",
    "\n",
    "regex = re.compile('b(\\w+)') # b 在组外面，编译匹配\n",
    "result = regex.match(s)\n",
    "print(result) # 匹配上了bottle，返回一个match对象\n",
    "print(result.groups()) # ('ottle',)\n",
    "print(result.group(0)) # ’bottle'第0个位置是match对象匹配的内容，不是分组里面的内容\n",
    "print(result.group(1)) # 'ottle'\n",
    "\n",
    "regex = re.compile('b\\w+') # 没有分组，编译匹配\n",
    "result = regex.match(s)\n",
    "print(result) # 匹配上了bottle，返回一个match对象\n",
    "print(result.group(0)) # bottle, 可以通过第0个位置获取匹配到的内容\n",
    "\n",
    "result = re.match('b\\w+', s)# 不编译匹配，匹配上了bottle，返回一个match对象\n",
    "print(result)\n",
    "print(result.group(0)) # bottle, 可以通过第0个位置获取匹配到的内容\n",
    "\n",
    "# 命名分组\n",
    "s = '''bottle\\nbag\\nbig\\napple'''\n",
    "regex = re.compile('b(\\w+)\\n(?P<age>b\\w+)\\n(?P<sex>b\\w+)')\n",
    "result = regex.match(s)\n",
    "print(result.groupdict()) # {'age': 'bag', 'sex': 'big'}\n",
    "print(result.groups()) # ('ottle', 'bag', 'big')\n",
    "print(result.group(0)) # 'bottle\\nbag\\nbig\n",
    "print(result.group(1)) # 'ottle'\n",
    "print(result.group(2)) # 'bag'\n",
    "\n",
    "print(result.group(3)) # 'big'\n",
    "print(result.group('sex')) # 'big',两个相同，感觉group里面也存了一个dict\n"
   ]
  },
  {
   "cell_type": "code",
   "execution_count": 10,
   "metadata": {},
   "outputs": [
    {
     "name": "stdout",
     "output_type": "stream",
     "text": [
      "<_sre.SRE_Match object; span=(7, 10), match='bag'>\n",
      "('bag',)\n",
      "bag\n",
      "bag\n",
      "<_sre.SRE_Match object; span=(0, 6), match='bottle'>\n",
      "bottle\n"
     ]
    }
   ],
   "source": [
    "# rearch例子\n",
    "s = '''bottle\\nbag\\nbig\\napple'''\n",
    "regex = re.compile('(b\\w+)')\n",
    "result = regex.search(s, 1)\n",
    "print(result) # 匹配上了bag，因为是从第1个位置开始匹配，返回一个match对象\n",
    "print(result.groups()) # ('bag',)\n",
    "print(result.group(0)) # ’bag'\n",
    "print(result.group(1)) # 'bag'\n",
    "\n",
    "result = re.search('(b\\w+)', s)# 匹配上了bottle，返回一个match对象,不能匹配bag,因为不能指定位置pos\n",
    "print(result)\n",
    "print(result.group(0)) # bottle, 可以通过第0个位置获取匹配到的内容\n"
   ]
  },
  {
   "cell_type": "code",
   "execution_count": 42,
   "metadata": {},
   "outputs": [
    {
     "name": "stdout",
     "output_type": "stream",
     "text": [
      "None\n",
      "None\n",
      "<_sre.SRE_Match object; span=(0, 20), match='bottle\\nbag\\nbig\\napple'>\n"
     ]
    }
   ],
   "source": [
    "# fullmatch例子\n",
    "s = '''bottle\\nbag\\nbig\\napple'''\n",
    "regex = re.compile('bag')\n",
    "result = regex.fullmatch(s)\n",
    "print(result) # None\n",
    "\n",
    "regex = re.compile('bottle')\n",
    "result = regex.fullmatch(s)\n",
    "print(result) # None\n",
    "\n",
    "regex = re.compile('^b.+', re.S)\n",
    "result = regex.fullmatch(s)\n",
    "print(result) # 全部匹配返回match对象"
   ]
  },
  {
   "cell_type": "code",
   "execution_count": 25,
   "metadata": {},
   "outputs": [
    {
     "name": "stdout",
     "output_type": "stream",
     "text": [
      "('bottle',) bottle\n",
      "('bag',) bag\n",
      "('big',) big\n"
     ]
    }
   ],
   "source": [
    "# finditer例子\n",
    "s = '''bottle\\nbag\\nbig\\napple'''\n",
    "regex = re.compile('(?P<head>b\\w+)')\n",
    "result = regex.finditer(s)\n",
    "for i in result:\n",
    "    print(i.groups(), i.group('head'))\n",
    "    \n",
    "# finditer全局匹配，匹配到第一个分组后，\n",
    "# 接着匹配形成第2个分组，所以最后有3个分组\n",
    "# i.group('head')等价于i.group(0)\n",
    "# ('bottle',) bottle\n",
    "# ('bag',) bag\n",
    "# ('big',) big"
   ]
  },
  {
   "cell_type": "code",
   "execution_count": 39,
   "metadata": {
    "scrolled": true
   },
   "outputs": [
    {
     "name": "stdout",
     "output_type": "stream",
     "text": [
      "[('ottle', 'bag', 'big')]\n",
      "('ottle', 'bag', 'big')\n",
      "['b']\n",
      "['bottle']\n",
      "['bo']\n",
      "['bottle\\nbag\\nbig\\napple']\n",
      "default: ['bottle']\n",
      "['bottle', 'bag', 'big']\n",
      "['bag', 'big']\n"
     ]
    }
   ],
   "source": [
    "# findall例子\n",
    "s = '''bottle\\nbag\\nbig\\napple'''\n",
    "regex = re.compile('b(\\w+)\\n(?P<age>b\\w+)\\n(?P<sex>b\\w+)')\n",
    "result = regex.findall(s)\n",
    "print(result) # [('ottle', 'bag', 'big')]\n",
    "# 注意findall返回一个list,里面的元素是包含分组内容的元组\n",
    "# 不能获得match真正匹配的内容，用的少，如果想获得match匹配的内容\n",
    "# 可以使用finditer,去出match对象的group(0)\n",
    "for i in result:\n",
    "    print(i)\n",
    "    \n",
    "regex = re.compile('^b')\n",
    "result = regex.findall(s)\n",
    "print(result) #['b'],findall虽然匹配多次但是默认只有一行\n",
    "# 以b开头的只有一个\n",
    "\n",
    "regex = re.compile('^b\\w+')\n",
    "result = regex.findall(s)\n",
    "print(result) #['bottle']\n",
    "\n",
    "regex = re.compile('^b.', re.S)\n",
    "result = regex.findall(s)\n",
    "print(result) #['bo'] .表示除了空格以外的任意字符，\n",
    "# 但是只匹配一个字符\n",
    "\n",
    "regex = re.compile('^b.+', re.S|re.M|re.I)\n",
    "result = regex.findall(s)\n",
    "print(result) # ['bottle\\nbag\\nbig\\napple']\n",
    "# 单行模式下，.可以穿透\\n\n",
    "\n",
    "regex = re.compile('^b.+')\n",
    "result = regex.findall(s)\n",
    "print('default:',result) #['bottle']\n",
    "# 默认模式遇到.不会穿透\n",
    "\n",
    "regex = re.compile('^b\\w+', re.S|re.M|re.I)\n",
    "result = regex.findall(s)\n",
    "print(result) # ['bottle', 'bag', 'big']\n",
    "\n",
    "regex = re.compile('^b\\w+', re.S|re.M|re.I)\n",
    "result = regex.findall(s, 1)\n",
    "print(result) #  指定pos从第一个位置之后开始匹配['bag', 'big']"
   ]
  },
  {
   "cell_type": "code",
   "execution_count": 29,
   "metadata": {},
   "outputs": [
    {
     "name": "stdout",
     "output_type": "stream",
     "text": [
      "['', 'os', 'path', 'abspath', 'path', 'normpath', 'join', 'os', 'getcwd', 'path', '']\n"
     ]
    }
   ],
   "source": [
    "# 分割字符串例子\n",
    "s = \"\"\"\n",
    "os.path.abspath(path)\n",
    "normpath(join(os.getcwd(), path)).\n",
    "\"\"\"\n",
    "# 中括号里面的. ()不需要加转义字符\n",
    "# 加上+ 字符串里面的,和空格会被一起切断，\n",
    "# 不然会产生好多的空串\n",
    "print(re.split('[\\.()\\s,]+', s))\n",
    "# ['', 'os', 'path', 'abspath', 'path', \n",
    "#'normpath', 'join', 'os', 'getcwd', 'path', '']"
   ]
  },
  {
   "cell_type": "code",
   "execution_count": null,
   "metadata": {},
   "outputs": [],
   "source": [
    "# 匹配替换练习\n",
    "s = '''bottle\\nbag\\nbig\\napple'''\n",
    "regex = re.compile('')\n",
    "result = regex.sub('#', s, count=2)\n",
    "\n",
    "result = regex.subn('#', s, count=2)"
   ]
  },
  {
   "cell_type": "code",
   "execution_count": null,
   "metadata": {},
   "outputs": [],
   "source": []
  },
  {
   "cell_type": "code",
   "execution_count": null,
   "metadata": {},
   "outputs": [],
   "source": [
    "# 作业"
   ]
  },
  {
   "cell_type": "code",
   "execution_count": 24,
   "metadata": {},
   "outputs": [
    {
     "name": "stdout",
     "output_type": "stream",
     "text": [
      "['hot-mail.com']\n",
      "['magedu.com']\n",
      "['magedu.com.cn']\n",
      "['google.com']\n",
      "[]\n"
     ]
    }
   ],
   "source": [
    "import re\n",
    "print(re.findall('[a-z.-]+\\.com', 'test@hot-mail.com'))\n",
    "print(re.findall('[a-z.-]+\\.com', 'v-ip@magedu.com'))\n",
    "print(re.findall('[a-z.-]+\\.cn|\\.com', 'web.manager@magedu.com.cn'))\n",
    "print(re.findall('[a-z.-]+(?:\\.cn|\\.com)', 'super.user@google.com'))\n",
    "print(re.findall('[a-z.-]+\\.com', 'a@w-a-com'))\n"
   ]
  },
  {
   "cell_type": "code",
   "execution_count": 48,
   "metadata": {},
   "outputs": [
    {
     "name": "stdout",
     "output_type": "stream",
     "text": [
      "[\"href='http://www.magedu.com/index.html' target='_blank'>马哥教育<\"]\n"
     ]
    }
   ],
   "source": [
    "print(re.findall('<a (.*)/a>', \"<a href='http://www.magedu.com/index.html' target='_blank'>马哥教育</a>\"))"
   ]
  },
  {
   "cell_type": "code",
   "execution_count": 86,
   "metadata": {},
   "outputs": [
    {
     "name": "stdout",
     "output_type": "stream",
     "text": [
      "['http://www.magedu.com/index.html']\n",
      "['https://login.magedu.com']\n",
      "[]\n"
     ]
    }
   ],
   "source": [
    "a = 'http://www.magedu.com/index.html'\n",
    "b = 'https://login.magedu.com'\n",
    "c = 'file:///ect/sysconfig/network'\n",
    "lst = [a, b, c]\n",
    "for i in lst:\n",
    "    print(re.findall('(?:https?|file)://(?:[a-z]+/|[a-z]+|[.])+', i))\n",
    "\n",
    "# print(re.findall('(?:https?|file)://(?:[a-z]|[./])+', a))\n",
    "# print(re.findall('(?:https?|file)://(?:[a-z]|[./])+', b))\n",
    "# print(re.findall('(?:http|https|file)://{2}.+', c))"
   ]
  },
  {
   "cell_type": "code",
   "execution_count": 62,
   "metadata": {},
   "outputs": [
    {
     "name": "stdout",
     "output_type": "stream",
     "text": [
      "[]\n",
      "['321105197001010030']\n",
      "['11210020170101054x']\n"
     ]
    }
   ],
   "source": [
    "# 匹配17位身份证，前6位，中间8位为出生日期，后3位为数字，最后一位为x或者数字\n",
    "a = '321105800101003'\n",
    "b = '321105197001010030'\n",
    "c = '11210020170101054x'\n",
    "print(re.findall('[0-9]{6}[0-9]{8}[0-9]{3}[0-9]|x', a))\n",
    "print(re.findall('[1-9]\\d{5}(?:1[5-9][0-9]{2}|20[01][0-9])(?:0[0-9]|1[0-2])(?:[0-2]\\d)\\d{3}(?:\\d|x)', b))\n",
    "print(re.findall('[1-9]\\d{5}(?:1[5-9][0-9]{2}|20[01][0-9])(?:0[0-9]|1[0-2])(?:[0-2]\\d)\\d{3}(?:\\d|x)', c))"
   ]
  },
  {
   "cell_type": "code",
   "execution_count": 61,
   "metadata": {
    "scrolled": true
   },
   "outputs": [
    {
     "name": "stdout",
     "output_type": "stream",
     "text": [
      "['11210020170101054x']\n"
     ]
    }
   ],
   "source": [
    "print(re.findall('[1-9]\\d{5}(?:1[5-9][0-9]{2}|20[01][0-9])(?:0[0-9]|1[0-2])(?:[0-2]\\d)\\d{3}(?:\\d|x)', c))"
   ]
  },
  {
   "cell_type": "code",
   "execution_count": 63,
   "metadata": {},
   "outputs": [
    {
     "name": "stdout",
     "output_type": "stream",
     "text": [
      "['A', 'atb', '32', '_', '67', 'mnq']\n"
     ]
    }
   ],
   "source": [
    "# 判断密码强度\n",
    "a = 'Aatb32_67mnq'\n",
    "print(re.findall('[0-9]+|[a-z]+|[A-Z]+|_', a))"
   ]
  },
  {
   "cell_type": "code",
   "execution_count": 95,
   "metadata": {},
   "outputs": [],
   "source": [
    "# 匹配一个0-999之间的任意数字\n",
    "lst = ['1', '12', '995', '9999', '102', '02', '003', '4d']"
   ]
  },
  {
   "cell_type": "code",
   "execution_count": 96,
   "metadata": {},
   "outputs": [
    {
     "name": "stdout",
     "output_type": "stream",
     "text": [
      "['1']\n",
      "['12']\n",
      "['995']\n",
      "['999', '9']\n",
      "['102']\n",
      "['02']\n",
      "['003']\n",
      "['4']\n"
     ]
    }
   ],
   "source": [
    "for i in lst:\n",
    "    print(re.findall('[0-9]{1,3}', i))"
   ]
  },
  {
   "cell_type": "code",
   "execution_count": 104,
   "metadata": {
    "scrolled": false
   },
   "outputs": [
    {
     "name": "stdout",
     "output_type": "stream",
     "text": [
      "['192.168.1.150']\n",
      "['0.0.0.0']\n",
      "['255.255.255.255']\n",
      "['17.16.52.100']\n",
      "['172.16.0.100']\n",
      "[]\n",
      "['001.022.003.000']\n",
      "[]\n"
     ]
    }
   ],
   "source": [
    "# 匹配合法的IP地址\n",
    "lst = ['192.168.1.150', '0.0.0.0', '255.255.255.255', '17.16.52.100', '172.16.0.100', '400.400.999.888', '001.022.003.000', '257.257.255.256']\n",
    "for i in lst:    \n",
    "    print(re.findall('(?:(?:25[0-5]|2[0-4]\\d|[0-1]\\d{0,2}|\\d{2}|\\d)\\.){3}(?:25[0-5]|2[0-4]\\d|[0-1]\\d{0,2})', i))\n",
    "\n"
   ]
  },
  {
   "cell_type": "code",
   "execution_count": 107,
   "metadata": {},
   "outputs": [
    {
     "name": "stdout",
     "output_type": "stream",
     "text": [
      "['ftp://ftp.astron.com/pub/file/file-5.14.tar.gz']\n",
      "['ftp://ftp.gmplib.org/pub/gmp-5.1.2/gmp-5.1.2.tar.xz']\n",
      "[]\n",
      "[]\n",
      "[]\n",
      "[]\n",
      "[]\n",
      "[]\n",
      "['ftp.altlinux.org/pub/people/legion/kbd-1.15.5.tar.gz']\n",
      "[]\n",
      "[]\n"
     ]
    }
   ],
   "source": [
    "# 选出含有ftp链接，且文件类型是gz或者xz的文件名\n",
    "alst = ['ftp://ftp.astron.com/pub/file/file-5.14.tar.gz',\n",
    "       'ftp://ftp.gmplib.org/pub/gmp-5.1.2/gmp-5.1.2.tar.xz',\n",
    "       'ftp://ftp.vim.org/pub/vim/unix/vim-7.3.tar.bz2',\n",
    "       'http://anduin.linuxfromscratch.org/sources/LFS/lfs-packages/conglomeration//iana-etc/iana-etc-2.30.tar.bz2',\n",
    "       'http://anduin.linuxfromscratch.org/sources/other/udev-lfs-205-1.tar.bz2',\n",
    "       'http://download.savanah.gnu.org/releases/libpipeline/libpipeline-1.2.4.tar.gz',\n",
    "       'http://download.savannah.gnu.org/releses/man-db/man-db-2.6.5.tar.xz',\n",
    "       'http://downloadsavannah.gnu.org/releases/sysvinit/sysvinit-2.88dsf.tar.bz2',\n",
    "       'http://ftp.altlinux.org/pub/people/legion/kbd-1.15.5.tar.gz',\n",
    "       'http://mirror.hust.edu.cn/gnu.autoconf/autoconf-2.69.tar.xz',\n",
    "       'http://mirror.hust.edu.cn/gnu/automake/automake-1.14.tar.xz']\n",
    "for i in alst:    \n",
    "    print(re.findall('ftp.*\\.(?:g|x)z$', i))"
   ]
  },
  {
   "cell_type": "code",
   "execution_count": 54,
   "metadata": {},
   "outputs": [
    {
     "name": "stdout",
     "output_type": "stream",
     "text": [
      "['23z']\n"
     ]
    }
   ],
   "source": [
    "print(re.findall('\\d+z$', '23z'))"
   ]
  },
  {
   "cell_type": "code",
   "execution_count": null,
   "metadata": {},
   "outputs": [],
   "source": []
  },
  {
   "cell_type": "code",
   "execution_count": null,
   "metadata": {},
   "outputs": [],
   "source": []
  },
  {
   "cell_type": "code",
   "execution_count": 3,
   "metadata": {},
   "outputs": [
    {
     "name": "stdout",
     "output_type": "stream",
     "text": [
      "None\n"
     ]
    }
   ],
   "source": [
    "print(re.match('\\d+', '手机号：158990000399'))"
   ]
  },
  {
   "cell_type": "code",
   "execution_count": 4,
   "metadata": {},
   "outputs": [
    {
     "data": {
      "text/plain": [
       "['158990000399']"
      ]
     },
     "execution_count": 4,
     "metadata": {},
     "output_type": "execute_result"
    }
   ],
   "source": [
    "re.findall('1[3578]{3}', '手机号：158990000399')"
   ]
  },
  {
   "cell_type": "code",
   "execution_count": 5,
   "metadata": {},
   "outputs": [
    {
     "data": {
      "text/plain": [
       "['025-83078', '0543-89990']"
      ]
     },
     "execution_count": 5,
     "metadata": {},
     "output_type": "execute_result"
    }
   ],
   "source": [
    "re.findall('\\d+-\\d+', '座机号025-83078、0543-89990.')"
   ]
  },
  {
   "cell_type": "code",
   "execution_count": null,
   "metadata": {},
   "outputs": [],
   "source": [
    "# 笔记整理\n",
    "正则表达式(Regular Expresion): regex,regexp,RE\n",
    "    基本正则表达式：(BRE), grep、sed、vi等软件支\n",
    "    持。vim有扩展\n",
    "    扩展正则表达式：(ERE) egrep(grep-E)、sed-r等\n",
    "    PCRE:几乎所有高级语言都是PCRE的方言或者变种\n",
    "正则表达式中的元字符(metacharater):\n",
    "控制匹配次数的字符：\n",
    "捕获(分组匹配)：\n",
    "贪婪匹配：\n",
    "\n",
    "转义字符：正则表达式中有特殊意义的字符用\\转义，例如：\n",
    "\\\\ 表示反斜杠  \\r \\n \\r\\n表示换行\n",
    "或： x|y\n",
    "    \n",
    "    \n",
    "    "
   ]
  },
  {
   "cell_type": "code",
   "execution_count": 105,
   "metadata": {},
   "outputs": [
    {
     "name": "stdout",
     "output_type": "stream",
     "text": [
      "[]\n"
     ]
    }
   ],
   "source": [
    "print(re.findall('(P very) \\1', 'very very'))"
   ]
  },
  {
   "cell_type": "code",
   "execution_count": 100,
   "metadata": {},
   "outputs": [
    {
     "name": "stdout",
     "output_type": "stream",
     "text": [
      "None\n"
     ]
    }
   ],
   "source": [
    "print(re.search('(very)\\1', 'very very'))"
   ]
  },
  {
   "cell_type": "code",
   "execution_count": 30,
   "metadata": {},
   "outputs": [
    {
     "name": "stdout",
     "output_type": "stream",
     "text": [
      "['http://tinyurl.com/NYCRooftops']\n"
     ]
    }
   ],
   "source": [
    "import re\n",
    "pattern = re.compile(r'http[s]?://(?:[a-zA-Z]|[0-9]|[$-_@.&+]|[!*\\(\\),]|(?:%[0-9a-fA-F][0-9a-fA-F]))+') # 匹配模式\n",
    " \n",
    "string = 'Its after 12 noon, do you know where your rooftops are? http://tinyurl.com/NYCRooftops '\n",
    "\n",
    "url = re.findall(pattern, string)\n",
    "print (url)\n",
    " \n"
   ]
  },
  {
   "cell_type": "code",
   "execution_count": 38,
   "metadata": {},
   "outputs": [
    {
     "data": {
      "text/plain": [
       "['http://tinyurl.com/NYCRooftops']"
      ]
     },
     "execution_count": 38,
     "metadata": {},
     "output_type": "execute_result"
    }
   ],
   "source": [
    "re.findall(r'https?://(?:[a-zA-Z]|[./]|[0-9])+', string)"
   ]
  },
  {
   "cell_type": "code",
   "execution_count": 36,
   "metadata": {},
   "outputs": [
    {
     "name": "stdout",
     "output_type": "stream",
     "text": [
      "[]\n"
     ]
    }
   ],
   "source": [
    "pattern = '((2[0-4]\\d|25[0-5]|[01]?\\d\\d?)\\.){3}'\n",
    "print(re.findall(pattern, '255.01.20'))"
   ]
  },
  {
   "cell_type": "code",
   "execution_count": 28,
   "metadata": {},
   "outputs": [
    {
     "name": "stdout",
     "output_type": "stream",
     "text": [
      "['245', '246', '24']\n"
     ]
    }
   ],
   "source": [
    "pattern = '2[0-4]\\d|2[0-4]'\n",
    "print(re.findall(pattern, '24524624'))"
   ]
  },
  {
   "cell_type": "code",
   "execution_count": 5,
   "metadata": {},
   "outputs": [
    {
     "name": "stdout",
     "output_type": "stream",
     "text": [
      "[0, 3, 5, 2, 2, 6, 6, 3, 3, 3]\n"
     ]
    },
    {
     "data": {
      "text/plain": [
       "[0, 3, 5, 2, 6]"
      ]
     },
     "execution_count": 5,
     "metadata": {},
     "output_type": "execute_result"
    }
   ],
   "source": [
    "# 原列表上去重复\n",
    "import random \n",
    "alst = [random.randint(0, 7) for i in range(10)]\n",
    "print(alst)\n",
    "def remove_duplicate_element(alst):\n",
    "    i = 0\n",
    "    j = 1\n",
    "    length = len(alst)\n",
    "    while j < length:\n",
    "        for k in range(0, j):\n",
    "            if alst[k] == alst[j]:\n",
    "                break\n",
    "        else:\n",
    "            alst[i+1] = alst[j]\n",
    "            i += 1\n",
    "        j += 1\n",
    "    return alst[:i+1]\n",
    "remove_duplicate_element(alst)"
   ]
  },
  {
   "cell_type": "code",
   "execution_count": 86,
   "metadata": {},
   "outputs": [
    {
     "ename": "SyntaxError",
     "evalue": "invalid character in identifier (<ipython-input-86-46d877876fd9>, line 1)",
     "output_type": "error",
     "traceback": [
      "\u001b[0;36m  File \u001b[0;32m\"<ipython-input-86-46d877876fd9>\"\u001b[0;36m, line \u001b[0;32m1\u001b[0m\n\u001b[0;31m    1、如果不使用^和$的话，对于\\d{5,12}而言，使用这样的方法就只能保证字符串里包含5到12\u001b[0m\n\u001b[0m          ^\u001b[0m\n\u001b[0;31mSyntaxError\u001b[0m\u001b[0;31m:\u001b[0m invalid character in identifier\n"
     ]
    }
   ],
   "source": [
    "1、如果不使用^和$的话，对于\\d{5,12}而言，使用这样的方法就只能保证字符串里包含5到12\n",
    "连续位数字，而不是整个字符串就是5到12位数字。\n",
    "2、查找一些元字符本身会出现问题，因为这些元字符已经变成别的意思了，所以我们没有办法指定这些元字符。\n",
    "出现这种情况，我们就得使用\\来取消这些字符的特殊意义。所以，我们应该使用\\.和\\*。当然，要查找\\本身，你也得用\\\\。\n",
    "3.[aeiou]就匹配任何一个英文元音字母，[.?!]匹配标点符号(.或?或!)。\n",
    "4、\\(?0\\d{2}[) -]?\\d{8} 这个表达式可以匹配几种格式的电话号码，\n",
    "像(010)88886666，或022-22334455，或029 12345678，或02912345678等。\\(匹配左括号，出现1次或者0次，\n",
    "[) -]匹配)或空格或-，出现1次或者0次\n",
    "5、 ) 也是元字节，需要转义\\(\n",
    "6、分支条件 |\n",
    "使用分枝条件时，要注意各个条件的顺序。如果你把它改成\\d{5}|\\d{5}-\\d{4}的话，\n",
    "    那么就只会匹配5位的邮编(以及9位邮编的前5位)。原因是匹配分枝条件时，\n",
    "    将会从左到右地测试每个条件，如果满足了某个分枝的话，就不会去再管其它的条件了。\n",
    "7、例子：\\(0\\d{2}\\)[- ]?\\d{8}|0\\d{2}[- ]?\\d{8}这个表达式匹配3位区号的电话号码，其中区号可以用小括号括起来，\n",
    "也可以不用，区号与本地号间可以用连字号或空格间隔，也可以没有间隔。\n",
    "8、那么多个字符的重复又该如何实现呢？你可以使用小括号来指定子表达式（也称为分组），\n",
    "    然后对于这个子表达式的重复次数就可以自行规定了。\n",
    "9、匹配IP地址：((2[0-4]\\d|25[0-5]|[01]?\\d\\d?)\\.){3}(2[0-4]\\d|25[0-5]|[01]?\\d\\d?)\n",
    "    每一位IP不能超过255\n",
    "10、匹配重复单词\n",
    "    \\b(\\w+)\\b\\s+\\1\\b可以用来匹配重复的单词，像go go, 或者kitty kitty。\n",
    "    这个表达式首先是一个单词，也就是单词开始处和结束处之间的多于一个的字母或数字(\\b(\\w+)\\b)，\n",
    "    这个单词会被捕获到编号为1的分组中，然后是1个或几个空白符(\\s+)，\n",
    "    最后是分组1中捕获的内容（也就是前面匹配的那个单词）(\\1)。\n",
    "11、((?<=\\d)\\d{3})+\\b，用它对1234567890进行查找时结果是234567890。\n",
    "12、使用了这两种断言：(?<=\\s)\\d+(?=\\s)匹配以空白符间隔的数字(再次强调，不包括这些空白符)。"
   ]
  },
  {
   "cell_type": "code",
   "execution_count": 18,
   "metadata": {},
   "outputs": [
    {
     "name": "stdout",
     "output_type": "stream",
     "text": [
      "[]\n"
     ]
    }
   ],
   "source": [
    "import re\n",
    "#print(re.findall('(very) \\1', 'very very very'))# 无法匹配\n",
    "print(re.findall('\\b(\\w+)\\b\\s+\\1\\b', 'very very very')) # 无法匹配"
   ]
  },
  {
   "cell_type": "code",
   "execution_count": 19,
   "metadata": {},
   "outputs": [
    {
     "name": "stdout",
     "output_type": "stream",
     "text": [
      "[]\n"
     ]
    }
   ],
   "source": [
    "print(re.findall('((?<=\\d)\\d{3})+\\b', '1234567890'))"
   ]
  },
  {
   "cell_type": "code",
   "execution_count": 21,
   "metadata": {},
   "outputs": [
    {
     "name": "stdout",
     "output_type": "stream",
     "text": [
      "None\n"
     ]
    }
   ],
   "source": [
    "a = re.search('((?<=\\d)\\d{3})+\\b', '1234567890')\n",
    "print(a)"
   ]
  },
  {
   "cell_type": "code",
   "execution_count": null,
   "metadata": {},
   "outputs": [],
   "source": [
    "re"
   ]
  },
  {
   "cell_type": "code",
   "execution_count": null,
   "metadata": {},
   "outputs": [],
   "source": []
  },
  {
   "cell_type": "code",
   "execution_count": null,
   "metadata": {},
   "outputs": [],
   "source": []
  },
  {
   "cell_type": "code",
   "execution_count": null,
   "metadata": {},
   "outputs": [],
   "source": []
  },
  {
   "cell_type": "code",
   "execution_count": null,
   "metadata": {},
   "outputs": [],
   "source": []
  },
  {
   "cell_type": "code",
   "execution_count": null,
   "metadata": {},
   "outputs": [],
   "source": []
  },
  {
   "cell_type": "code",
   "execution_count": null,
   "metadata": {},
   "outputs": [],
   "source": []
  }
 ],
 "metadata": {
  "kernelspec": {
   "display_name": "Python 3",
   "language": "python",
   "name": "python3"
  },
  "language_info": {
   "codemirror_mode": {
    "name": "ipython",
    "version": 3
   },
   "file_extension": ".py",
   "mimetype": "text/x-python",
   "name": "python",
   "nbconvert_exporter": "python",
   "pygments_lexer": "ipython3",
   "version": "3.6.8"
  }
 },
 "nbformat": 4,
 "nbformat_minor": 2
}
