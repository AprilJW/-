{
 "cells": [
  {
   "cell_type": "code",
   "execution_count": 1,
   "metadata": {},
   "outputs": [],
   "source": [
    "import inspect"
   ]
  },
  {
   "cell_type": "code",
   "execution_count": null,
   "metadata": {},
   "outputs": [],
   "source": [
    "python类型注解\n",
    "函数注解(function annotations):\n",
    "只是对函数参数做辅助说明，非强制性定义参数类型\n",
    "也不会对参数进行检查\n",
    "变量注解：\n",
    "i:int=3"
   ]
  },
  {
   "cell_type": "code",
   "execution_count": 10,
   "metadata": {},
   "outputs": [],
   "source": [
    "def add(a:int, b:int):\n",
    "    pass"
   ]
  },
  {
   "cell_type": "code",
   "execution_count": 11,
   "metadata": {},
   "outputs": [
    {
     "name": "stdout",
     "output_type": "stream",
     "text": [
      "add None {} {'a': <class 'int'>, 'b': <class 'int'>}\n"
     ]
    }
   ],
   "source": [
    "print(add.__name__, add.__doc__, add.__dict__, add.__annotations__)"
   ]
  },
  {
   "cell_type": "code",
   "execution_count": 12,
   "metadata": {},
   "outputs": [],
   "source": [
    "add(1,2) # 假设传入了位置参数无法和字典中的声明对比？？？？？"
   ]
  },
  {
   "cell_type": "code",
   "execution_count": null,
   "metadata": {},
   "outputs": [],
   "source": [
    "参数检查的过程：\n",
    "函数作为参数传入到检查函数中\n",
    "检查参数拿到函数传入的实际参数，与形参声明对比"
   ]
  },
  {
   "cell_type": "code",
   "execution_count": 2,
   "metadata": {},
   "outputs": [
    {
     "data": {
      "text/plain": [
       "False"
      ]
     },
     "execution_count": 2,
     "metadata": {},
     "output_type": "execute_result"
    }
   ],
   "source": [
    "# inspect模块\n",
    "import inspect, pathlib\n",
    "inspect.isfunction(add)\n",
    "inspect.ismethod(pathlib.Path().absolute) # 是类的方法\n",
    "inspect.isgenerator((i for i in range(2))) # 是生成器表达式构成的生成器\n",
    "inspect.isgeneratorfunction(add) #  函数中有yield\n",
    "inspect.isgeneratorfunction((i for i in range(2))) # 不是生成器函数\n",
    "inspect.isclass(add)\n",
    "inspect.ismodule(inspect)\n",
    "inspect.isbuiltin(print) \n",
    "inspect.isbuiltin(int) # 不是内建函数，是被导入的\n"
   ]
  },
  {
   "cell_type": "code",
   "execution_count": 6,
   "metadata": {},
   "outputs": [],
   "source": [
    "def add(x:int, y:int=2, *args, m:int, n:int, **kwargs) -> int:\n",
    "    return x + y + m +n"
   ]
  },
  {
   "cell_type": "code",
   "execution_count": 7,
   "metadata": {},
   "outputs": [
    {
     "data": {
      "text/plain": [
       "<Signature (x:int, y:int=2, *args, m:int, n:int, **kwargs) -> int>"
      ]
     },
     "execution_count": 7,
     "metadata": {},
     "output_type": "execute_result"
    }
   ],
   "source": [
    "# 参数是可调用对象，包含定义变量的类型和返回值的类型\n",
    "inspect.signature(add)"
   ]
  },
  {
   "cell_type": "code",
   "execution_count": 8,
   "metadata": {},
   "outputs": [
    {
     "data": {
      "text/plain": [
       "mappingproxy(OrderedDict([('x', <Parameter \"x:int\">), ('y', <Parameter \"y:int=2\">), ('args', <Parameter \"*args\">), ('m', <Parameter \"m:int\">), ('n', <Parameter \"n:int\">), ('kwargs', <Parameter \"**kwargs\">)]))"
      ]
     },
     "execution_count": 8,
     "metadata": {},
     "output_type": "execute_result"
    }
   ],
   "source": [
    "# 返回OrderedDict类型，键值对，键为函数中定义的变量名，值储存了变量的参数是一个\n",
    "# Parameter对象，对象中的属性有name(参数名)，annotation(参数注释，如果函数定义时没有写：int,则显示为empty)\n",
    "# default(参数的缺省值，如果定义函数时没给，则显示empty)\n",
    "# empty()\n",
    "# 值中的参数有\n",
    "inspect.signature(add).parameters"
   ]
  },
  {
   "cell_type": "code",
   "execution_count": 12,
   "metadata": {},
   "outputs": [
    {
     "name": "stdout",
     "output_type": "stream",
     "text": [
      "<class 'int'>\n",
      "x\n",
      "<class 'inspect._empty'>\n",
      "<class 'inspect._empty'>\n",
      "POSITIONAL_OR_KEYWORD\n"
     ]
    }
   ],
   "source": [
    "x_parameter = inspect.signature(add).parameters['x']\n",
    "\n",
    "print(x_parameter.annotation)\n",
    "print(x_parameter.name)\n",
    "print(x_parameter.default)\n",
    "print(x_parameter.empty)\n",
    "print(x_parameter.kind)"
   ]
  },
  {
   "cell_type": "code",
   "execution_count": 14,
   "metadata": {},
   "outputs": [],
   "source": [
    "y_parameter = inspect.signature(add).parameters['y']"
   ]
  },
  {
   "cell_type": "code",
   "execution_count": 15,
   "metadata": {},
   "outputs": [
    {
     "name": "stdout",
     "output_type": "stream",
     "text": [
      "<class 'int'>\n",
      "x\n",
      "2\n",
      "<class 'inspect._empty'>\n",
      "POSITIONAL_OR_KEYWORD\n"
     ]
    }
   ],
   "source": [
    "print(x_parameter.annotation)\n",
    "print(x_parameter.name)\n",
    "print(y_parameter.default)\n",
    "# 用来标记 default或annotation空值，无论是否为空都会打印<class 'inspect._empty'>\n",
    "print(y_parameter.empty)\n",
    "print(y_parameter.kind)"
   ]
  },
  {
   "cell_type": "code",
   "execution_count": 23,
   "metadata": {},
   "outputs": [
    {
     "data": {
      "text/plain": [
       "<_ParameterKind.VAR_KEYWORD: 4>"
      ]
     },
     "execution_count": 23,
     "metadata": {},
     "output_type": "execute_result"
    }
   ],
   "source": [
    "# add中定义的参数有x, y, *args, m, n, **kwargs\n",
    "# kind有4种类型，POSITIONAL_OR_KEYWORD, VAR_POSITIONAL\n",
    "# KEYWORD_ONLY, VAR_KEYWORD, 后面对应相应的编号\n",
    "inspect.signature(add).parameters['kwargs'].kind"
   ]
  },
  {
   "cell_type": "code",
   "execution_count": null,
   "metadata": {},
   "outputs": [],
   "source": [
    "# 例子：判断用户输入的参数是否否符合要求"
   ]
  },
  {
   "cell_type": "code",
   "execution_count": 26,
   "metadata": {},
   "outputs": [],
   "source": [
    "from functools import wraps\n",
    "def logger(fn):\n",
    "    @wraps(fn)  # wrapper = param(fn)(wrapper)\n",
    "    def wrapper(*args, **kwargs):\n",
    "        params = inspect.signature(wrapper).parameters\n",
    "        values = list(params.values())\n",
    "        flag = False\n",
    "        for i, arg in enumerate(args):\n",
    "            value = values[i]\n",
    "            if isinstance(arg, value.annotation):\n",
    "                print(arg, 'right')\n",
    "            else:\n",
    "                print(arg, 'rong')\n",
    "                flag = True\n",
    "                break\n",
    "        if not flag:\n",
    "            for k, kwarg in kwargs.items():\n",
    "                value = params[k]\n",
    "                if isinstance(kwarg, value.annotation):\n",
    "                    print(kwargs, 'right')\n",
    "                else:\n",
    "                    print(kwargs, 'roung')\n",
    "                    flag = True\n",
    "                    break\n",
    "            \n",
    "        ret = fn(*args,**kwargs)\n",
    "        return ret\n",
    "    return wrapper\n",
    "\n",
    "@logger\n",
    "def add(x:int=1, y:int=2) -> int:\n",
    "    return x + y"
   ]
  },
  {
   "cell_type": "code",
   "execution_count": 30,
   "metadata": {},
   "outputs": [
    {
     "name": "stdout",
     "output_type": "stream",
     "text": [
      "a rong\n"
     ]
    },
    {
     "data": {
      "text/plain": [
       "'ab'"
      ]
     },
     "execution_count": 30,
     "metadata": {},
     "output_type": "execute_result"
    }
   ],
   "source": [
    "add('a','b')"
   ]
  },
  {
   "cell_type": "code",
   "execution_count": 31,
   "metadata": {},
   "outputs": [],
   "source": [
    "from functools import wraps\n",
    "def logger(fn):\n",
    "    @wraps(fn)  # wrapper = param(fn)(wrapper)\n",
    "    def wrapper(*args, **kwargs):\n",
    "        params = inspect.signature(wrapper).parameters\n",
    "        values = list(params.values())\n",
    "        flag = False\n",
    "        for i, arg in enumerate(args):\n",
    "            value = values[i]\n",
    "            if isinstance(arg, value.annotation):\n",
    "                print(arg, 'right')\n",
    "            elif value.annotation is value.empty:\n",
    "                print('any type')\n",
    "            else:\n",
    "                print(arg, 'wrong')\n",
    "                flag = True\n",
    "            \n",
    "        if not flag:\n",
    "            for k, kwarg in kwargs.items():\n",
    "                value = params[k]\n",
    "                if isinstance(kwarg, value.annotation):\n",
    "                    print(kwargs, 'right')\n",
    "                elif value.annotation is value.empty:\n",
    "                    print('any type')\n",
    "                else:\n",
    "                    print(kwargs, 'wrong')\n",
    "                    flag = True\n",
    "                    \n",
    "            \n",
    "        ret = fn(*args,**kwargs)\n",
    "        return ret\n",
    "    return wrapper\n",
    "\n",
    "\n",
    "# 定义时x或y没给类型，传入参数调用函数时会提示any type\n",
    "# 定义时x或y给了类型，传入参数调用函数时会提示right 或者 wrong\n",
    "@logger\n",
    "def add(x, y:int=2) -> int:\n",
    "    return x + y"
   ]
  },
  {
   "cell_type": "code",
   "execution_count": 34,
   "metadata": {},
   "outputs": [
    {
     "name": "stdout",
     "output_type": "stream",
     "text": [
      "any type\n",
      "b rong\n"
     ]
    },
    {
     "data": {
      "text/plain": [
       "'ab'"
      ]
     },
     "execution_count": 34,
     "metadata": {},
     "output_type": "execute_result"
    }
   ],
   "source": [
    "add('a', 'b')"
   ]
  },
  {
   "cell_type": "code",
   "execution_count": null,
   "metadata": {},
   "outputs": [],
   "source": [
    "def param(fn):\n",
    "    def _param(wrapper):\n",
    "        params = inspect.signature(wrapper).parameters\n",
    "        for i, (k,v) in enumerate(params.items()):\n",
    "            print(i, k, v.name, v.kind, v.default, v.annotation)\n",
    "        #ret = fn(x, y, *args, m, n, **kwargs)\n",
    "        return wrapper\n",
    "    return _param\n",
    "\n",
    "def logger(fn):\n",
    "    @param(fn)  # wrapper = param(fn)(wrapper)\n",
    "    def wrapper(x, y, *args, m, n, **kwargs):\n",
    "        ret = fn(x, y, *args, m, n, **kwargs)\n",
    "        return ret\n",
    "    return wrapper"
   ]
  },
  {
   "cell_type": "code",
   "execution_count": null,
   "metadata": {},
   "outputs": [],
   "source": []
  },
  {
   "cell_type": "code",
   "execution_count": 4,
   "metadata": {
    "scrolled": false
   },
   "outputs": [
    {
     "name": "stdout",
     "output_type": "stream",
     "text": [
      "(x, y:int=7, *args, m, n:int=10, **kwargs) -> int\n",
      "OrderedDict([('x', <Parameter \"x\">), ('y', <Parameter \"y:int=7\">), ('args', <Parameter \"*args\">), ('m', <Parameter \"m\">), ('n', <Parameter \"n:int=10\">), ('kwargs', <Parameter \"**kwargs\">)])\n",
      "0 x x POSITIONAL_OR_KEYWORD <class 'inspect._empty'> <class 'inspect._empty'>\n",
      "1 y y POSITIONAL_OR_KEYWORD 7 <class 'int'>\n",
      "2 args args VAR_POSITIONAL <class 'inspect._empty'> <class 'inspect._empty'>\n",
      "3 m m KEYWORD_ONLY <class 'inspect._empty'> <class 'inspect._empty'>\n",
      "4 n n KEYWORD_ONLY 10 <class 'int'>\n",
      "5 kwargs kwargs VAR_KEYWORD <class 'inspect._empty'> <class 'inspect._empty'>\n"
     ]
    }
   ],
   "source": [
    "def add(x, y:int=7, *args, m, n:int=10, **kwargs) -> int:\n",
    "    return x + y\n",
    "sig = inspect.signature(add)\n",
    "print(sig)\n",
    "params = sig.parameters\n",
    "print(params)\n",
    "for i, (k,v) in enumerate(params.items()):\n",
    "    print(i, k, v.name, v.kind, v.default, v.annotation)"
   ]
  },
  {
   "cell_type": "code",
   "execution_count": 38,
   "metadata": {},
   "outputs": [],
   "source": [
    "# functools 模块\n",
    "from functools import reduce\n",
    "#reduce(function, sequence[,initial]) -> value"
   ]
  },
  {
   "cell_type": "code",
   "execution_count": 40,
   "metadata": {},
   "outputs": [
    {
     "name": "stdout",
     "output_type": "stream",
     "text": [
      "45\n"
     ]
    }
   ],
   "source": [
    "# 求和\n",
    "nums = range(10)\n",
    "print(reduce(lambda val, x: val + x, nums))"
   ]
  },
  {
   "cell_type": "code",
   "execution_count": null,
   "metadata": {},
   "outputs": [],
   "source": [
    "# 返回一个新函数，对原函数function进行封装，把function的部分功能固定下来了\n",
    "# partial(function, parameter)"
   ]
  },
  {
   "cell_type": "code",
   "execution_count": 54,
   "metadata": {},
   "outputs": [
    {
     "name": "stdout",
     "output_type": "stream",
     "text": [
      "(3, 4, 5)\n"
     ]
    },
    {
     "data": {
      "text/plain": [
       "<Signature (*args) -> int>"
      ]
     },
     "execution_count": 54,
     "metadata": {},
     "output_type": "execute_result"
    }
   ],
   "source": [
    "# 例子：\n",
    "import functools\n",
    "def add(x, y, *args) -> int:\n",
    "    print(args)\n",
    "    return x + y \n",
    "newadd = functools.partial(add, 1,2,3,4)\n",
    "newadd(5) # 1,2已经被固定住了，5和3，4一起被收入args中\n",
    "#newadd(y=10, x=10) # 错误写法因为x 和 y已经被固定住了\n",
    "inspect.signature(newadd) # <Signature (*args) -> int> newadd只有args参数"
   ]
  },
  {
   "cell_type": "code",
   "execution_count": 57,
   "metadata": {},
   "outputs": [
    {
     "data": {
      "text/plain": [
       "3"
      ]
     },
     "execution_count": 57,
     "metadata": {},
     "output_type": "execute_result"
    }
   ],
   "source": [
    "# partial函数的本质\n",
    "def partial(func, *args, **keywords):\n",
    "    def newfunc(*fargs, **fkeywords):\n",
    "        newkeywords = keywords.copy()\n",
    "        newkeywords.update(fkeywords)   \n",
    "        return func(*(args + fargs), **newkeywords)       \n",
    "    newfunc.func = func\n",
    "    newfunc.args = args\n",
    "    newfunc.keywords = keywords\n",
    "    return newfunc\n",
    "\n",
    "def add(x, y):\n",
    "    return x + y\n",
    "\n",
    "foo = partial(add, 1, 2)\n",
    "foo()"
   ]
  },
  {
   "cell_type": "code",
   "execution_count": null,
   "metadata": {},
   "outputs": [],
   "source": [
    "lru_cache(maxsize=128, typed=False)\n",
    "lru(Least-recently-used) 最近最少使用\n",
    "maxsize = None 禁止lru功能，缓存可以无限制增长，是2的幂时lru功能执行的最好\n",
    "typed = True 不同类型的参数将单独缓存f(3),f(3.0),将对应不同的结果"
   ]
  },
  {
   "cell_type": "code",
   "execution_count": 60,
   "metadata": {},
   "outputs": [
    {
     "data": {
      "text/plain": [
       "3"
      ]
     },
     "execution_count": 60,
     "metadata": {},
     "output_type": "execute_result"
    }
   ],
   "source": [
    "import time\n",
    "@functools.lru_cache()\n",
    "def add(a, b):\n",
    "    time.sleep(2)\n",
    "    return a + b\n",
    "add(1, 2) # 慢\n",
    "add(1, 2) # 快\n",
    "add(1, b=2) # 慢\n",
    "add(a=1, b=2) # 慢 \n",
    "缓存的机制？ 内部的键值对是如何构建的？"
   ]
  },
  {
   "cell_type": "code",
   "execution_count": 68,
   "metadata": {},
   "outputs": [],
   "source": [
    "functools._make_key??"
   ]
  },
  {
   "cell_type": "code",
   "execution_count": null,
   "metadata": {},
   "outputs": [],
   "source": [
    "def _make_key(args, kwds, typed,\n",
    "             kwd_mark = (object(),),\n",
    "             fasttypes = {int, str, frozenset, type(None)},\n",
    "             tuple=tuple, type=type, len=len):\n",
    "    \"\"\"Make a cache key from optionally typed positional and keyword arguments\n",
    "\n",
    "    The key is constructed in a way that is flat as possible rather than\n",
    "    as a nested structure that would take more memory.\n",
    "\n",
    "    If there is only a single argument and its data type is known to cache\n",
    "    its hash value, then that argument is returned without a wrapper.  This\n",
    "    saves space and improves lookup speed.\n",
    "\n",
    "    \"\"\"\n",
    "    key = args\n",
    "    if kwds:\n",
    "        key += kwd_mark\n",
    "        for item in kwds.items():\n",
    "            key += item\n",
    "    if typed:\n",
    "        key += tuple(type(v) for v in args)\n",
    "        if kwds:\n",
    "            key += tuple(type(v) for v in kwds.values())\n",
    "    elif len(key) == 1 and type(key[0]) in fasttypes:\n",
    "        return key[0]\n",
    "    return _HashedSeq(key)"
   ]
  },
  {
   "cell_type": "code",
   "execution_count": 66,
   "metadata": {},
   "outputs": [
    {
     "name": "stdout",
     "output_type": "stream",
     "text": [
      "9227465\n"
     ]
    }
   ],
   "source": [
    "@functools.lru_cache()\n",
    "def fib(n):\n",
    "    return 1 if n < 3 else fib(n-1) + fib(n-2)\n",
    "print(fib(35))\n",
    "#print([fib(i+1) for i in range(1, 36)])"
   ]
  },
  {
   "cell_type": "code",
   "execution_count": null,
   "metadata": {},
   "outputs": [],
   "source": [
    "lru_cache装饰器的特点\n",
    "优点：同样的函数参数一定得到同样的结果\n",
    "缺点：不支持缓存过期，key无法过期，失效\n",
    "    不支持清楚操作\n",
    "    不支持分布式，是一个单机的缓存\n"
   ]
  }
 ],
 "metadata": {
  "kernelspec": {
   "display_name": "Python 3",
   "language": "python",
   "name": "python3"
  },
  "language_info": {
   "codemirror_mode": {
    "name": "ipython",
    "version": 3
   },
   "file_extension": ".py",
   "mimetype": "text/x-python",
   "name": "python",
   "nbconvert_exporter": "python",
   "pygments_lexer": "ipython3",
   "version": "3.6.8"
  }
 },
 "nbformat": 4,
 "nbformat_minor": 2
}
