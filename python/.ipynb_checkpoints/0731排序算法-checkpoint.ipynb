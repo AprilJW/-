{
 "cells": [
  {
   "cell_type": "code",
   "execution_count": 5,
   "metadata": {},
   "outputs": [
    {
     "ename": "SyntaxError",
     "evalue": "invalid syntax (<ipython-input-5-4e1e85d7a728>, line 1)",
     "output_type": "error",
     "traceback": [
      "\u001b[0;36m  File \u001b[0;32m\"<ipython-input-5-4e1e85d7a728>\"\u001b[0;36m, line \u001b[0;32m1\u001b[0m\n\u001b[0;31m    @[TOP]\u001b[0m\n\u001b[0m     ^\u001b[0m\n\u001b[0;31mSyntaxError\u001b[0m\u001b[0;31m:\u001b[0m invalid syntax\n"
     ]
    }
   ],
   "source": [
    "@[TOP]\n"
   ]
  },
  {
   "cell_type": "markdown",
   "metadata": {},
   "source": [
    "# 交换排序"
   ]
  },
  {
   "cell_type": "markdown",
   "metadata": {},
   "source": [
    "## 冒泡"
   ]
  },
  {
   "cell_type": "code",
   "execution_count": null,
   "metadata": {},
   "outputs": [],
   "source": []
  },
  {
   "cell_type": "code",
   "execution_count": 1,
   "metadata": {},
   "outputs": [],
   "source": [
    "import random\n",
    "nums = [1,2,3,4,5,6,7]\n",
    "random.shuffle(nums)"
   ]
  },
  {
   "cell_type": "code",
   "execution_count": 1,
   "metadata": {},
   "outputs": [
    {
     "name": "stdout",
     "output_type": "stream",
     "text": [
      "[4, 2, 6, 7, 3, 1, 5]\n",
      "[1, 2, 3, 4, 5, 6, 7]\n"
     ]
    }
   ],
   "source": [
    "import random\n",
    "nums = [1,2,3,4,5,6,7]\n",
    "random.shuffle(nums)\n",
    "# bubble_sort 把大的放右边 O(n^2) O(1)\n",
    "print(nums)\n",
    "for i in range(1, len(nums)):\n",
    "    k = 0\n",
    "    for j in range(0, len(nums)-i):\n",
    "        if nums[j] > nums[j+1]: #交换耗时间\n",
    "            nums[j], nums[j+1] = nums[j+1], nums[j]\n",
    "            k += 1   \n",
    "    if k == 0: #本次没有交换\n",
    "        break\n",
    "print(nums)"
   ]
  },
  {
   "cell_type": "code",
   "execution_count": 13,
   "metadata": {},
   "outputs": [
    {
     "name": "stdout",
     "output_type": "stream",
     "text": [
      "[7, 1, 3, 2, 5, 4, 6]\n",
      "[7, 6, 5, 4, 3, 2, 1]\n"
     ]
    }
   ],
   "source": [
    "# bubble_sort 把小的放右边\n",
    "random.shuffle(nums)\n",
    "print(nums)\n",
    "for i in range(1, len(nums)):\n",
    "    flag = False\n",
    "    for j in range(0, len(nums)-i):\n",
    "        if nums[j] < nums[j+1]:\n",
    "            nums[j], nums[j+1] = nums[j+1], nums[j]\n",
    "            flag = True\n",
    "    if not flag:\n",
    "        break\n",
    "print(nums)"
   ]
  },
  {
   "cell_type": "code",
   "execution_count": 18,
   "metadata": {},
   "outputs": [
    {
     "name": "stdout",
     "output_type": "stream",
     "text": [
      "[4, 3, 7, 5, 1, 2, 6]\n",
      "[7, 6, 5, 4, 3, 2, 1]\n"
     ]
    }
   ],
   "source": [
    "# bubble_sort 从后向前，把大的放左边\n",
    "random.shuffle(nums)\n",
    "print(nums)\n",
    "for i in range(1, len(nums)):\n",
    "    flag = False\n",
    "    for j in range(-1, -len(nums)+i-1, -1):\n",
    "        if nums[j] > nums[j-1]:\n",
    "            nums[j], nums[j-1] = nums[j-1], nums[j]\n",
    "            flag = True\n",
    "    if not flag:\n",
    "        break\n",
    "print(nums)"
   ]
  },
  {
   "cell_type": "code",
   "execution_count": 5,
   "metadata": {},
   "outputs": [],
   "source": [
    "# bubble_sort 从后向前，把小的放左边"
   ]
  },
  {
   "cell_type": "code",
   "execution_count": 26,
   "metadata": {
    "scrolled": true
   },
   "outputs": [
    {
     "name": "stdout",
     "output_type": "stream",
     "text": [
      "[4, 3, 7, 5, 6, 1, 2]\n",
      "[1, 2, 3, 4, 5, 6, 7]\n"
     ]
    }
   ],
   "source": [
    "random.shuffle(nums)\n",
    "print(nums)\n",
    "for i in range(1, len(nums)):\n",
    "    flag = False\n",
    "    for j in range(-1, -len(nums)+i-1, -1):\n",
    "        if nums[j] < nums[j-1]:\n",
    "            nums[j], nums[j-1] = nums[j-1], nums[j]\n",
    "            flag = True\n",
    "    if not flag:\n",
    "        break\n",
    "print(nums)"
   ]
  },
  {
   "cell_type": "markdown",
   "metadata": {},
   "source": []
  },
  {
   "cell_type": "markdown",
   "metadata": {},
   "source": [
    "## 快速排序"
   ]
  },
  {
   "cell_type": "code",
   "execution_count": null,
   "metadata": {},
   "outputs": [],
   "source": []
  },
  {
   "cell_type": "code",
   "execution_count": null,
   "metadata": {},
   "outputs": [],
   "source": []
  },
  {
   "cell_type": "code",
   "execution_count": null,
   "metadata": {},
   "outputs": [],
   "source": []
  },
  {
   "cell_type": "markdown",
   "metadata": {},
   "source": [
    "# 选择排序"
   ]
  },
  {
   "cell_type": "markdown",
   "metadata": {},
   "source": [
    "## 简单选择排序"
   ]
  },
  {
   "cell_type": "code",
   "execution_count": 24,
   "metadata": {},
   "outputs": [
    {
     "name": "stdout",
     "output_type": "stream",
     "text": [
      "[2, 7, 9, 4, 5, 3, 1, 0, 4, 8]\n"
     ]
    }
   ],
   "source": [
    "import random\n",
    "nums = [1,2,3,4,5,4,7,9,8,0]\n",
    "random.shuffle(nums)\n",
    "print(nums)"
   ]
  },
  {
   "cell_type": "code",
   "execution_count": 15,
   "metadata": {},
   "outputs": [],
   "source": [
    "def select_sort(nums):\n",
    "    for i in range(len(nums) - 1):\n",
    "        maxindex = i\n",
    "        initindex = i\n",
    "        for j in range(i+1, len(nums)):\n",
    "            if nums[maxindex] < nums[j]:\n",
    "                maxindex = j\n",
    "        nums[initindex], nums[maxindex] = nums[maxindex], nums[initindex]\n",
    "    return nums    \n",
    "        "
   ]
  },
  {
   "cell_type": "code",
   "execution_count": 21,
   "metadata": {
    "scrolled": true
   },
   "outputs": [
    {
     "data": {
      "text/plain": [
       "[9, 8, 7, 5, 4, 4, 3, 2, 1, 0]"
      ]
     },
     "execution_count": 21,
     "metadata": {},
     "output_type": "execute_result"
    }
   ],
   "source": [
    "select_sort(nums)"
   ]
  },
  {
   "cell_type": "markdown",
   "metadata": {},
   "source": [
    "## 双边选择排序"
   ]
  },
  {
   "cell_type": "code",
   "execution_count": 29,
   "metadata": {},
   "outputs": [],
   "source": [
    "def double_select_sort(nums):\n",
    "    for i in range(len(nums)//2):\n",
    "        maxindex = i\n",
    "        begininitindex = i\n",
    "        minindex = len(nums)-(i+1)        \n",
    "        endinitindex = len(nums)-(i+1)\n",
    "        \n",
    "        for j in range(i+1, len(nums)-i):\n",
    "            if nums[maxindex] < nums[j]:\n",
    "                maxindex = j\n",
    "        nums[begininitindex], nums[maxindex] = nums[maxindex], nums[begininitindex]\n",
    "        \n",
    "        for k in range(len(nums)-(i+2),i ,-1):\n",
    "            if nums[minindex] > nums[k]:\n",
    "                minindex = k\n",
    "        nums[endinitindex], nums[minindex] = nums[minindex], nums[endinitindex]\n",
    "        \n",
    "        if nums[endinitindex] == nums[begininitindex]:\n",
    "            return nums\n",
    "    return nums"
   ]
  },
  {
   "cell_type": "code",
   "execution_count": 30,
   "metadata": {},
   "outputs": [
    {
     "data": {
      "text/plain": [
       "[9, 5, 4, 1]"
      ]
     },
     "execution_count": 30,
     "metadata": {},
     "output_type": "execute_result"
    }
   ],
   "source": [
    "nums = [1,9,4,5]\n",
    "double_select_sort(nums)"
   ]
  },
  {
   "cell_type": "markdown",
   "metadata": {},
   "source": [
    "## 堆排序"
   ]
  },
  {
   "cell_type": "code",
   "execution_count": 2,
   "metadata": {},
   "outputs": [
    {
     "data": {
      "text/plain": [
       "5"
      ]
     },
     "execution_count": 2,
     "metadata": {},
     "output_type": "execute_result"
    }
   ],
   "source": [
    "int('2')\n",
    "int('5')"
   ]
  },
  {
   "cell_type": "code",
   "execution_count": 4,
   "metadata": {},
   "outputs": [
    {
     "data": {
      "text/plain": [
       "4"
      ]
     },
     "execution_count": 4,
     "metadata": {},
     "output_type": "execute_result"
    }
   ],
   "source": [
    "2\n",
    "2\n",
    "4"
   ]
  },
  {
   "cell_type": "code",
   "execution_count": 7,
   "metadata": {},
   "outputs": [
    {
     "name": "stdout",
     "output_type": "stream",
     "text": [
      "11\n",
      "None\n"
     ]
    }
   ],
   "source": [
    "print(print(11))"
   ]
  },
  {
   "cell_type": "code",
   "execution_count": 10,
   "metadata": {
    "scrolled": true
   },
   "outputs": [
    {
     "name": "stdout",
     "output_type": "stream",
     "text": [
      "44\n",
      "None\n"
     ]
    }
   ],
   "source": [
    "a = print(44)\n",
    "print(a)"
   ]
  },
  {
   "cell_type": "code",
   "execution_count": null,
   "metadata": {},
   "outputs": [],
   "source": [
    "import random\n",
    "nums = [1,2,3,4,5,6,7]\n",
    "random.shuffle(nums)"
   ]
  }
 ],
 "metadata": {
  "kernelspec": {
   "display_name": "Python 3",
   "language": "python",
   "name": "python3"
  },
  "language_info": {
   "codemirror_mode": {
    "name": "ipython",
    "version": 3
   },
   "file_extension": ".py",
   "mimetype": "text/x-python",
   "name": "python",
   "nbconvert_exporter": "python",
   "pygments_lexer": "ipython3",
   "version": "3.6.8"
  }
 },
 "nbformat": 4,
 "nbformat_minor": 2
}
