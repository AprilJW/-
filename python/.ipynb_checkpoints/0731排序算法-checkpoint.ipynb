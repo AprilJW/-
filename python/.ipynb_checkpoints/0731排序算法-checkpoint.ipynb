{
 "cells": [
  {
   "cell_type": "markdown",
   "metadata": {},
   "source": [
    "冒泡"
   ]
  },
  {
   "cell_type": "code",
   "execution_count": 1,
   "metadata": {},
   "outputs": [
    {
     "name": "stdout",
     "output_type": "stream",
     "text": [
      "[4, 2, 6, 7, 3, 1, 5]\n",
      "[1, 2, 3, 4, 5, 6, 7]\n"
     ]
    }
   ],
   "source": [
    "import random\n",
    "nums = [1,2,3,4,5,6,7]\n",
    "random.shuffle(nums)\n",
    "# bubble_sort 把大的放右边 O(n^2) O(1)\n",
    "print(nums)\n",
    "for i in range(1, len(nums)):\n",
    "    k = 0\n",
    "    for j in range(0, len(nums)-i):\n",
    "        if nums[j] > nums[j+1]: #交换耗时间\n",
    "            nums[j], nums[j+1] = nums[j+1], nums[j]\n",
    "            k += 1   \n",
    "    if k == 0: #本次没有交换\n",
    "        break\n",
    "print(nums)"
   ]
  },
  {
   "cell_type": "code",
   "execution_count": 13,
   "metadata": {},
   "outputs": [
    {
     "name": "stdout",
     "output_type": "stream",
     "text": [
      "[7, 1, 3, 2, 5, 4, 6]\n",
      "[7, 6, 5, 4, 3, 2, 1]\n"
     ]
    }
   ],
   "source": [
    "# bubble_sort 把小的放右边\n",
    "random.shuffle(nums)\n",
    "print(nums)\n",
    "for i in range(1, len(nums)):\n",
    "    flag = False\n",
    "    for j in range(0, len(nums)-i):\n",
    "        if nums[j] < nums[j+1]:\n",
    "            nums[j], nums[j+1] = nums[j+1], nums[j]\n",
    "            flag = True\n",
    "    if not flag:\n",
    "        break\n",
    "print(nums)"
   ]
  },
  {
   "cell_type": "code",
   "execution_count": 18,
   "metadata": {},
   "outputs": [
    {
     "name": "stdout",
     "output_type": "stream",
     "text": [
      "[4, 3, 7, 5, 1, 2, 6]\n",
      "[7, 6, 5, 4, 3, 2, 1]\n"
     ]
    }
   ],
   "source": [
    "# bubble_sort 从后向前，把大的放左边\n",
    "random.shuffle(nums)\n",
    "print(nums)\n",
    "for i in range(1, len(nums)):\n",
    "    flag = False\n",
    "    for j in range(-1, -len(nums)+i-1, -1):\n",
    "        if nums[j] > nums[j-1]:\n",
    "            nums[j], nums[j-1] = nums[j-1], nums[j]\n",
    "            flag = True\n",
    "    if not flag:\n",
    "        break\n",
    "print(nums)"
   ]
  },
  {
   "cell_type": "code",
   "execution_count": 5,
   "metadata": {},
   "outputs": [],
   "source": [
    "# bubble_sort 从后向前，把小的放左边"
   ]
  },
  {
   "cell_type": "code",
   "execution_count": 26,
   "metadata": {
    "scrolled": true
   },
   "outputs": [
    {
     "name": "stdout",
     "output_type": "stream",
     "text": [
      "[4, 3, 7, 5, 6, 1, 2]\n",
      "[1, 2, 3, 4, 5, 6, 7]\n"
     ]
    }
   ],
   "source": [
    "random.shuffle(nums)\n",
    "print(nums)\n",
    "for i in range(1, len(nums)):\n",
    "    flag = False\n",
    "    for j in range(-1, -len(nums)+i-1, -1):\n",
    "        if nums[j] < nums[j-1]:\n",
    "            nums[j], nums[j-1] = nums[j-1], nums[j]\n",
    "            flag = True\n",
    "    if not flag:\n",
    "        break\n",
    "print(nums)"
   ]
  },
  {
   "cell_type": "code",
   "execution_count": null,
   "metadata": {},
   "outputs": [],
   "source": []
  },
  {
   "cell_type": "code",
   "execution_count": null,
   "metadata": {},
   "outputs": [],
   "source": []
  }
 ],
 "metadata": {
  "kernelspec": {
   "display_name": "Python 3",
   "language": "python",
   "name": "python3"
  },
  "language_info": {
   "codemirror_mode": {
    "name": "ipython",
    "version": 3
   },
   "file_extension": ".py",
   "mimetype": "text/x-python",
   "name": "python",
   "nbconvert_exporter": "python",
   "pygments_lexer": "ipython3",
   "version": "3.6.8"
  }
 },
 "nbformat": 4,
 "nbformat_minor": 2
}
