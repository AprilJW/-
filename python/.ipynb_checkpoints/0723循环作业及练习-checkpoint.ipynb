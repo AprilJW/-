{
 "cells": [
  {
   "cell_type": "markdown",
   "metadata": {},
   "source": [
    "### 课堂习题"
   ]
  },
  {
   "cell_type": "markdown",
   "metadata": {},
   "source": [
    "### 1.打印1到10"
   ]
  },
  {
   "cell_type": "code",
   "execution_count": 1,
   "metadata": {},
   "outputs": [
    {
     "name": "stdout",
     "output_type": "stream",
     "text": [
      "1\n",
      "2\n",
      "3\n",
      "4\n",
      "5\n",
      "6\n",
      "7\n",
      "8\n",
      "9\n",
      "10\n"
     ]
    }
   ],
   "source": [
    "for i in range(1, 11):\n",
    "    print(i)"
   ]
  },
  {
   "cell_type": "markdown",
   "metadata": {},
   "source": [
    "### 2.打印10以内的奇数"
   ]
  },
  {
   "cell_type": "code",
   "execution_count": 3,
   "metadata": {},
   "outputs": [
    {
     "name": "stdout",
     "output_type": "stream",
     "text": [
      "1\n",
      "3\n",
      "5\n",
      "7\n",
      "9\n"
     ]
    }
   ],
   "source": [
    "for i in range(1, 10, 2):\n",
    "    print(i)"
   ]
  },
  {
   "cell_type": "markdown",
   "metadata": {},
   "source": [
    "### 3.打印10以内的偶数"
   ]
  },
  {
   "cell_type": "code",
   "execution_count": 4,
   "metadata": {},
   "outputs": [
    {
     "name": "stdout",
     "output_type": "stream",
     "text": [
      "0\n",
      "2\n",
      "4\n",
      "6\n",
      "8\n"
     ]
    }
   ],
   "source": [
    "for i in range(0, 10, 2):\n",
    "    print(i)"
   ]
  },
  {
   "cell_type": "markdown",
   "metadata": {},
   "source": [
    "### 4.到着打印10以内的奇数或偶数  再"
   ]
  },
  {
   "cell_type": "code",
   "execution_count": 11,
   "metadata": {
    "scrolled": true
   },
   "outputs": [
    {
     "name": "stdout",
     "output_type": "stream",
     "text": [
      "9\n",
      "7\n",
      "5\n",
      "3\n",
      "1\n",
      "8\n",
      "6\n",
      "4\n",
      "2\n",
      "0\n"
     ]
    }
   ],
   "source": [
    "#odd\n",
    "for i in range(9, -1, -1):\n",
    "    if i%2:\n",
    "        print(i)\n",
    "\n",
    "#even\n",
    "for i in range(9, -1, -1):\n",
    "    if not i%2:\n",
    "        print(i)"
   ]
  },
  {
   "cell_type": "markdown",
   "metadata": {},
   "source": [
    "### 5.计算1000以内的被7整除的前20个正整数（for循环）"
   ]
  },
  {
   "cell_type": "code",
   "execution_count": 18,
   "metadata": {},
   "outputs": [
    {
     "name": "stdout",
     "output_type": "stream",
     "text": [
      "7\n",
      "14\n",
      "21\n",
      "28\n",
      "35\n",
      "42\n",
      "49\n",
      "56\n",
      "63\n",
      "70\n",
      "77\n",
      "84\n",
      "91\n",
      "98\n",
      "105\n",
      "112\n",
      "119\n",
      "126\n",
      "133\n",
      "140\n"
     ]
    }
   ],
   "source": [
    "# method1\n",
    "k = 0\n",
    "for i in range(1, 1000):\n",
    "    if not i % 7:\n",
    "        print(i)\n",
    "        k += 1\n",
    "    if k >= 20:\n",
    "        break"
   ]
  },
  {
   "cell_type": "code",
   "execution_count": 14,
   "metadata": {},
   "outputs": [
    {
     "name": "stdout",
     "output_type": "stream",
     "text": [
      "7\n",
      "14\n",
      "21\n",
      "28\n",
      "35\n",
      "42\n",
      "49\n",
      "56\n",
      "63\n",
      "70\n",
      "77\n",
      "84\n",
      "91\n",
      "98\n",
      "105\n",
      "112\n",
      "119\n",
      "126\n",
      "133\n",
      "140\n"
     ]
    }
   ],
   "source": [
    "k = 0\n",
    "for i in range(7, 1000, 7):\n",
    "    print(i)\n",
    "    k += 1\n",
    "    if k >= 20:\n",
    "        break"
   ]
  },
  {
   "cell_type": "markdown",
   "metadata": {},
   "source": [
    "### 6.给定一个不超过5位的正整数，判断该位的位数，依次打印出万位，千位，百为，十位，各位数字\n"
   ]
  },
  {
   "cell_type": "code",
   "execution_count": 23,
   "metadata": {},
   "outputs": [
    {
     "name": "stdout",
     "output_type": "stream",
     "text": [
      "plz input 5 integer:50031\n",
      "quotient: 5\n",
      "quotient: 0\n",
      "quotient: 0\n",
      "quotient: 3\n",
      "quotient: 1\n"
     ]
    }
   ],
   "source": [
    "a = int(input('plz input 5 integer:'))\n",
    "w = 10000\n",
    "while a > 0:\n",
    "    quotient = a // w\n",
    "    reminder = a % w\n",
    "    print('quotient:', int(quotient))\n",
    "    a = reminder\n",
    "    w = w / 10\n",
    "    "
   ]
  },
  {
   "cell_type": "markdown",
   "metadata": {},
   "source": [
    "### 7.给定一个不超过5位的正整数，判断该位是第几位，依次从万位打印到个位，打印非0位"
   ]
  },
  {
   "cell_type": "code",
   "execution_count": 28,
   "metadata": {
    "scrolled": true
   },
   "outputs": [
    {
     "name": "stdout",
     "output_type": "stream",
     "text": [
      "plz input 5 integer:01230\n",
      "1 4\n",
      "2 3\n",
      "3 2\n"
     ]
    }
   ],
   "source": [
    "a = int(input('plz input 5 integer:'))\n",
    "w = 10000\n",
    "lenght = 5\n",
    "while a > 0:\n",
    "    quotient = a // w\n",
    "    reminder = a % w\n",
    "    if quotient:\n",
    "        print(int(quotient), lenght)\n",
    "    a = reminder\n",
    "    w = w / 10\n",
    "    lenght -= 1"
   ]
  },
  {
   "cell_type": "code",
   "execution_count": 1,
   "metadata": {
    "scrolled": true
   },
   "outputs": [
    {
     "name": "stdout",
     "output_type": "stream",
     "text": [
      "please input first num:5\n"
     ]
    }
   ],
   "source": [
    "a = int(input('please input first num:'))\n"
   ]
  },
  {
   "cell_type": "code",
   "execution_count": 2,
   "metadata": {},
   "outputs": [
    {
     "name": "stdout",
     "output_type": "stream",
     "text": [
      "please input second num:10\n"
     ]
    }
   ],
   "source": [
    "b = int(input('please input second num:'))"
   ]
  },
  {
   "cell_type": "code",
   "execution_count": 3,
   "metadata": {},
   "outputs": [
    {
     "name": "stdout",
     "output_type": "stream",
     "text": [
      "10\n"
     ]
    }
   ],
   "source": [
    "if a >= b:\n",
    "    print(a)\n",
    "else:\n",
    "    print(b)"
   ]
  },
  {
   "cell_type": "code",
   "execution_count": 7,
   "metadata": {},
   "outputs": [],
   "source": [
    "for i in range(-2):\n",
    "    print(i)"
   ]
  },
  {
   "cell_type": "code",
   "execution_count": 11,
   "metadata": {},
   "outputs": [
    {
     "name": "stdout",
     "output_type": "stream",
     "text": [
      "10\n",
      "8\n",
      "6\n",
      "4\n",
      "2\n",
      "0\n"
     ]
    }
   ],
   "source": [
    "for i in range(10, -1, -2):\n",
    "    print(i)"
   ]
  },
  {
   "cell_type": "code",
   "execution_count": 12,
   "metadata": {},
   "outputs": [
    {
     "name": "stdout",
     "output_type": "stream",
     "text": [
      "0 0\n",
      "1 7\n",
      "2 14\n",
      "3 21\n",
      "4 28\n",
      "5 35\n",
      "6 42\n",
      "7 49\n",
      "8 56\n",
      "9 63\n",
      "10 70\n",
      "11 77\n",
      "12 84\n",
      "13 91\n",
      "14 98\n",
      "15 105\n",
      "16 112\n",
      "17 119\n",
      "18 126\n",
      "19 133\n"
     ]
    }
   ],
   "source": [
    "count = 0\n",
    "while count < 20:\n",
    "    print(count, count*7)\n",
    "    count += 1"
   ]
  },
  {
   "cell_type": "code",
   "execution_count": 13,
   "metadata": {},
   "outputs": [
    {
     "name": "stdout",
     "output_type": "stream",
     "text": [
      "plz input interger:54321\n",
      "5\n",
      "4\n",
      "3\n",
      "2\n",
      "1\n"
     ]
    }
   ],
   "source": [
    "a = input('plz input interger:')\n",
    "for i in range(5):\n",
    "    print(a[i])"
   ]
  },
  {
   "cell_type": "code",
   "execution_count": 16,
   "metadata": {},
   "outputs": [
    {
     "name": "stdout",
     "output_type": "stream",
     "text": [
      "plz input interger:321\n",
      "3\n",
      "2\n",
      "1\n"
     ]
    }
   ],
   "source": [
    "a = int(input('plz input interger:'))\n",
    "print(a//100)\n",
    "c = a//100\n",
    "print((a-((a//100)*100))//10) \n",
    "b = (a-((a//100)*100))//10\n",
    "print(a-c*100-b*10)\n"
   ]
  },
  {
   "cell_type": "code",
   "execution_count": 21,
   "metadata": {},
   "outputs": [
    {
     "name": "stdout",
     "output_type": "stream",
     "text": [
      "5\n",
      "4\n",
      "3\n",
      "2\n",
      "1\n"
     ]
    }
   ],
   "source": [
    "a = 54321\n",
    "w = 10000\n",
    "for i in range(5):\n",
    "    print(a//w)\n",
    "    a = a % w\n",
    "    w = w // 10"
   ]
  },
  {
   "cell_type": "code",
   "execution_count": 22,
   "metadata": {},
   "outputs": [
    {
     "name": "stdout",
     "output_type": "stream",
     "text": [
      "6\n",
      "5\n",
      "4\n",
      "3\n",
      "2\n",
      "1\n"
     ]
    }
   ],
   "source": [
    "a = 654321\n",
    "w = 100000\n",
    "while w:\n",
    "    print(a//w)\n",
    "    a = a % w\n",
    "    w = w // 10"
   ]
  },
  {
   "cell_type": "code",
   "execution_count": 23,
   "metadata": {},
   "outputs": [
    {
     "data": {
      "text/plain": [
       "2"
      ]
     },
     "execution_count": 23,
     "metadata": {},
     "output_type": "execute_result"
    }
   ],
   "source": [
    "1^3"
   ]
  },
  {
   "cell_type": "code",
   "execution_count": 24,
   "metadata": {},
   "outputs": [
    {
     "data": {
      "text/plain": [
       "-4"
      ]
     },
     "execution_count": 24,
     "metadata": {},
     "output_type": "execute_result"
    }
   ],
   "source": [
    "1^-3"
   ]
  },
  {
   "cell_type": "code",
   "execution_count": 25,
   "metadata": {},
   "outputs": [
    {
     "data": {
      "text/plain": [
       "6"
      ]
     },
     "execution_count": 25,
     "metadata": {},
     "output_type": "execute_result"
    }
   ],
   "source": [
    "5^3"
   ]
  },
  {
   "cell_type": "markdown",
   "metadata": {},
   "source": [
    "### 作业"
   ]
  },
  {
   "cell_type": "markdown",
   "metadata": {},
   "source": [
    "### 1.给一个半径求圆的面积和周长，圆周率为3.14"
   ]
  },
  {
   "cell_type": "code",
   "execution_count": 2,
   "metadata": {},
   "outputs": [
    {
     "name": "stdout",
     "output_type": "stream",
     "text": [
      "plz input radius:5\n",
      "78.5 31.400000000000002\n"
     ]
    }
   ],
   "source": [
    "#float   替代int\n",
    "radius = int(input('plz input radius:'))\n",
    "area = radius**2 * 3.14\n",
    "perimeter = radius * 2 * 3.14\n",
    "print(area, perimeter)"
   ]
  },
  {
   "cell_type": "markdown",
   "metadata": {},
   "source": [
    "### 2.输入两个数，比较大小后，从小到大生序打印"
   ]
  },
  {
   "cell_type": "code",
   "execution_count": 3,
   "metadata": {},
   "outputs": [
    {
     "name": "stdout",
     "output_type": "stream",
     "text": [
      "plz input num_1:5\n",
      "plz input num_2:3\n",
      "3 5\n"
     ]
    }
   ],
   "source": [
    "num_1 = int(input('plz input num_1:'))\n",
    "num_2 = int(input('plz input num_2:'))\n",
    "if num_1 >= num_2:\n",
    "    print(num_2, num_1)\n",
    "else:\n",
    "    print(num_1, num_2)\n",
    "\n",
    "#method2 三元表达式\n",
    "# 只能在if else同时存在才可以用三元表达式,都五冒号\n",
    "# 三元表达式 只能写在一行\n",
    "print(num_2, num_1) if num_1 > num_2 else print(num_1, num_2)\n",
    "    "
   ]
  },
  {
   "cell_type": "markdown",
   "metadata": {},
   "source": [
    "### 3.依次输入若干个整数，打印出最大值，如果输入为空，则退出程序"
   ]
  },
  {
   "cell_type": "code",
   "execution_count": 1,
   "metadata": {
    "scrolled": false
   },
   "outputs": [
    {
     "name": "stdout",
     "output_type": "stream",
     "text": [
      "plz input series tegers:\n",
      "plz input series tegers:\n",
      "plz input series tegers:\n"
     ]
    }
   ],
   "source": [
    "integer_1 = input('plz input series tegers:')\n",
    "integer_2 = input('plz input series tegers:')\n",
    "integer_3 = input('plz input series tegers:')\n",
    "if integer_1 or integer_2 or integer_3:\n",
    "    integer_1 = int(integer_1)\n",
    "    integer_2 = int(integer_2)\n",
    "    integer_3 = int(integer_3)\n",
    "    max_num = 0\n",
    "    if integer_1 >=integer_2 and integer_1 >= integer_3:\n",
    "        max_num = integer_1\n",
    "    elif integer_2 >= integer_1 and integer_2 >= integer_3:\n",
    "        max_num = integer_2    \n",
    "    else:   \n",
    "        max_num = integer_3\n",
    "    print(max_num)\n",
    "\n",
    "    \n",
    "        "
   ]
  },
  {
   "cell_type": "code",
   "execution_count": 4,
   "metadata": {},
   "outputs": [
    {
     "name": "stdout",
     "output_type": "stream",
     "text": [
      "plz input num:1\n",
      "plz input another num3\n",
      "3.0 is max num\n",
      "plz input another num2\n",
      "3.0 is max num\n",
      "plz input another num8\n",
      "8.0 is max num\n",
      "plz input another num9\n",
      "9.0 is max num\n",
      "plz input another num3\n",
      "9.0 is max num\n",
      "plz input another num\n",
      "9.0 is max num\n"
     ]
    }
   ],
   "source": [
    "#method2\n",
    "max_num = float(input('plz input num:'))\n",
    "while True:\n",
    "    num = input('plz input another num')\n",
    "    if not num:\n",
    "        print(max_num, 'is max num')  \n",
    "        break\n",
    "    num = float(num)\n",
    "    if max_num < num:\n",
    "        max_num = num\n",
    "    print(max_num, 'is max num') \n",
    "           "
   ]
  },
  {
   "cell_type": "markdown",
   "metadata": {},
   "source": [
    "### 4.输入n个数，求算数平均数"
   ]
  },
  {
   "cell_type": "code",
   "execution_count": 18,
   "metadata": {},
   "outputs": [
    {
     "name": "stdout",
     "output_type": "stream",
     "text": [
      "plz input series tegers:3\n",
      "plz input series tegers:7\n",
      "plz input series tegers:9\n",
      "6.333333333333333\n"
     ]
    }
   ],
   "source": [
    "integer_1 = int(input('pltz input series tegers:'))\n",
    "integer_2 = int(input('plz input series tegers:'))\n",
    "integer_3 = int(input('plz input series tegers:'))\n",
    "sum = (integer_1 + integer_2 + integer_3)/3\n",
    "print(sum)"
   ]
  },
  {
   "cell_type": "code",
   "execution_count": 14,
   "metadata": {},
   "outputs": [
    {
     "name": "stdout",
     "output_type": "stream",
     "text": [
      "plz input int:1\n",
      "plz input second int:2\n",
      "1.5\n",
      "plz input second int:3\n",
      "2.0\n",
      "plz input second int:\n",
      "bye\n"
     ]
    }
   ],
   "source": [
    "#method2\n",
    "sum = input('plz input int:')\n",
    "if sum: \n",
    "    pass\n",
    "sum = int(sum)\n",
    "count = 1\n",
    "while True:\n",
    "    n = input('plz input second int:')\n",
    "    if not n:\n",
    "        print('bye')\n",
    "        break\n",
    "    n = int(n)\n",
    "    sum += n\n",
    "    count += 1\n",
    "    avg = sum / count\n",
    "    print(avg)"
   ]
  },
  {
   "cell_type": "markdown",
   "metadata": {},
   "source": [
    "### 5.打印一个边长为n的正方形"
   ]
  },
  {
   "cell_type": "code",
   "execution_count": 49,
   "metadata": {
    "scrolled": false
   },
   "outputs": [
    {
     "name": "stdout",
     "output_type": "stream",
     "text": [
      "plz input integer:10\n",
      "++++++++++\n",
      "+        +\n",
      "+        +\n",
      "+        +\n",
      "+        +\n",
      "+        +\n",
      "+        +\n",
      "+        +\n",
      "+        +\n",
      "++++++++++\n"
     ]
    }
   ],
   "source": [
    "n = int(input('plz input integer:'))\n",
    "print('+' * n)\n",
    "for i in range(n-2):\n",
    "    print('+', end=\"        \")\n",
    "    print('+')\n",
    "print('+' * n)"
   ]
  },
  {
   "cell_type": "code",
   "execution_count": 2,
   "metadata": {},
   "outputs": [
    {
     "name": "stdout",
     "output_type": "stream",
     "text": [
      "+++++++\n",
      "+     +\n",
      "+     +\n",
      "+     +\n",
      "+     +\n",
      "+     +\n",
      "+++++++\n"
     ]
    }
   ],
   "source": [
    "#method2\n",
    "n = 7\n",
    "for i in range(n):\n",
    "    line =  '+' * n if i == 0 or i == n-1 else '+' + ' ' * (n - 2) + '+'\n",
    "    print(line)"
   ]
  },
  {
   "cell_type": "code",
   "execution_count": 3,
   "metadata": {},
   "outputs": [
    {
     "name": "stdout",
     "output_type": "stream",
     "text": [
      "*******\n",
      "*     *\n",
      "*     *\n",
      "*     *\n",
      "*     *\n",
      "*     *\n",
      "*******\n"
     ]
    }
   ],
   "source": [
    "#method3\n",
    "n = 7\n",
    "for i in range(n):\n",
    "    line = '*' * n if i % (n-1) == 0 else '*' + ' ' * (n-2) + '*'\n",
    "    print(line)"
   ]
  },
  {
   "cell_type": "code",
   "execution_count": 43,
   "metadata": {},
   "outputs": [
    {
     "name": "stdout",
     "output_type": "stream",
     "text": [
      "***********\n",
      "*         *\n",
      "*         *\n",
      "*         *\n",
      "*         *\n",
      "*         *\n",
      "*         *\n",
      "*         *\n",
      "*         *\n",
      "*         *\n",
      "***********\n"
     ]
    }
   ],
   "source": [
    "#method4\n",
    "n = 11\n",
    "for i in range(1, n+1):\n",
    "    if i == 1 or i == n:\n",
    "        line = n * '*'\n",
    "    else:\n",
    "        line = '*{}*'.format((n-2)*' ')\n",
    "    #print('{:^{n}}'.format(line, n=n))\n",
    "    print(line)"
   ]
  },
  {
   "cell_type": "markdown",
   "metadata": {},
   "source": [
    "### 6.求100内所有奇数的和"
   ]
  },
  {
   "cell_type": "code",
   "execution_count": 4,
   "metadata": {},
   "outputs": [
    {
     "name": "stdout",
     "output_type": "stream",
     "text": [
      "2500\n"
     ]
    }
   ],
   "source": [
    "sum_odd = 0 \n",
    "for i in range(1, 100, 2):\n",
    "    sum_odd += i\n",
    "print(sum_odd)"
   ]
  },
  {
   "cell_type": "markdown",
   "metadata": {},
   "source": [
    "### 7.成绩问题"
   ]
  },
  {
   "cell_type": "code",
   "execution_count": 10,
   "metadata": {},
   "outputs": [
    {
     "name": "stdout",
     "output_type": "stream",
     "text": [
      "plz input student score:95\n",
      "A\n"
     ]
    }
   ],
   "source": [
    "score = int(input('plz input student score:'))\n",
    "if score > 100 or score < 0:\n",
    "    print('plz input score between 0 and 100')\n",
    "if score >= 90:\n",
    "    print('A')\n",
    "elif 80 <= score:\n",
    "    print('B')\n",
    "elif 70 <= score:\n",
    "    print('C')\n",
    "#前面有隐含条件\n",
    "#elif 60 <= score < 70:\n",
    "elif 60 <= score:\n",
    "    print('D')\n",
    "else:\n",
    "    print('E')\n"
   ]
  },
  {
   "cell_type": "markdown",
   "metadata": {},
   "source": [
    "### 8.求1到5阶乘之和, 还有再难一点的"
   ]
  },
  {
   "cell_type": "code",
   "execution_count": 5,
   "metadata": {},
   "outputs": [
    {
     "name": "stdout",
     "output_type": "stream",
     "text": [
      "mult_fact: 1\n",
      "mult_fact: 2\n",
      "mult_fact: 6\n",
      "mult_fact: 24\n",
      "mult_fact: 120\n",
      "153\n"
     ]
    }
   ],
   "source": [
    "sum_fact = 0\n",
    "for i in range(1,6):\n",
    "    j = i\n",
    "    mult_fact = 1\n",
    "    while j > 1:\n",
    "        mult_fact *= j\n",
    "        j -= 1\n",
    "    print('mult_fact:', mult_fact)\n",
    "    sum_fact += mult_fact\n",
    "print(sum_fact)\n",
    "    \n",
    "        "
   ]
  },
  {
   "cell_type": "code",
   "execution_count": 7,
   "metadata": {},
   "outputs": [
    {
     "name": "stdout",
     "output_type": "stream",
     "text": [
      "153 ++\n"
     ]
    }
   ],
   "source": [
    "#method2\n",
    "sum_1 = 0\n",
    "mul = 1\n",
    "n = 5\n",
    "for i in range(1, n + 1):\n",
    "    mul = mul * i\n",
    "    sum_1 += mul\n",
    "print(sum_1, '++')"
   ]
  },
  {
   "cell_type": "markdown",
   "metadata": {},
   "source": [
    "### 9.给定一个数判断是否为素数（质数）"
   ]
  },
  {
   "cell_type": "code",
   "execution_count": 9,
   "metadata": {
    "scrolled": false
   },
   "outputs": [
    {
     "name": "stdout",
     "output_type": "stream",
     "text": [
      "plz input prime number:13\n",
      "j: 1\n",
      "13 不是质数\n"
     ]
    }
   ],
   "source": [
    "#计算量大\n",
    "prime_num = int(input('plz input prime number:'))\n",
    "j = 0\n",
    "for i in range (2, prime_num):\n",
    "    if prime_num % i:\n",
    "        j += 1\n",
    "        break\n",
    "print(\"j:\", j)\n",
    "# if j:\n",
    "#     print('%s 不是质数' % prime_num)\n",
    "# else:\n",
    "#     print('%s 是质数' % prime_num)\n",
    "\n",
    "# if else可以代替\n",
    "answer = '%s 不是质数' % prime_num if j else '%s 是质数' % prime_num\n",
    "print(answer)       \n",
    "    "
   ]
  },
  {
   "cell_type": "code",
   "execution_count": 12,
   "metadata": {
    "scrolled": true
   },
   "outputs": [
    {
     "name": "stdout",
     "output_type": "stream",
     "text": [
      "13 is a prime_num\n"
     ]
    }
   ],
   "source": [
    "#method2\n",
    "#for else 可以不用flag\n",
    "prime_num = 13\n",
    "for i in range (2, prime_num):\n",
    "    if not prime_num % i:\n",
    "        break\n",
    "else:\n",
    "    print(prime_num, 'is a prime_num')"
   ]
  },
  {
   "cell_type": "markdown",
   "metadata": {},
   "source": [
    "### 10.打印九九乘法表"
   ]
  },
  {
   "cell_type": "code",
   "execution_count": 5,
   "metadata": {
    "scrolled": false
   },
   "outputs": [
    {
     "name": "stdout",
     "output_type": "stream",
     "text": [
      "1 * 1 = 1 \n",
      "1 * 2 = 2 2 * 2 = 4 \n",
      "1 * 3 = 3 2 * 3 = 6 3 * 3 = 9 \n",
      "1 * 4 = 4 2 * 4 = 8 3 * 4 = 12 4 * 4 = 16 \n",
      "1 * 5 = 5 2 * 5 = 10 3 * 5 = 15 4 * 5 = 20 5 * 5 = 25 \n",
      "1 * 6 = 6 2 * 6 = 12 3 * 6 = 18 4 * 6 = 24 5 * 6 = 30 6 * 6 = 36 \n",
      "1 * 7 = 7 2 * 7 = 14 3 * 7 = 21 4 * 7 = 28 5 * 7 = 35 6 * 7 = 42 7 * 7 = 49 \n",
      "1 * 8 = 8 2 * 8 = 16 3 * 8 = 24 4 * 8 = 32 5 * 8 = 40 6 * 8 = 48 7 * 8 = 56 8 * 8 = 64 \n",
      "1 * 9 = 9 2 * 9 = 18 3 * 9 = 27 4 * 9 = 36 5 * 9 = 45 6 * 9 = 54 7 * 9 = 63 8 * 9 = 72 9 * 9 = 81 \n"
     ]
    }
   ],
   "source": [
    "for i in range(1, 10):\n",
    "    for j in range(1, i + 1):\n",
    "        print(j, '*', i, '=', i*j, end = ' ')\n",
    "    print('')"
   ]
  },
  {
   "cell_type": "code",
   "execution_count": 9,
   "metadata": {},
   "outputs": [
    {
     "name": "stdout",
     "output_type": "stream",
     "text": [
      "1 * 1 = 1 \n",
      "1 * 2 = 2 2 * 2 = 4  \n",
      "1 * 3 = 3 2 * 3 = 6  3 * 3 = 9  \n",
      "1 * 4 = 4 2 * 4 = 8  3 * 4 = 12  4 * 4 = 16  \n",
      "1 * 5 = 5 2 * 5 = 10 3 * 5 = 15 4 * 5 = 20 5 * 5 = 25 \n",
      "1 * 6 = 6 2 * 6 = 12 3 * 6 = 18 4 * 6 = 24 5 * 6 = 30 6 * 6 = 36 \n",
      "1 * 7 = 7 2 * 7 = 14 3 * 7 = 21 4 * 7 = 28 5 * 7 = 35 6 * 7 = 42 7 * 7 = 49 \n",
      "1 * 8 = 8 2 * 8 = 16 3 * 8 = 24 4 * 8 = 32 5 * 8 = 40 6 * 8 = 48 7 * 8 = 56 8 * 8 = 64 \n",
      "1 * 9 = 9 2 * 9 = 18 3 * 9 = 27 4 * 9 = 36 5 * 9 = 45 6 * 9 = 54 7 * 9 = 63 8 * 9 = 72 9 * 9 = 81 \n"
     ]
    }
   ],
   "source": [
    "for i in range(1, 10):\n",
    "    for j in range(1, i + 1):\n",
    "        spaces = '  ' if j >1 and i<5 else ' '\n",
    "        print(j, '*', i, '=', i*j, end = spaces)\n",
    "    print()"
   ]
  },
  {
   "cell_type": "code",
   "execution_count": null,
   "metadata": {},
   "outputs": [],
   "source": [
    "右上角,通过前空格打印"
   ]
  },
  {
   "cell_type": "code",
   "execution_count": 24,
   "metadata": {
    "scrolled": true
   },
   "outputs": [
    {
     "name": "stdout",
     "output_type": "stream",
     "text": [
      "1*1=1   1*2=2   1*3=3   1*4=4   1*5=5   1*6=6   1*7=7   1*8=8   1*9=9   \n",
      "\t2*2=4   2*3=6   2*4=8   2*5=10  2*6=12  2*7=14  2*8=16  2*9=18  \n",
      "\t\t3*3=9   3*4=12  3*5=15  3*6=18  3*7=21  3*8=24  3*9=27  \n",
      "\t\t\t4*4=16  4*5=20  4*6=24  4*7=28  4*8=32  4*9=36  \n",
      "\t\t\t\t5*5=25  5*6=30  5*7=35  5*8=40  5*9=45  \n",
      "\t\t\t\t\t6*6=36  6*7=42  6*8=48  6*9=54  \n",
      "\t\t\t\t\t\t7*7=49  7*8=56  7*9=63  \n",
      "\t\t\t\t\t\t\t8*8=64  8*9=72  \n",
      "\t\t\t\t\t\t\t\t9*9=81  \n",
      "\t\t\t\t\t\t\t\t\t"
     ]
    }
   ],
   "source": [
    "for i in range(1, 10):    \n",
    "    for j in range(i, 10):\n",
    "        line = \"{}*{}={:<{}}\".format(i, j, i*j, 4)\n",
    "        print(line, end='' if j!=9 else '\\n')\n",
    "    #print(end='\\n')\n",
    "    print('\\t'*i, end='')"
   ]
  },
  {
   "cell_type": "markdown",
   "metadata": {},
   "source": [
    "右上角"
   ]
  },
  {
   "cell_type": "code",
   "execution_count": 37,
   "metadata": {
    "scrolled": false
   },
   "outputs": [
    {
     "name": "stdout",
     "output_type": "stream",
     "text": [
      "1*1=1  1*2=2  1*3=3  1*4=4   1*5=5   1*6=6   1*7=7   1*8=8   1*9=9   \n",
      "       2*2=4  2*3=6  2*4=8   2*5=10  2*6=12  2*7=14  2*8=16  2*9=18  \n",
      "              3*3=9  3*4=12  3*5=15  3*6=18  3*7=21  3*8=24  3*9=27  \n",
      "                     4*4=16  4*5=20  4*6=24  4*7=28  4*8=32  4*9=36  \n",
      "                             5*5=25  5*6=30  5*7=35  5*8=40  5*9=45  \n",
      "                                     6*6=36  6*7=42  6*8=48  6*9=54  \n",
      "                                             7*7=49  7*8=56  7*9=63  \n",
      "                                                     8*8=64  8*9=72  \n",
      "                                                             9*9=81  \n"
     ]
    }
   ],
   "source": [
    "for i in range(1, 10):\n",
    "    line = ''\n",
    "    for j in range(i, 10):\n",
    "        line += \"{}*{}={:<{}}\".format(i, j, i*j, 4 if j > 3 else 3)\n",
    "    print(\"{:>69}\".format(line))"
   ]
  },
  {
   "cell_type": "code",
   "execution_count": null,
   "metadata": {},
   "outputs": [],
   "source": [
    "左上角"
   ]
  },
  {
   "cell_type": "code",
   "execution_count": 47,
   "metadata": {},
   "outputs": [
    {
     "name": "stdout",
     "output_type": "stream",
     "text": [
      "1*1=1   1*2=2   1*3=3   1*4=4   1*5=5   1*6=6   1*7=7   1*8=8   1*9=9   \n",
      "2*2=4   2*3=6   2*4=8   2*5=10  2*6=12  2*7=14  2*8=16  2*9=18  \n",
      "3*3=9   3*4=12  3*5=15  3*6=18  3*7=21  3*8=24  3*9=27  \n",
      "4*4=16  4*5=20  4*6=24  4*7=28  4*8=32  4*9=36  \n",
      "5*5=25  5*6=30  5*7=35  5*8=40  5*9=45  \n",
      "6*6=36  6*7=42  6*8=48  6*9=54  \n",
      "7*7=49  7*8=56  7*9=63  \n",
      "8*8=64  8*9=72  \n",
      "9*9=81  \n"
     ]
    }
   ],
   "source": [
    "for i in range(1, 10):\n",
    "    for j in range(i, 10):\n",
    "        line = \"{}*{}={:<{}}\".format(i, j, i*j, 4)\n",
    "        print(line, end='')\n",
    "    print() \n",
    "        \n",
    "        "
   ]
  },
  {
   "cell_type": "code",
   "execution_count": null,
   "metadata": {},
   "outputs": [],
   "source": [
    "右下角"
   ]
  },
  {
   "cell_type": "code",
   "execution_count": 55,
   "metadata": {},
   "outputs": [
    {
     "name": "stdout",
     "output_type": "stream",
     "text": [
      "                                                                1*1=1   \n",
      "                                                        2*2=4   2*1=2   \n",
      "                                                3*3=9   3*2=6   3*1=3   \n",
      "                                        4*4=16  4*3=12  4*2=8   4*1=4   \n",
      "                                5*5=25  5*4=20  5*3=15  5*2=10  5*1=5   \n",
      "                        6*6=36  6*5=30  6*4=24  6*3=18  6*2=12  6*1=6   \n",
      "                7*7=49  7*6=42  7*5=35  7*4=28  7*3=21  7*2=14  7*1=7   \n",
      "        8*8=64  8*7=56  8*6=48  8*5=40  8*4=32  8*3=24  8*2=16  8*1=8   \n",
      "9*9=81  9*8=72  9*7=63  9*6=54  9*5=45  9*4=36  9*3=27  9*2=18  9*1=9   \n"
     ]
    }
   ],
   "source": [
    "for i in range(1, 10):\n",
    "    line =''\n",
    "    for j in range(i, 0, -1):\n",
    "        line += '{}*{}={:<{}}'.format(i, j, i*j, 4)\n",
    "    print('{:>72}'.format(line))"
   ]
  },
  {
   "cell_type": "markdown",
   "metadata": {},
   "source": [
    "### 11.打印下图菱形"
   ]
  },
  {
   "cell_type": "code",
   "execution_count": 91,
   "metadata": {
    "scrolled": true
   },
   "outputs": [
    {
     "name": "stdout",
     "output_type": "stream",
     "text": [
      "   *\n",
      "  ***\n",
      " *****\n",
      "*******\n",
      " *****\n",
      "  ***\n",
      "   *\n"
     ]
    }
   ],
   "source": [
    "k = 0\n",
    "for i in range(-3, 4):\n",
    "    if i <= 0:\n",
    "        k += 1\n",
    "        j = -i\n",
    "        n = j + 3*k - 5\n",
    "    else:\n",
    "        j = i\n",
    "        n = 7-2*j\n",
    "    print(' '*j + n * '*')\n",
    "    "
   ]
  },
  {
   "cell_type": "markdown",
   "metadata": {},
   "source": [
    "居中对齐菱形"
   ]
  },
  {
   "cell_type": "code",
   "execution_count": 38,
   "metadata": {},
   "outputs": [
    {
     "name": "stdout",
     "output_type": "stream",
     "text": [
      "   *   \n",
      "  ***  \n",
      " ***** \n",
      "*******\n",
      " ***** \n",
      "  ***  \n",
      "   *   \n"
     ]
    }
   ],
   "source": [
    "n = 7\n",
    "e = n // 2\n",
    "for i in range(-e, n-e):\n",
    "    line = (n - 2*abs(i)) * '*'\n",
    "    print(\"{:^{}}\".format(line, n))"
   ]
  },
  {
   "cell_type": "markdown",
   "metadata": {},
   "source": [
    "method1居中对齐"
   ]
  },
  {
   "cell_type": "code",
   "execution_count": 55,
   "metadata": {},
   "outputs": [
    {
     "name": "stdout",
     "output_type": "stream",
     "text": [
      "+++++++++\n",
      " +++++++ \n",
      "  +++++  \n",
      "   +++   \n",
      "    +    \n",
      "   +++   \n",
      "  +++++  \n",
      " +++++++ \n",
      "+++++++++\n"
     ]
    }
   ],
   "source": [
    "n = 9\n",
    "e = n // 2\n",
    "for i in range(-e, n-e):\n",
    "    line = (abs(i) * 2 +1) * '+'\n",
    "    print(\"{:^{}}\".format(line, n))"
   ]
  },
  {
   "cell_type": "code",
   "execution_count": null,
   "metadata": {},
   "outputs": [],
   "source": [
    "method2空格对齐"
   ]
  },
  {
   "cell_type": "code",
   "execution_count": 52,
   "metadata": {},
   "outputs": [
    {
     "name": "stdout",
     "output_type": "stream",
     "text": [
      "+++++++++++\n",
      " +++++++++\n",
      "  +++++++\n",
      "   +++++\n",
      "    +++\n",
      "     +\n",
      "    +++\n",
      "   +++++\n",
      "  +++++++\n",
      " +++++++++\n",
      "+++++++++++\n"
     ]
    }
   ],
   "source": [
    "n = 11\n",
    "e = n // 2\n",
    "for i in range(-e, n-e):\n",
    "    num = (abs(i)*2 + 1) \n",
    "    print(int((n-num)/2) * ' ' + num * '+')"
   ]
  },
  {
   "cell_type": "markdown",
   "metadata": {},
   "source": [
    "非对称"
   ]
  },
  {
   "cell_type": "code",
   "execution_count": 70,
   "metadata": {},
   "outputs": [
    {
     "name": "stdout",
     "output_type": "stream",
     "text": [
      "    *\n",
      "   **\n",
      "  ***\n",
      " ****\n",
      "*********\n",
      "    ****\n",
      "    ***\n",
      "    **\n",
      "    *\n"
     ]
    }
   ],
   "source": [
    "n =9\n",
    "e = n //2 + 1\n",
    "for i in range(-(e-1), e):\n",
    "    if i < 0:\n",
    "        print((-i) * ' ' + (e+i) * '*' )\n",
    "    elif i == 0:\n",
    "        print(n * '*')\n",
    "    else:\n",
    "        print((e-1) * ' ' + (e-i) * '*')\n",
    "    "
   ]
  },
  {
   "cell_type": "code",
   "execution_count": 93,
   "metadata": {
    "scrolled": true
   },
   "outputs": [
    {
     "name": "stdout",
     "output_type": "stream",
     "text": [
      "2 3 3\n"
     ]
    }
   ],
   "source": [
    "print(2, '3', 3)"
   ]
  },
  {
   "cell_type": "markdown",
   "metadata": {},
   "source": [
    "### 12.打印100以内的斐波那契数列"
   ]
  },
  {
   "cell_type": "code",
   "execution_count": 77,
   "metadata": {},
   "outputs": [
    {
     "name": "stdout",
     "output_type": "stream",
     "text": [
      "1\n",
      "1\n",
      "2\n",
      "3\n",
      "5\n",
      "8\n",
      "13\n",
      "21\n",
      "34\n",
      "55\n",
      "89\n"
     ]
    }
   ],
   "source": [
    "#需要打印a1\n",
    "a1 = 1\n",
    "a2 = 1\n",
    "a3 = 2\n",
    "print(a1)\n",
    "#print(a2)\n",
    "while a3 < 100:\n",
    "    #print(a3)\n",
    "    a3 = a1 + a2\n",
    "    #print(a3)\n",
    "    a1 = a2\n",
    "    print(a1)\n",
    "    a2 = a3\n",
    "    "
   ]
  },
  {
   "cell_type": "markdown",
   "metadata": {},
   "source": [
    "#method2可以直接打印 a3"
   ]
  },
  {
   "cell_type": "code",
   "execution_count": 32,
   "metadata": {},
   "outputs": [
    {
     "name": "stdout",
     "output_type": "stream",
     "text": [
      "index:1, num:1\n",
      "index:2, num:1\n",
      "index:3, num:2\n",
      "index:4, num:3\n",
      "index:5, num:5\n",
      "index:6, num:8\n",
      "index:7, num:13\n",
      "index:8, num:21\n",
      "index:9, num:34\n",
      "index:10, num:55\n",
      "index:11, num:89\n"
     ]
    }
   ],
   "source": [
    "f1 = 1\n",
    "f2 = 1\n",
    "k = 2\n",
    "print('index:{}, num:{}'.format(1, f1))\n",
    "print('index:{}, num:{}'.format(2, f2))\n",
    "while True:\n",
    "    f3 = f2 + f1\n",
    "    k += 1\n",
    "    if f3 > 100:\n",
    "        break\n",
    "    print('index:{}, num:{}'.format(k, f3))\n",
    "    f1 = f2\n",
    "    f2 = f3\n"
   ]
  },
  {
   "cell_type": "markdown",
   "metadata": {},
   "source": [
    "### 13.求斐波那契数列第101项"
   ]
  },
  {
   "cell_type": "code",
   "execution_count": 81,
   "metadata": {},
   "outputs": [
    {
     "name": "stdout",
     "output_type": "stream",
     "text": [
      "Item 101: 573147844013817084101\n"
     ]
    }
   ],
   "source": [
    "a1 = 1\n",
    "a2 = 1\n",
    "a3 = 2\n",
    "k = 2\n",
    "while k <101:\n",
    "    k += 1\n",
    "    a3 = a1 + a2\n",
    "    a1 = a2\n",
    "    a2 = a3\n",
    "print('Item %d: %d' % (k ,a3))"
   ]
  },
  {
   "cell_type": "code",
   "execution_count": 34,
   "metadata": {},
   "outputs": [
    {
     "name": "stdout",
     "output_type": "stream",
     "text": [
      "index:101, num:573147844013817084101\n"
     ]
    }
   ],
   "source": [
    "f1 = 1\n",
    "f2 = 1\n",
    "k = 2\n",
    "while True:\n",
    "    f3 = f2 + f1\n",
    "    k += 1\n",
    "    if k > 100:\n",
    "        print('index:{}, num:{}'.format(k, f3))\n",
    "        break    \n",
    "    f1 = f2\n",
    "    f2 = f3\n"
   ]
  },
  {
   "cell_type": "markdown",
   "metadata": {},
   "source": [
    "### 14.求10万以内所有素数"
   ]
  },
  {
   "cell_type": "code",
   "execution_count": 69,
   "metadata": {},
   "outputs": [
    {
     "name": "stdout",
     "output_type": "stream",
     "text": [
      "2\n",
      "3\n",
      "5\n",
      "7\n",
      "11\n",
      "13\n",
      "17\n",
      "19\n",
      "23\n",
      "29\n",
      "31\n",
      "37\n",
      "41\n",
      "43\n",
      "47\n",
      "53\n",
      "59\n",
      "61\n",
      "67\n",
      "71\n",
      "73\n",
      "79\n",
      "83\n",
      "89\n",
      "97\n"
     ]
    }
   ],
   "source": [
    "#method1  效率不高\n",
    "for i in range(2, 100):\n",
    "    for j in range(2,i):\n",
    "        if not i % j:\n",
    "            break\n",
    "    else:\n",
    "        print(i)\n",
    "        #prime = yield i\n",
    "#print(prime)"
   ]
  },
  {
   "cell_type": "code",
   "execution_count": 28,
   "metadata": {},
   "outputs": [
    {
     "name": "stdout",
     "output_type": "stream",
     "text": [
      "count is: 9592\n",
      "0.119972\n"
     ]
    }
   ],
   "source": [
    "#method2 效率高\n",
    "#1.先去掉所有被除数中的偶数\n",
    "#2.去掉所有除数中的偶数，并将除数开方\n",
    "#3.去掉以5结尾的数\n",
    "import datetime\n",
    "start = datetime.datetime.now()\n",
    "count = 3 # 2,3,5\n",
    "for i in range(7, 100000, 2):\n",
    "    if i % 5 == 0:\n",
    "        continue\n",
    "    for j in range(3, int(i**0.5)+1, 2):\n",
    "        #if (not j % 5) or (not i % j):\n",
    "        if not i % j:\n",
    "            break\n",
    "    else:\n",
    "        count += 1\n",
    "print('count is:', count)\n",
    "delta = (datetime.datetime.now() - start).total_seconds()\n",
    "print(delta)\n",
    "    \n",
    "\n"
   ]
  },
  {
   "cell_type": "code",
   "execution_count": 29,
   "metadata": {},
   "outputs": [
    {
     "name": "stdout",
     "output_type": "stream",
     "text": [
      "count is: 9592\n",
      "0.116475\n"
     ]
    }
   ],
   "source": [
    "import datetime\n",
    "start = datetime.datetime.now()\n",
    "count = 1 # 2,3,5\n",
    "for i in range(3, 100000, 2):\n",
    "    if i > 10 and i % 5 == 0:\n",
    "        continue\n",
    "    for j in range(3, int(i**0.5)+1, 2):\n",
    "        #if (not j % 5) or (not i % j):\n",
    "        if not i % j:\n",
    "            break\n",
    "    else:\n",
    "        count += 1\n",
    "print('count is:', count)\n",
    "delta = (datetime.datetime.now() - start).total_seconds()\n",
    "print(delta)"
   ]
  },
  {
   "cell_type": "code",
   "execution_count": 7,
   "metadata": {},
   "outputs": [],
   "source": []
  },
  {
   "cell_type": "code",
   "execution_count": null,
   "metadata": {},
   "outputs": [],
   "source": []
  }
 ],
 "metadata": {
  "kernelspec": {
   "display_name": "Python 3",
   "language": "python",
   "name": "python3"
  },
  "language_info": {
   "codemirror_mode": {
    "name": "ipython",
    "version": 3
   },
   "file_extension": ".py",
   "mimetype": "text/x-python",
   "name": "python",
   "nbconvert_exporter": "python",
   "pygments_lexer": "ipython3",
   "version": "3.6.8"
  }
 },
 "nbformat": 4,
 "nbformat_minor": 2
}
