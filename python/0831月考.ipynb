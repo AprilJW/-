{
 "cells": [
  {
   "cell_type": "code",
   "execution_count": null,
   "metadata": {},
   "outputs": [],
   "source": [
    "1、请尽可能多的列出已学过的数据类型，对比介绍他们的特点和用途：\n",
    "列表，元组，字符串，字典，集合，栈，队列，链表，其中可索引的的有列表元组字符串，\n",
    "列表可以进行增删改查，在内存中占有连续的空间，列表中的元素通过索引查找或修改，时间复杂度\n",
    "为O（1），通过pop删除append增加时间复杂度都为O（1），其他的操作例如：insert，在列表\n",
    "中间删除，通过值查找，遍历时间复杂度都为O（n）;元组可以通过索引查找，元组不可以修改是指\n",
    "当前元素的内存地址可不变，如果里面存了引用类型，则引用类型里面的元素可以修改，如果要在元组里面\n",
    "增加新的元素，只能通过新生成元组的方式完成，元组不能进行删除里面的元素；字符串可以通过索引切片\n",
    "的方式来获取元素，字符串不可以修改，也不进行增删操作；字典和集合都是非线性结构，字典是键值对\n",
    "的映射，其中键必须可哈希，通过键来查找元素效率很好，可以进行增删改查的操作，时间复杂度\n",
    "都是O（1）;集合中的元素不可以重复，一般用来去重，集合可以进行交集，并集，差集的操作；\n",
    "另外，线性结构还有链表，栈，队列，链表与列表不同的是在内存中可以不用连续存放，可以通过\n",
    "一个元素找到它的下一个元素，是手拉手的结构；栈一般是一端操作，元素后进先出，底层一般用\n",
    "列表或链表实现；队列是一端进元素一端出元素，元素先进先出，底层一般用链表实现；以上数据结构\n",
    "如果遍历时间复杂度都是O（n）\n"
   ]
  },
  {
   "cell_type": "code",
   "execution_count": null,
   "metadata": {},
   "outputs": [],
   "source": [
    "2、请分别简述 return， yield， continue， break， if else， while else 语法的功能。\n",
    "return是函数执行的最后一条语句，如果一个函数什么都不写，则默认返回None，\n",
    "return后面加数值，则返回数值，return也可以返回函数；yield如果函数中出现了yield语句\n",
    "则这个函数是一个生成器函数，调用这个函数时不会立即输出所有结果，会返回一个生成器对象\n",
    "可以通过迭代的方式获取里面的元素，也可以通过next（）函数单指获取里面的元素，如果已经到了\n",
    "最后一个元素再次迭代，next（） 方法会报错，但是在for循环中迭代不会报错；\n",
    "continue语句，函数执行时如果遇到这条语句，则continue下面的代码不会执行，直接\n",
    "进入下一次循环；break语句，函数执行时遇到break语句，会跳出break所在那一层循环；\n",
    "if else语句，if语句执行完成，就不会进入else,两者只能进入一个，两者互斥而且并集是全集\n",
    "如果没有进入到if，则else隐含不包括if的条件；while else语句，在while循环中如果没\n",
    "遇到break，else语句里面的内容都会执行。\n"
   ]
  },
  {
   "cell_type": "code",
   "execution_count": null,
   "metadata": {},
   "outputs": [],
   "source": [
    "3、请简述列表解析式和生成器表达式功能和特点。\n",
    "列表解析式会立即生成一个新的列表，占用所需的内存空间，生成器表达式会返回一个生成器\n",
    "对象，不会立即生成所有数据，可以通过迭代的方式，获取里面的数据，所需的内存，也是随着迭代\n",
    "方式慢慢增加，所以从占用总的内存上来看，列表解析式和生成器表达式所占用的内存近似，一个\n",
    "空的生成器表达式几乎不占内存，列表解析式的最外层用[],生成器表达式最外层用（） \n"
   ]
  },
  {
   "cell_type": "code",
   "execution_count": 2,
   "metadata": {},
   "outputs": [],
   "source": [
    "4、请解释一下 python 中闭包的概念，并举例写出代码。\n",
    "当内层函数使用了外层函数的变量时就形成了闭包,例如，下面的例子内层函数用到了外层函数的变量\n",
    "a,所以形成闭包。外层的变量对内存可见，内层的变量对外层不可见，当调用内层函数找变量a时，\n",
    "会先从内层查找，如果找不到再到外层查找，就近原则。\n",
    "\n"
   ]
  },
  {
   "cell_type": "code",
   "execution_count": 4,
   "metadata": {},
   "outputs": [
    {
     "name": "stdout",
     "output_type": "stream",
     "text": [
      "1\n"
     ]
    }
   ],
   "source": [
    "def outer():\n",
    "    a = 1\n",
    "    def inner():\n",
    "        print(a)\n",
    "    return inner\n",
    "outer()()"
   ]
  },
  {
   "cell_type": "code",
   "execution_count": null,
   "metadata": {},
   "outputs": [],
   "source": [
    "5、统计指定正整数数字n以内的奇数和"
   ]
  },
  {
   "cell_type": "code",
   "execution_count": 5,
   "metadata": {},
   "outputs": [
    {
     "data": {
      "text/plain": [
       "2500"
      ]
     },
     "execution_count": 5,
     "metadata": {},
     "output_type": "execute_result"
    }
   ],
   "source": [
    "sum((i for i in range(1, n, 2)))"
   ]
  },
  {
   "cell_type": "code",
   "execution_count": null,
   "metadata": {},
   "outputs": [],
   "source": [
    "6、从集合 numSet = {1,9,15,60,77,21,18,6,-5,-21} 中随机取数，\n",
    "要求取到的数字可以被 3 整除，但是不能 被5整除，一共取 8 个这样的数字。\n",
    "1.请分别打印出这 8 个数字; 2.请打印出这 8 个数字的和。\n"
   ]
  },
  {
   "cell_type": "code",
   "execution_count": 31,
   "metadata": {
    "scrolled": true
   },
   "outputs": [
    {
     "name": "stdout",
     "output_type": "stream",
     "text": [
      "21\n",
      "-21\n",
      "21\n",
      "21\n",
      "18\n",
      "18\n",
      "18\n",
      "6\n",
      "sumnum: 102\n"
     ]
    }
   ],
   "source": [
    "import random\n",
    "numset = {1,9,15,60,77,21,18,6,-5,-21}\n",
    "def select_num(numset, k):\n",
    "    n = 0\n",
    "    sumnum = 0\n",
    "    while n < k:\n",
    "        a = random.sample(numset, 1)[0]\n",
    "        #if (str(a)[-1] != 0 and str(a)[-1] != 5) and int(a)%3 == 0:\n",
    "        if a % 5 != 0 and a % 3 == 0:\n",
    "            sumnum += a\n",
    "            print(a)\n",
    "            n += 1\n",
    "    print('sumnum:', sumnum)\n",
    "select_num(numset, 8)"
   ]
  },
  {
   "cell_type": "code",
   "execution_count": null,
   "metadata": {},
   "outputs": [],
   "source": [
    "7、请写出\"马哥教育\"分别用utf-8和gbk编码所占的位数\n",
    "utf-8 编码每个中文占3个字节，一共占12个字节，每个字节占8位，一共占96位\n",
    "gbk 编码每个中文占2个字节，一共占8个字节，64位"
   ]
  },
  {
   "cell_type": "code",
   "execution_count": null,
   "metadata": {},
   "outputs": [],
   "source": [
    "8、从下面链接中找出 https 开头的链接并且该链接以 .gz 结尾，\n",
    "请将将这些符合要求链接的文件名按顺序 输出。\n",
    "http://mirrors.kernel.org/gnu/coreutils/coreutils-6.11.tar.gz\n",
    "http://mirrors.kernel.org/gnu/bash/bash-5.0.tar.gz\n",
    "https://www.baidu.com/\n",
    "https://www.apache.org/dyn/closer.cgi/hadoop/common/hadoop-3.1.2/hadoop-\n",
    "3.1.2-src.tar.gz\n",
    "https://apache.org/dist/hbase/2.1.4/api_compare_2.1.3_to_2.1.4RC1.html\n",
    "https://www.apache.org/dyn/closer.lua/hbase/2.1.4/hbase-2.1.4-src.tar.gz\n",
    "https://tomcat.apache.org/download-90.cgi\n",
    "http://mirrors.kernel.org/gnu/grub/grub-2.02.tar.xz\n",
    "http://mirrors.tuna.tsinghua.edu.cn/apache/tomcat/tomcat-\n",
    "9/v9.0.19/bin/apache-tomcat-9.0.19-fulldocs.tar.gz\n",
    "https://archive.apache.org/dist/zookeeper/current/zookeeper-3.4.14.tar.gz\n",
    "https://hub.docker.com/editions/community/docker-ce-desktop-mac\n",
    "https://home.firefoxchina.cn/\n",
    "http://docs.ceph.com/docs/master/"
   ]
  },
  {
   "cell_type": "code",
   "execution_count": 42,
   "metadata": {},
   "outputs": [
    {
     "name": "stdout",
     "output_type": "stream",
     "text": [
      "hadoop-3.1.2-src.tar.gz\n",
      "hbase-2.1.4-src.tar.gz\n",
      "zookeeper-3.4.14.tar.gz\n"
     ]
    }
   ],
   "source": [
    "import re\n",
    "lsthttp = ['http://mirrors.kernel.org/gnu/coreutils/coreutils-6.11.tar.gz',\n",
    "           'http://mirrors.kernel.org/gnu/bash/bash-5.0.tar.gz',\n",
    "           'https://www.baidu.com/',\n",
    "           'https://www.apache.org/dyn/closer.cgi/hadoop/common/hadoop-3.1.2/hadoop-3.1.2-src.tar.gz',\n",
    "'https://apache.org/dist/hbase/2.1.4/api_compare_2.1.3_to_2.1.4RC1.html',\n",
    "           'https://www.apache.org/dyn/closer.lua/hbase/2.1.4/hbase-2.1.4-src.tar.gz',\n",
    "           'https://tomcat.apache.org/download-90.cgi',\n",
    "           'http://mirrors.kernel.org/gnu/grub/grub-2.02.tar.xz',\n",
    "           'http://mirrors.tuna.tsinghua.edu.cn/apache/tomcat/tomcat-9/v9.0.19/bin/apache-tomcat-9.0.19-fulldocs.tar.gz',\n",
    "          'https://archive.apache.org/dist/zookeeper/current/zookeeper-3.4.14.tar.gz',\n",
    "          'https://hub.docker.com/editions/community/docker-ce-desktop-mac',\n",
    "          'https://home.firefoxchina.cn/',\n",
    "          'http://docs.ceph.com/docs/master/']\n",
    "for i in lsthttp:\n",
    "    a = re.findall('https://(?:[a-z]|[0-9]|[./-])+(?:.gz)', i)\n",
    "    if a:\n",
    "        print(a[0].rsplit('/', 1)[-1])\n",
    "    \n",
    "    \n",
    "    \n",
    "    "
   ]
  },
  {
   "cell_type": "code",
   "execution_count": null,
   "metadata": {},
   "outputs": [],
   "source": [
    "9、随机生成20个1到100的整数,然后请使用冒泡排序对这些数字进行排序。"
   ]
  },
  {
   "cell_type": "code",
   "execution_count": 45,
   "metadata": {},
   "outputs": [
    {
     "name": "stdout",
     "output_type": "stream",
     "text": [
      "before: [21, 14, 100, 88, 85, 3, 58, 15, 49, 36, 53, 93, 74, 39, 34, 47, 16, 43, 23, 25]\n",
      "after: [3, 14, 15, 16, 21, 23, 25, 34, 36, 39, 43, 47, 49, 53, 58, 74, 85, 88, 93, 100]\n"
     ]
    }
   ],
   "source": [
    "import random\n",
    "nums = [random.randint(1, 100) for i in range(20)]\n",
    "print('before:', nums)\n",
    "def bubble_sort(nums):\n",
    "    length = len(nums)\n",
    "    for i in range(1, length):\n",
    "        flag = False\n",
    "        for j in range(0, length-i):\n",
    "            if nums[j] > nums[j+1]:\n",
    "                nums[j], nums[j+1] = nums[j+1], nums[j]\n",
    "                flag = True\n",
    "        if not flag:\n",
    "            break\n",
    "    print('after:', nums)\n",
    "bubble_sort(nums)"
   ]
  },
  {
   "cell_type": "code",
   "execution_count": null,
   "metadata": {},
   "outputs": [],
   "source": [
    "10、请生成6个ID字符串，格式为 随机3个小写字母 . 随机4个大写字母 .\n",
    "随机5个数字字符，比如: \n",
    "azy.YBSR.02900\n",
    "lux.OBRS.00270\n",
    "yez.IGEV.29062"
   ]
  },
  {
   "cell_type": "code",
   "execution_count": 71,
   "metadata": {},
   "outputs": [
    {
     "name": "stdout",
     "output_type": "stream",
     "text": [
      "cgd.YFYW.26652\n",
      "gmj.DIWD.50261\n",
      "kdp.PGEH.74490\n",
      "khc.VKDR.57144\n",
      "ebg.IVAH.40595\n",
      "flg.CFAK.35793\n"
     ]
    }
   ],
   "source": [
    "import random\n",
    "for i in range(6):\n",
    "    small_alph = ''.join(chr(random.randint(97, 112)) for i in range(3))\n",
    "    big_alph = ''.join(chr(random.randint(65, 90)) for i in range(4))\n",
    "    num5 = ''.join(str(random.randint(0, 9)) for i in range(5))\n",
    "    print('{}.{}.{}'.format(small_alph, big_alph, num5))\n",
    "    "
   ]
  },
  {
   "cell_type": "code",
   "execution_count": 73,
   "metadata": {},
   "outputs": [],
   "source": [
    "11、已知一个字典的值都不相同，请重新生成一个新字典，新字典的键为旧字典的值，\n",
    "新字典的值为旧字典的值所对应的键(要求利用zip函数)。\n"
   ]
  },
  {
   "cell_type": "code",
   "execution_count": 74,
   "metadata": {},
   "outputs": [
    {
     "name": "stdout",
     "output_type": "stream",
     "text": [
      "{'a': 1, 'b': 2, 'c': 3}\n",
      "{1: 'a', 2: 'b', 3: 'c'}\n"
     ]
    }
   ],
   "source": [
    "dic = dict(a=1, b=2, c=3)\n",
    "print(dic)\n",
    "newdic = dict(zip(dic.values(), dic.keys()))\n",
    "print(newdic)"
   ]
  },
  {
   "cell_type": "code",
   "execution_count": null,
   "metadata": {},
   "outputs": [],
   "source": [
    "12、编写一个函数，可以接收一个10以内的整数作为参数，根据接收到的这个整数不同的值打印出如下风格 \n",
    "不同的图案(提示:奇数打印十字架，偶数打印双行十字架)\n"
   ]
  },
  {
   "cell_type": "code",
   "execution_count": 113,
   "metadata": {},
   "outputs": [
    {
     "name": "stdout",
     "output_type": "stream",
     "text": [
      "    5    \n",
      "    5    \n",
      "5 5 5 5 5\n",
      "    5    \n",
      "    5    \n"
     ]
    }
   ],
   "source": [
    "def printedpattern(n):\n",
    "    for i in range(n):\n",
    "        longest = ' '.join(str(n) for i in range(n))\n",
    "        length = len(longest)\n",
    "        div, mod = divmod(n, 2)\n",
    "        evenformat = '{} {}'.format(str(n), str(n))\n",
    "        formatstr = '{:^{}}'.format(longest, length)\n",
    "        formatstr1 = '{:^{}}'.format(str(n) if mod else evenformat, length)\n",
    "        \n",
    "        if i < div:\n",
    "            if not mod and i == div - 1:\n",
    "                print(formatstr)\n",
    "            else:\n",
    "                print(formatstr1)                     \n",
    "        elif i == div:\n",
    "            print(formatstr)\n",
    "            \n",
    "        else:\n",
    "            print(formatstr1)\n",
    "printedpattern(5)       "
   ]
  },
  {
   "cell_type": "code",
   "execution_count": null,
   "metadata": {},
   "outputs": [],
   "source": [
    "13、对列表进行去重,并保持列表中第一次出现元素的相对位置不变。"
   ]
  },
  {
   "cell_type": "code",
   "execution_count": 78,
   "metadata": {},
   "outputs": [
    {
     "name": "stdout",
     "output_type": "stream",
     "text": [
      "[1, 4, 6, 7, 2]\n"
     ]
    }
   ],
   "source": [
    "from collections import OrderedDict\n",
    "alst = [1,1,4,1,6,7,2,7]\n",
    "orderdic = OrderedDict()\n",
    "for i in alst:\n",
    "    orderdic.setdefault(i)\n",
    "print(list(orderdic.keys()))"
   ]
  },
  {
   "cell_type": "code",
   "execution_count": null,
   "metadata": {},
   "outputs": [],
   "source": [
    "14、解释什么是装饰器,请写一个记录日志(开始执行时间和执行耗时)的装饰器,\n",
    "并通过文件操作记录到本地文件中，文件名为 {函数名}+.log 。\n",
    "装饰器：在不影响函数原来功能的前提下，给函数增加额外的功能，如果去掉装饰，\n",
    "也不会影响原函数"
   ]
  },
  {
   "cell_type": "code",
   "execution_count": 122,
   "metadata": {},
   "outputs": [
    {
     "data": {
      "text/plain": [
       "3"
      ]
     },
     "execution_count": 122,
     "metadata": {},
     "output_type": "execute_result"
    }
   ],
   "source": [
    "from functools import wraps\n",
    "import datetime, time\n",
    "\n",
    "def logging(fname, start, delta):\n",
    "    with open('logging', 'w') as f:\n",
    "        log = '  '.join([fname, str(start), str(delta)])\n",
    "        f.write(log)\n",
    "        \n",
    "def logger(duration, logging):\n",
    "    def _logger(fn):\n",
    "        @wraps(fn)\n",
    "        def wrapper(*args, **kwargs):\n",
    "            start = datetime.datetime.now()\n",
    "            ret = fn(*args, **kwargs)\n",
    "            delta = (datetime.datetime.now() - start).total_seconds()\n",
    "            if delta > duration:\n",
    "                logging(fn.__name__, start, delta)                \n",
    "            return ret\n",
    "        return wrapper\n",
    "    return _logger\n",
    "\n",
    "@logger(1, logging)\n",
    "def add(a=1, b=2):\n",
    "    time.sleep(2)\n",
    "    return a + b\n",
    "add()"
   ]
  },
  {
   "cell_type": "code",
   "execution_count": null,
   "metadata": {},
   "outputs": [],
   "source": [
    "15、以下代码输出的结果是(0,2,4,6)么?如果不是，试说明原因，你将会怎么做，让它变成(0,2,4,6)"
   ]
  },
  {
   "cell_type": "code",
   "execution_count": 87,
   "metadata": {},
   "outputs": [
    {
     "name": "stdout",
     "output_type": "stream",
     "text": [
      "0\n",
      "2\n",
      "4\n",
      "6\n"
     ]
    },
    {
     "data": {
      "text/plain": [
       "[<function __main__.testFun.<locals>.<listcomp>.<lambda>>,\n",
       " <function __main__.testFun.<locals>.<listcomp>.<lambda>>,\n",
       " <function __main__.testFun.<locals>.<listcomp>.<lambda>>,\n",
       " <function __main__.testFun.<locals>.<listcomp>.<lambda>>]"
      ]
     },
     "execution_count": 87,
     "metadata": {},
     "output_type": "execute_result"
    }
   ],
   "source": [
    "def testFun():\n",
    "    temp = [lambda x : 2*x for i in range(4)]\n",
    "    return temp\n",
    "for i, everyLambda in enumerate(testFun()):\n",
    "    print (everyLambda(i))\n",
    "testFun()"
   ]
  },
  {
   "cell_type": "code",
   "execution_count": null,
   "metadata": {},
   "outputs": [],
   "source": []
  }
 ],
 "metadata": {
  "kernelspec": {
   "display_name": "Python 3",
   "language": "python",
   "name": "python3"
  },
  "language_info": {
   "codemirror_mode": {
    "name": "ipython",
    "version": 3
   },
   "file_extension": ".py",
   "mimetype": "text/x-python",
   "name": "python",
   "nbconvert_exporter": "python",
   "pygments_lexer": "ipython3",
   "version": "3.6.8"
  }
 },
 "nbformat": 4,
 "nbformat_minor": 2
}
