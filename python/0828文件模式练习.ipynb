{
 "cells": [
  {
   "cell_type": "code",
   "execution_count": null,
   "metadata": {},
   "outputs": [],
   "source": [
    "文件操作：IO操作一般指文件IO，如果是网络IO就会直接说网络IO。\n",
    "磁盘：目前仍是文件持久化最重要的设备\n",
    "磁盘结构示意图：\n",
    "等弧长分区示意图：\n"
   ]
  },
  {
   "cell_type": "code",
   "execution_count": null,
   "metadata": {},
   "outputs": [],
   "source": [
    "# 打开文件\n",
    "open(file, mode='r', buffering=-1, encoding=None, errors=None, newline=None, closefd=True, opener=None)\n",
    "文件的访问模式分为：文本模式和二进制模式\n",
    "mode:\n",
    "    r: 只读模式，不可以写入文件，如果文件不存在FileNotFoundError\n",
    "    rb rt(默认) rb+ rt+ r+\n",
    "    \n",
    "    w: 只写模式，不可以读文件，如果文件存在会**清空**原来的内容，从头开始写入\n",
    "    不存在会创建文件\n",
    "    wb wt wb+ wt+ w+\n",
    "    \n",
    "    x: 只写模式，文件存在会FileExitsError,  文件不存在会新创建一个文件\n",
    "    xb xt xb+ xt+ x+\n",
    "    \n",
    "    a: 只写模式，文件存在打开追加内容，文件不存在创建文件，写入内容\n",
    "    ab at ab+ at+ a+\n",
    "    \n",
    "    r: 只读\n",
    "    wxa: 只写,并且会产生新文件\n",
    "open函数常用的参数：file mode encoding\n",
    "encoding:打开或者创建文件时都需要指定编码，因为可能会在不同的操作系统上使用文件\n",
    "    Windows中使用codepage代码页,可以认为每一个代码页就是一张编码表，cp936等同于GBK，\n",
    "    这也是Windows中默认的编码，linux中默认的编码是utf-8\n",
    "errors: 如果值为NONE或strict，有编码错误会抛出ValueError, 如果值为ignore表示忽略编码错误\n",
    "newline: 一般文本模式会使用，只可以填5种None,\"\",'\\r','\\n','\\r\\n'\n",
    "    一般写文档时只使用'\\n', 读文档时使用默认的None模式读取\n",
    "    \n",
    "    写时：\n",
    "        None模式下，'\\n'会被替换成系统的缺省行分隔符，例如：windows系统为'\\r\\n', mac系统'\\r',linux系统'\\n'\n",
    "        \"\"空串模式下常见的换行符都换行\n",
    "        其他3种换行符，按照指定换行符换行\n",
    "        \n",
    "    读时：\n",
    "        None模式下，是在5种模式下唯一发生转换的模式'\\r','\\n','\\r\\n'都会被转换成'\\n', 即'\\n','\\n','\\n\\n'\n",
    "        \"\"空串模式下常见的换行符都认为是换行\n",
    "        其他3种换行符，按照指定换行符换行\n",
    "        \n",
    "closefd:默认为True，表示关闭文件时会关闭文件描述符。        \n",
    "\n",
    "\n",
    "# 文件读取方法总结\n",
    "f.read(size=-1) # 从头开始读\n",
    "f.readline(size=-1) # 一行一行读取，size可以设置读取行内几个字符或字节\n",
    "f.readlines() # 读取所有行返回列表\n",
    "# 大多数情况都用下面的方式读取文件内容\n",
    "f = open('test') #  返回可迭代对象\n",
    "for line in f:\n",
    "    print(line.encode().strip())\n",
    "f.close()\n",
    "\n",
    "# 写方法总结\n",
    "f = open('test', 'w+')\n",
    "f.writelines(['abc\\n', '123']) #需要提供换行符\n",
    "\n",
    "# 常用的写入文件的方法\n",
    "f.write('\\n'.join(['abc', '123']))\n",
    "\n",
    "# 关闭方法总结\n",
    "f.close() # 文件关闭时自动调用一次flush()\n",
    "为了避免因为异常而无法关闭文件，有两种处理方式\n",
    "方式1:异常处理\n",
    "try:\n",
    "    f = open('test', 'w')\n",
    "    f.read()\n",
    "finally: # 无论try中是否报错都会执行finally 语句\n",
    "    f.close()\n",
    "    \n",
    "方式2:上下文管理的方式\n",
    "上下文管理的语句不会开启新的作用域\n",
    "with语句块执行完会自动关闭文件对象\n",
    "with open('test', 'w') as f:\n",
    "    f.write('abc')\n",
    "f.closed\n",
    "    \n",
    "\n",
    "\n",
    "\n",
    "# 其他方法总结\n",
    "f.seekable() f.readable() f.writable()\n",
    "f.closed 查看文件是否关闭，返回一个布尔值，不能加括号，不可调用\n",
    "如果文件已经关闭则 f.fileno()会报ValueError\n",
    "\n",
    "cat test1 # 查看文件，如果文件中是字节b'abc'，则也可以查看出'abc'\n",
    "f.read() # 如果文件中是字节b'abc', 则查看出b'abc'\n"
   ]
  },
  {
   "cell_type": "code",
   "execution_count": 53,
   "metadata": {},
   "outputs": [
    {
     "data": {
      "text/plain": [
       "b''"
      ]
     },
     "execution_count": 53,
     "metadata": {},
     "output_type": "execute_result"
    }
   ],
   "source": [
    "f = open('test', 'wb+')\n",
    "f.read() # 什么也读不到但是不会报错，因为有'+'\n",
    "f.write('小猫'.encode('gbk'))\n",
    "f.close() # 每次打开时需要关闭文件"
   ]
  },
  {
   "cell_type": "code",
   "execution_count": 8,
   "metadata": {},
   "outputs": [
    {
     "name": "stdout",
     "output_type": "stream",
     "text": [
      "['python\\n', 'www.python.org\\n', 'www.magedu.com\\n', 'python3']\n",
      "['python\\r', 'www.python.org\\n', 'www.magedu.com\\r\\n', 'python3']\n",
      "['python\\r', 'www.python.org\\nwww.magedu.com\\r', '\\npython3']\n",
      "['python\\rwww.python.org\\n', 'www.magedu.com\\r\\n', 'python3']\n",
      "['python\\rwww.python.org\\nwww.magedu.com\\r\\n', 'python3']\n"
     ]
    }
   ],
   "source": [
    "with open('test', 'w', newline=) as f:\n",
    "    f.write('python\\rwww.python.org\\nwww.magedu.com\\r\\npython3')\n",
    "# 在Windows下相当于写入\n",
    "'python\\rwww.python.org\\r\\nwww.magedu.com\\r\\r\\npython3'\n",
    "# 在mac下相当写入???\n",
    "'python\\rwww.python.org\\rwww.magedu.com\\r\\rpython3'\n",
    "\n",
    "newlines = [None, '', '\\r', '\\n', '\\r\\n']\n",
    "for nl in newlines:\n",
    "    f = open('test', newline=nl) # 分别替换不同换行符\n",
    "    print(f.readlines())\n",
    "    f.close()\n",
    "\n",
    "# ['python\\n', 'www.python.org\\n', 'www.magedu.com\\n', 'python3'] None模式下\\r被替换为\\n ???\n",
    "# ['python\\r', 'www.python.org\\n', 'www.magedu.com\\r\\n', 'python3'] ''模式下会识别出来3中换行符，但是不会替换\n",
    "# ['python\\r', 'www.python.org\\nwww.magedu.com\\r', '\\npython3'] 遇到'\\r'换行\n",
    "# ['python\\rwww.python.org\\n', 'www.magedu.com\\r\\n', 'python3'] 遇到'\\n'换行\n",
    "# ['python\\rwww.python.org\\nwww.magedu.com\\r\\n', 'python3'] 遇到'\\r\\n'换行\n"
   ]
  },
  {
   "cell_type": "code",
   "execution_count": null,
   "metadata": {},
   "outputs": [],
   "source": [
    "print()"
   ]
  },
  {
   "cell_type": "code",
   "execution_count": 31,
   "metadata": {},
   "outputs": [
    {
     "data": {
      "text/plain": [
       "'\\n'"
      ]
     },
     "execution_count": 31,
     "metadata": {},
     "output_type": "execute_result"
    }
   ],
   "source": [
    "import os\n",
    "os.linesep"
   ]
  },
  {
   "cell_type": "code",
   "execution_count": 46,
   "metadata": {},
   "outputs": [
    {
     "data": {
      "text/plain": [
       "'小猫'"
      ]
     },
     "execution_count": 46,
     "metadata": {},
     "output_type": "execute_result"
    }
   ],
   "source": [
    "f = open('test', 'rb')\n",
    "f.read().decode('gbk')"
   ]
  },
  {
   "cell_type": "code",
   "execution_count": 7,
   "metadata": {},
   "outputs": [],
   "source": [
    "! touch test.txt\n"
   ]
  },
  {
   "cell_type": "code",
   "execution_count": 10,
   "metadata": {},
   "outputs": [
    {
     "name": "stdout",
     "output_type": "stream",
     "text": [
      "0723循环作业及练习.ipynb\r\n",
      "0726列表作业及练习.ipynb\r\n",
      "0731字符串作业及练习.ipynb\r\n",
      "0731排序算法.ipynb\r\n",
      "0807set_mapping练习.ipynb\r\n",
      "0809解析式与迭代器练习.ipynb\r\n",
      "0812函数练习.ipynb\r\n",
      "0816生成器练习.ipynb\r\n",
      "0817高阶函数练习.ipynb\r\n",
      "0818树练习.ipynb\r\n",
      "0819装饰器练习.ipynb\r\n",
      "0821函数参数注解.ipynb\r\n",
      "0821装饰器及base64作业.ipynb\r\n",
      "0828文件模式练习.ipynb\r\n",
      "20190724_python基础之循环_分支 copy.md\r\n",
      "20190806_python基础笔记 copy 2.md\r\n",
      "20190806_python基础笔记.md\r\n",
      "\u001b[31m7.23python_垃圾回收_二进制_补码_循环.txt\u001b[m\u001b[m*\r\n",
      "\u001b[31m7.30Django.txt\u001b[m\u001b[m*\r\n",
      "Untitled1.ipynb\r\n",
      "test\r\n",
      "test.txt\r\n",
      "解构与封装练习.ipynb\r\n"
     ]
    }
   ],
   "source": [
    "ls"
   ]
  },
  {
   "cell_type": "code",
   "execution_count": 27,
   "metadata": {},
   "outputs": [],
   "source": [
    "f = open('test', 'r+')\n",
    "f.write('小猫')\n",
    "f.close()"
   ]
  },
  {
   "cell_type": "code",
   "execution_count": 30,
   "metadata": {},
   "outputs": [
    {
     "data": {
      "text/plain": [
       "''"
      ]
     },
     "execution_count": 30,
     "metadata": {},
     "output_type": "execute_result"
    }
   ],
   "source": [
    "f = open('test', 'a+') # ??????指针指到末尾\n",
    "f.read()"
   ]
  },
  {
   "cell_type": "code",
   "execution_count": 33,
   "metadata": {},
   "outputs": [],
   "source": [
    "f = open('test1', 'wb+')\n",
    "f.write(b'abc')\n",
    "f.close()"
   ]
  },
  {
   "cell_type": "code",
   "execution_count": 37,
   "metadata": {},
   "outputs": [
    {
     "data": {
      "text/plain": [
       "b'abc'"
      ]
     },
     "execution_count": 37,
     "metadata": {},
     "output_type": "execute_result"
    }
   ],
   "source": [
    "f = open('test1', 'rb')\n",
    "f.read()\n",
    "f.close()"
   ]
  },
  {
   "cell_type": "code",
   "execution_count": 36,
   "metadata": {},
   "outputs": [
    {
     "name": "stdout",
     "output_type": "stream",
     "text": [
      "abc"
     ]
    }
   ],
   "source": [
    "! cat test1"
   ]
  },
  {
   "cell_type": "code",
   "execution_count": null,
   "metadata": {},
   "outputs": [],
   "source": [
    "文本模式  二进制模式 指针位置\n",
    "f.read(2) 按字符读取 按字节读取 指针起始在0，读完指针指向第2个位置\n",
    "f.write() 按字符写入 按字节写入 从指针当前位置开始写，写完指针停在EOF\n",
    "\n",
    "f.tell()                     显示指针当前位置\n",
    "f.seek(偏移量[,whence=0,1,2]) 按字节偏移 按字节偏移 3种模式是从头，也是缺省值\n",
    "                                                offset只能接受正整数；\n",
    "                                                当前指针位置，offset只能接受0；\n",
    "                                                EOF offset只能接受0。\n",
    "            \n",
    "                                                3种模式是从头，也是缺省值\n",
    "                                                offset只能接受正整数；\n",
    "                                                当前指针位置，offset可正可负；\n",
    "                                                EOF offset可正可负。\n",
    "                                                二进制模式支持任意起点的偏移，从头，从尾，从中间开始，向后\n",
    "                                                seek可以超界，向前超界则会抛异常\n",
    "open中的参数buffer   -1 缺省模式可通过io.DEFAULT_BUFFERSIZE  -1 同文本模式\n",
    "                    查看大小（一般都用缺省）缺省值的大小一般是4096或8192KB\n",
    "                    >1使用缺省模式  >1比如buffer=10,那么超过10缓冲区hui被flush\n",
    "                    1 行缓冲遇到换行符才flush（用得少）  1不支持\n",
    "                    0不支持                          0关闭缓冲区（一般不用）              \n",
    "可以看作是是一个先进先出的队列（FIFO）文件，\n",
    "在缓冲区满了或者达到阈值时，数据会被flush到磁盘上\n",
    "flush()将缓冲区数据写入到磁盘、\n",
    "close()关闭前会自动第一次flush()\n",
    "\n",
    "open中的参数mode为a时 指针会停在EOF"
   ]
  },
  {
   "cell_type": "code",
   "execution_count": 2,
   "metadata": {},
   "outputs": [
    {
     "name": "stdout",
     "output_type": "stream",
     "text": [
      "abc"
     ]
    }
   ],
   "source": [
    "! cat test1"
   ]
  },
  {
   "cell_type": "code",
   "execution_count": 14,
   "metadata": {},
   "outputs": [
    {
     "data": {
      "text/plain": [
       "'abc'"
      ]
     },
     "execution_count": 14,
     "metadata": {},
     "output_type": "execute_result"
    }
   ],
   "source": [
    "f = open('test1', 'r+')\n",
    "f.read()\n"
   ]
  },
  {
   "cell_type": "code",
   "execution_count": 15,
   "metadata": {},
   "outputs": [
    {
     "data": {
      "text/plain": [
       "3"
      ]
     },
     "execution_count": 15,
     "metadata": {},
     "output_type": "execute_result"
    }
   ],
   "source": [
    "f.tell()"
   ]
  },
  {
   "cell_type": "code",
   "execution_count": 7,
   "metadata": {},
   "outputs": [
    {
     "data": {
      "text/plain": [
       "0"
      ]
     },
     "execution_count": 7,
     "metadata": {},
     "output_type": "execute_result"
    }
   ],
   "source": [
    "f.read()\n",
    "f.seek(0) # 等价f.seek(0, 0)"
   ]
  },
  {
   "cell_type": "code",
   "execution_count": 10,
   "metadata": {},
   "outputs": [
    {
     "data": {
      "text/plain": [
       "''"
      ]
     },
     "execution_count": 10,
     "metadata": {},
     "output_type": "execute_result"
    }
   ],
   "source": [
    "f.read()"
   ]
  },
  {
   "cell_type": "code",
   "execution_count": 11,
   "metadata": {},
   "outputs": [
    {
     "ename": "AttributeError",
     "evalue": "'_io.TextIOWrapper' object has no attribute 'tail'",
     "output_type": "error",
     "traceback": [
      "\u001b[0;31m---------------------------------------------------------------------------\u001b[0m",
      "\u001b[0;31mAttributeError\u001b[0m                            Traceback (most recent call last)",
      "\u001b[0;32m<ipython-input-11-d12c1c62fbf0>\u001b[0m in \u001b[0;36m<module>\u001b[0;34m()\u001b[0m\n\u001b[0;32m----> 1\u001b[0;31m \u001b[0mf\u001b[0m\u001b[0;34m.\u001b[0m\u001b[0mtail\u001b[0m\u001b[0;34m(\u001b[0m\u001b[0;34m)\u001b[0m\u001b[0;34m\u001b[0m\u001b[0;34m\u001b[0m\u001b[0m\n\u001b[0m",
      "\u001b[0;31mAttributeError\u001b[0m: '_io.TextIOWrapper' object has no attribute 'tail'"
     ]
    }
   ],
   "source": [
    "f.tail()"
   ]
  },
  {
   "cell_type": "code",
   "execution_count": null,
   "metadata": {},
   "outputs": [],
   "source": []
  },
  {
   "cell_type": "code",
   "execution_count": 24,
   "metadata": {},
   "outputs": [],
   "source": [
    "with open('test2', mode='w', newline=None) as f:\n",
    "    f.write('123\\n456')\n",
    "    "
   ]
  },
  {
   "cell_type": "code",
   "execution_count": 28,
   "metadata": {},
   "outputs": [
    {
     "name": "stdout",
     "output_type": "stream",
     "text": [
      "b'python\\nwww.python.org\\nwww.magedu.com\\npython3'\n"
     ]
    }
   ],
   "source": [
    "with open('test', mode='r', newline=None) as f:\n",
    "    print(f.read().encode())\n",
    "#     print(f.readline())"
   ]
  },
  {
   "cell_type": "code",
   "execution_count": null,
   "metadata": {},
   "outputs": [],
   "source": []
  }
 ],
 "metadata": {
  "kernelspec": {
   "display_name": "Python 3",
   "language": "python",
   "name": "python3"
  },
  "language_info": {
   "codemirror_mode": {
    "name": "ipython",
    "version": 3
   },
   "file_extension": ".py",
   "mimetype": "text/x-python",
   "name": "python",
   "nbconvert_exporter": "python",
   "pygments_lexer": "ipython3",
   "version": "3.6.8"
  }
 },
 "nbformat": 4,
 "nbformat_minor": 2
}
