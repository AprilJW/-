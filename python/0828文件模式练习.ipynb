{
 "cells": [
  {
   "cell_type": "code",
   "execution_count": null,
   "metadata": {},
   "outputs": [],
   "source": [
    "# 打开文件\n",
    "open(file, mode='r', buffering=-1, encoding=None, errors=None, newline=None, closefd=True, opener=None)\n",
    "文件的访问模式分为：文本模式和二进制模式\n",
    "mode:\n",
    "    r: 只读模式，不可以写入文件，如果文件不存在FileNotFoundError\n",
    "    rb rt(默认) rb+ rt+ r+\n",
    "    \n",
    "    w: 只写模式，不可以读文件，如果文件存在会**清空**原来的内容，从头开始写入\n",
    "    不存在会创建文件\n",
    "    wb wt wb+ wt+ w+\n",
    "    \n",
    "    x: 只写模式，文件存在会FileExitsError,  文件不存在会新创建一个文件\n",
    "    xb xt xb+ xt+ x+\n",
    "    \n",
    "    a: 只写模式，文件存在打开追加内容，文件不存在创建文件，写入内容\n",
    "    ab at ab+ at+ a+\n",
    "r: 只读\n",
    "wxa: 只写,并且会产生新文件\n",
    "\n",
    "cat test1 # 查看文件，如果文件中是字节b'abc'，则也可以查看出'abc'\n",
    "f.read() # 如果文件中是字节b'abc', 则查看出b'abc'\n"
   ]
  },
  {
   "cell_type": "code",
   "execution_count": 53,
   "metadata": {},
   "outputs": [
    {
     "data": {
      "text/plain": [
       "b''"
      ]
     },
     "execution_count": 53,
     "metadata": {},
     "output_type": "execute_result"
    }
   ],
   "source": [
    "f = open('test', 'wb+')\n",
    "f.read() # 什么也读不到但是不会报错\n",
    "f.write('小猫'.encode('gbk'))\n",
    "f.close() # 每次打开时需要关闭文件"
   ]
  },
  {
   "cell_type": "code",
   "execution_count": 46,
   "metadata": {},
   "outputs": [
    {
     "data": {
      "text/plain": [
       "'小猫'"
      ]
     },
     "execution_count": 46,
     "metadata": {},
     "output_type": "execute_result"
    }
   ],
   "source": [
    "f = open('test', 'rb')\n",
    "f.read().decode('gbk')"
   ]
  },
  {
   "cell_type": "code",
   "execution_count": 7,
   "metadata": {},
   "outputs": [],
   "source": [
    "! touch test.txt\n"
   ]
  },
  {
   "cell_type": "code",
   "execution_count": 10,
   "metadata": {},
   "outputs": [
    {
     "name": "stdout",
     "output_type": "stream",
     "text": [
      "0723循环作业及练习.ipynb\r\n",
      "0726列表作业及练习.ipynb\r\n",
      "0731字符串作业及练习.ipynb\r\n",
      "0731排序算法.ipynb\r\n",
      "0807set_mapping练习.ipynb\r\n",
      "0809解析式与迭代器练习.ipynb\r\n",
      "0812函数练习.ipynb\r\n",
      "0816生成器练习.ipynb\r\n",
      "0817高阶函数练习.ipynb\r\n",
      "0818树练习.ipynb\r\n",
      "0819装饰器练习.ipynb\r\n",
      "0821函数参数注解.ipynb\r\n",
      "0821装饰器及base64作业.ipynb\r\n",
      "0828文件模式练习.ipynb\r\n",
      "20190724_python基础之循环_分支 copy.md\r\n",
      "20190806_python基础笔记 copy 2.md\r\n",
      "20190806_python基础笔记.md\r\n",
      "\u001b[31m7.23python_垃圾回收_二进制_补码_循环.txt\u001b[m\u001b[m*\r\n",
      "\u001b[31m7.30Django.txt\u001b[m\u001b[m*\r\n",
      "Untitled1.ipynb\r\n",
      "test\r\n",
      "test.txt\r\n",
      "解构与封装练习.ipynb\r\n"
     ]
    }
   ],
   "source": [
    "ls"
   ]
  },
  {
   "cell_type": "code",
   "execution_count": 27,
   "metadata": {},
   "outputs": [],
   "source": [
    "f = open('test', 'r+')\n",
    "f.write('小猫')\n",
    "f.close()"
   ]
  },
  {
   "cell_type": "code",
   "execution_count": 30,
   "metadata": {},
   "outputs": [
    {
     "data": {
      "text/plain": [
       "''"
      ]
     },
     "execution_count": 30,
     "metadata": {},
     "output_type": "execute_result"
    }
   ],
   "source": [
    "f = open('test', 'a+') # ??????指针指到末尾\n",
    "f.read()"
   ]
  },
  {
   "cell_type": "code",
   "execution_count": 33,
   "metadata": {},
   "outputs": [],
   "source": [
    "f = open('test1', 'wb+')\n",
    "f.write(b'abc')\n",
    "f.close()"
   ]
  },
  {
   "cell_type": "code",
   "execution_count": 37,
   "metadata": {},
   "outputs": [
    {
     "data": {
      "text/plain": [
       "b'abc'"
      ]
     },
     "execution_count": 37,
     "metadata": {},
     "output_type": "execute_result"
    }
   ],
   "source": [
    "f = open('test1', 'rb')\n",
    "f.read()\n",
    "f.close()"
   ]
  },
  {
   "cell_type": "code",
   "execution_count": 36,
   "metadata": {},
   "outputs": [
    {
     "name": "stdout",
     "output_type": "stream",
     "text": [
      "abc"
     ]
    }
   ],
   "source": [
    "! cat test1"
   ]
  },
  {
   "cell_type": "code",
   "execution_count": null,
   "metadata": {},
   "outputs": [],
   "source": []
  },
  {
   "cell_type": "code",
   "execution_count": null,
   "metadata": {},
   "outputs": [],
   "source": []
  },
  {
   "cell_type": "code",
   "execution_count": null,
   "metadata": {},
   "outputs": [],
   "source": []
  },
  {
   "cell_type": "code",
   "execution_count": null,
   "metadata": {},
   "outputs": [],
   "source": []
  },
  {
   "cell_type": "code",
   "execution_count": null,
   "metadata": {},
   "outputs": [],
   "source": []
  },
  {
   "cell_type": "code",
   "execution_count": null,
   "metadata": {},
   "outputs": [],
   "source": []
  },
  {
   "cell_type": "code",
   "execution_count": null,
   "metadata": {},
   "outputs": [],
   "source": []
  },
  {
   "cell_type": "code",
   "execution_count": null,
   "metadata": {},
   "outputs": [],
   "source": []
  }
 ],
 "metadata": {
  "kernelspec": {
   "display_name": "Python 3",
   "language": "python",
   "name": "python3"
  },
  "language_info": {
   "codemirror_mode": {
    "name": "ipython",
    "version": 3
   },
   "file_extension": ".py",
   "mimetype": "text/x-python",
   "name": "python",
   "nbconvert_exporter": "python",
   "pygments_lexer": "ipython3",
   "version": "3.6.8"
  }
 },
 "nbformat": 4,
 "nbformat_minor": 2
}
