{
 "cells": [
  {
   "cell_type": "markdown",
   "metadata": {},
   "source": [
    "[TOP]\n"
   ]
  },
  {
   "cell_type": "markdown",
   "metadata": {},
   "source": [
    "# 交换排序"
   ]
  },
  {
   "cell_type": "markdown",
   "metadata": {},
   "source": [
    "## 冒泡"
   ]
  },
  {
   "cell_type": "code",
   "execution_count": null,
   "metadata": {},
   "outputs": [],
   "source": [
    "O(n**2) O(1) 稳定"
   ]
  },
  {
   "cell_type": "code",
   "execution_count": 1,
   "metadata": {},
   "outputs": [],
   "source": [
    "import random\n",
    "nums = [1,2,3,4,5,6,7]\n",
    "random.shuffle(nums)"
   ]
  },
  {
   "cell_type": "code",
   "execution_count": 1,
   "metadata": {},
   "outputs": [
    {
     "name": "stdout",
     "output_type": "stream",
     "text": [
      "[4, 2, 6, 7, 3, 1, 5]\n",
      "[1, 2, 3, 4, 5, 6, 7]\n"
     ]
    }
   ],
   "source": [
    "import random\n",
    "nums = [1,2,3,4,5,6,7]\n",
    "random.shuffle(nums)\n",
    "# bubble_sort 把大的放右边 O(n^2) O(1)\n",
    "print(nums)\n",
    "for i in range(1, len(nums)):\n",
    "    k = 0\n",
    "    for j in range(0, len(nums)-i):\n",
    "        if nums[j] > nums[j+1]: #交换耗时间\n",
    "            nums[j], nums[j+1] = nums[j+1], nums[j]\n",
    "            k += 1   \n",
    "    if k == 0: #本次没有交换\n",
    "        break\n",
    "print(nums)"
   ]
  },
  {
   "cell_type": "code",
   "execution_count": 13,
   "metadata": {},
   "outputs": [
    {
     "name": "stdout",
     "output_type": "stream",
     "text": [
      "[7, 1, 3, 2, 5, 4, 6]\n",
      "[7, 6, 5, 4, 3, 2, 1]\n"
     ]
    }
   ],
   "source": [
    "# bubble_sort 把小的放右边\n",
    "random.shuffle(nums)\n",
    "print(nums)\n",
    "for i in range(1, len(nums)):\n",
    "    flag = False\n",
    "    for j in range(0, len(nums)-i):\n",
    "        if nums[j] < nums[j+1]:\n",
    "            nums[j], nums[j+1] = nums[j+1], nums[j]\n",
    "            flag = True\n",
    "    if not flag:\n",
    "        break\n",
    "print(nums)"
   ]
  },
  {
   "cell_type": "code",
   "execution_count": 18,
   "metadata": {},
   "outputs": [
    {
     "name": "stdout",
     "output_type": "stream",
     "text": [
      "[4, 3, 7, 5, 1, 2, 6]\n",
      "[7, 6, 5, 4, 3, 2, 1]\n"
     ]
    }
   ],
   "source": [
    "# bubble_sort 从后向前，把大的放左边\n",
    "random.shuffle(nums)\n",
    "print(nums)\n",
    "for i in range(1, len(nums)):\n",
    "    flag = False\n",
    "    for j in range(-1, -len(nums)+i-1, -1):\n",
    "        if nums[j] > nums[j-1]:\n",
    "            nums[j], nums[j-1] = nums[j-1], nums[j]\n",
    "            flag = True\n",
    "    if not flag:\n",
    "        break\n",
    "print(nums)"
   ]
  },
  {
   "cell_type": "code",
   "execution_count": 5,
   "metadata": {},
   "outputs": [],
   "source": [
    "# bubble_sort 从后向前，把小的放左边"
   ]
  },
  {
   "cell_type": "code",
   "execution_count": 26,
   "metadata": {
    "scrolled": false
   },
   "outputs": [
    {
     "name": "stdout",
     "output_type": "stream",
     "text": [
      "[4, 3, 7, 5, 6, 1, 2]\n",
      "[1, 2, 3, 4, 5, 6, 7]\n"
     ]
    }
   ],
   "source": [
    "random.shuffle(nums)\n",
    "print(nums)\n",
    "for i in range(1, len(nums)):\n",
    "    flag = False\n",
    "    for j in range(-1, -len(nums)+i-1, -1):\n",
    "        if nums[j] < nums[j-1]:\n",
    "            nums[j], nums[j-1] = nums[j-1], nums[j]\n",
    "            flag = True\n",
    "    if not flag:\n",
    "        break\n",
    "print(nums)"
   ]
  },
  {
   "cell_type": "markdown",
   "metadata": {},
   "source": [
    "## 双边冒泡法"
   ]
  },
  {
   "cell_type": "code",
   "execution_count": 17,
   "metadata": {},
   "outputs": [],
   "source": [
    "def bubble_sort(nums):\n",
    "    length = len(nums)\n",
    "    length1 = length//2 \n",
    "    for i in range(1, length1):\n",
    "        flag = False\n",
    "        for j in range(i-1, length - i):\n",
    "            if nums[j] > nums[j+1]:\n",
    "                nums[j], nums[j+1] = nums[j+1], nums[j]\n",
    "                flag = True\n",
    "        \n",
    "        for k in range(length-i-1, i-1 , -1):\n",
    "            if nums[k] < nums[k-1]:\n",
    "                nums[k], nums[k-1] = nums[k-1], nums[k]\n",
    "                flag = True\n",
    "        \n",
    "        if not flag:\n",
    "            break\n",
    "    return nums"
   ]
  },
  {
   "cell_type": "code",
   "execution_count": 28,
   "metadata": {},
   "outputs": [
    {
     "name": "stdout",
     "output_type": "stream",
     "text": [
      "[11, 10, 13, 14, 3, 17, 10, 12, 11, 15]\n"
     ]
    }
   ],
   "source": [
    "import random\n",
    "nums = [random.randint(0, 20) for i in range(10)]\n",
    "print(nums)"
   ]
  },
  {
   "cell_type": "code",
   "execution_count": 29,
   "metadata": {},
   "outputs": [
    {
     "data": {
      "text/plain": [
       "[3, 10, 10, 11, 11, 12, 13, 14, 15, 17]"
      ]
     },
     "execution_count": 29,
     "metadata": {},
     "output_type": "execute_result"
    }
   ],
   "source": [
    "bubble_sort(nums)"
   ]
  },
  {
   "cell_type": "code",
   "execution_count": null,
   "metadata": {},
   "outputs": [],
   "source": []
  },
  {
   "cell_type": "code",
   "execution_count": null,
   "metadata": {},
   "outputs": [],
   "source": []
  },
  {
   "cell_type": "code",
   "execution_count": null,
   "metadata": {},
   "outputs": [],
   "source": []
  },
  {
   "cell_type": "code",
   "execution_count": null,
   "metadata": {},
   "outputs": [],
   "source": []
  },
  {
   "cell_type": "code",
   "execution_count": null,
   "metadata": {},
   "outputs": [],
   "source": []
  },
  {
   "cell_type": "code",
   "execution_count": null,
   "metadata": {},
   "outputs": [],
   "source": []
  },
  {
   "cell_type": "markdown",
   "metadata": {},
   "source": []
  },
  {
   "cell_type": "markdown",
   "metadata": {},
   "source": [
    "## 快速排序"
   ]
  },
  {
   "cell_type": "code",
   "execution_count": null,
   "metadata": {},
   "outputs": [],
   "source": []
  },
  {
   "cell_type": "code",
   "execution_count": null,
   "metadata": {},
   "outputs": [],
   "source": []
  },
  {
   "cell_type": "code",
   "execution_count": null,
   "metadata": {},
   "outputs": [],
   "source": []
  },
  {
   "cell_type": "markdown",
   "metadata": {},
   "source": [
    "# 选择排序"
   ]
  },
  {
   "cell_type": "markdown",
   "metadata": {},
   "source": [
    "## 简单选择排序"
   ]
  },
  {
   "cell_type": "code",
   "execution_count": null,
   "metadata": {},
   "outputs": [],
   "source": [
    "O(n**2) O(1) 不稳定"
   ]
  },
  {
   "cell_type": "code",
   "execution_count": 24,
   "metadata": {},
   "outputs": [
    {
     "name": "stdout",
     "output_type": "stream",
     "text": [
      "[2, 7, 9, 4, 5, 3, 1, 0, 4, 8]\n"
     ]
    }
   ],
   "source": [
    "import random\n",
    "nums = [1,2,3,4,5,4,7,9,8,0]\n",
    "random.shuffle(nums)\n",
    "print(nums)"
   ]
  },
  {
   "cell_type": "code",
   "execution_count": 15,
   "metadata": {},
   "outputs": [],
   "source": [
    "def select_sort(nums):\n",
    "    for i in range(len(nums) - 1):\n",
    "        maxindex = i\n",
    "        initindex = i\n",
    "        for j in range(i+1, len(nums)):\n",
    "            if nums[maxindex] < nums[j]:\n",
    "                maxindex = j\n",
    "        nums[initindex], nums[maxindex] = nums[maxindex], nums[initindex]\n",
    "    return nums    \n",
    "        "
   ]
  },
  {
   "cell_type": "code",
   "execution_count": 21,
   "metadata": {
    "scrolled": true
   },
   "outputs": [
    {
     "data": {
      "text/plain": [
       "[9, 8, 7, 5, 4, 4, 3, 2, 1, 0]"
      ]
     },
     "execution_count": 21,
     "metadata": {},
     "output_type": "execute_result"
    }
   ],
   "source": [
    "select_sort(nums)"
   ]
  },
  {
   "cell_type": "markdown",
   "metadata": {},
   "source": [
    "## 双边选择排序"
   ]
  },
  {
   "cell_type": "code",
   "execution_count": 29,
   "metadata": {},
   "outputs": [],
   "source": [
    "def double_select_sort(nums):\n",
    "    for i in range(len(nums)//2):\n",
    "        maxindex = i\n",
    "        begininitindex = i\n",
    "        minindex = len(nums)-(i+1)        \n",
    "        endinitindex = len(nums)-(i+1)\n",
    "        \n",
    "        for j in range(i+1, len(nums)-i):\n",
    "            if nums[maxindex] < nums[j]:\n",
    "                maxindex = j\n",
    "        nums[begininitindex], nums[maxindex] = nums[maxindex], nums[begininitindex]\n",
    "        \n",
    "        for k in range(len(nums)-(i+2),i ,-1):\n",
    "            if nums[minindex] > nums[k]:\n",
    "                minindex = k\n",
    "        nums[endinitindex], nums[minindex] = nums[minindex], nums[endinitindex]\n",
    "        \n",
    "        if nums[endinitindex] == nums[begininitindex]:\n",
    "            return nums\n",
    "    return nums"
   ]
  },
  {
   "cell_type": "code",
   "execution_count": 30,
   "metadata": {},
   "outputs": [
    {
     "data": {
      "text/plain": [
       "[9, 5, 4, 1]"
      ]
     },
     "execution_count": 30,
     "metadata": {},
     "output_type": "execute_result"
    }
   ],
   "source": [
    "nums = [1,9,4,5]\n",
    "double_select_sort(nums)"
   ]
  },
  {
   "cell_type": "markdown",
   "metadata": {},
   "source": [
    "## 堆排序"
   ]
  },
  {
   "cell_type": "code",
   "execution_count": 2,
   "metadata": {},
   "outputs": [
    {
     "data": {
      "text/plain": [
       "5"
      ]
     },
     "execution_count": 2,
     "metadata": {},
     "output_type": "execute_result"
    }
   ],
   "source": [
    "int('2')\n",
    "int('5')"
   ]
  },
  {
   "cell_type": "code",
   "execution_count": 4,
   "metadata": {},
   "outputs": [
    {
     "data": {
      "text/plain": [
       "4"
      ]
     },
     "execution_count": 4,
     "metadata": {},
     "output_type": "execute_result"
    }
   ],
   "source": [
    "2\n",
    "2\n",
    "4"
   ]
  },
  {
   "cell_type": "code",
   "execution_count": 7,
   "metadata": {},
   "outputs": [
    {
     "name": "stdout",
     "output_type": "stream",
     "text": [
      "11\n",
      "None\n"
     ]
    }
   ],
   "source": [
    "print(print(11))"
   ]
  },
  {
   "cell_type": "code",
   "execution_count": 10,
   "metadata": {
    "scrolled": true
   },
   "outputs": [
    {
     "name": "stdout",
     "output_type": "stream",
     "text": [
      "44\n",
      "None\n"
     ]
    }
   ],
   "source": [
    "a = print(44)\n",
    "print(a)"
   ]
  },
  {
   "cell_type": "code",
   "execution_count": null,
   "metadata": {},
   "outputs": [],
   "source": [
    "import random\n",
    "nums = [1,2,3,4,5,6,7]\n",
    "random.shuffle(nums)"
   ]
  },
  {
   "cell_type": "markdown",
   "metadata": {},
   "source": [
    "# 插入排序"
   ]
  },
  {
   "cell_type": "markdown",
   "metadata": {},
   "source": [
    "## 直接插入排序"
   ]
  },
  {
   "cell_type": "code",
   "execution_count": null,
   "metadata": {},
   "outputs": [],
   "source": [
    "1. 流程描述：先增加一个哨兵位，用来存放待排序元素\n",
    "从第2个元素开始，和左边有序序列中的第一位比较，如果j > 等待排序元素\n",
    "j移动到j+1位置，j本身加1，依次比较，直到j < 等待排序元素\n",
    "则将0位置元素放到j位置  O(n**2) O(1) 稳定"
   ]
  },
  {
   "cell_type": "code",
   "execution_count": 46,
   "metadata": {},
   "outputs": [],
   "source": [
    "\n",
    "lst = [1, 9, 5, 8]\n",
    "nums = [None] + lst # [None, 1, 9, 5, 8]\n",
    "def insert_sort(nums):\n",
    "    for i in range(2, len(nums)):        \n",
    "        if nums[i-1] > nums[i]:            \n",
    "            nums[0] = nums[i]  \n",
    "            j = i - 1\n",
    "            while 0< j  and nums[j] > nums[0]:            \n",
    "                nums[j+1] = nums[j]\n",
    "                j -= 1        \n",
    "            nums[j+1] = nums[0]\n",
    "        #print(nums)\n",
    "    return nums[1:]"
   ]
  },
  {
   "cell_type": "code",
   "execution_count": null,
   "metadata": {},
   "outputs": [],
   "source": []
  },
  {
   "cell_type": "code",
   "execution_count": 35,
   "metadata": {},
   "outputs": [
    {
     "name": "stdout",
     "output_type": "stream",
     "text": [
      "[None, 14, 0, 4, 17, 2, 7, 2, 13, 20, 12]\n"
     ]
    },
    {
     "data": {
      "text/plain": [
       "[0, 2, 2, 4, 7, 12, 13, 14, 17, 20]"
      ]
     },
     "execution_count": 35,
     "metadata": {},
     "output_type": "execute_result"
    }
   ],
   "source": [
    "import random\n",
    "nums = [None] + [random.randint(0, 20) for i in range(10)] \n",
    "print(nums)\n",
    "#nums = [19, 20, 2, 9, 18, 8, 11, 9, 8, 11]\n",
    "insert_sort(nums)"
   ]
  },
  {
   "cell_type": "code",
   "execution_count": 1,
   "metadata": {},
   "outputs": [],
   "source": [
    "# 老师给的方法，感觉会多几次不必要的交换\n",
    "def insert_sort(nums):\n",
    "    length = len(nums)\n",
    "    for i in range(2, length):\n",
    "        nums[0] = nums[i]\n",
    "        j = i - 1\n",
    "        if nums[j] > nums[0]:\n",
    "            while nums[j] > nums[0]:\n",
    "                nums[j+1] = nums[j]\n",
    "                j -= 1\n",
    "            nums[j+1] = nums[0]\n",
    "    return nums[1:]        "
   ]
  },
  {
   "cell_type": "code",
   "execution_count": 3,
   "metadata": {},
   "outputs": [
    {
     "data": {
      "text/plain": [
       "[0, 1, 4, 9]"
      ]
     },
     "execution_count": 3,
     "metadata": {},
     "output_type": "execute_result"
    }
   ],
   "source": [
    "nums = [None,1,4,9,0]\n",
    "insert_sort(nums)"
   ]
  },
  {
   "cell_type": "code",
   "execution_count": 36,
   "metadata": {},
   "outputs": [],
   "source": [
    "def insert_sort(nums):\n",
    "    lenght = len(nums)\n",
    "    for i in range(1, lenght):\n",
    "        if nums[i-1] > nums[i]:\n",
    "            temp = nums[i]\n",
    "            j = i - 1\n",
    "            while -1<j and nums[j] > temp:\n",
    "                nums[j+1] = nums[j]\n",
    "                j -= 1\n",
    "            nums[j+1] = temp\n",
    "    return nums"
   ]
  },
  {
   "cell_type": "code",
   "execution_count": 44,
   "metadata": {
    "scrolled": true
   },
   "outputs": [
    {
     "name": "stdout",
     "output_type": "stream",
     "text": [
      "[9, 12, 16, 6, 12, 19, 20, 19, 2, 7]\n"
     ]
    }
   ],
   "source": [
    "import random\n",
    "nums = [random.randint(0, 20) for i in range(10)] \n",
    "print(nums)"
   ]
  },
  {
   "cell_type": "code",
   "execution_count": 45,
   "metadata": {},
   "outputs": [
    {
     "data": {
      "text/plain": [
       "[2, 6, 7, 9, 12, 12, 16, 19, 19, 20]"
      ]
     },
     "execution_count": 45,
     "metadata": {},
     "output_type": "execute_result"
    }
   ],
   "source": [
    "insert_sort(nums)"
   ]
  },
  {
   "cell_type": "code",
   "execution_count": null,
   "metadata": {},
   "outputs": [],
   "source": []
  },
  {
   "cell_type": "code",
   "execution_count": null,
   "metadata": {},
   "outputs": [],
   "source": []
  },
  {
   "cell_type": "code",
   "execution_count": null,
   "metadata": {},
   "outputs": [],
   "source": []
  },
  {
   "cell_type": "code",
   "execution_count": null,
   "metadata": {},
   "outputs": [],
   "source": []
  },
  {
   "cell_type": "code",
   "execution_count": 21,
   "metadata": {
    "scrolled": true
   },
   "outputs": [
    {
     "name": "stdout",
     "output_type": "stream",
     "text": [
      "[None, 19, 1, 16, 5, 19, 14, 16, 18, 5, 10]\n"
     ]
    }
   ],
   "source": [
    "import random\n",
    "nums = [None] + [random.randint(0, 20) for i in range(10)] \n",
    "print(nums)"
   ]
  },
  {
   "cell_type": "code",
   "execution_count": 22,
   "metadata": {
    "scrolled": true
   },
   "outputs": [
    {
     "data": {
      "text/plain": [
       "[1, 5, 5, 10, 14, 16, 16, 18, 19, 19]"
      ]
     },
     "execution_count": 22,
     "metadata": {},
     "output_type": "execute_result"
    }
   ],
   "source": []
  },
  {
   "cell_type": "code",
   "execution_count": null,
   "metadata": {},
   "outputs": [],
   "source": []
  },
  {
   "cell_type": "code",
   "execution_count": null,
   "metadata": {},
   "outputs": [],
   "source": []
  }
 ],
 "metadata": {
  "kernelspec": {
   "display_name": "Python 3",
   "language": "python",
   "name": "python3"
  },
  "language_info": {
   "codemirror_mode": {
    "name": "ipython",
    "version": 3
   },
   "file_extension": ".py",
   "mimetype": "text/x-python",
   "name": "python",
   "nbconvert_exporter": "python",
   "pygments_lexer": "ipython3",
   "version": "3.6.8"
  }
 },
 "nbformat": 4,
 "nbformat_minor": 2
}
