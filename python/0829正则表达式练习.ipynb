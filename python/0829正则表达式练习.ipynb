{
 "cells": [
  {
   "cell_type": "code",
   "execution_count": null,
   "metadata": {},
   "outputs": [],
   "source": [
    "# 作业"
   ]
  },
  {
   "cell_type": "code",
   "execution_count": 47,
   "metadata": {},
   "outputs": [
    {
     "name": "stdout",
     "output_type": "stream",
     "text": [
      "['hot-mail.com']\n",
      "['magedu.com']\n",
      "['magedu.com.cn']\n",
      "['.com']\n",
      "[]\n"
     ]
    }
   ],
   "source": [
    "import re\n",
    "print(re.findall('[a-z.-]+\\.com', 'test@hot-mail.com'))\n",
    "print(re.findall('[a-z.-]+\\.com', 'v-ip@magedu.com'))\n",
    "print(re.findall('[a-z.-]+\\.cn|\\.com', 'web.manager@magedu.com.cn'))\n",
    "print(re.findall('[a-z.-]+\\.cn|\\.com', 'super.user@google.com'))\n",
    "print(re.findall('[a-z.-]+\\.com', 'a@w-a-com'))\n"
   ]
  },
  {
   "cell_type": "code",
   "execution_count": 57,
   "metadata": {},
   "outputs": [
    {
     "name": "stdout",
     "output_type": "stream",
     "text": [
      "[]\n"
     ]
    }
   ],
   "source": [
    "print(re.findall('\\b(?: <a)', \"<a href='http://www.magedu.com/index.html' target='_blank'>马哥教育</a>\"))"
   ]
  },
  {
   "cell_type": "code",
   "execution_count": 79,
   "metadata": {},
   "outputs": [
    {
     "name": "stdout",
     "output_type": "stream",
     "text": [
      "['http://www.magedu.com/index.html']\n",
      "['https://login.magedu.com']\n",
      "['file:///ect/sysconfig/network']\n"
     ]
    }
   ],
   "source": [
    "print(re.findall('(?:http|https|file)://.+', 'http://www.magedu.com/index.html'))\n",
    "print(re.findall('(?:http|https|file)://.+', 'https://login.magedu.com'))\n",
    "print(re.findall('(?:http|https|file)://{2}.+', 'file:///ect/sysconfig/network'))"
   ]
  },
  {
   "cell_type": "code",
   "execution_count": 82,
   "metadata": {},
   "outputs": [
    {
     "name": "stdout",
     "output_type": "stream",
     "text": [
      "[]\n",
      "['321105197001010030']\n",
      "['11210020170101054x']\n"
     ]
    }
   ],
   "source": [
    "a = '321105800101003'\n",
    "b = '321105197001010030'\n",
    "c = '11210020170101054x'\n",
    "print(re.findall('[0-9]{6}[0-9]{8}[0-9]{3}[0-9]|x', a))\n",
    "print(re.findall('[0-9]{6}[0-9]{8}[0-9]{3}[0-9]|x', b))\n",
    "print(re.findall('[0-9]{6}[0-9]{8}[0-9]{3}(?:[0-9]|x)', c))"
   ]
  },
  {
   "cell_type": "code",
   "execution_count": 93,
   "metadata": {},
   "outputs": [
    {
     "name": "stdout",
     "output_type": "stream",
     "text": [
      "['A', 'atb', '32', '_', '67', 'mnq']\n"
     ]
    }
   ],
   "source": [
    "# 判断密码强度\n",
    "a = 'Aatb32_67mnq'\n",
    "print(re.findall('[0-9]+|[a-z]+|[A-Z]+|\\_', a))"
   ]
  },
  {
   "cell_type": "code",
   "execution_count": 95,
   "metadata": {},
   "outputs": [],
   "source": [
    "# 匹配一个0-999之间的任意数字\n",
    "lst = ['1', '12', '995', '9999', '102', '02', '003', '4d']"
   ]
  },
  {
   "cell_type": "code",
   "execution_count": 96,
   "metadata": {},
   "outputs": [
    {
     "name": "stdout",
     "output_type": "stream",
     "text": [
      "['1']\n",
      "['12']\n",
      "['995']\n",
      "['999', '9']\n",
      "['102']\n",
      "['02']\n",
      "['003']\n",
      "['4']\n"
     ]
    }
   ],
   "source": [
    "for i in lst:\n",
    "    print(re.findall('[0-9]{1,3}', i))"
   ]
  },
  {
   "cell_type": "code",
   "execution_count": null,
   "metadata": {},
   "outputs": [],
   "source": [
    "# 匹配合法的IP地址\n",
    "lst = ['192.168.1.150', '0.0.0.0', '255.255.255.255', '17.16.52.100', '172.16.0.100', '400.400.999.888', '001.022.003.000', '257.257.255.256']\n",
    "\n",
    "\n"
   ]
  },
  {
   "cell_type": "code",
   "execution_count": 97,
   "metadata": {},
   "outputs": [
    {
     "name": "stdout",
     "output_type": "stream",
     "text": [
      "[]\n"
     ]
    }
   ],
   "source": [
    "# 选出含有ftp链接，且文件类型是gz或者xz的文件名\n",
    "print(re.findall('ftp[\\/\\.\\w+](gz|xz)', 'ftp://ftp.astron.com/pub/file/file-5.14.tar.gz'))"
   ]
  },
  {
   "cell_type": "code",
   "execution_count": null,
   "metadata": {},
   "outputs": [],
   "source": []
  },
  {
   "cell_type": "code",
   "execution_count": null,
   "metadata": {},
   "outputs": [],
   "source": []
  },
  {
   "cell_type": "code",
   "execution_count": null,
   "metadata": {},
   "outputs": [],
   "source": []
  },
  {
   "cell_type": "code",
   "execution_count": 3,
   "metadata": {},
   "outputs": [
    {
     "name": "stdout",
     "output_type": "stream",
     "text": [
      "None\n"
     ]
    }
   ],
   "source": [
    "print(re.match('\\d+', '手机号：158990000399'))"
   ]
  },
  {
   "cell_type": "code",
   "execution_count": 4,
   "metadata": {},
   "outputs": [
    {
     "data": {
      "text/plain": [
       "['158990000399']"
      ]
     },
     "execution_count": 4,
     "metadata": {},
     "output_type": "execute_result"
    }
   ],
   "source": [
    "re.findall('1[3578]{3}', '手机号：158990000399')"
   ]
  },
  {
   "cell_type": "code",
   "execution_count": 5,
   "metadata": {},
   "outputs": [
    {
     "data": {
      "text/plain": [
       "['025-83078', '0543-89990']"
      ]
     },
     "execution_count": 5,
     "metadata": {},
     "output_type": "execute_result"
    }
   ],
   "source": [
    "re.findall('\\d+-\\d+', '座机号025-83078、0543-89990.')"
   ]
  },
  {
   "cell_type": "code",
   "execution_count": null,
   "metadata": {},
   "outputs": [],
   "source": [
    "# 笔记整理\n",
    "正则表达式(Regular Expresion): regex,regexp,RE\n",
    "    基本正则表达式：(BRE), grep、sed、vi等软件支\n",
    "    持。vim有扩展\n",
    "    扩展正则表达式：(ERE) egrep(grep-E)、sed-r等\n",
    "    PCRE:几乎所有高级语言都是PCRE的方言或者变种\n",
    "正则表达式中的元字符(metacharater):\n",
    "控制匹配次数的字符：\n",
    "捕获(分组匹配)：\n",
    "贪婪匹配：\n",
    "\n",
    "转义字符：正则表达式中有特殊意义的字符用\\转义，例如：\n",
    "\\\\ 表示反斜杠  \\r \\n \\r\\n表示换行\n",
    "或： x|y\n",
    "    \n",
    "    \n",
    "    "
   ]
  },
  {
   "cell_type": "code",
   "execution_count": 105,
   "metadata": {},
   "outputs": [
    {
     "name": "stdout",
     "output_type": "stream",
     "text": [
      "[]\n"
     ]
    }
   ],
   "source": [
    "print(re.findall('(P very) \\1', 'very very'))"
   ]
  },
  {
   "cell_type": "code",
   "execution_count": 100,
   "metadata": {},
   "outputs": [
    {
     "name": "stdout",
     "output_type": "stream",
     "text": [
      "None\n"
     ]
    }
   ],
   "source": [
    "print(re.search('(very)\\1', 'very very'))"
   ]
  },
  {
   "cell_type": "code",
   "execution_count": null,
   "metadata": {},
   "outputs": [],
   "source": []
  },
  {
   "cell_type": "code",
   "execution_count": null,
   "metadata": {},
   "outputs": [],
   "source": []
  },
  {
   "cell_type": "code",
   "execution_count": null,
   "metadata": {},
   "outputs": [],
   "source": []
  },
  {
   "cell_type": "code",
   "execution_count": null,
   "metadata": {},
   "outputs": [],
   "source": []
  },
  {
   "cell_type": "code",
   "execution_count": null,
   "metadata": {},
   "outputs": [],
   "source": []
  },
  {
   "cell_type": "code",
   "execution_count": null,
   "metadata": {},
   "outputs": [],
   "source": []
  },
  {
   "cell_type": "code",
   "execution_count": null,
   "metadata": {},
   "outputs": [],
   "source": []
  },
  {
   "cell_type": "code",
   "execution_count": null,
   "metadata": {},
   "outputs": [],
   "source": []
  },
  {
   "cell_type": "code",
   "execution_count": null,
   "metadata": {},
   "outputs": [],
   "source": []
  },
  {
   "cell_type": "code",
   "execution_count": null,
   "metadata": {},
   "outputs": [],
   "source": []
  },
  {
   "cell_type": "code",
   "execution_count": null,
   "metadata": {},
   "outputs": [],
   "source": []
  },
  {
   "cell_type": "code",
   "execution_count": null,
   "metadata": {},
   "outputs": [],
   "source": []
  },
  {
   "cell_type": "code",
   "execution_count": null,
   "metadata": {},
   "outputs": [],
   "source": []
  },
  {
   "cell_type": "code",
   "execution_count": null,
   "metadata": {},
   "outputs": [],
   "source": []
  },
  {
   "cell_type": "code",
   "execution_count": null,
   "metadata": {},
   "outputs": [],
   "source": []
  },
  {
   "cell_type": "code",
   "execution_count": null,
   "metadata": {},
   "outputs": [],
   "source": []
  }
 ],
 "metadata": {
  "kernelspec": {
   "display_name": "Python 3",
   "language": "python",
   "name": "python3"
  },
  "language_info": {
   "codemirror_mode": {
    "name": "ipython",
    "version": 3
   },
   "file_extension": ".py",
   "mimetype": "text/x-python",
   "name": "python",
   "nbconvert_exporter": "python",
   "pygments_lexer": "ipython3",
   "version": "3.6.8"
  }
 },
 "nbformat": 4,
 "nbformat_minor": 2
}
