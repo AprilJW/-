{
 "cells": [
  {
   "cell_type": "code",
   "execution_count": null,
   "metadata": {},
   "outputs": [],
   "source": [
    "# 作业"
   ]
  },
  {
   "cell_type": "code",
   "execution_count": 24,
   "metadata": {},
   "outputs": [
    {
     "name": "stdout",
     "output_type": "stream",
     "text": [
      "['hot-mail.com']\n",
      "['magedu.com']\n",
      "['magedu.com.cn']\n",
      "['google.com']\n",
      "[]\n"
     ]
    }
   ],
   "source": [
    "import re\n",
    "print(re.findall('[a-z.-]+\\.com', 'test@hot-mail.com'))\n",
    "print(re.findall('[a-z.-]+\\.com', 'v-ip@magedu.com'))\n",
    "print(re.findall('[a-z.-]+\\.cn|\\.com', 'web.manager@magedu.com.cn'))\n",
    "print(re.findall('[a-z.-]+(?:\\.cn|\\.com)', 'super.user@google.com'))\n",
    "print(re.findall('[a-z.-]+\\.com', 'a@w-a-com'))\n"
   ]
  },
  {
   "cell_type": "code",
   "execution_count": 48,
   "metadata": {},
   "outputs": [
    {
     "name": "stdout",
     "output_type": "stream",
     "text": [
      "[\"href='http://www.magedu.com/index.html' target='_blank'>马哥教育<\"]\n"
     ]
    }
   ],
   "source": [
    "print(re.findall('<a (.*)/a>', \"<a href='http://www.magedu.com/index.html' target='_blank'>马哥教育</a>\"))"
   ]
  },
  {
   "cell_type": "code",
   "execution_count": 86,
   "metadata": {},
   "outputs": [
    {
     "name": "stdout",
     "output_type": "stream",
     "text": [
      "['http://www.magedu.com/index.html']\n",
      "['https://login.magedu.com']\n",
      "[]\n"
     ]
    }
   ],
   "source": [
    "a = 'http://www.magedu.com/index.html'\n",
    "b = 'https://login.magedu.com'\n",
    "c = 'file:///ect/sysconfig/network'\n",
    "lst = [a, b, c]\n",
    "for i in lst:\n",
    "    print(re.findall('(?:https?|file)://(?:[a-z]+/|[a-z]+|[.])+', i))\n",
    "\n",
    "# print(re.findall('(?:https?|file)://(?:[a-z]|[./])+', a))\n",
    "# print(re.findall('(?:https?|file)://(?:[a-z]|[./])+', b))\n",
    "# print(re.findall('(?:http|https|file)://{2}.+', c))"
   ]
  },
  {
   "cell_type": "code",
   "execution_count": 62,
   "metadata": {},
   "outputs": [
    {
     "name": "stdout",
     "output_type": "stream",
     "text": [
      "[]\n",
      "['321105197001010030']\n",
      "['11210020170101054x']\n"
     ]
    }
   ],
   "source": [
    "# 匹配17位身份证，前6位，中间8位为出生日期，后3位为数字，最后一位为x或者数字\n",
    "a = '321105800101003'\n",
    "b = '321105197001010030'\n",
    "c = '11210020170101054x'\n",
    "print(re.findall('[0-9]{6}[0-9]{8}[0-9]{3}[0-9]|x', a))\n",
    "print(re.findall('[1-9]\\d{5}(?:1[5-9][0-9]{2}|20[01][0-9])(?:0[0-9]|1[0-2])(?:[0-2]\\d)\\d{3}(?:\\d|x)', b))\n",
    "print(re.findall('[1-9]\\d{5}(?:1[5-9][0-9]{2}|20[01][0-9])(?:0[0-9]|1[0-2])(?:[0-2]\\d)\\d{3}(?:\\d|x)', c))"
   ]
  },
  {
   "cell_type": "code",
   "execution_count": 61,
   "metadata": {
    "scrolled": true
   },
   "outputs": [
    {
     "name": "stdout",
     "output_type": "stream",
     "text": [
      "['11210020170101054x']\n"
     ]
    }
   ],
   "source": [
    "print(re.findall('[1-9]\\d{5}(?:1[5-9][0-9]{2}|20[01][0-9])(?:0[0-9]|1[0-2])(?:[0-2]\\d)\\d{3}(?:\\d|x)', c))"
   ]
  },
  {
   "cell_type": "code",
   "execution_count": 63,
   "metadata": {},
   "outputs": [
    {
     "name": "stdout",
     "output_type": "stream",
     "text": [
      "['A', 'atb', '32', '_', '67', 'mnq']\n"
     ]
    }
   ],
   "source": [
    "# 判断密码强度\n",
    "a = 'Aatb32_67mnq'\n",
    "print(re.findall('[0-9]+|[a-z]+|[A-Z]+|_', a))"
   ]
  },
  {
   "cell_type": "code",
   "execution_count": 95,
   "metadata": {},
   "outputs": [],
   "source": [
    "# 匹配一个0-999之间的任意数字\n",
    "lst = ['1', '12', '995', '9999', '102', '02', '003', '4d']"
   ]
  },
  {
   "cell_type": "code",
   "execution_count": 96,
   "metadata": {},
   "outputs": [
    {
     "name": "stdout",
     "output_type": "stream",
     "text": [
      "['1']\n",
      "['12']\n",
      "['995']\n",
      "['999', '9']\n",
      "['102']\n",
      "['02']\n",
      "['003']\n",
      "['4']\n"
     ]
    }
   ],
   "source": [
    "for i in lst:\n",
    "    print(re.findall('[0-9]{1,3}', i))"
   ]
  },
  {
   "cell_type": "code",
   "execution_count": 104,
   "metadata": {
    "scrolled": false
   },
   "outputs": [
    {
     "name": "stdout",
     "output_type": "stream",
     "text": [
      "['192.168.1.150']\n",
      "['0.0.0.0']\n",
      "['255.255.255.255']\n",
      "['17.16.52.100']\n",
      "['172.16.0.100']\n",
      "[]\n",
      "['001.022.003.000']\n",
      "[]\n"
     ]
    }
   ],
   "source": [
    "# 匹配合法的IP地址\n",
    "lst = ['192.168.1.150', '0.0.0.0', '255.255.255.255', '17.16.52.100', '172.16.0.100', '400.400.999.888', '001.022.003.000', '257.257.255.256']\n",
    "for i in lst:    \n",
    "    print(re.findall('(?:(?:25[0-5]|2[0-4]\\d|[0-1]\\d{0,2}|\\d{2}|\\d)\\.){3}(?:25[0-5]|2[0-4]\\d|[0-1]\\d{0,2})', i))\n",
    "\n"
   ]
  },
  {
   "cell_type": "code",
   "execution_count": 107,
   "metadata": {},
   "outputs": [
    {
     "name": "stdout",
     "output_type": "stream",
     "text": [
      "['ftp://ftp.astron.com/pub/file/file-5.14.tar.gz']\n",
      "['ftp://ftp.gmplib.org/pub/gmp-5.1.2/gmp-5.1.2.tar.xz']\n",
      "[]\n",
      "[]\n",
      "[]\n",
      "[]\n",
      "[]\n",
      "[]\n",
      "['ftp.altlinux.org/pub/people/legion/kbd-1.15.5.tar.gz']\n",
      "[]\n",
      "[]\n"
     ]
    }
   ],
   "source": [
    "# 选出含有ftp链接，且文件类型是gz或者xz的文件名\n",
    "alst = ['ftp://ftp.astron.com/pub/file/file-5.14.tar.gz',\n",
    "       'ftp://ftp.gmplib.org/pub/gmp-5.1.2/gmp-5.1.2.tar.xz',\n",
    "       'ftp://ftp.vim.org/pub/vim/unix/vim-7.3.tar.bz2',\n",
    "       'http://anduin.linuxfromscratch.org/sources/LFS/lfs-packages/conglomeration//iana-etc/iana-etc-2.30.tar.bz2',\n",
    "       'http://anduin.linuxfromscratch.org/sources/other/udev-lfs-205-1.tar.bz2',\n",
    "       'http://download.savanah.gnu.org/releases/libpipeline/libpipeline-1.2.4.tar.gz',\n",
    "       'http://download.savannah.gnu.org/releses/man-db/man-db-2.6.5.tar.xz',\n",
    "       'http://downloadsavannah.gnu.org/releases/sysvinit/sysvinit-2.88dsf.tar.bz2',\n",
    "       'http://ftp.altlinux.org/pub/people/legion/kbd-1.15.5.tar.gz',\n",
    "       'http://mirror.hust.edu.cn/gnu.autoconf/autoconf-2.69.tar.xz',\n",
    "       'http://mirror.hust.edu.cn/gnu/automake/automake-1.14.tar.xz']\n",
    "for i in alst:    \n",
    "    print(re.findall('ftp.*\\.(?:g|x)z$', i))"
   ]
  },
  {
   "cell_type": "code",
   "execution_count": 54,
   "metadata": {},
   "outputs": [
    {
     "name": "stdout",
     "output_type": "stream",
     "text": [
      "['23z']\n"
     ]
    }
   ],
   "source": [
    "print(re.findall('\\d+z$', '23z'))"
   ]
  },
  {
   "cell_type": "code",
   "execution_count": null,
   "metadata": {},
   "outputs": [],
   "source": []
  },
  {
   "cell_type": "code",
   "execution_count": null,
   "metadata": {},
   "outputs": [],
   "source": []
  },
  {
   "cell_type": "code",
   "execution_count": 3,
   "metadata": {},
   "outputs": [
    {
     "name": "stdout",
     "output_type": "stream",
     "text": [
      "None\n"
     ]
    }
   ],
   "source": [
    "print(re.match('\\d+', '手机号：158990000399'))"
   ]
  },
  {
   "cell_type": "code",
   "execution_count": 4,
   "metadata": {},
   "outputs": [
    {
     "data": {
      "text/plain": [
       "['158990000399']"
      ]
     },
     "execution_count": 4,
     "metadata": {},
     "output_type": "execute_result"
    }
   ],
   "source": [
    "re.findall('1[3578]{3}', '手机号：158990000399')"
   ]
  },
  {
   "cell_type": "code",
   "execution_count": 5,
   "metadata": {},
   "outputs": [
    {
     "data": {
      "text/plain": [
       "['025-83078', '0543-89990']"
      ]
     },
     "execution_count": 5,
     "metadata": {},
     "output_type": "execute_result"
    }
   ],
   "source": [
    "re.findall('\\d+-\\d+', '座机号025-83078、0543-89990.')"
   ]
  },
  {
   "cell_type": "code",
   "execution_count": null,
   "metadata": {},
   "outputs": [],
   "source": [
    "# 笔记整理\n",
    "正则表达式(Regular Expresion): regex,regexp,RE\n",
    "    基本正则表达式：(BRE), grep、sed、vi等软件支\n",
    "    持。vim有扩展\n",
    "    扩展正则表达式：(ERE) egrep(grep-E)、sed-r等\n",
    "    PCRE:几乎所有高级语言都是PCRE的方言或者变种\n",
    "正则表达式中的元字符(metacharater):\n",
    "控制匹配次数的字符：\n",
    "捕获(分组匹配)：\n",
    "贪婪匹配：\n",
    "\n",
    "转义字符：正则表达式中有特殊意义的字符用\\转义，例如：\n",
    "\\\\ 表示反斜杠  \\r \\n \\r\\n表示换行\n",
    "或： x|y\n",
    "    \n",
    "    \n",
    "    "
   ]
  },
  {
   "cell_type": "code",
   "execution_count": 105,
   "metadata": {},
   "outputs": [
    {
     "name": "stdout",
     "output_type": "stream",
     "text": [
      "[]\n"
     ]
    }
   ],
   "source": [
    "print(re.findall('(P very) \\1', 'very very'))"
   ]
  },
  {
   "cell_type": "code",
   "execution_count": 100,
   "metadata": {},
   "outputs": [
    {
     "name": "stdout",
     "output_type": "stream",
     "text": [
      "None\n"
     ]
    }
   ],
   "source": [
    "print(re.search('(very)\\1', 'very very'))"
   ]
  },
  {
   "cell_type": "code",
   "execution_count": 30,
   "metadata": {},
   "outputs": [
    {
     "name": "stdout",
     "output_type": "stream",
     "text": [
      "['http://tinyurl.com/NYCRooftops']\n"
     ]
    }
   ],
   "source": [
    "import re\n",
    "pattern = re.compile(r'http[s]?://(?:[a-zA-Z]|[0-9]|[$-_@.&+]|[!*\\(\\),]|(?:%[0-9a-fA-F][0-9a-fA-F]))+') # 匹配模式\n",
    " \n",
    "string = 'Its after 12 noon, do you know where your rooftops are? http://tinyurl.com/NYCRooftops '\n",
    "\n",
    "url = re.findall(pattern, string)\n",
    "print (url)\n",
    " \n"
   ]
  },
  {
   "cell_type": "code",
   "execution_count": 38,
   "metadata": {},
   "outputs": [
    {
     "data": {
      "text/plain": [
       "['http://tinyurl.com/NYCRooftops']"
      ]
     },
     "execution_count": 38,
     "metadata": {},
     "output_type": "execute_result"
    }
   ],
   "source": [
    "re.findall(r'https?://(?:[a-zA-Z]|[./]|[0-9])+', string)"
   ]
  },
  {
   "cell_type": "code",
   "execution_count": 36,
   "metadata": {},
   "outputs": [
    {
     "name": "stdout",
     "output_type": "stream",
     "text": [
      "[]\n"
     ]
    }
   ],
   "source": [
    "pattern = '((2[0-4]\\d|25[0-5]|[01]?\\d\\d?)\\.){3}'\n",
    "print(re.findall(pattern, '255.01.20'))"
   ]
  },
  {
   "cell_type": "code",
   "execution_count": 28,
   "metadata": {},
   "outputs": [
    {
     "name": "stdout",
     "output_type": "stream",
     "text": [
      "['245', '246', '24']\n"
     ]
    }
   ],
   "source": [
    "pattern = '2[0-4]\\d|2[0-4]'\n",
    "print(re.findall(pattern, '24524624'))"
   ]
  },
  {
   "cell_type": "code",
   "execution_count": 5,
   "metadata": {},
   "outputs": [
    {
     "name": "stdout",
     "output_type": "stream",
     "text": [
      "[0, 3, 5, 2, 2, 6, 6, 3, 3, 3]\n"
     ]
    },
    {
     "data": {
      "text/plain": [
       "[0, 3, 5, 2, 6]"
      ]
     },
     "execution_count": 5,
     "metadata": {},
     "output_type": "execute_result"
    }
   ],
   "source": [
    "# 原列表上去重复\n",
    "import random \n",
    "alst = [random.randint(0, 7) for i in range(10)]\n",
    "print(alst)\n",
    "def remove_duplicate_element(alst):\n",
    "    i = 0\n",
    "    j = 1\n",
    "    length = len(alst)\n",
    "    while j < length:\n",
    "        for k in range(0, j):\n",
    "            if alst[k] == alst[j]:\n",
    "                break\n",
    "        else:\n",
    "            alst[i+1] = alst[j]\n",
    "            i += 1\n",
    "        j += 1\n",
    "    return alst[:i+1]\n",
    "remove_duplicate_element(alst)"
   ]
  },
  {
   "cell_type": "code",
   "execution_count": 86,
   "metadata": {},
   "outputs": [
    {
     "ename": "SyntaxError",
     "evalue": "invalid character in identifier (<ipython-input-86-46d877876fd9>, line 1)",
     "output_type": "error",
     "traceback": [
      "\u001b[0;36m  File \u001b[0;32m\"<ipython-input-86-46d877876fd9>\"\u001b[0;36m, line \u001b[0;32m1\u001b[0m\n\u001b[0;31m    1、如果不使用^和$的话，对于\\d{5,12}而言，使用这样的方法就只能保证字符串里包含5到12\u001b[0m\n\u001b[0m          ^\u001b[0m\n\u001b[0;31mSyntaxError\u001b[0m\u001b[0;31m:\u001b[0m invalid character in identifier\n"
     ]
    }
   ],
   "source": [
    "1、如果不使用^和$的话，对于\\d{5,12}而言，使用这样的方法就只能保证字符串里包含5到12\n",
    "连续位数字，而不是整个字符串就是5到12位数字。\n",
    "2、查找一些元字符本身会出现问题，因为这些元字符已经变成别的意思了，所以我们没有办法指定这些元字符。\n",
    "出现这种情况，我们就得使用\\来取消这些字符的特殊意义。所以，我们应该使用\\.和\\*。当然，要查找\\本身，你也得用\\\\。\n",
    "3.[aeiou]就匹配任何一个英文元音字母，[.?!]匹配标点符号(.或?或!)。\n",
    "4、\\(?0\\d{2}[) -]?\\d{8} 这个表达式可以匹配几种格式的电话号码，\n",
    "像(010)88886666，或022-22334455，或029 12345678，或02912345678等。\\(匹配左括号，出现1次或者0次，\n",
    "[) -]匹配)或空格或-，出现1次或者0次\n",
    "5、 ) 也是元字节，需要转义\\(\n",
    "6、分支条件 |\n",
    "使用分枝条件时，要注意各个条件的顺序。如果你把它改成\\d{5}|\\d{5}-\\d{4}的话，\n",
    "    那么就只会匹配5位的邮编(以及9位邮编的前5位)。原因是匹配分枝条件时，\n",
    "    将会从左到右地测试每个条件，如果满足了某个分枝的话，就不会去再管其它的条件了。\n",
    "7、例子：\\(0\\d{2}\\)[- ]?\\d{8}|0\\d{2}[- ]?\\d{8}这个表达式匹配3位区号的电话号码，其中区号可以用小括号括起来，\n",
    "也可以不用，区号与本地号间可以用连字号或空格间隔，也可以没有间隔。\n",
    "8、那么多个字符的重复又该如何实现呢？你可以使用小括号来指定子表达式（也称为分组），\n",
    "    然后对于这个子表达式的重复次数就可以自行规定了。\n",
    "9、匹配IP地址：((2[0-4]\\d|25[0-5]|[01]?\\d\\d?)\\.){3}(2[0-4]\\d|25[0-5]|[01]?\\d\\d?)\n",
    "    每一位IP不能超过255\n",
    "10、匹配重复单词\n",
    "    \\b(\\w+)\\b\\s+\\1\\b可以用来匹配重复的单词，像go go, 或者kitty kitty。\n",
    "    这个表达式首先是一个单词，也就是单词开始处和结束处之间的多于一个的字母或数字(\\b(\\w+)\\b)，\n",
    "    这个单词会被捕获到编号为1的分组中，然后是1个或几个空白符(\\s+)，\n",
    "    最后是分组1中捕获的内容（也就是前面匹配的那个单词）(\\1)。\n",
    "11、((?<=\\d)\\d{3})+\\b，用它对1234567890进行查找时结果是234567890。\n",
    "12、使用了这两种断言：(?<=\\s)\\d+(?=\\s)匹配以空白符间隔的数字(再次强调，不包括这些空白符)。"
   ]
  },
  {
   "cell_type": "code",
   "execution_count": 18,
   "metadata": {},
   "outputs": [
    {
     "name": "stdout",
     "output_type": "stream",
     "text": [
      "[]\n"
     ]
    }
   ],
   "source": [
    "import re\n",
    "#print(re.findall('(very) \\1', 'very very very'))# 无法匹配\n",
    "print(re.findall('\\b(\\w+)\\b\\s+\\1\\b', 'very very very')) # 无法匹配"
   ]
  },
  {
   "cell_type": "code",
   "execution_count": 19,
   "metadata": {},
   "outputs": [
    {
     "name": "stdout",
     "output_type": "stream",
     "text": [
      "[]\n"
     ]
    }
   ],
   "source": [
    "print(re.findall('((?<=\\d)\\d{3})+\\b', '1234567890'))"
   ]
  },
  {
   "cell_type": "code",
   "execution_count": 21,
   "metadata": {},
   "outputs": [
    {
     "name": "stdout",
     "output_type": "stream",
     "text": [
      "None\n"
     ]
    }
   ],
   "source": [
    "a = re.search('((?<=\\d)\\d{3})+\\b', '1234567890')\n",
    "print(a)"
   ]
  },
  {
   "cell_type": "code",
   "execution_count": null,
   "metadata": {},
   "outputs": [],
   "source": [
    "re"
   ]
  },
  {
   "cell_type": "code",
   "execution_count": null,
   "metadata": {},
   "outputs": [],
   "source": []
  },
  {
   "cell_type": "code",
   "execution_count": null,
   "metadata": {},
   "outputs": [],
   "source": []
  },
  {
   "cell_type": "code",
   "execution_count": null,
   "metadata": {},
   "outputs": [],
   "source": []
  },
  {
   "cell_type": "code",
   "execution_count": null,
   "metadata": {},
   "outputs": [],
   "source": []
  },
  {
   "cell_type": "code",
   "execution_count": null,
   "metadata": {},
   "outputs": [],
   "source": []
  },
  {
   "cell_type": "code",
   "execution_count": null,
   "metadata": {},
   "outputs": [],
   "source": []
  }
 ],
 "metadata": {
  "kernelspec": {
   "display_name": "Python 3",
   "language": "python",
   "name": "python3"
  },
  "language_info": {
   "codemirror_mode": {
    "name": "ipython",
    "version": 3
   },
   "file_extension": ".py",
   "mimetype": "text/x-python",
   "name": "python",
   "nbconvert_exporter": "python",
   "pygments_lexer": "ipython3",
   "version": "3.6.8"
  }
 },
 "nbformat": 4,
 "nbformat_minor": 2
}
