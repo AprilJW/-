{
 "cells": [
  {
   "cell_type": "code",
   "execution_count": 19,
   "metadata": {},
   "outputs": [
    {
     "name": "stdout",
     "output_type": "stream",
     "text": [
      "[None, 14, 5, 11, 12, 5, 16, 19, 20, 19, 9]\n"
     ]
    }
   ],
   "source": [
    "import random\n",
    "nums = [random.randint(0, 20) for i in range(10)]\n",
    "nums = [None] + nums\n",
    "print(nums)"
   ]
  },
  {
   "cell_type": "code",
   "execution_count": 20,
   "metadata": {},
   "outputs": [],
   "source": [
    "def insert_sort(nums):\n",
    "    lenght = len(nums)\n",
    "    for i in range(2, lenght):\n",
    "        nums[0] = nums[i]\n",
    "        j = i-1\n",
    "        if nums[j] > nums[0]:\n",
    "            while nums[j] > nums[0]:\n",
    "                nums[j+1] = nums[j]\n",
    "                j -= 1\n",
    "            nums[j+1] = nums[0]\n",
    "    return nums[1:]        "
   ]
  },
  {
   "cell_type": "code",
   "execution_count": 21,
   "metadata": {},
   "outputs": [
    {
     "data": {
      "text/plain": [
       "[5, 5, 9, 11, 12, 14, 16, 19, 19, 20]"
      ]
     },
     "execution_count": 21,
     "metadata": {},
     "output_type": "execute_result"
    }
   ],
   "source": [
    "insert_sort(nums)"
   ]
  },
  {
   "cell_type": "code",
   "execution_count": 51,
   "metadata": {},
   "outputs": [
    {
     "name": "stdout",
     "output_type": "stream",
     "text": [
      "[16, 5, 0, 7, 15, 6, 16, 11, 19, 11]\n"
     ]
    }
   ],
   "source": [
    "import random\n",
    "nums = [random.randint(0, 20) for i in range(10)]\n",
    "print(nums)"
   ]
  },
  {
   "cell_type": "code",
   "execution_count": 52,
   "metadata": {},
   "outputs": [
    {
     "data": {
      "text/plain": [
       "[19, 16, 16, 15, 11, 11, 6, 7, 0, 5]"
      ]
     },
     "execution_count": 52,
     "metadata": {},
     "output_type": "execute_result"
    }
   ],
   "source": [
    "def double_select_sort(nums):\n",
    "    length = len(nums)\n",
    "    half = length//2\n",
    "    for i in range(0, half):\n",
    "        max_index = i\n",
    "        min_index = length - i -1\n",
    "        min_origin = length - i -1\n",
    "        for j in range(i+1, length-i):\n",
    "            if nums[j] > nums[max_index]:\n",
    "                max_index = j\n",
    "        nums[i], nums[max_index] = nums[max_index], nums[i]\n",
    "        \n",
    "        for k in range(length-i-2, i ,-1):\n",
    "            if nums[k] < nums[max_index]:\n",
    "                min_index = k\n",
    "        nums[min_origin], nums[min_index] = nums[min_index], nums[min_origin]\n",
    "        \n",
    "    return nums    \n",
    "double_select_sort(nums)   "
   ]
  },
  {
   "cell_type": "code",
   "execution_count": 32,
   "metadata": {},
   "outputs": [
    {
     "data": {
      "text/plain": [
       "[19, 17, 11, 7, 7, 4, 2, 2, 1, 1]"
      ]
     },
     "execution_count": 32,
     "metadata": {},
     "output_type": "execute_result"
    }
   ],
   "source": [
    "def select_sort(nums):\n",
    "    length = len(nums)\n",
    "    for i in range(0, length-1):\n",
    "        max_index = i\n",
    "        for j in range(i+1, length):\n",
    "            if nums[j] > nums[max_index]:\n",
    "                max_index = j\n",
    "        nums[i], nums[max_index] = nums[max_index], nums[i]\n",
    "    return nums    \n",
    "select_sort(nums)   "
   ]
  },
  {
   "cell_type": "code",
   "execution_count": null,
   "metadata": {},
   "outputs": [],
   "source": [
    "NUM numZ'/{{[[['.']]]}}"
   ]
  },
  {
   "cell_type": "code",
   "execution_count": null,
   "metadata": {},
   "outputs": [],
   "source": [
    "ftp://ftp.astron.com/pub/file/file-\n",
    "    5.14.tar.gz\n",
    "ftp://ftp.gmplib.org/pub/gmp-5.1.2/gmp-5.1.2.tar.xz\n",
    "ftp://ftp.vim.org/pub/vim/unix/vim-7.3.tar.xz\n",
    "http://anduin.linuxfromscratch.org/sources/LFS/lfs-packges/\n",
    "    conglomeration//iana-stc/iana-etc/iana-etc-\n",
    "    2.30.tar.bz2\n",
    "http://anduin.linuxfromscratch.org/sources/LFS\n",
    "    http://download.savanah.gnu.org/releases/man-db/\n",
    "        http://download.sacannah.gnu.org/releases/sysvinit\n",
    "            http://ftp.altlinux.org/pub/people/legion/kbd.kbd-\n",
    "                http://ftp.altlinux.org/pub/people/legion/kbd/kbd\n",
    "                http://mirror.hust.edu.cn/gnu/automake/automake-l\n",
    "                    "
   ]
  },
  {
   "cell_type": "code",
   "execution_count": null,
   "metadata": {},
   "outputs": [],
   "source": [
    "ftp://ftp.astron.com/pub/file/file-5.14.tar.gz\n",
    "ftp://ftp.gmplib.org/pub/gmp-5.1.2/gmp-5.1.2.tar.xz\n",
    "ftp://ftp.vim.org/pub/vim/unix/vim-7.3.tar.bz2\n",
    "http://anduin.linuxfromcratch.org/sources/LFS/lfs-packages/con\n",
    "2.3.1.tar.bz2\n",
    "http://anduin.linuxfromscratch.org/sources/other/udev-lfs-205-1\n",
    "http://download.savannah.gnu.org/releases/libpipeline/libpipeli\n",
    "http://download.savannah.gnu.org/releases/man-db/man-db-2.6.5.t\n",
    "http://download.savannah.gnu.org/releases/sysvinit/sysvinit-2.8\n",
    "http://ftp.altlinux.org/pub/people/legion/kbd/bkd-1.1.5.5.tar.gz\n",
    "http://mirror.hust.edu.cn/gnu/autoconf/autoconf-2.69.tar.gz\n",
    "http://mirror.hust.edu.cn/gnu/automake.automake-1.14.tar.gz\n",
    "http://mirror.hust.edu.cn/gnu/automake/autmake-1.14.tar.xz\n",
    "http://mirror.hust.edu.cn/gnu/autoconf/autoconf-2.69.tar.xz\n",
    "http://ftp.altlinux.org/pub/people/legion/kbd/kbd-1.15.5.tar.gz\n",
    "http://download.savannah.gnu.org.releases/sysvinit/sysvinit-2.8\n",
    "http://download.savannah.gnu.org/releases/man-db/man-db-2.6.5.t\n",
    "http://downlad.savannah.gnu.org/releases/libpipeline/libpipeli\n",
    "http://anduin.linuxfromscratch.org/sources/LFS/lfs-packages/con\n",
    "2.30.tar.bz2\n",
    "ftp://vim.org/pub/vim/unix/vim-7.3.tar.bz2\n",
    "ftp://ftp.vim.org/pub/vim/unix/vim-7.3.tar.bz2\n",
    "ftp://ftp.gamplib.org/pub/gmp-5.1.2/gmp-5.1.2.tar.xz\n",
    "ftp://ftp.astron.com/pub/file/file-5.14.tar.gz\n",
    "ftp://ftp.astron.com/pub/file/file-5.14.tar.gz\n",
    "ftp://ftp.gmplib.org/pub/gmp-5.1.2.tar.gz\n",
    "http://anduin.linuxfromsratch.org/sources/other/udev-lfs-205-l\n",
    "http://download.savannah.gnu.org/releases/libpipeline/libpipeline\n",
    "http://download.savannah.gnu.org/releases/sysvinit/sysvinit-2.8\n",
    "http://download.savannah.gnu.org/releases/sysvinit-2.8\n",
    "http://mirror.hust.edu.cn/gnu/autoconf/autoconf-2.69.tar.xz\n",
    "http://mirror.hust.edu.cn/gnu/automake/automake-1.14.tar4.xz\n",
    "http://mirror.hust.edu.cn/gnu/automake-1.14.tar.xz\n",
    "    \n",
    "http://mirror.hust.edu.cn/gnu/automake/automake-1.14.tar.xz\n",
    "http://ftp.altlinux.org/pub/people/legion/kbd/kbd-1.15.5.tar.xz\n",
    "http://ftplaltlinux.org/pub/people/legion/kbd/kbd-1.15.5.tar.gz\n",
    "http://download.savannah.gnu.org/releases/sysvinit/sysvinit-2.8\n",
    "http://download.savannah.gnu.org/releases/man-db/an-db-2.6.5.t\n",
    "http://download.savannahgnu.org/relesses/libpipe/libpipeli\n",
    "http://anduin.linuxfromscratch.org/souces/other.other/udev-lfs-205-l\n",
    "http://anduin.linucfromscratch.org/sources/other/lfs-packages/con\n",
    "ftp://ftp.vim.org/pub/gmp-5.12/gmp-5.1.2.tar.xz\n",
    "ftp://gtp.gmplib.org/pub/gmp-5.1.2.tar.gz\n",
    "ftp://ftp.astron.com/pub/file.file-5.14.tar.gz\n",
    "    \n",
    "    "
   ]
  },
  {
   "cell_type": "code",
   "execution_count": null,
   "metadata": {},
   "outputs": [],
   "source": []
  },
  {
   "cell_type": "code",
   "execution_count": null,
   "metadata": {},
   "outputs": [],
   "source": []
  },
  {
   "cell_type": "code",
   "execution_count": null,
   "metadata": {},
   "outputs": [],
   "source": []
  },
  {
   "cell_type": "code",
   "execution_count": 43,
   "metadata": {},
   "outputs": [],
   "source": []
  },
  {
   "cell_type": "code",
   "execution_count": 44,
   "metadata": {},
   "outputs": [],
   "source": [
    "def insert_sort(nums):\n",
    "    length = len(nums)\n",
    "    for i in range(1, length):\n",
    "        if nums[i-1] > nums[i]:\n",
    "            temp = nums[i]\n",
    "            j = i - 1\n",
    "            while -1<j and nums[j] > temp:\n",
    "            # while nums[j] > temp:\n",
    "                nums[j+1] = nums[j]\n",
    "                j -= 1\n",
    "            nums[j+1] = temp\n",
    "    return nums\n",
    "                "
   ]
  },
  {
   "cell_type": "code",
   "execution_count": 45,
   "metadata": {},
   "outputs": [
    {
     "name": "stdout",
     "output_type": "stream",
     "text": [
      "[16, 0, 8, 1, 14, 5, 15, 1, 2, 12]\n"
     ]
    },
    {
     "data": {
      "text/plain": [
       "[0, 1, 1, 2, 5, 8, 12, 14, 15, 16]"
      ]
     },
     "execution_count": 45,
     "metadata": {},
     "output_type": "execute_result"
    }
   ],
   "source": [
    "print(nums)\n",
    "insert_sort(nums)"
   ]
  },
  {
   "cell_type": "code",
   "execution_count": null,
   "metadata": {},
   "outputs": [],
   "source": []
  },
  {
   "cell_type": "code",
   "execution_count": null,
   "metadata": {},
   "outputs": [],
   "source": []
  },
  {
   "cell_type": "code",
   "execution_count": null,
   "metadata": {},
   "outputs": [],
   "source": []
  },
  {
   "cell_type": "code",
   "execution_count": null,
   "metadata": {},
   "outputs": [],
   "source": []
  },
  {
   "cell_type": "code",
   "execution_count": null,
   "metadata": {},
   "outputs": [],
   "source": []
  },
  {
   "cell_type": "code",
   "execution_count": null,
   "metadata": {},
   "outputs": [],
   "source": []
  },
  {
   "cell_type": "code",
   "execution_count": 1,
   "metadata": {},
   "outputs": [
    {
     "data": {
      "text/plain": [
       "6"
      ]
     },
     "execution_count": 1,
     "metadata": {},
     "output_type": "execute_result"
    }
   ],
   "source": [
    "(1 and 0) or (5 and 6)\n"
   ]
  },
  {
   "cell_type": "code",
   "execution_count": 5,
   "metadata": {},
   "outputs": [
    {
     "data": {
      "text/plain": [
       "6"
      ]
     },
     "execution_count": 5,
     "metadata": {},
     "output_type": "execute_result"
    }
   ],
   "source": [
    "5 and 6"
   ]
  },
  {
   "cell_type": "code",
   "execution_count": 3,
   "metadata": {},
   "outputs": [
    {
     "data": {
      "text/plain": [
       "5"
      ]
     },
     "execution_count": 3,
     "metadata": {},
     "output_type": "execute_result"
    }
   ],
   "source": [
    "5 or 6"
   ]
  },
  {
   "cell_type": "code",
   "execution_count": 4,
   "metadata": {},
   "outputs": [
    {
     "data": {
      "text/plain": [
       "1"
      ]
     },
     "execution_count": 4,
     "metadata": {},
     "output_type": "execute_result"
    }
   ],
   "source": [
    "1 or 0 or 6"
   ]
  },
  {
   "cell_type": "code",
   "execution_count": null,
   "metadata": {},
   "outputs": [],
   "source": []
  },
  {
   "cell_type": "code",
   "execution_count": 11,
   "metadata": {},
   "outputs": [
    {
     "data": {
      "text/plain": [
       "(4, -4, 4)"
      ]
     },
     "execution_count": 11,
     "metadata": {},
     "output_type": "execute_result"
    }
   ],
   "source": [
    "int(4.2), int(-4.2), int(4.7)"
   ]
  },
  {
   "cell_type": "code",
   "execution_count": 14,
   "metadata": {},
   "outputs": [
    {
     "data": {
      "text/plain": [
       "(0, -1, 1)"
      ]
     },
     "execution_count": 14,
     "metadata": {},
     "output_type": "execute_result"
    }
   ],
   "source": [
    "2//3, -2//3, 3//2"
   ]
  },
  {
   "cell_type": "code",
   "execution_count": 22,
   "metadata": {},
   "outputs": [
    {
     "data": {
      "text/plain": [
       "2"
      ]
     },
     "execution_count": 22,
     "metadata": {},
     "output_type": "execute_result"
    }
   ],
   "source": [
    "import math\n",
    "math.ceil(3/2)\n"
   ]
  },
  {
   "cell_type": "code",
   "execution_count": 21,
   "metadata": {},
   "outputs": [
    {
     "data": {
      "text/plain": [
       "(4, 4, 5)"
      ]
     },
     "execution_count": 21,
     "metadata": {},
     "output_type": "execute_result"
    }
   ],
   "source": [
    "round(4.4), round(4.5), round(4.6)"
   ]
  },
  {
   "cell_type": "code",
   "execution_count": 30,
   "metadata": {},
   "outputs": [
    {
     "data": {
      "text/plain": [
       "3.0"
      ]
     },
     "execution_count": 30,
     "metadata": {},
     "output_type": "execute_result"
    }
   ],
   "source": [
    "math.pi\n",
    "math.e\n",
    "pow(2, 3)\n",
    "2**3\n",
    "math.log10(10)\n",
    "math.log2(8)"
   ]
  },
  {
   "cell_type": "code",
   "execution_count": 42,
   "metadata": {},
   "outputs": [
    {
     "ename": "TypeError",
     "evalue": "'<' not supported between instances of 'NoneType' and 'NoneType'",
     "output_type": "error",
     "traceback": [
      "\u001b[0;31m---------------------------------------------------------------------------\u001b[0m",
      "\u001b[0;31mTypeError\u001b[0m                                 Traceback (most recent call last)",
      "\u001b[0;32m<ipython-input-42-384d903ba627>\u001b[0m in \u001b[0;36m<module>\u001b[0;34m()\u001b[0m\n\u001b[1;32m      2\u001b[0m \u001b[0;31m# min([]) ValueError\u001b[0m\u001b[0;34m\u001b[0m\u001b[0;34m\u001b[0m\u001b[0;34m\u001b[0m\u001b[0m\n\u001b[1;32m      3\u001b[0m \u001b[0mmin\u001b[0m\u001b[0;34m(\u001b[0m\u001b[0;34m[\u001b[0m\u001b[0;34m]\u001b[0m\u001b[0;34m,\u001b[0m \u001b[0mdefault\u001b[0m\u001b[0;34m=\u001b[0m\u001b[0;36m0\u001b[0m\u001b[0;34m)\u001b[0m\u001b[0;34m\u001b[0m\u001b[0;34m\u001b[0m\u001b[0m\n\u001b[0;32m----> 4\u001b[0;31m \u001b[0mmin\u001b[0m\u001b[0;34m(\u001b[0m\u001b[0;34m(\u001b[0m\u001b[0;32mNone\u001b[0m \u001b[0;32mfor\u001b[0m \u001b[0mi\u001b[0m \u001b[0;32min\u001b[0m \u001b[0;34m[\u001b[0m\u001b[0;36m1\u001b[0m\u001b[0;34m,\u001b[0m \u001b[0;36m2\u001b[0m\u001b[0;34m]\u001b[0m\u001b[0;34m)\u001b[0m\u001b[0;34m)\u001b[0m\u001b[0;34m\u001b[0m\u001b[0;34m\u001b[0m\u001b[0m\n\u001b[0m",
      "\u001b[0;31mTypeError\u001b[0m: '<' not supported between instances of 'NoneType' and 'NoneType'"
     ]
    }
   ],
   "source": [
    "# min(range()) TypeError\n",
    "# min([]) ValueError\n",
    "min([], default=0)\n",
    "min()"
   ]
  },
  {
   "cell_type": "code",
   "execution_count": 39,
   "metadata": {},
   "outputs": [
    {
     "data": {
      "text/plain": [
       "tuple"
      ]
     },
     "execution_count": 39,
     "metadata": {},
     "output_type": "execute_result"
    }
   ],
   "source": []
  },
  {
   "cell_type": "code",
   "execution_count": 44,
   "metadata": {},
   "outputs": [],
   "source": [
    "a = 2, \n",
    "b = hex(100)"
   ]
  },
  {
   "cell_type": "code",
   "execution_count": null,
   "metadata": {},
   "outputs": [],
   "source": [
    "bin(), hex(), oct(), "
   ]
  },
  {
   "cell_type": "code",
   "execution_count": 61,
   "metadata": {
    "scrolled": true
   },
   "outputs": [
    {
     "data": {
      "text/plain": [
       "'0o2'"
      ]
     },
     "execution_count": 61,
     "metadata": {},
     "output_type": "execute_result"
    }
   ],
   "source": [
    "int(0o10) # 8\n",
    "int(0xf)  # 15\n",
    "int(0b10) # 2\n",
    "\n",
    "bin(2)  # 0b10\n",
    "bin(0xf) # 0b1111\n",
    "bin(0o10) # 0b1000\n",
    "\n",
    "hex(15) # 0xf\n",
    "hex(0xf) # 0xf\n",
    "hex(0o10) # ox8\n",
    "\n",
    "oct(8) # 0o10\n",
    "oct(0xf) #0o17\n",
    "oct(0b10) #0o2"
   ]
  },
  {
   "cell_type": "code",
   "execution_count": 66,
   "metadata": {},
   "outputs": [
    {
     "ename": "ValueError",
     "evalue": "list.remove(x): x not in list",
     "output_type": "error",
     "traceback": [
      "\u001b[0;31m---------------------------------------------------------------------------\u001b[0m",
      "\u001b[0;31mValueError\u001b[0m                                Traceback (most recent call last)",
      "\u001b[0;32m<ipython-input-66-7e870615b7de>\u001b[0m in \u001b[0;36m<module>\u001b[0;34m()\u001b[0m\n\u001b[1;32m      1\u001b[0m \u001b[0ma\u001b[0m \u001b[0;34m=\u001b[0m \u001b[0mlist\u001b[0m\u001b[0;34m(\u001b[0m\u001b[0;34m[\u001b[0m\u001b[0;36m1\u001b[0m\u001b[0;34m,\u001b[0m \u001b[0;36m2\u001b[0m\u001b[0;34m,\u001b[0m \u001b[0;36m3\u001b[0m\u001b[0;34m]\u001b[0m\u001b[0;34m)\u001b[0m\u001b[0;34m\u001b[0m\u001b[0;34m\u001b[0m\u001b[0m\n\u001b[1;32m      2\u001b[0m \u001b[0;31m#a.pop(3)\u001b[0m\u001b[0;34m\u001b[0m\u001b[0;34m\u001b[0m\u001b[0;34m\u001b[0m\u001b[0m\n\u001b[0;32m----> 3\u001b[0;31m \u001b[0ma\u001b[0m\u001b[0;34m.\u001b[0m\u001b[0mremove\u001b[0m\u001b[0;34m(\u001b[0m\u001b[0;36m4\u001b[0m\u001b[0;34m)\u001b[0m\u001b[0;34m\u001b[0m\u001b[0;34m\u001b[0m\u001b[0m\n\u001b[0m",
      "\u001b[0;31mValueError\u001b[0m: list.remove(x): x not in list"
     ]
    }
   ],
   "source": [
    "a = list([1, 2, 3])\n",
    "# a.pop(3)\n",
    "# a.remove()\n",
    "# a.pop()\n",
    "a.sort??"
   ]
  },
  {
   "cell_type": "code",
   "execution_count": null,
   "metadata": {},
   "outputs": [],
   "source": [
    "alst.sort()"
   ]
  },
  {
   "cell_type": "code",
   "execution_count": 67,
   "metadata": {},
   "outputs": [
    {
     "data": {
      "text/plain": [
       "(1, 3)"
      ]
     },
     "execution_count": 67,
     "metadata": {},
     "output_type": "execute_result"
    }
   ],
   "source": [
    "1, 3"
   ]
  },
  {
   "cell_type": "code",
   "execution_count": 6,
   "metadata": {},
   "outputs": [
    {
     "name": "stdout",
     "output_type": "stream",
     "text": [
      "yyyyuii\n"
     ]
    }
   ],
   "source": [
    "print('yyyy\\\n",
    "uii')"
   ]
  },
  {
   "cell_type": "code",
   "execution_count": 2,
   "metadata": {},
   "outputs": [
    {
     "name": "stdout",
     "output_type": "stream",
     "text": [
      "max: 9\n",
      "min: 0\n"
     ]
    }
   ],
   "source": [
    "def maxnum(a, b, *args):\n",
    "    if a < b:\n",
    "        a, b = b, a\n",
    "    c = max(args)\n",
    "    d = min(args)\n",
    "    if a < c:\n",
    "        a, c = c, a\n",
    "    print('max:', a)\n",
    "    if b > d:\n",
    "        b, d = d, b\n",
    "    print('min:', b)\n",
    "maxnum(9,8,7,9,0,1)"
   ]
  },
  {
   "cell_type": "code",
   "execution_count": 4,
   "metadata": {},
   "outputs": [],
   "source": [
    "def max_min(a, b, *args):\n",
    "    print(max(a, b, *args), min(a, b, *args))"
   ]
  },
  {
   "cell_type": "code",
   "execution_count": 7,
   "metadata": {},
   "outputs": [
    {
     "data": {
      "text/plain": [
       "['quit']"
      ]
     },
     "execution_count": 7,
     "metadata": {},
     "output_type": "execute_result"
    }
   ],
   "source": [
    "str.split??"
   ]
  },
  {
   "cell_type": "code",
   "execution_count": 70,
   "metadata": {},
   "outputs": [
    {
     "data": {
      "text/plain": [
       "'1.73'"
      ]
     },
     "execution_count": 70,
     "metadata": {},
     "output_type": "execute_result"
    }
   ],
   "source": [
    "'{:.2f}'.format(1.732)"
   ]
  },
  {
   "cell_type": "code",
   "execution_count": 72,
   "metadata": {},
   "outputs": [
    {
     "data": {
      "text/plain": [
       "'**1.73'"
      ]
     },
     "execution_count": 72,
     "metadata": {},
     "output_type": "execute_result"
    }
   ],
   "source": [
    "'{:*>6.2f}'.format(1.732)"
   ]
  },
  {
   "cell_type": "code",
   "execution_count": 77,
   "metadata": {},
   "outputs": [
    {
     "data": {
      "text/plain": [
       "'1.732051'"
      ]
     },
     "execution_count": 77,
     "metadata": {},
     "output_type": "execute_result"
    }
   ],
   "source": [
    "'{:f}'.format(3**0.5)"
   ]
  },
  {
   "cell_type": "code",
   "execution_count": 78,
   "metadata": {},
   "outputs": [
    {
     "data": {
      "text/plain": [
       "\"'10'\""
      ]
     },
     "execution_count": 78,
     "metadata": {},
     "output_type": "execute_result"
    }
   ],
   "source": [
    "ascii('10')"
   ]
  },
  {
   "cell_type": "code",
   "execution_count": null,
   "metadata": {},
   "outputs": [],
   "source": [
    "dict()"
   ]
  },
  {
   "cell_type": "code",
   "execution_count": 9,
   "metadata": {},
   "outputs": [
    {
     "name": "stdout",
     "output_type": "stream",
     "text": [
      "plz a num:23 25 78 90\n",
      "90\n",
      "23\n",
      "plz a num:\n"
     ]
    }
   ],
   "source": [
    "while True:\n",
    "    nums = input('plz a num:').replace(',', ' ').split()\n",
    "    if not nums:\n",
    "        break\n",
    "    nums = [int(x) for x in nums]\n",
    "    print(max(nums))\n",
    "    print(min(nums))\n",
    "\n",
    "\n",
    "        "
   ]
  },
  {
   "cell_type": "code",
   "execution_count": 13,
   "metadata": {},
   "outputs": [
    {
     "ename": "ValueError",
     "evalue": "empty separator",
     "output_type": "error",
     "traceback": [
      "\u001b[0;31m---------------------------------------------------------------------------\u001b[0m",
      "\u001b[0;31mValueError\u001b[0m                                Traceback (most recent call last)",
      "\u001b[0;32m<ipython-input-13-ae7212138569>\u001b[0m in \u001b[0;36m<module>\u001b[0;34m()\u001b[0m\n\u001b[0;32m----> 1\u001b[0;31m \u001b[0;34m'quit'\u001b[0m\u001b[0;34m.\u001b[0m\u001b[0msplit\u001b[0m\u001b[0;34m(\u001b[0m\u001b[0;34m''\u001b[0m\u001b[0;34m)\u001b[0m\u001b[0;34m\u001b[0m\u001b[0;34m\u001b[0m\u001b[0m\n\u001b[0m",
      "\u001b[0;31mValueError\u001b[0m: empty separator"
     ]
    }
   ],
   "source": [
    "'quit'.split()"
   ]
  },
  {
   "cell_type": "code",
   "execution_count": 14,
   "metadata": {},
   "outputs": [
    {
     "data": {
      "text/plain": [
       "('', 'q', 'uit')"
      ]
     },
     "execution_count": 14,
     "metadata": {},
     "output_type": "execute_result"
    }
   ],
   "source": [
    "'quit'.partition('q')"
   ]
  },
  {
   "cell_type": "code",
   "execution_count": 23,
   "metadata": {},
   "outputs": [],
   "source": [
    "def fn(x, y, z=100, *args, n, m=0, o, **kargs):\n",
    "    print(x, y, z, args, n, m, o)"
   ]
  },
  {
   "cell_type": "code",
   "execution_count": 24,
   "metadata": {},
   "outputs": [
    {
     "name": "stdout",
     "output_type": "stream",
     "text": [
      "1 2 3 (80, 90) 4 0 5\n"
     ]
    }
   ],
   "source": [
    "fn(1, 2, 3,80, 90, n = 4, o=5)"
   ]
  },
  {
   "cell_type": "code",
   "execution_count": null,
   "metadata": {},
   "outputs": [],
   "source": []
  }
 ],
 "metadata": {
  "kernelspec": {
   "display_name": "Python 3",
   "language": "python",
   "name": "python3"
  },
  "language_info": {
   "codemirror_mode": {
    "name": "ipython",
    "version": 3
   },
   "file_extension": ".py",
   "mimetype": "text/x-python",
   "name": "python",
   "nbconvert_exporter": "python",
   "pygments_lexer": "ipython3",
   "version": "3.6.8"
  }
 },
 "nbformat": 4,
 "nbformat_minor": 2
}
