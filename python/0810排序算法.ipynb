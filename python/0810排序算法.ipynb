{
 "cells": [
  {
   "cell_type": "markdown",
   "metadata": {},
   "source": [
    "[TOP]\n"
   ]
  },
  {
   "cell_type": "markdown",
   "metadata": {},
   "source": [
    "# 交换排序"
   ]
  },
  {
   "cell_type": "markdown",
   "metadata": {},
   "source": [
    "## 冒泡"
   ]
  },
  {
   "cell_type": "code",
   "execution_count": null,
   "metadata": {},
   "outputs": [],
   "source": [
    "O(n**2) O(1) 稳定"
   ]
  },
  {
   "cell_type": "code",
   "execution_count": 1,
   "metadata": {},
   "outputs": [],
   "source": [
    "import random\n",
    "nums = [1,2,3,4,5,6,7]\n",
    "random.shuffle(nums)"
   ]
  },
  {
   "cell_type": "code",
   "execution_count": 1,
   "metadata": {},
   "outputs": [
    {
     "name": "stdout",
     "output_type": "stream",
     "text": [
      "[4, 2, 6, 7, 3, 1, 5]\n",
      "[1, 2, 3, 4, 5, 6, 7]\n"
     ]
    }
   ],
   "source": [
    "import random\n",
    "nums = [1,2,3,4,5,6,7]\n",
    "random.shuffle(nums)\n",
    "# bubble_sort 把大的放右边 O(n^2) O(1)\n",
    "print(nums)\n",
    "for i in range(1, len(nums)):\n",
    "    k = 0\n",
    "    for j in range(0, len(nums)-i):\n",
    "        if nums[j] > nums[j+1]: #交换耗时间\n",
    "            nums[j], nums[j+1] = nums[j+1], nums[j]\n",
    "            k += 1   \n",
    "    if k == 0: #本次没有交换\n",
    "        break\n",
    "print(nums)"
   ]
  },
  {
   "cell_type": "code",
   "execution_count": 13,
   "metadata": {},
   "outputs": [
    {
     "name": "stdout",
     "output_type": "stream",
     "text": [
      "[7, 1, 3, 2, 5, 4, 6]\n",
      "[7, 6, 5, 4, 3, 2, 1]\n"
     ]
    }
   ],
   "source": [
    "# bubble_sort 把小的放右边\n",
    "random.shuffle(nums)\n",
    "print(nums)\n",
    "for i in range(1, len(nums)):\n",
    "    flag = False\n",
    "    for j in range(0, len(nums)-i):\n",
    "        if nums[j] < nums[j+1]:\n",
    "            nums[j], nums[j+1] = nums[j+1], nums[j]\n",
    "            flag = True\n",
    "    if not flag:\n",
    "        break\n",
    "print(nums)"
   ]
  },
  {
   "cell_type": "code",
   "execution_count": 18,
   "metadata": {},
   "outputs": [
    {
     "name": "stdout",
     "output_type": "stream",
     "text": [
      "[4, 3, 7, 5, 1, 2, 6]\n",
      "[7, 6, 5, 4, 3, 2, 1]\n"
     ]
    }
   ],
   "source": [
    "# bubble_sort 从后向前，把大的放左边\n",
    "random.shuffle(nums)\n",
    "print(nums)\n",
    "for i in range(1, len(nums)):\n",
    "    flag = False\n",
    "    for j in range(-1, -len(nums)+i-1, -1):\n",
    "        if nums[j] > nums[j-1]:\n",
    "            nums[j], nums[j-1] = nums[j-1], nums[j]\n",
    "            flag = True\n",
    "    if not flag:\n",
    "        break\n",
    "print(nums)"
   ]
  },
  {
   "cell_type": "code",
   "execution_count": 5,
   "metadata": {},
   "outputs": [],
   "source": [
    "# bubble_sort 从后向前，把小的放左边"
   ]
  },
  {
   "cell_type": "code",
   "execution_count": 26,
   "metadata": {
    "scrolled": false
   },
   "outputs": [
    {
     "name": "stdout",
     "output_type": "stream",
     "text": [
      "[4, 3, 7, 5, 6, 1, 2]\n",
      "[1, 2, 3, 4, 5, 6, 7]\n"
     ]
    }
   ],
   "source": [
    "random.shuffle(nums)\n",
    "print(nums)\n",
    "for i in range(1, len(nums)):\n",
    "    flag = False\n",
    "    for j in range(-1, -len(nums)+i-1, -1):\n",
    "        if nums[j] < nums[j-1]:\n",
    "            nums[j], nums[j-1] = nums[j-1], nums[j]\n",
    "            flag = True\n",
    "    if not flag:\n",
    "        break\n",
    "print(nums)"
   ]
  },
  {
   "cell_type": "markdown",
   "metadata": {},
   "source": [
    "## 双边冒泡法"
   ]
  },
  {
   "cell_type": "code",
   "execution_count": 17,
   "metadata": {},
   "outputs": [],
   "source": [
    "def bubble_sort(nums):\n",
    "    length = len(nums)\n",
    "    length1 = length//2 \n",
    "    for i in range(1, length1):\n",
    "        flag = False\n",
    "        for j in range(i-1, length - i):\n",
    "            if nums[j] > nums[j+1]:\n",
    "                nums[j], nums[j+1] = nums[j+1], nums[j]\n",
    "                flag = True\n",
    "        \n",
    "        for k in range(length-i-1, i-1 , -1):\n",
    "            if nums[k] < nums[k-1]:\n",
    "                nums[k], nums[k-1] = nums[k-1], nums[k]\n",
    "                flag = True\n",
    "        \n",
    "        if not flag:\n",
    "            break\n",
    "    return nums"
   ]
  },
  {
   "cell_type": "code",
   "execution_count": 28,
   "metadata": {},
   "outputs": [
    {
     "name": "stdout",
     "output_type": "stream",
     "text": [
      "[11, 10, 13, 14, 3, 17, 10, 12, 11, 15]\n"
     ]
    }
   ],
   "source": [
    "import random\n",
    "nums = [random.randint(0, 20) for i in range(10)]\n",
    "print(nums)"
   ]
  },
  {
   "cell_type": "code",
   "execution_count": 29,
   "metadata": {},
   "outputs": [
    {
     "data": {
      "text/plain": [
       "[3, 10, 10, 11, 11, 12, 13, 14, 15, 17]"
      ]
     },
     "execution_count": 29,
     "metadata": {},
     "output_type": "execute_result"
    }
   ],
   "source": [
    "bubble_sort(nums)"
   ]
  },
  {
   "cell_type": "code",
   "execution_count": null,
   "metadata": {},
   "outputs": [],
   "source": []
  },
  {
   "cell_type": "code",
   "execution_count": null,
   "metadata": {},
   "outputs": [],
   "source": []
  },
  {
   "cell_type": "code",
   "execution_count": null,
   "metadata": {},
   "outputs": [],
   "source": []
  },
  {
   "cell_type": "code",
   "execution_count": null,
   "metadata": {},
   "outputs": [],
   "source": []
  },
  {
   "cell_type": "code",
   "execution_count": null,
   "metadata": {},
   "outputs": [],
   "source": []
  },
  {
   "cell_type": "code",
   "execution_count": null,
   "metadata": {},
   "outputs": [],
   "source": []
  },
  {
   "cell_type": "markdown",
   "metadata": {},
   "source": []
  },
  {
   "cell_type": "markdown",
   "metadata": {},
   "source": [
    "## 快速排序"
   ]
  },
  {
   "cell_type": "code",
   "execution_count": 37,
   "metadata": {},
   "outputs": [],
   "source": [
    "import random"
   ]
  },
  {
   "cell_type": "code",
   "execution_count": 62,
   "metadata": {},
   "outputs": [
    {
     "name": "stdout",
     "output_type": "stream",
     "text": [
      "[17, 7, 11, 9, 0, 20, 4, 17, 15, 17]\n"
     ]
    },
    {
     "data": {
      "text/plain": [
       "[0, 7, 11, 15, 15, 17, 17, 17, 20, 20]"
      ]
     },
     "execution_count": 62,
     "metadata": {},
     "output_type": "execute_result"
    }
   ],
   "source": [
    "# 同时交换low hight\n",
    "nums = [random.randint(0, 20) for i in range(10)]\n",
    "print(nums)\n",
    "def quick_sort(nums, start, end):    \n",
    "    if start >= end:\n",
    "        return \n",
    "    \n",
    "    low = start\n",
    "    hight = end\n",
    "    mid = nums[low]\n",
    "\n",
    "    while low < hight:\n",
    "        while low < hight and nums[hight] >= mid:\n",
    "            hight -= 1\n",
    "        #nums[low] = nums[hight]\n",
    "        \n",
    "        while low < hight and nums[low] < mid:\n",
    "            low += 1        \n",
    "        #nums[hight] = nums[low]  \n",
    "        nums[low], nums[hight] = nums[hight], nums[low]\n",
    "    nums[low] = mid    \n",
    "    quick_sort(nums, start, low-1)\n",
    "    quick_sort(nums, low+1, end)\n",
    "    return nums        \n",
    "quick_sort(nums, 0, 9)  "
   ]
  },
  {
   "cell_type": "code",
   "execution_count": 66,
   "metadata": {},
   "outputs": [
    {
     "name": "stdout",
     "output_type": "stream",
     "text": [
      "[11, 13, 1, 14, 16, 6, 2, 4, 5, 12]\n"
     ]
    },
    {
     "data": {
      "text/plain": [
       "[1, 2, 4, 5, 6, 11, 12, 13, 14, 16]"
      ]
     },
     "execution_count": 66,
     "metadata": {},
     "output_type": "execute_result"
    }
   ],
   "source": [
    "# 现将start存入到mid中，然后low=hight hight=low\n",
    "nums = [random.randint(0, 20) for i in range(10)]\n",
    "print(nums)\n",
    "def quick_sort(nums, start, end):    \n",
    "    if start >= end:\n",
    "        return     \n",
    "    low = start\n",
    "    hight = end\n",
    "    mid = nums[low]\n",
    "\n",
    "    while low < hight:\n",
    "        while low < hight and nums[hight] >= mid:\n",
    "            hight -= 1\n",
    "        nums[low] = nums[hight]\n",
    "        \n",
    "        while low < hight and nums[low] < mid:\n",
    "            low += 1        \n",
    "        nums[hight] = nums[low]  \n",
    "    nums[low] = mid    \n",
    "    quick_sort(nums, start, low-1)\n",
    "    quick_sort(nums, low+1, end)\n",
    "    return nums        \n",
    "quick_sort(nums, 0, 9) "
   ]
  },
  {
   "cell_type": "code",
   "execution_count": 11,
   "metadata": {},
   "outputs": [
    {
     "name": "stdout",
     "output_type": "stream",
     "text": [
      "[0, 8, 10, 11, 13, 14, 19, 20, 20, 20]\n"
     ]
    }
   ],
   "source": []
  },
  {
   "cell_type": "code",
   "execution_count": null,
   "metadata": {},
   "outputs": [],
   "source": []
  },
  {
   "cell_type": "markdown",
   "metadata": {},
   "source": [
    "# 选择排序"
   ]
  },
  {
   "cell_type": "markdown",
   "metadata": {},
   "source": [
    "## 简单选择排序"
   ]
  },
  {
   "cell_type": "code",
   "execution_count": null,
   "metadata": {},
   "outputs": [],
   "source": [
    "O(n**2) O(1) 不稳定"
   ]
  },
  {
   "cell_type": "code",
   "execution_count": 24,
   "metadata": {},
   "outputs": [
    {
     "name": "stdout",
     "output_type": "stream",
     "text": [
      "[2, 7, 9, 4, 5, 3, 1, 0, 4, 8]\n"
     ]
    }
   ],
   "source": [
    "import random\n",
    "nums = [1,2,3,4,5,4,7,9,8,0]\n",
    "random.shuffle(nums)\n",
    "print(nums)"
   ]
  },
  {
   "cell_type": "code",
   "execution_count": 15,
   "metadata": {},
   "outputs": [],
   "source": [
    "def select_sort(nums):\n",
    "    for i in range(len(nums) - 1):\n",
    "        maxindex = i\n",
    "        initindex = i\n",
    "        for j in range(i+1, len(nums)):\n",
    "            if nums[maxindex] < nums[j]:\n",
    "                maxindex = j\n",
    "        nums[initindex], nums[maxindex] = nums[maxindex], nums[initindex]\n",
    "    return nums    \n",
    "        "
   ]
  },
  {
   "cell_type": "code",
   "execution_count": 21,
   "metadata": {
    "scrolled": true
   },
   "outputs": [
    {
     "data": {
      "text/plain": [
       "[9, 8, 7, 5, 4, 4, 3, 2, 1, 0]"
      ]
     },
     "execution_count": 21,
     "metadata": {},
     "output_type": "execute_result"
    }
   ],
   "source": [
    "select_sort(nums)"
   ]
  },
  {
   "cell_type": "markdown",
   "metadata": {},
   "source": [
    "## 双边选择排序"
   ]
  },
  {
   "cell_type": "code",
   "execution_count": 29,
   "metadata": {},
   "outputs": [],
   "source": [
    "def double_select_sort(nums):\n",
    "    for i in range(len(nums)//2):\n",
    "        maxindex = i\n",
    "        begininitindex = i\n",
    "        minindex = len(nums)-(i+1)        \n",
    "        endinitindex = len(nums)-(i+1)\n",
    "        \n",
    "        for j in range(i+1, len(nums)-i):\n",
    "            if nums[maxindex] < nums[j]:\n",
    "                maxindex = j\n",
    "        nums[begininitindex], nums[maxindex] = nums[maxindex], nums[begininitindex]\n",
    "        \n",
    "        for k in range(len(nums)-(i+2),i ,-1):\n",
    "            if nums[minindex] > nums[k]:\n",
    "                minindex = k\n",
    "        nums[endinitindex], nums[minindex] = nums[minindex], nums[endinitindex]\n",
    "        \n",
    "        if nums[endinitindex] == nums[begininitindex]:\n",
    "            return nums\n",
    "    return nums"
   ]
  },
  {
   "cell_type": "code",
   "execution_count": 30,
   "metadata": {},
   "outputs": [
    {
     "data": {
      "text/plain": [
       "[9, 5, 4, 1]"
      ]
     },
     "execution_count": 30,
     "metadata": {},
     "output_type": "execute_result"
    }
   ],
   "source": [
    "nums = [1,9,4,5]\n",
    "double_select_sort(nums)"
   ]
  },
  {
   "cell_type": "markdown",
   "metadata": {},
   "source": [
    "## 堆排序"
   ]
  },
  {
   "cell_type": "code",
   "execution_count": 2,
   "metadata": {},
   "outputs": [
    {
     "data": {
      "text/plain": [
       "5"
      ]
     },
     "execution_count": 2,
     "metadata": {},
     "output_type": "execute_result"
    }
   ],
   "source": [
    "int('2')\n",
    "int('5')"
   ]
  },
  {
   "cell_type": "code",
   "execution_count": null,
   "metadata": {},
   "outputs": [],
   "source": [
    "import random\n",
    "nums = [1,2,3,4,5,6,7]\n",
    "random.shuffle(nums)"
   ]
  },
  {
   "cell_type": "markdown",
   "metadata": {},
   "source": [
    "# 插入排序"
   ]
  },
  {
   "cell_type": "markdown",
   "metadata": {},
   "source": [
    "## 直接插入排序"
   ]
  },
  {
   "cell_type": "code",
   "execution_count": null,
   "metadata": {},
   "outputs": [],
   "source": [
    "1. 流程描述：先增加一个哨兵位，用来存放待排序元素\n",
    "从第2个元素开始，和左边有序序列中的第一位比较，如果j > 等待排序元素\n",
    "j移动到j+1位置，j本身加1，依次比较，直到j < 等待排序元素\n",
    "则将0位置元素放到j位置  O(n方) O(1) 稳定"
   ]
  },
  {
   "cell_type": "code",
   "execution_count": 85,
   "metadata": {},
   "outputs": [],
   "source": [
    "import random"
   ]
  },
  {
   "cell_type": "code",
   "execution_count": 88,
   "metadata": {},
   "outputs": [
    {
     "name": "stdout",
     "output_type": "stream",
     "text": [
      "[None, 14, 0, 7, 8, 10, 5, 4, 2, 0, 13]\n"
     ]
    },
    {
     "data": {
      "text/plain": [
       "[0, 0, 2, 4, 5, 7, 8, 10, 13, 14]"
      ]
     },
     "execution_count": 88,
     "metadata": {},
     "output_type": "execute_result"
    }
   ],
   "source": [
    "nums = [None] + [random.randint(0, 20) for i in range(10)] \n",
    "print(nums)\n",
    "# 老师给的方法，感觉会多几次不必要的交换, 但是c语言版本就只这么写的\n",
    "def insert_sort(nums):\n",
    "    length = len(nums)\n",
    "    for i in range(2, length):\n",
    "        nums[0] = nums[i]\n",
    "        j = i - 1\n",
    "        if nums[j] > nums[0]:\n",
    "            while nums[j] > nums[0]:\n",
    "                nums[j+1] = nums[j]\n",
    "                j -= 1\n",
    "            nums[j+1] = nums[0]\n",
    "    return nums[1:]\n",
    "insert_sort(nums)"
   ]
  },
  {
   "cell_type": "code",
   "execution_count": 46,
   "metadata": {},
   "outputs": [],
   "source": [
    "\n",
    "lst = [1, 9, 5, 8]\n",
    "nums = [None] + lst # [None, 1, 9, 5, 8]\n",
    "def insert_sort(nums):\n",
    "    for i in range(2, len(nums)):        \n",
    "        if nums[i-1] > nums[i]:            \n",
    "            nums[0] = nums[i]  \n",
    "            j = i - 1\n",
    "            while 0< j  and nums[j] > nums[0]:  # 加上None，不用判断是否越界         \n",
    "                nums[j+1] = nums[j]\n",
    "                j -= 1        \n",
    "            nums[j+1] = nums[0]\n",
    "        #print(nums)\n",
    "    return nums[1:]"
   ]
  },
  {
   "cell_type": "code",
   "execution_count": 36,
   "metadata": {},
   "outputs": [],
   "source": [
    "def insert_sort(nums):\n",
    "    lenght = len(nums)\n",
    "    for i in range(1, lenght):\n",
    "        if nums[i-1] > nums[i]:\n",
    "            temp = nums[i]\n",
    "            j = i - 1\n",
    "            while -1<j and nums[j] > temp:\n",
    "                nums[j+1] = nums[j]\n",
    "                j -= 1\n",
    "            nums[j+1] = temp\n",
    "    return nums"
   ]
  },
  {
   "cell_type": "markdown",
   "metadata": {},
   "source": [
    "## 希尔排序"
   ]
  },
  {
   "cell_type": "code",
   "execution_count": null,
   "metadata": {},
   "outputs": [],
   "source": [
    "希尔排序是把记录按下标的一定增量分组，对每组使用直接插入排序算法排序；\n",
    "随着增量逐渐减少，每组包含的关键词越来越多，当增量减至1时，\n",
    "整个文件恰被分成一组，算法便终止。"
   ]
  },
  {
   "cell_type": "code",
   "execution_count": 108,
   "metadata": {},
   "outputs": [
    {
     "name": "stdout",
     "output_type": "stream",
     "text": [
      "[19, 9, 10, 9, 14, 2, 5, 18, 18, 15]\n",
      "[2, 5, 9, 9, 10, 14, 15, 18, 18, 19]\n"
     ]
    }
   ],
   "source": [
    "def shell_sort(nums):\n",
    "    lenght = len(nums)\n",
    "    # 初始步长\n",
    "    gap = lenght // 2\n",
    "    while gap > 0:\n",
    "        # 按步长进行插入排序\n",
    "        for n in range(gap, lenght):\n",
    "            j = n\n",
    "            # 插入排序\n",
    "            while j >= gap and nums[j-gap] > nums[j]:\n",
    "                nums[j-gap], nums[j] = nums[j], nums[j-gap]\n",
    "                j -= gap\n",
    "        # 得到新的步长\n",
    "        gap = gap // 2\n",
    "        \n",
    "import random\n",
    "nums = [random.randint(0, 20) for i in range(10)]\n",
    "print(nums)\n",
    "shell_sort(nums)\n",
    "print(nums)"
   ]
  },
  {
   "cell_type": "code",
   "execution_count": null,
   "metadata": {},
   "outputs": [],
   "source": []
  },
  {
   "cell_type": "code",
   "execution_count": null,
   "metadata": {},
   "outputs": [],
   "source": []
  },
  {
   "cell_type": "markdown",
   "metadata": {},
   "source": [
    "# 归并排序"
   ]
  },
  {
   "cell_type": "code",
   "execution_count": null,
   "metadata": {},
   "outputs": [],
   "source": [
    "# 归并排序：归并排序是采用分治法的一个非常典型的应用。\n",
    "# 归并排序的思想就是先递归分解数组，再合并数组。"
   ]
  },
  {
   "cell_type": "code",
   "execution_count": 84,
   "metadata": {
    "scrolled": false
   },
   "outputs": [
    {
     "name": "stdout",
     "output_type": "stream",
     "text": [
      "[54, 26, 93, 17, 77, 31, 44, 55, 20]\n",
      "[17, 20, 26, 31, 44, 54, 55, 77, 93]\n"
     ]
    }
   ],
   "source": [
    "def merge_sort(nums):\n",
    "    lenght = len(nums)\n",
    "    if lenght <= 1:\n",
    "        return nums\n",
    "    # 二分分解\n",
    "    mid = lenght//2\n",
    "    nums_l = merge_sort(nums[:mid])\n",
    "    nums_r = merge_sort(nums[mid:])\n",
    "    # 合并\n",
    "    return merge(nums_l, nums_r)\n",
    "\n",
    "def merge(nums_l, nums_r):\n",
    "    '''合并操作，将两个有序数组left[]和right[]合并成一个大的有序数组'''\n",
    "    #left与right的下标指针\n",
    "    left, right = 0, 0\n",
    "    result = []\n",
    "    lenght_l = len(nums_l)\n",
    "    lenght_r = len(nums_r)\n",
    "    while left < lenght_l and right < lenght_r:\n",
    "        if nums_l[left] < nums_r[right]:\n",
    "            result.append(nums_l[left])\n",
    "            left += 1\n",
    "        else:\n",
    "            result.append(nums_r[right])\n",
    "            right += 1\n",
    "            \n",
    "    if left < lenght_l:        \n",
    "        result.extend(nums_l[left:])\n",
    "        \n",
    "    if right < lenght_r:\n",
    "        result.extend(nums_r[right:])\n",
    "    return result\n",
    "\n",
    "nums = [54,26,93,17,77,31,44,55,20]\n",
    "print(nums)\n",
    "sorted_alist = merge_sort(nums)\n",
    "print(sorted_alist)\n",
    "\n",
    "# 归并排序函数执行流程\n",
    "# merge_sort([54, 26, 93, 17])\n",
    "#     num = 2\n",
    "#     merge_sort([54, 26])\n",
    "#         num = 1\n",
    "#         merge_sort([54])\n",
    "#             left =  [54]\n",
    "#         merge_sort([26])\n",
    "#             right = [26]\n",
    "#         merge([54], [26])\n",
    "#             result =  [26, 54]\n",
    "#     left = result = [26, 54]\n",
    "#     merge_sort([93, 17])\n",
    "#         num = 1\n",
    "#         merge_sort([93])\n",
    "#             left = [93]\n",
    "#         merge_sort([17])\n",
    "#             right = [93]\n",
    "#         merge([93], [17])\n",
    "#             return result\n",
    "#     right = result = [17, 93]\n",
    "# merge([26, 54], [17, 93])\n",
    "#     return result\n",
    "# 整个merge_sort函数返回[17, 26, 54, 93]"
   ]
  },
  {
   "cell_type": "code",
   "execution_count": null,
   "metadata": {},
   "outputs": [],
   "source": []
  },
  {
   "cell_type": "code",
   "execution_count": null,
   "metadata": {},
   "outputs": [],
   "source": []
  },
  {
   "cell_type": "code",
   "execution_count": null,
   "metadata": {},
   "outputs": [],
   "source": []
  },
  {
   "cell_type": "code",
   "execution_count": null,
   "metadata": {},
   "outputs": [],
   "source": []
  }
 ],
 "metadata": {
  "kernelspec": {
   "display_name": "Python 3",
   "language": "python",
   "name": "python3"
  },
  "language_info": {
   "codemirror_mode": {
    "name": "ipython",
    "version": 3
   },
   "file_extension": ".py",
   "mimetype": "text/x-python",
   "name": "python",
   "nbconvert_exporter": "python",
   "pygments_lexer": "ipython3",
   "version": "3.6.8"
  }
 },
 "nbformat": 4,
 "nbformat_minor": 2
}
