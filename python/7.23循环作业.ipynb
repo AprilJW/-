{
 "cells": [
  {
   "cell_type": "markdown",
   "metadata": {},
   "source": [
    "### 课堂习题"
   ]
  },
  {
   "cell_type": "markdown",
   "metadata": {},
   "source": [
    "### 1.打印1到10"
   ]
  },
  {
   "cell_type": "code",
   "execution_count": 1,
   "metadata": {},
   "outputs": [
    {
     "name": "stdout",
     "output_type": "stream",
     "text": [
      "1\n",
      "2\n",
      "3\n",
      "4\n",
      "5\n",
      "6\n",
      "7\n",
      "8\n",
      "9\n",
      "10\n"
     ]
    }
   ],
   "source": [
    "for i in range(1, 11):\n",
    "    print(i)"
   ]
  },
  {
   "cell_type": "markdown",
   "metadata": {},
   "source": [
    "### 2.打印10以内的奇数"
   ]
  },
  {
   "cell_type": "code",
   "execution_count": 3,
   "metadata": {},
   "outputs": [
    {
     "name": "stdout",
     "output_type": "stream",
     "text": [
      "1\n",
      "3\n",
      "5\n",
      "7\n",
      "9\n"
     ]
    }
   ],
   "source": [
    "for i in range(1, 10, 2):\n",
    "    print(i)"
   ]
  },
  {
   "cell_type": "markdown",
   "metadata": {},
   "source": [
    "### 3.打印10以内的偶数"
   ]
  },
  {
   "cell_type": "code",
   "execution_count": 4,
   "metadata": {},
   "outputs": [
    {
     "name": "stdout",
     "output_type": "stream",
     "text": [
      "0\n",
      "2\n",
      "4\n",
      "6\n",
      "8\n"
     ]
    }
   ],
   "source": [
    "for i in range(0, 10, 2):\n",
    "    print(i)"
   ]
  },
  {
   "cell_type": "markdown",
   "metadata": {},
   "source": [
    "### 4.到着打印10以内的奇数或偶数  再"
   ]
  },
  {
   "cell_type": "code",
   "execution_count": 11,
   "metadata": {
    "scrolled": true
   },
   "outputs": [
    {
     "name": "stdout",
     "output_type": "stream",
     "text": [
      "9\n",
      "7\n",
      "5\n",
      "3\n",
      "1\n",
      "8\n",
      "6\n",
      "4\n",
      "2\n",
      "0\n"
     ]
    }
   ],
   "source": [
    "#odd\n",
    "for i in range(9, -1, -1):\n",
    "    if i%2:\n",
    "        print(i)\n",
    "\n",
    "#even\n",
    "for i in range(9, -1, -1):\n",
    "    if not i%2:\n",
    "        print(i)"
   ]
  },
  {
   "cell_type": "markdown",
   "metadata": {},
   "source": [
    "### 5.计算1000以内的被7整除的前20个正整数（for循环）"
   ]
  },
  {
   "cell_type": "code",
   "execution_count": 18,
   "metadata": {},
   "outputs": [
    {
     "name": "stdout",
     "output_type": "stream",
     "text": [
      "7\n",
      "14\n",
      "21\n",
      "28\n",
      "35\n",
      "42\n",
      "49\n",
      "56\n",
      "63\n",
      "70\n",
      "77\n",
      "84\n",
      "91\n",
      "98\n",
      "105\n",
      "112\n",
      "119\n",
      "126\n",
      "133\n",
      "140\n"
     ]
    }
   ],
   "source": [
    "# method1\n",
    "k = 0\n",
    "for i in range(1, 1000):\n",
    "    if not i % 7:\n",
    "        print(i)\n",
    "        k += 1\n",
    "    if k >= 20:\n",
    "        break"
   ]
  },
  {
   "cell_type": "code",
   "execution_count": 14,
   "metadata": {},
   "outputs": [
    {
     "name": "stdout",
     "output_type": "stream",
     "text": [
      "7\n",
      "14\n",
      "21\n",
      "28\n",
      "35\n",
      "42\n",
      "49\n",
      "56\n",
      "63\n",
      "70\n",
      "77\n",
      "84\n",
      "91\n",
      "98\n",
      "105\n",
      "112\n",
      "119\n",
      "126\n",
      "133\n",
      "140\n"
     ]
    }
   ],
   "source": [
    "k = 0\n",
    "for i in range(7, 1000, 7):\n",
    "    print(i)\n",
    "    k += 1\n",
    "    if k >= 20:\n",
    "        break"
   ]
  },
  {
   "cell_type": "markdown",
   "metadata": {},
   "source": [
    "### 6.给定一个不超过5位的正整数，判断该位的位数，依次打印出万位，千位，百为，十位，各位数字\n"
   ]
  },
  {
   "cell_type": "code",
   "execution_count": 23,
   "metadata": {},
   "outputs": [
    {
     "name": "stdout",
     "output_type": "stream",
     "text": [
      "plz input 5 integer:50031\n",
      "quotient: 5\n",
      "quotient: 0\n",
      "quotient: 0\n",
      "quotient: 3\n",
      "quotient: 1\n"
     ]
    }
   ],
   "source": [
    "a = int(input('plz input 5 integer:'))\n",
    "w = 10000\n",
    "while a > 0:\n",
    "    quotient = a // w\n",
    "    reminder = a % w\n",
    "    print('quotient:', int(quotient))\n",
    "    a = reminder\n",
    "    w = w / 10\n",
    "    "
   ]
  },
  {
   "cell_type": "markdown",
   "metadata": {},
   "source": [
    "### 7.给定一个不超过5位的正整数，判断该位是第几位，依次从万位打印到个位，打印非0位"
   ]
  },
  {
   "cell_type": "code",
   "execution_count": 28,
   "metadata": {
    "scrolled": true
   },
   "outputs": [
    {
     "name": "stdout",
     "output_type": "stream",
     "text": [
      "plz input 5 integer:01230\n",
      "1 4\n",
      "2 3\n",
      "3 2\n"
     ]
    }
   ],
   "source": [
    "a = int(input('plz input 5 integer:'))\n",
    "w = 10000\n",
    "lenght = 5\n",
    "while a > 0:\n",
    "    quotient = a // w\n",
    "    reminder = a % w\n",
    "    if quotient:\n",
    "        print(int(quotient), lenght)\n",
    "    a = reminder\n",
    "    w = w / 10\n",
    "    lenght -= 1"
   ]
  },
  {
   "cell_type": "code",
   "execution_count": 1,
   "metadata": {
    "scrolled": true
   },
   "outputs": [
    {
     "name": "stdout",
     "output_type": "stream",
     "text": [
      "please input first num:5\n"
     ]
    }
   ],
   "source": [
    "a = int(input('please input first num:'))\n"
   ]
  },
  {
   "cell_type": "code",
   "execution_count": 2,
   "metadata": {},
   "outputs": [
    {
     "name": "stdout",
     "output_type": "stream",
     "text": [
      "please input second num:10\n"
     ]
    }
   ],
   "source": [
    "b = int(input('please input second num:'))"
   ]
  },
  {
   "cell_type": "code",
   "execution_count": 3,
   "metadata": {},
   "outputs": [
    {
     "name": "stdout",
     "output_type": "stream",
     "text": [
      "10\n"
     ]
    }
   ],
   "source": [
    "if a >= b:\n",
    "    print(a)\n",
    "else:\n",
    "    print(b)"
   ]
  },
  {
   "cell_type": "code",
   "execution_count": 7,
   "metadata": {},
   "outputs": [],
   "source": [
    "for i in range(-2):\n",
    "    print(i)"
   ]
  },
  {
   "cell_type": "code",
   "execution_count": 11,
   "metadata": {},
   "outputs": [
    {
     "name": "stdout",
     "output_type": "stream",
     "text": [
      "10\n",
      "8\n",
      "6\n",
      "4\n",
      "2\n",
      "0\n"
     ]
    }
   ],
   "source": [
    "for i in range(10, -1, -2):\n",
    "    print(i)"
   ]
  },
  {
   "cell_type": "code",
   "execution_count": 12,
   "metadata": {},
   "outputs": [
    {
     "name": "stdout",
     "output_type": "stream",
     "text": [
      "0 0\n",
      "1 7\n",
      "2 14\n",
      "3 21\n",
      "4 28\n",
      "5 35\n",
      "6 42\n",
      "7 49\n",
      "8 56\n",
      "9 63\n",
      "10 70\n",
      "11 77\n",
      "12 84\n",
      "13 91\n",
      "14 98\n",
      "15 105\n",
      "16 112\n",
      "17 119\n",
      "18 126\n",
      "19 133\n"
     ]
    }
   ],
   "source": [
    "count = 0\n",
    "while count < 20:\n",
    "    print(count, count*7)\n",
    "    count += 1"
   ]
  },
  {
   "cell_type": "code",
   "execution_count": 13,
   "metadata": {},
   "outputs": [
    {
     "name": "stdout",
     "output_type": "stream",
     "text": [
      "plz input interger:54321\n",
      "5\n",
      "4\n",
      "3\n",
      "2\n",
      "1\n"
     ]
    }
   ],
   "source": [
    "a = input('plz input interger:')\n",
    "for i in range(5):\n",
    "    print(a[i])"
   ]
  },
  {
   "cell_type": "code",
   "execution_count": 16,
   "metadata": {},
   "outputs": [
    {
     "name": "stdout",
     "output_type": "stream",
     "text": [
      "plz input interger:321\n",
      "3\n",
      "2\n",
      "1\n"
     ]
    }
   ],
   "source": [
    "a = int(input('plz input interger:'))\n",
    "print(a//100)\n",
    "c = a//100\n",
    "print((a-((a//100)*100))//10) \n",
    "b = (a-((a//100)*100))//10\n",
    "print(a-c*100-b*10)\n"
   ]
  },
  {
   "cell_type": "code",
   "execution_count": 21,
   "metadata": {},
   "outputs": [
    {
     "name": "stdout",
     "output_type": "stream",
     "text": [
      "5\n",
      "4\n",
      "3\n",
      "2\n",
      "1\n"
     ]
    }
   ],
   "source": [
    "a = 54321\n",
    "w = 10000\n",
    "for i in range(5):\n",
    "    print(a//w)\n",
    "    a = a % w\n",
    "    w = w // 10"
   ]
  },
  {
   "cell_type": "code",
   "execution_count": 22,
   "metadata": {},
   "outputs": [
    {
     "name": "stdout",
     "output_type": "stream",
     "text": [
      "6\n",
      "5\n",
      "4\n",
      "3\n",
      "2\n",
      "1\n"
     ]
    }
   ],
   "source": [
    "a = 654321\n",
    "w = 100000\n",
    "while w:\n",
    "    print(a//w)\n",
    "    a = a % w\n",
    "    w = w // 10"
   ]
  },
  {
   "cell_type": "code",
   "execution_count": 23,
   "metadata": {},
   "outputs": [
    {
     "data": {
      "text/plain": [
       "2"
      ]
     },
     "execution_count": 23,
     "metadata": {},
     "output_type": "execute_result"
    }
   ],
   "source": [
    "1^3"
   ]
  },
  {
   "cell_type": "code",
   "execution_count": 24,
   "metadata": {},
   "outputs": [
    {
     "data": {
      "text/plain": [
       "-4"
      ]
     },
     "execution_count": 24,
     "metadata": {},
     "output_type": "execute_result"
    }
   ],
   "source": [
    "1^-3"
   ]
  },
  {
   "cell_type": "code",
   "execution_count": 25,
   "metadata": {},
   "outputs": [
    {
     "data": {
      "text/plain": [
       "6"
      ]
     },
     "execution_count": 25,
     "metadata": {},
     "output_type": "execute_result"
    }
   ],
   "source": [
    "5^3"
   ]
  },
  {
   "cell_type": "markdown",
   "metadata": {},
   "source": [
    "### 作业"
   ]
  },
  {
   "cell_type": "markdown",
   "metadata": {},
   "source": [
    "### 1.给一个半径求圆的面积和周长，圆周率为3.14"
   ]
  },
  {
   "cell_type": "code",
   "execution_count": 2,
   "metadata": {},
   "outputs": [
    {
     "name": "stdout",
     "output_type": "stream",
     "text": [
      "plz input radius:5\n",
      "78.5 31.400000000000002\n"
     ]
    }
   ],
   "source": [
    "radius = int(input('plz input radius:'))\n",
    "area = radius**2 * 3.14\n",
    "perimeter = radius * 2 * 3.14\n",
    "print(area, perimeter)"
   ]
  },
  {
   "cell_type": "markdown",
   "metadata": {},
   "source": [
    "### 2.输入两个数，比较大小后，从小到大生序打印"
   ]
  },
  {
   "cell_type": "code",
   "execution_count": 3,
   "metadata": {},
   "outputs": [
    {
     "name": "stdout",
     "output_type": "stream",
     "text": [
      "plz input num_1:5\n",
      "plz input num_2:3\n",
      "3 5\n"
     ]
    }
   ],
   "source": [
    "num_1 = int(input('plz input num_1:'))\n",
    "num_2 = int(input('plz input num_2:'))\n",
    "if num_1 >= num_2:\n",
    "    print(num_2, num_1)\n",
    "else:\n",
    "    print(num_1, num_2)"
   ]
  },
  {
   "cell_type": "markdown",
   "metadata": {},
   "source": [
    "### 3.依次输入若干个整数，打印出最大值，如果输入为空，则退出程序"
   ]
  },
  {
   "cell_type": "code",
   "execution_count": 15,
   "metadata": {
    "scrolled": false
   },
   "outputs": [
    {
     "name": "stdout",
     "output_type": "stream",
     "text": [
      "plz input series tegers:\n",
      "plz input series tegers:3\n",
      "plz input series tegers:\n"
     ]
    },
    {
     "ename": "SyntaxError",
     "evalue": "'break' outside loop (<ipython-input-15-37caabfa36bf>, line 5)",
     "output_type": "error",
     "traceback": [
      "\u001b[0;36m  File \u001b[0;32m\"<ipython-input-15-37caabfa36bf>\"\u001b[0;36m, line \u001b[0;32m5\u001b[0m\n\u001b[0;31m    break\u001b[0m\n\u001b[0m    ^\u001b[0m\n\u001b[0;31mSyntaxError\u001b[0m\u001b[0;31m:\u001b[0m 'break' outside loop\n"
     ]
    }
   ],
   "source": [
    "integer_1 = input('plz input series tegers:')\n",
    "integer_2 = input('plz input series tegers:')\n",
    "integer_3 = input('plz input series tegers:')\n",
    "if integer_1 or integer_2 or integer_3:\n",
    "    break\n",
    "integer_1 = int(integer_1)\n",
    "integer_2 = int(integer_2)\n",
    "integer_3 = int(integer_3)\n",
    "max_num = 0\n",
    "if integer_1 >=integer_2 and integer_1 >= integer_3:\n",
    "    max_num = integer_1\n",
    "elif integer_2 >= integer_1 and integer_2 >= integer_3:\n",
    "    max_num = integer_2    \n",
    "else:   \n",
    "    max_num = integer_3\n",
    "print(max_num)\n",
    "    \n",
    "    \n",
    "        "
   ]
  },
  {
   "cell_type": "markdown",
   "metadata": {},
   "source": [
    "### 4.输入n个数，求算数平均数"
   ]
  },
  {
   "cell_type": "code",
   "execution_count": 18,
   "metadata": {},
   "outputs": [
    {
     "name": "stdout",
     "output_type": "stream",
     "text": [
      "plz input series tegers:3\n",
      "plz input series tegers:7\n",
      "plz input series tegers:9\n",
      "6.333333333333333\n"
     ]
    }
   ],
   "source": [
    "integer_1 = int(input('plz input series tegers:'))\n",
    "integer_2 = int(input('plz input series tegers:'))\n",
    "integer_3 = int(input('plz input series tegers:'))\n",
    "sum = (integer_1 + integer_2 + integer_3)/3\n",
    "print(sum)"
   ]
  },
  {
   "cell_type": "markdown",
   "metadata": {},
   "source": [
    "### 5.打印一个边长为n的正方形"
   ]
  },
  {
   "cell_type": "code",
   "execution_count": 49,
   "metadata": {
    "scrolled": false
   },
   "outputs": [
    {
     "name": "stdout",
     "output_type": "stream",
     "text": [
      "plz input integer:10\n",
      "++++++++++\n",
      "+        +\n",
      "+        +\n",
      "+        +\n",
      "+        +\n",
      "+        +\n",
      "+        +\n",
      "+        +\n",
      "+        +\n",
      "++++++++++\n"
     ]
    }
   ],
   "source": [
    "n = int(input('plz input integer:'))\n",
    "print('+' * n)\n",
    "for i in range(n-2):\n",
    "    print('+', end=\"        \")\n",
    "    print('+')\n",
    "print('+' * n)"
   ]
  },
  {
   "cell_type": "markdown",
   "metadata": {},
   "source": [
    "### 6.求100内所有奇数的和"
   ]
  },
  {
   "cell_type": "code",
   "execution_count": 25,
   "metadata": {},
   "outputs": [
    {
     "name": "stdout",
     "output_type": "stream",
     "text": [
      "2450\n"
     ]
    }
   ],
   "source": [
    "sum_odd = 0 \n",
    "for i in range(0, 100, 2):\n",
    "    sum_odd += i\n",
    "print(sum_odd)"
   ]
  },
  {
   "cell_type": "markdown",
   "metadata": {},
   "source": [
    "### 7.成绩问题"
   ]
  },
  {
   "cell_type": "code",
   "execution_count": 10,
   "metadata": {},
   "outputs": [
    {
     "name": "stdout",
     "output_type": "stream",
     "text": [
      "plz input student score:95\n",
      "A\n"
     ]
    }
   ],
   "source": [
    "score = int(input('plz input student score:'))\n",
    "if score > 100 or score < 0:\n",
    "    print('plz input score between 0 and 100')\n",
    "if score >= 90:\n",
    "    print('A')\n",
    "elif 80 <= score < 90:\n",
    "    print('B')\n",
    "elif 70 <= score < 80:\n",
    "    print('C')\n",
    "elif 60 <= score < 70:\n",
    "    print('D')\n",
    "else:\n",
    "    print('E')\n"
   ]
  },
  {
   "cell_type": "markdown",
   "metadata": {},
   "source": [
    "### 8.求1到5阶乘之和"
   ]
  },
  {
   "cell_type": "code",
   "execution_count": 5,
   "metadata": {},
   "outputs": [
    {
     "name": "stdout",
     "output_type": "stream",
     "text": [
      "mult_fact: 1\n",
      "mult_fact: 2\n",
      "mult_fact: 6\n",
      "mult_fact: 24\n",
      "mult_fact: 120\n",
      "153\n"
     ]
    }
   ],
   "source": [
    "sum_fact = 0\n",
    "for i in range(1,6):\n",
    "    j = i\n",
    "    mult_fact = 1\n",
    "    while j > 1:\n",
    "        mult_fact *= j\n",
    "        j -= 1\n",
    "    print('mult_fact:', mult_fact)\n",
    "    sum_fact += mult_fact\n",
    "print(sum_fact)\n",
    "    \n",
    "        "
   ]
  },
  {
   "cell_type": "markdown",
   "metadata": {},
   "source": [
    "### 9.给定一个数判断是否为素数（质数）"
   ]
  },
  {
   "cell_type": "code",
   "execution_count": 8,
   "metadata": {},
   "outputs": [
    {
     "name": "stdout",
     "output_type": "stream",
     "text": [
      "plz input prime number:16\n",
      "j: 1\n",
      "16 不是质数\n"
     ]
    }
   ],
   "source": [
    "prime_num = int(input('plz input prime number:'))\n",
    "j = 0\n",
    "for i in range (2, prime_num):\n",
    "    if prime_num % i:\n",
    "        j += 1\n",
    "        break\n",
    "print(\"j:\", j)\n",
    "if j:\n",
    "    print('%s 不是质数' % prime_num)\n",
    "else:\n",
    "    print('%s 是质数' % prime_num)\n",
    "        \n",
    "        \n",
    "    "
   ]
  },
  {
   "cell_type": "markdown",
   "metadata": {},
   "source": [
    "### 10.打印九九乘法表"
   ]
  },
  {
   "cell_type": "code",
   "execution_count": 55,
   "metadata": {},
   "outputs": [
    {
     "name": "stdout",
     "output_type": "stream",
     "text": [
      "1 * 1 = 1 \n",
      "2 * 1 = 2 2 * 2 = 4 \n",
      "3 * 1 = 3 3 * 2 = 6 3 * 3 = 9 \n",
      "4 * 1 = 4 4 * 2 = 8 4 * 3 = 12 4 * 4 = 16 \n",
      "5 * 1 = 5 5 * 2 = 10 5 * 3 = 15 5 * 4 = 20 5 * 5 = 25 \n",
      "6 * 1 = 6 6 * 2 = 12 6 * 3 = 18 6 * 4 = 24 6 * 5 = 30 6 * 6 = 36 \n",
      "7 * 1 = 7 7 * 2 = 14 7 * 3 = 21 7 * 4 = 28 7 * 5 = 35 7 * 6 = 42 7 * 7 = 49 \n",
      "8 * 1 = 8 8 * 2 = 16 8 * 3 = 24 8 * 4 = 32 8 * 5 = 40 8 * 6 = 48 8 * 7 = 56 8 * 8 = 64 \n",
      "9 * 1 = 9 9 * 2 = 18 9 * 3 = 27 9 * 4 = 36 9 * 5 = 45 9 * 6 = 54 9 * 7 = 63 9 * 8 = 72 9 * 9 = 81 \n"
     ]
    }
   ],
   "source": [
    "for i in range(1, 10):\n",
    "    for j in range(1, i + 1):\n",
    "        print(i, '*', j, '=', i*j, end = ' ')\n",
    "    print('')"
   ]
  },
  {
   "cell_type": "markdown",
   "metadata": {},
   "source": [
    "### 11.打印下图菱形"
   ]
  },
  {
   "cell_type": "code",
   "execution_count": 91,
   "metadata": {
    "scrolled": false
   },
   "outputs": [
    {
     "name": "stdout",
     "output_type": "stream",
     "text": [
      "   *\n",
      "  ***\n",
      " *****\n",
      "*******\n",
      " *****\n",
      "  ***\n",
      "   *\n"
     ]
    }
   ],
   "source": [
    "k = 0\n",
    "for i in range(-3, 4):\n",
    "    if i <= 0:\n",
    "        k += 1\n",
    "        j = -i\n",
    "        n = j + 3*k - 5\n",
    "    else:\n",
    "        j = i\n",
    "        n = 7-2*j\n",
    "    print(' '*j + n * '*')\n",
    "    "
   ]
  },
  {
   "cell_type": "code",
   "execution_count": 93,
   "metadata": {
    "scrolled": true
   },
   "outputs": [
    {
     "name": "stdout",
     "output_type": "stream",
     "text": [
      "2 3 3\n"
     ]
    }
   ],
   "source": [
    "print(2, '3', 3)"
   ]
  },
  {
   "cell_type": "markdown",
   "metadata": {},
   "source": [
    "### 12.打印100以内的斐波那契数列"
   ]
  },
  {
   "cell_type": "code",
   "execution_count": 77,
   "metadata": {},
   "outputs": [
    {
     "name": "stdout",
     "output_type": "stream",
     "text": [
      "1\n",
      "1\n",
      "2\n",
      "3\n",
      "5\n",
      "8\n",
      "13\n",
      "21\n",
      "34\n",
      "55\n",
      "89\n"
     ]
    }
   ],
   "source": [
    "a1 = 1\n",
    "a2 = 1\n",
    "a3 = 2\n",
    "print(a1)\n",
    "#print(a2)\n",
    "while a3 < 100:\n",
    "    #print(a3)\n",
    "    a3 = a1 + a2\n",
    "    #print(a3)\n",
    "    a1 = a2\n",
    "    print(a1)\n",
    "    a2 = a3\n",
    "    "
   ]
  },
  {
   "cell_type": "markdown",
   "metadata": {},
   "source": [
    "### 13.求斐波那契数列第101项"
   ]
  },
  {
   "cell_type": "code",
   "execution_count": 81,
   "metadata": {},
   "outputs": [
    {
     "name": "stdout",
     "output_type": "stream",
     "text": [
      "Item 101: 573147844013817084101\n"
     ]
    }
   ],
   "source": [
    "a1 = 1\n",
    "a2 = 1\n",
    "a3 = 2\n",
    "k = 2\n",
    "while k <101:\n",
    "    k += 1\n",
    "    a3 = a1 + a2\n",
    "    a1 = a2\n",
    "    a2 = a3\n",
    "print('Item %d: %d' % (k ,a3))"
   ]
  },
  {
   "cell_type": "markdown",
   "metadata": {},
   "source": [
    "### 14.求10万以内所有素数"
   ]
  },
  {
   "cell_type": "code",
   "execution_count": 69,
   "metadata": {},
   "outputs": [
    {
     "name": "stdout",
     "output_type": "stream",
     "text": [
      "2\n",
      "3\n",
      "5\n",
      "7\n",
      "11\n",
      "13\n",
      "17\n",
      "19\n",
      "23\n",
      "29\n",
      "31\n",
      "37\n",
      "41\n",
      "43\n",
      "47\n",
      "53\n",
      "59\n",
      "61\n",
      "67\n",
      "71\n",
      "73\n",
      "79\n",
      "83\n",
      "89\n",
      "97\n"
     ]
    }
   ],
   "source": [
    "for i in range(2, 100):\n",
    "    for j in range(2,i):\n",
    "        if not i % j:\n",
    "            break\n",
    "    else:\n",
    "        print(i)\n",
    "        #prime = yield i\n",
    "#print(prime)"
   ]
  },
  {
   "cell_type": "code",
   "execution_count": null,
   "metadata": {},
   "outputs": [],
   "source": []
  }
 ],
 "metadata": {
  "kernelspec": {
   "display_name": "Python 3",
   "language": "python",
   "name": "python3"
  },
  "language_info": {
   "codemirror_mode": {
    "name": "ipython",
    "version": 3
   },
   "file_extension": ".py",
   "mimetype": "text/x-python",
   "name": "python",
   "nbconvert_exporter": "python",
   "pygments_lexer": "ipython3",
   "version": "3.6.8"
  }
 },
 "nbformat": 4,
 "nbformat_minor": 2
}
